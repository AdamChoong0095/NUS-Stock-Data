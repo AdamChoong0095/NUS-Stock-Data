{
 "cells": [
  {
   "cell_type": "markdown",
   "id": "201a6b2c",
   "metadata": {},
   "source": [
    "# Stock Price Prediction using LSTM with PyTorch"
   ]
  },
  {
   "cell_type": "code",
   "execution_count": null,
   "id": "35397dd0",
   "metadata": {},
   "outputs": [],
   "source": [
    "\n",
    "# Import necessary libraries\n",
    "import pandas as pd\n",
    "import numpy as np\n",
    "from google.colab import drive\n",
    "from sklearn.preprocessing import MinMaxScaler\n",
    "import torch\n",
    "import torch.nn as nn\n",
    "from torch.utils.data import DataLoader, Dataset\n",
    "\n",
    "# Mount Google Drive\n",
    "drive.mount('/content/drive')\n"
   ]
  },
  {
   "cell_type": "code",
   "execution_count": null,
   "id": "bef81050",
   "metadata": {},
   "outputs": [],
   "source": [
    "\n",
    "# Load the dataset (had to make a shortcut from \"Shared with Me\" to MyDrive)\n",
    "sp500 = pd.read_csv('/content/drive/MyDrive/cs3244_data/ETFs/spy.us.txt')\n",
    "\n",
    "# Group the DataFrame by Date and Type of Price\n",
    "grouped = sp500.groupby(['Date', 'Type of Price'])\n",
    "\n",
    "# Calculate the average price for each date and type\n",
    "avg_prices = grouped['Price'].mean().reset_index()\n",
    "\n",
    "# Create a dictionary to store the average high and low prices for each date\n",
    "avg_high_low = {}\n",
    "for index, row in avg_prices.iterrows():\n",
    "    date = row['Date']\n",
    "    price_type = row['Type of Price']\n",
    "    price = row['Price']\n",
    "    if date not in avg_high_low:\n",
    "        avg_high_low[date] = {}\n",
    "    if price_type in ['high', 'low']:\n",
    "        avg_high_low[date][price_type] = price\n",
    "\n",
    "# Iterate through the DataFrame and replace high and low prices with the average\n",
    "for index, row in sp500.iterrows():\n",
    "    date = row['Date']\n",
    "    price_type = row['Type of Price']\n",
    "    if price_type in ['high', 'low'] and date in avg_high_low:\n",
    "        sp500.loc[index, 'Price'] = avg_high_low[date][price_type]\n",
    "\n",
    "# Create a new DataFrame to store the modified data\n",
    "new_sp500 = pd.DataFrame(columns=['Date', 'Price', 'Type of Price'])\n",
    "i = 0\n",
    "while i < len(sp500):\n",
    "    row = sp500.iloc[i]\n",
    "    if row['Type of Price'] == 'high':\n",
    "        # Check if the next row exists and is 'low'\n",
    "        if i + 1 < len(sp500) and sp500.iloc[i + 1]['Type of Price'] == 'low':\n",
    "            # Calculate the average of the high and low prices\n",
    "            average_price = (row['Price'] + sp500.iloc[i + 1]['Price']) / 2\n",
    "            # Add a new row with the average price and label 'average'\n",
    "            new_sp500 = pd.concat([new_sp500, pd.DataFrame({'Date': [row['Date']], 'Price': [average_price], 'Type of Price': ['average']})], ignore_index=True)\n",
    "            i += 2  # Skip the next row (low)\n",
    "        else:\n",
    "            # If the next row is not 'low', keep the current row as it is\n",
    "            new_sp500 = pd.concat([new_sp500, pd.DataFrame({'Date': [row['Date']], 'Price': [row['Price']], 'Type of Price': [row['Type of Price']]})], ignore_index=True)\n",
    "            i += 1\n",
    "    else:\n",
    "        # If the current row is not 'high', keep it as it is\n",
    "        new_sp500 = pd.concat([new_sp500, pd.DataFrame({'Date': [row['Date']], 'Price': [row['Price']], 'Type of Price': [row['Type of Price']]})], ignore_index=True)\n",
    "        i += 1\n",
    "\n",
    "# Replace the original sp500 DataFrame with the modified one\n",
    "sp500 = new_sp500\n"
   ]
  },
  {
   "cell_type": "code",
   "execution_count": null,
   "id": "301ff312",
   "metadata": {},
   "outputs": [],
   "source": [
    "\n",
    "# Drop unnecessary columns and scale the 'Price' feature\n",
    "scaler = MinMaxScaler(feature_range=(-1, 1))\n",
    "sp500['Price'] = scaler.fit_transform(sp500['Price'].values.reshape(-1, 1))\n"
   ]
  },
  {
   "cell_type": "code",
   "execution_count": null,
   "id": "a93c4f50",
   "metadata": {},
   "outputs": [],
   "source": [
    "\n",
    "# Define a PyTorch Dataset class for stock prices\n",
    "class StockDataset(Dataset):\n",
    "    def __init__(self, data, seq_length=10):\n",
    "        self.data = data\n",
    "        self.seq_length = seq_length\n",
    "\n",
    "    def __len__(self):\n",
    "        return len(self.data) - self.seq_length\n",
    "\n",
    "    def __getitem__(self, index):\n",
    "        x = self.data[index:index + self.seq_length]\n",
    "        y = self.data[index + self.seq_length]\n",
    "        return torch.tensor(x, dtype=torch.float32), torch.tensor(y, dtype=torch.float32)\n",
    "\n",
    "# Create dataset and dataloader\n",
    "data = sp500['Price'].values\n",
    "seq_length = 10\n",
    "dataset = StockDataset(data, seq_length=seq_length)\n",
    "dataloader = DataLoader(dataset, batch_size=64, shuffle=True)\n"
   ]
  },
  {
   "cell_type": "code",
   "execution_count": null,
   "id": "c07757b4",
   "metadata": {},
   "outputs": [],
   "source": [
    "\n",
    "# Define the LSTM model in PyTorch\n",
    "class LSTMStockPredictor(nn.Module):\n",
    "    def __init__(self, input_size=1, hidden_layer_size=100, output_size=1):\n",
    "        super(LSTMStockPredictor, self).__init__()\n",
    "        self.hidden_layer_size = hidden_layer_size\n",
    "        self.lstm = nn.LSTM(input_size, hidden_layer_size)\n",
    "        self.linear = nn.Linear(hidden_layer_size, output_size)\n",
    "        self.hidden_cell = (torch.zeros(1, 1, self.hidden_layer_size),\n",
    "                            torch.zeros(1, 1, self.hidden_layer_size))\n",
    "    \n",
    "    def forward(self, input_seq):\n",
    "        lstm_out, self.hidden_cell = self.lstm(input_seq.view(len(input_seq), 1, -1), self.hidden_cell)\n",
    "        predictions = self.linear(lstm_out.view(len(input_seq), -1))\n",
    "        return predictions[-1]\n"
   ]
  },
  {
   "cell_type": "code",
   "execution_count": null,
   "id": "23de23b4",
   "metadata": {},
   "outputs": [],
   "source": [
    "\n",
    "# Initialize the model, loss function, and optimizer\n",
    "model = LSTMStockPredictor()\n",
    "loss_function = nn.MSELoss()\n",
    "optimizer = torch.optim.Adam(model.parameters(), lr=0.001)\n"
   ]
  },
  {
   "cell_type": "code",
   "execution_count": null,
   "id": "d3018326",
   "metadata": {},
   "outputs": [],
   "source": [
    "\n",
    "# Training the LSTM model\n",
    "epochs = 100\n",
    "for epoch in range(epochs):\n",
    "    for seq, labels in dataloader:\n",
    "        optimizer.zero_grad()\n",
    "        model.hidden_cell = (torch.zeros(1, 1, model.hidden_layer_size),\n",
    "                             torch.zeros(1, 1, model.hidden_layer_size))\n",
    "        \n",
    "        y_pred = model(seq)\n",
    "        single_loss = loss_function(y_pred, labels)\n",
    "        single_loss.backward()\n",
    "        optimizer.step()\n",
    "    \n",
    "    if epoch % 10 == 0:\n",
    "        print(f'Epoch {epoch} Loss: {single_loss.item()}')\n"
   ]
  },
  {
   "cell_type": "code",
   "execution_count": null,
   "id": "62fcea1e",
   "metadata": {},
   "outputs": [],
   "source": [
    "\n",
    "# Evaluate the model (example for demonstration)\n",
    "model.eval()\n",
    "test_predictions = []\n",
    "with torch.no_grad():\n",
    "    for seq, labels in dataloader:\n",
    "        model.hidden_cell = (torch.zeros(1, 1, model.hidden_layer_size),\n",
    "                             torch.zeros(1, 1, model.hidden_layer_size))\n",
    "        y_pred = model(seq)\n",
    "        test_predictions.append(y_pred.item())\n",
    "\n",
    "# Rescale the predictions back to original range\n",
    "predictions_rescaled = scaler.inverse_transform(np.array(test_predictions).reshape(-1, 1))\n",
    "print(\"Predictions rescaled:\", predictions_rescaled[:5])  # Display a few predictions\n"
   ]
  }
 ],
 "metadata": {
  "colab": {
   "include_colab_link": true,
   "provenance": [],
   "toc_visible": true
  },
  "kernelspec": {
   "display_name": "Python 3",
   "name": "python3"
  },
  "language_info": {
   "name": "python"
  }
 },
 "nbformat": 4,
 "nbformat_minor": 0
}
