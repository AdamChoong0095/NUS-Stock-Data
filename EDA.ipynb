{
  "nbformat": 4,
  "nbformat_minor": 0,
  "metadata": {
    "colab": {
      "provenance": [],
      "include_colab_link": true
    },
    "kernelspec": {
      "name": "python3",
      "display_name": "Python 3"
    },
    "language_info": {
      "name": "python"
    }
  },
  "cells": [
    {
      "cell_type": "markdown",
      "metadata": {
        "id": "view-in-github",
        "colab_type": "text"
      },
      "source": [
        "<a href=\"https://colab.research.google.com/github/AdamChoong0095/NUS-Stock-Data/blob/Shan-Li/EDA.ipynb\" target=\"_parent\"><img src=\"https://colab.research.google.com/assets/colab-badge.svg\" alt=\"Open In Colab\"/></a>"
      ]
    },
    {
      "cell_type": "code",
      "execution_count": 5,
      "metadata": {
        "id": "2YiZfa652vD8",
        "colab": {
          "base_uri": "https://localhost:8080/"
        },
        "outputId": "3e126591-f08c-4f0c-a9dc-34b76780d30d"
      },
      "outputs": [
        {
          "output_type": "stream",
          "name": "stdout",
          "text": [
            "Drive already mounted at /content/drive; to attempt to forcibly remount, call drive.mount(\"/content/drive\", force_remount=True).\n"
          ]
        }
      ],
      "source": [
        "from google.colab import drive\n",
        "drive.mount('/content/drive')"
      ]
    },
    {
      "cell_type": "code",
      "source": [
        "import pandas as pd\n",
        "import numpy as np\n",
        "import matplotlib.pyplot as plt\n",
        "import seaborn as sns\n",
        "import datetime"
      ],
      "metadata": {
        "id": "Pl3jqsvJYFOS"
      },
      "execution_count": 6,
      "outputs": []
    },
    {
      "cell_type": "code",
      "source": [
        "import yfinance as yf\n",
        "\n",
        "# Combined list of top 20 stocks by index weight of S&P500\n",
        "top_20 = ['AAPL', 'NVDA', 'MSFT', 'AMZN', 'META', 'GOOGL', 'AVGO', 'BRK.B', 'GOOG', 'LLY', 'TSLA', 'JPM', 'UNH',\"XOM\",\"V\",\"MA\",\"HD\",\"PG\",\"COST\",\"JNJ\",\"WMT\"]\n",
        "industries = {}\n",
        "\n",
        "# Get industry data\n",
        "for stock in top_20:\n",
        "    stocks = yf.Ticker(stock)\n",
        "    industries[stock] = stocks.info.get('sector', 'N/A')\n",
        "\n",
        "# Convert to DataFrame\n",
        "industry_df = pd.DataFrame(list(industries.items()), columns=['Stock', 'Industry'])\n",
        "\n",
        "# Create a DataFrame named 'data' with a column 'Stock'\n",
        "data = pd.DataFrame({'Stock': top_20})\n",
        "\n",
        "# Merge industry data with the main dataset\n",
        "data_top_20 = pd.merge(data, industry_df, on='Stock', how='left')\n",
        "# drop rows with industry = N/A\n",
        "data_top_20 = data_top_20[data_top_20['Industry'] != 'N/A']\n",
        "data_top_20.index = range(1, len(data_top_20) + 1)\n",
        "\n",
        "print(data_top_20)"
      ],
      "metadata": {
        "colab": {
          "base_uri": "https://localhost:8080/"
        },
        "id": "sUjEhg3Mey1r",
        "outputId": "0ef1e78d-9ea6-4394-a1bc-1a4123e6dd55"
      },
      "execution_count": 4,
      "outputs": [
        {
          "output_type": "stream",
          "name": "stdout",
          "text": [
            "    Stock                Industry\n",
            "1    AAPL              Technology\n",
            "2    NVDA              Technology\n",
            "3    MSFT              Technology\n",
            "4    AMZN       Consumer Cyclical\n",
            "5    META  Communication Services\n",
            "6   GOOGL  Communication Services\n",
            "7    AVGO              Technology\n",
            "8    GOOG  Communication Services\n",
            "9     LLY              Healthcare\n",
            "10   TSLA       Consumer Cyclical\n",
            "11    JPM      Financial Services\n",
            "12    UNH              Healthcare\n",
            "13    XOM                  Energy\n",
            "14      V      Financial Services\n",
            "15     MA      Financial Services\n",
            "16     HD       Consumer Cyclical\n",
            "17     PG      Consumer Defensive\n",
            "18   COST      Consumer Defensive\n",
            "19    JNJ              Healthcare\n",
            "20    WMT      Consumer Defensive\n"
          ]
        }
      ]
    },
    {
      "cell_type": "code",
      "source": [
        "# Choose stocks in top 4 sector weighting for SPY: Tehcnology, Financial Services, Healthcare, Consumer Cyclical Industry\n",
        "# Stocks in Tehcnology Industry in top 20\n",
        "tech_stocks = data_top_20[data_top_20['Industry'] == 'Technology']\n",
        "\n",
        "# Stocks in Financial Services Industry in top 20\n",
        "financial_services_stocks = data_top_20[data_top_20['Industry'] == 'Financial Services']\n",
        "\n",
        "# Stocks in Healthcare Industry in top 20\n",
        "healthcare_stocks = data_top_20[data_top_20['Industry'] == 'Healthcare']\n",
        "\n",
        "# Stocks in Consumer Cyclical Industry in top 20\n",
        "consumer_cyclical_stocks = data_top_20[data_top_20['Industry'] == 'Consumer Cyclical']\n",
        "\n",
        "# Combine the dataframes\n",
        "df_industries = pd.concat([tech_stocks, financial_services_stocks, healthcare_stocks, consumer_cyclical_stocks])\n",
        "\n",
        "print(df_industries)"
      ],
      "metadata": {
        "colab": {
          "base_uri": "https://localhost:8080/"
        },
        "id": "XHnUFd4qfG24",
        "outputId": "9d2df508-0a96-4a0b-e357-ee680229697d"
      },
      "execution_count": 7,
      "outputs": [
        {
          "output_type": "stream",
          "name": "stdout",
          "text": [
            "   Stock            Industry\n",
            "1   AAPL          Technology\n",
            "2   NVDA          Technology\n",
            "3   MSFT          Technology\n",
            "7   AVGO          Technology\n",
            "11   JPM  Financial Services\n",
            "14     V  Financial Services\n",
            "15    MA  Financial Services\n",
            "9    LLY          Healthcare\n",
            "12   UNH          Healthcare\n",
            "19   JNJ          Healthcare\n",
            "4   AMZN   Consumer Cyclical\n",
            "10  TSLA   Consumer Cyclical\n",
            "16    HD   Consumer Cyclical\n"
          ]
        }
      ]
    },
    {
      "cell_type": "markdown",
      "source": [
        "## EDA on Stocks from 2012-2017"
      ],
      "metadata": {
        "id": "tLOdQBso5_Zb"
      }
    },
    {
      "cell_type": "markdown",
      "source": [
        "#### Hypothesis 1: Correlation between Volume and Changes in Price\n",
        "###### Strong correlation between trading volumes and percentage change in price based on **opening and closing prices**"
      ],
      "metadata": {
        "id": "YUsekOo4NFT7"
      }
    },
    {
      "cell_type": "code",
      "source": [
        "stock_file = [\"aapl.us.txt\",\"nvda.us.txt\",\"msft.us.txt\",\"avgo.us.txt\",\"jpm.us.txt\",\"v.us.txt\",\"ma.us.txt\",\"lly.us.txt\",\"unh.us.txt\",\"jnj.us.txt\",\"amzn.us.txt\",\"tsla.us.txt\",\"hd.us.txt\"]\n",
        "#check if all stocks have data from 2012-01-01 to 2017-31-12\n",
        "for file in stock_file:\n",
        "    stock = pd.read_csv(\"/content/drive/MyDrive/cs3244_data/Stocks/\"+file)\n",
        "    print(f\"Data for {file} starts from {stock['Date'].min()} to {stock['Date'].max()}\")"
      ],
      "metadata": {
        "colab": {
          "base_uri": "https://localhost:8080/"
        },
        "id": "rvxqAr0iYDa6",
        "outputId": "9ad6a698-00dc-42b8-86d2-519ef23795ac"
      },
      "execution_count": 8,
      "outputs": [
        {
          "output_type": "stream",
          "name": "stdout",
          "text": [
            "Data for aapl.us.txt starts from 1984-09-07 to 2017-11-10\n",
            "Data for nvda.us.txt starts from 1999-01-22 to 2017-11-10\n",
            "Data for msft.us.txt starts from 1986-03-13 to 2017-11-10\n",
            "Data for avgo.us.txt starts from 2009-08-05 to 2017-11-10\n",
            "Data for jpm.us.txt starts from 1970-01-02 to 2017-11-10\n",
            "Data for v.us.txt starts from 2008-03-18 to 2017-11-10\n",
            "Data for ma.us.txt starts from 2006-05-24 to 2017-11-10\n",
            "Data for lly.us.txt starts from 1982-01-04 to 2017-11-10\n",
            "Data for unh.us.txt starts from 1990-03-26 to 2017-11-10\n",
            "Data for jnj.us.txt starts from 1970-01-02 to 2017-11-10\n",
            "Data for amzn.us.txt starts from 1997-05-16 to 2017-11-10\n",
            "Data for tsla.us.txt starts from 2010-06-28 to 2017-11-10\n",
            "Data for hd.us.txt starts from 1981-09-22 to 2017-11-10\n"
          ]
        }
      ]
    },
    {
      "cell_type": "code",
      "source": [
        "# get correlation for all stocks\n",
        "corr = []\n",
        "for file in stock_file:\n",
        "    stock = pd.read_csv(\"/content/drive/MyDrive/cs3244_data/Stocks/\"+file)\n",
        "    missing_val = stock.isnull().sum()\n",
        "    if missing_val.sum() > 0:\n",
        "        print(f\"Missing values in {file}\")\n",
        "    stock['Date'] = pd.to_datetime(stock['Date'])\n",
        "    stock = stock[stock['Date'] >= '2012-01-01']\n",
        "    stock['Change'] = np.abs(stock['Close'] - stock['Open']) / stock['Open'] * 100\n",
        "    correlation = stock['Volume'].corr(stock['Change'])\n",
        "    corr.append(correlation)\n",
        "\n",
        "# get name of stocks from file name and capitalize\n",
        "stock_name = []\n",
        "for file in stock_file:\n",
        "    stock_name.append(file.split(\".\")[0])\n",
        "stock_name = [x.upper() for x in stock_name]\n",
        "\n",
        "# create a dataframe with stock name and correlation\n",
        "correlation_df = pd.DataFrame(list(zip(stock_name, corr)), columns=['Stock', 'Correlation'])\n",
        "print(correlation_df)\n",
        "\n",
        "# calculate the average correlation\n",
        "average_correlation = correlation_df['Correlation'].mean()\n",
        "print(f'Average correlation coefficient: {average_correlation}')"
      ],
      "metadata": {
        "id": "6PsI-EHgf1ap",
        "colab": {
          "base_uri": "https://localhost:8080/"
        },
        "outputId": "d85d4286-c8a3-4425-a45d-626e2a3a9d2f"
      },
      "execution_count": 16,
      "outputs": [
        {
          "output_type": "stream",
          "name": "stdout",
          "text": [
            "   Stock  Correlation\n",
            "0   AAPL     0.400988\n",
            "1   NVDA     0.538714\n",
            "2   MSFT     0.340079\n",
            "3   AVGO     0.278454\n",
            "4    JPM     0.411255\n",
            "5      V     0.484639\n",
            "6     MA     0.426571\n",
            "7    LLY     0.349863\n",
            "8    UNH     0.386934\n",
            "9    JNJ     0.221023\n",
            "10  AMZN     0.498021\n",
            "11  TSLA     0.416072\n",
            "12    HD     0.376451\n",
            "Average correlation coefficient: 0.3945434098784558\n"
          ]
        }
      ]
    },
    {
      "cell_type": "markdown",
      "source": [
        "#### Evaluation\n",
        "- The average correlation coefficient is 0.3945, which indicates a weak correlation between trading volume and percentage change in stock price between 2012-2017 based on daily opening and closing prices.\n",
        "- However, the use of daily opening and closing prices can overlook important price movements that occur throughout the trading day which can be influenced by news events, market sentiment or trading strategies.\n",
        "- Intraday price movements may provide a better insight into the relationship between trading volume and stock price change as opening and closing prices may not reflect the accurate fluctuations in prices on certain trading days.\n"
      ],
      "metadata": {
        "id": "dBpAk70NYD8C"
      }
    },
    {
      "cell_type": "markdown",
      "source": [
        "#### Hypothesis 2: Correlation between Volume and Changes in Price\n",
        "###### Strong correlation between trading volumes and percentage change in price based on **intraday (high,low) prices**"
      ],
      "metadata": {
        "id": "9pKbVXfzJhak"
      }
    },
    {
      "cell_type": "code",
      "source": [
        "# get correlation for all stocks\n",
        "corr = []\n",
        "for file in stock_file:\n",
        "    stock = pd.read_csv(\"/content/drive/MyDrive/cs3244_data/Stocks/\"+file)\n",
        "    missing_val = stock.isnull().sum()\n",
        "    if missing_val.sum() > 0:\n",
        "        print(f\"Missing values in {file}\")\n",
        "    stock['Date'] = pd.to_datetime(stock['Date'])\n",
        "    stock = stock[stock['Date'] >= '2012-01-01']\n",
        "    stock['Change'] = np.abs(stock['High'] - stock['Low']) / stock['Low'] * 100\n",
        "    correlation = stock['Volume'].corr(stock['Change'])\n",
        "    corr.append(correlation)\n",
        "\n",
        "# get name of stocks from file name and capitalize\n",
        "stock_name = []\n",
        "for file in stock_file:\n",
        "    stock_name.append(file.split(\".\")[0])\n",
        "stock_name = [x.upper() for x in stock_name]\n",
        "\n",
        "# create a dataframe with stock name and correlation\n",
        "correlation_df = pd.DataFrame(list(zip(stock_name, corr)), columns=['Stock', 'Correlation'])\n",
        "print(correlation_df)\n",
        "\n",
        "# calculate the average correlation\n",
        "average_correlation = correlation_df['Correlation'].mean()\n",
        "print(f'Average correlation coefficient: {average_correlation}')"
      ],
      "metadata": {
        "colab": {
          "base_uri": "https://localhost:8080/"
        },
        "id": "-qHni9WDJg4I",
        "outputId": "7c76a4af-cd85-458a-ac74-0a687a2b8994"
      },
      "execution_count": 18,
      "outputs": [
        {
          "output_type": "stream",
          "name": "stdout",
          "text": [
            "   Stock  Correlation\n",
            "0   AAPL     0.540021\n",
            "1   NVDA     0.695711\n",
            "2   MSFT     0.460309\n",
            "3   AVGO     0.431707\n",
            "4    JPM     0.521096\n",
            "5      V     0.615140\n",
            "6     MA     0.567425\n",
            "7    LLY     0.403938\n",
            "8    UNH     0.526381\n",
            "9    JNJ     0.320071\n",
            "10  AMZN     0.663367\n",
            "11  TSLA     0.555908\n",
            "12    HD     0.399715\n",
            "Average correlation coefficient: 0.515445185287468\n"
          ]
        }
      ]
    },
    {
      "cell_type": "markdown",
      "source": [
        "#### Evaluation\n",
        "- The average correlation coefficient has increased to 0.5154, which indicates a stronger correlation between trading volume and percentage change in stock price between 2012-2017 based on intraday trading prices.\n",
        "- This shows that intraday price movements provide a more comprehensive view of the relationship between changes in stock prices and trading volume compared to opening and closing prices.\n",
        "- For example, a stock might open at a certain price, spike or drop significantly during the day, and close at a price near the opening price. Using price change in opening and closing prices would fail to reflect the volatility of trading activity throughout the session."
      ],
      "metadata": {
        "id": "ph5a5nc0MEQ7"
      }
    },
    {
      "cell_type": "markdown",
      "source": [
        "#### Hypothesis 3: Price volatility across different industries\n",
        "###### Stocks in the technology industry have higher volatility compared to other industries\n"
      ],
      "metadata": {
        "id": "ltHWRvZKgYU7"
      }
    },
    {
      "cell_type": "code",
      "source": [
        "# volatility is the std of a stock's annualised returns over a given period\n",
        "# calculate votality for all stocks in the stock list\n",
        "volatility = []\n",
        "for file in stock_file:\n",
        "    stock = pd.read_csv(\"/content/drive/MyDrive/cs3244_data/Stocks/\"+file)\n",
        "    missing_val = stock.isnull().sum()\n",
        "    if missing_val.sum() > 0:\n",
        "        print(f\"Missing values in {file}\")\n",
        "    stock['Date'] = pd.to_datetime(stock['Date'])\n",
        "    stock = stock[stock['Date'] >= '2012-01-01']\n",
        "    stock[\"Daily Return\"]=stock[\"Close\"].pct_change()*100\n",
        "    stock['30 Day Volatility'] = stock['Daily Return'].rolling(window=30).std()\n",
        "    stock = stock.dropna()\n",
        "    stock['Annualised Volatility'] = stock['30 Day Volatility'] * np.sqrt(252)\n",
        "    volatility.append(stock['Annualised Volatility'].mean())\n",
        "\n",
        "# get name of stocks from file name and capitalize\n",
        "stock_name = []\n",
        "for file in stock_file:\n",
        "    stock_name.append(file.split(\".\")[0])\n",
        "stock_name = [x.upper() for x in stock_name]\n",
        "\n",
        "# create a dataframe with stock name, volatility and industry\n",
        "volatility_df = pd.DataFrame(list(zip(stock_name, volatility)), columns=['Stock', 'Average Volatility'])\n",
        "volatility_df = pd.merge(volatility_df, industry_df, on='Stock', how='left')\n",
        "print(volatility_df)\n",
        "print(\"---------------------------------------------------\")\n",
        "\n",
        "# calculate average volatility grouped by industry\n",
        "average_volatility = volatility_df.groupby('Industry').mean(\"Average Volatility\")\n",
        "print(average_volatility.sort_values(by='Average Volatility', ascending=False))"
      ],
      "metadata": {
        "id": "Xv6f5OkygXa0",
        "colab": {
          "base_uri": "https://localhost:8080/"
        },
        "outputId": "fd2303e6-5d3d-4d53-d93e-9902853b7ce0"
      },
      "execution_count": 11,
      "outputs": [
        {
          "output_type": "stream",
          "name": "stdout",
          "text": [
            "   Stock  Average Volatility            Industry\n",
            "0   AAPL           23.757373          Technology\n",
            "1   NVDA           31.976923          Technology\n",
            "2   MSFT           21.018287          Technology\n",
            "3   AVGO           31.017728          Technology\n",
            "4    JPM           20.746133  Financial Services\n",
            "5      V           19.504303  Financial Services\n",
            "6     MA           19.527640  Financial Services\n",
            "7    LLY           19.214172          Healthcare\n",
            "8    UNH           19.564913          Healthcare\n",
            "9    JNJ           12.747311          Healthcare\n",
            "10  AMZN           27.703466   Consumer Cyclical\n",
            "11  TSLA           45.231854   Consumer Cyclical\n",
            "12    HD           17.129285   Consumer Cyclical\n",
            "---------------------------------------------------\n",
            "                    Average Volatility\n",
            "Industry                              \n",
            "Consumer Cyclical            30.021535\n",
            "Technology                   26.942578\n",
            "Financial Services           19.926025\n",
            "Healthcare                   17.175465\n"
          ]
        }
      ]
    },
    {
      "cell_type": "markdown",
      "source": [
        "#### Evaluation\n",
        "- `average_volatility` highlights the varying degrees of risk associated with investing in the chosen industries, with Consumer Cyclical being the most volatile and Healthcare the least.\n",
        "- Broad market trends and global economic factors may have a greater impact on stock volatility than industry classification, highlighting the importance of diversification in a portfolio.\n",
        "- Therefore, choosing SPY which has a broad market exposure, encompassing various sectors such as technology, healthcare, finance, etc. reduces the risk associated with individual sectors and ensures the dataset is a good representative of the stock market.\n"
      ],
      "metadata": {
        "id": "pb98hXp0g1Uc"
      }
    },
    {
      "cell_type": "markdown",
      "source": [
        "#### Hypothesis 4: Seasonal Patterns on Stock Prices\n",
        "###### Best and worst months for the stock market from 2012-2017"
      ],
      "metadata": {
        "id": "pXbkx9oQPI3X"
      }
    },
    {
      "cell_type": "code",
      "source": [
        "# get the month for the highest avg price for all stocks in the stock list\n",
        "max_month = []\n",
        "for file in stock_file:\n",
        "    stock = pd.read_csv(\"/content/drive/MyDrive/cs3244_data/Stocks/\"+file)\n",
        "    stock = stock[stock['Date'] >= '2012-01-01']\n",
        "    stock['Date'] = pd.to_datetime(stock['Date'])\n",
        "    stock['Month'] = stock['Date'].dt.month\n",
        "    stock['Year'] = stock['Date'].dt.year\n",
        "    average_price = stock.groupby(['Year', 'Month'])['High'].mean().reset_index()\n",
        "    # get the maximum price for each year\n",
        "    max_price = []\n",
        "    for year in average_price['Year'].unique():\n",
        "        max_price.append(average_price[average_price['Year'] == year].sort_values(by='High', ascending = False).head(1))\n",
        "    max_price = pd.concat(max_price)\n",
        "    # average the month column to get the best months across years\n",
        "    best_month = max_price['Month'].mean().round(0).astype(int)\n",
        "    max_month.append(best_month)\n",
        "\n",
        "# add in quarter of the year based on max month\n",
        "quarter = []\n",
        "for month in max_month:\n",
        "    if month in [1, 2, 3]:\n",
        "        quarter.append('Q1')\n",
        "    elif month in [4, 5, 6]:\n",
        "        quarter.append('Q2')\n",
        "    elif month in [7, 8, 9]:\n",
        "        quarter.append('Q3')\n",
        "    else:\n",
        "        quarter.append('Q4')\n",
        "\n",
        "# get name of stocks from file name and capitalize\n",
        "stock_name = []\n",
        "for file in stock_file:\n",
        "    stock_name.append(file.split(\".\")[0])\n",
        "stock_name = [x.upper() for x in stock_name]\n",
        "\n",
        "# get industry of stocks\n",
        "industry = []\n",
        "for stock in stock_name:\n",
        "    industry.append(industries[stock])\n",
        "\n",
        "# create a dataframe with stock name, month with highest average closing price and industry\n",
        "max_month_df = pd.DataFrame(list(zip(stock_name, max_month, quarter, industry)), columns=['Stock', 'Month', \"Quarter\", 'Industry'])\n",
        "max_month_df[\"Type\"] = \"Best\"\n",
        "print(max_month_df)"
      ],
      "metadata": {
        "id": "AbfdtBc5X_YT",
        "colab": {
          "base_uri": "https://localhost:8080/"
        },
        "outputId": "4f41f359-beea-46c2-b707-fdd4fc731690"
      },
      "execution_count": 12,
      "outputs": [
        {
          "output_type": "stream",
          "name": "stdout",
          "text": [
            "   Stock  Month Quarter            Industry  Type\n",
            "0   AAPL     10      Q4          Technology  Best\n",
            "1   NVDA     10      Q4          Technology  Best\n",
            "2   MSFT     10      Q4          Technology  Best\n",
            "3   AVGO     10      Q4          Technology  Best\n",
            "4    JPM     10      Q4  Financial Services  Best\n",
            "5      V     11      Q4  Financial Services  Best\n",
            "6     MA     12      Q4  Financial Services  Best\n",
            "7    LLY      8      Q3          Healthcare  Best\n",
            "8    UNH     10      Q4          Healthcare  Best\n",
            "9    JNJ     11      Q4          Healthcare  Best\n",
            "10  AMZN      9      Q3   Consumer Cyclical  Best\n",
            "11  TSLA      6      Q2   Consumer Cyclical  Best\n",
            "12    HD     11      Q4   Consumer Cyclical  Best\n"
          ]
        }
      ]
    },
    {
      "cell_type": "code",
      "source": [
        "# get the month for the lowest avg price for all stocks in the stock list\n",
        "min_month = []\n",
        "for file in stock_file:\n",
        "    stock = pd.read_csv(\"/content/drive/MyDrive/cs3244_data/Stocks/\"+file)\n",
        "    stock = stock[stock['Date'] >= '2012-01-01']\n",
        "    stock['Date'] = pd.to_datetime(stock['Date'])\n",
        "    stock['Month'] = stock['Date'].dt.month\n",
        "    stock['Year'] = stock['Date'].dt.year\n",
        "    average_price = stock.groupby(['Year', 'Month'])['Low'].mean().reset_index()\n",
        "    # get the minimum price for each year\n",
        "    min_price = []\n",
        "    for year in average_price['Year'].unique():\n",
        "        min_price.append(average_price[average_price['Year'] == year].sort_values(by='Low').head(1))\n",
        "    min_price = pd.concat(min_price)\n",
        "    # average the month column to get the worst months across years\n",
        "    worst_month = min_price['Month'].mean().round(0).astype(int)\n",
        "    min_month.append(worst_month)\n",
        "\n",
        "# add in quarter of the year based on min month\n",
        "quarter = []\n",
        "for month in min_month:\n",
        "    if month in [1, 2, 3]:\n",
        "        quarter.append('Q1')\n",
        "    elif month in [4, 5, 6]:\n",
        "        quarter.append('Q2')\n",
        "    elif month in [7, 8, 9]:\n",
        "        quarter.append('Q3')\n",
        "    else:\n",
        "        quarter.append('Q4')\n",
        "\n",
        "# get name of stocks from file name and capitalize\n",
        "stock_name = []\n",
        "for file in stock_file:\n",
        "    stock_name.append(file.split(\".\")[0])\n",
        "stock_name = [x.upper() for x in stock_name]\n",
        "\n",
        "# get industry of stocks\n",
        "industry = []\n",
        "for stock in stock_name:\n",
        "    industry.append(industries[stock])\n",
        "\n",
        "# create a dataframe with stock name, month with highest average closing price and industry\n",
        "min_month_df = pd.DataFrame(list(zip(stock_name, min_month, quarter, industry)), columns=['Stock', 'Month', \"Quarter\", 'Industry'])\n",
        "min_month_df[\"Type\"] = \"Worst\"\n",
        "print(min_month_df)"
      ],
      "metadata": {
        "colab": {
          "base_uri": "https://localhost:8080/"
        },
        "id": "eXn6g10HKIxK",
        "outputId": "2f2a980c-390a-4ee4-bc1f-f81f376c0a58"
      },
      "execution_count": 13,
      "outputs": [
        {
          "output_type": "stream",
          "name": "stdout",
          "text": [
            "   Stock  Month Quarter            Industry   Type\n",
            "0   AAPL      2      Q1          Technology  Worst\n",
            "1   NVDA      3      Q1          Technology  Worst\n",
            "2   MSFT      3      Q1          Technology  Worst\n",
            "3   AVGO      2      Q1          Technology  Worst\n",
            "4    JPM      3      Q1  Financial Services  Worst\n",
            "5      V      2      Q1  Financial Services  Worst\n",
            "6     MA      2      Q1  Financial Services  Worst\n",
            "7    LLY      4      Q2          Healthcare  Worst\n",
            "8    UNH      1      Q1          Healthcare  Worst\n",
            "9    JNJ      3      Q1          Healthcare  Worst\n",
            "10  AMZN      2      Q1   Consumer Cyclical  Worst\n",
            "11  TSLA      2      Q1   Consumer Cyclical  Worst\n",
            "12    HD      1      Q1   Consumer Cyclical  Worst\n"
          ]
        }
      ]
    },
    {
      "cell_type": "code",
      "source": [
        "# combine the dataframes\n",
        "month_df = pd.merge(max_month_df, min_month_df, on='Stock', how='left')\n",
        "\n",
        "# plot a visualisation coloured by best & worst months\n",
        "plt.figure(figsize=(12, 8))\n",
        "\n",
        "sns.stripplot(data=month_df, x=\"Quarter_x\", y=\"Month_x\",\n",
        "               hue=\"Type_x\", dodge=True, s=10, palette={'Best': 'red'}, alpha=0.7)\n",
        "sns.stripplot(data=month_df, x=\"Quarter_y\", y=\"Month_y\",\n",
        "               hue=\"Type_y\", dodge=True, s=10,  palette={'Worst': 'blue'}, alpha=0.7)\n",
        "\n",
        "# add labels and title\n",
        "plt.xlabel('Quarter')\n",
        "plt.ylabel('Month')\n",
        "plt.title('Best and Worst Months for Stocks from 2012-2017')\n",
        "plt.legend(title='Month', bbox_to_anchor=(1.05, 1), loc='upper left')\n",
        "plt.show()\n",
        "\n"
      ],
      "metadata": {
        "colab": {
          "base_uri": "https://localhost:8080/",
          "height": 718
        },
        "id": "ZQf1Be8MRnq7",
        "outputId": "305bcf66-d8dd-499a-ee97-24ff3a74bf12"
      },
      "execution_count": 14,
      "outputs": [
        {
          "output_type": "display_data",
          "data": {
            "text/plain": [
              "<Figure size 1200x800 with 1 Axes>"
            ],
            "image/png": "[encoded data removed]"
          },
          "metadata": {}
        }
      ]
    },
    {
      "cell_type": "markdown",
      "source": [
        "#### Evaluation\n",
        "- The scatterplot above provides a clear overview of seasonal patterns in stock prices, highlighting the `best` and `worst` months with the highest and lowest average prices respectively, together with its corresponding quarter from 2012-2017.\n",
        "- The best months are concentrated in Q4 while the worst months are concentrated in Q1 across the chosen industries.\n",
        "- The strong performance in Q4 could be attributed to increased consumer spending during the holiday season leading to a seasonal boost which results in positive earnings reports that can drive stock prices higher.\n",
        "-  Conversely, the lower average prices in Q1 may not only reflect investors' reassessment of their portfolios after holiday spending but also the challenges faced by companies such as post-holiday sales decline or slow start in the new fiscal year which can negatively impact stock performance.\n",
        "- Since earnings reports occur at the end of every quarter for US companies, it is possible that earnings report does contribute to the `best` and `worst` months of stock prices."
      ],
      "metadata": {
        "id": "qgKw9-BSYAxE"
      }
    },
    {
      "cell_type": "markdown",
      "source": [
        "## EDA on ETFs from 2012-2017"
      ],
      "metadata": {
        "id": "ltNY3zMkELEU"
      }
    }
  ]
}