{
  "nbformat": 4,
  "nbformat_minor": 0,
  "metadata": {
    "colab": {
      "provenance": [],
      "include_colab_link": true
    },
    "kernelspec": {
      "name": "python3",
      "display_name": "Python 3"
    },
    "language_info": {
      "name": "python"
    }
  },
  "cells": [
    {
      "cell_type": "markdown",
      "metadata": {
        "id": "view-in-github",
        "colab_type": "text"
      },
      "source": [
        "<a href=\"https://colab.research.google.com/github/AdamChoong0095/NUS-Stock-Data/blob/Shan-Li/EDA.ipynb\" target=\"_parent\"><img src=\"https://colab.research.google.com/assets/colab-badge.svg\" alt=\"Open In Colab\"/></a>"
      ]
    },
    {
      "cell_type": "code",
      "execution_count": 1,
      "metadata": {
        "id": "2YiZfa652vD8",
        "colab": {
          "base_uri": "https://localhost:8080/"
        },
        "outputId": "0ce3bd8b-42f7-4956-9598-a5f2e4f8aeed"
      },
      "outputs": [
        {
          "output_type": "stream",
          "name": "stdout",
          "text": [
            "Mounted at /content/drive\n"
          ]
        }
      ],
      "source": [
        "from google.colab import drive\n",
        "drive.mount('/content/drive')"
      ]
    },
    {
      "cell_type": "code",
      "source": [
        "import pandas as pd\n",
        "import numpy as np\n",
        "import matplotlib.pyplot as plt\n",
        "import seaborn as sns\n",
        "import datetime"
      ],
      "metadata": {
        "id": "Pl3jqsvJYFOS"
      },
      "execution_count": 2,
      "outputs": []
    },
    {
      "cell_type": "code",
      "source": [
        "import yfinance as yf\n",
        "\n",
        "# Combined list of top 20 stocks by index weight of S&P500\n",
        "top_20 = ['AAPL', 'NVDA', 'MSFT', 'AMZN', 'META', 'GOOGL', 'AVGO', 'BRK.B', 'GOOG', 'LLY', 'TSLA', 'JPM', 'UNH',\"XOM\",\"V\",\"MA\",\"HD\",\"PG\",\"COST\",\"JNJ\",\"WMT\"]\n",
        "industries = {}\n",
        "\n",
        "# Get industry data\n",
        "for stock in top_20:\n",
        "    stocks = yf.Ticker(stock)\n",
        "    industries[stock] = stocks.info.get('sector', 'N/A')\n",
        "\n",
        "# Convert to DataFrame\n",
        "industry_df = pd.DataFrame(list(industries.items()), columns=['Stock', 'Industry'])\n",
        "\n",
        "# Create a DataFrame named 'data' with a column 'Stock'\n",
        "data = pd.DataFrame({'Stock': top_20})\n",
        "\n",
        "# Merge industry data with the main dataset\n",
        "data_top_20 = pd.merge(data, industry_df, on='Stock', how='left')\n",
        "# drop rows with industry = N/A\n",
        "data_top_20 = data_top_20[data_top_20['Industry'] != 'N/A']\n",
        "data_top_20.index = range(1, len(data_top_20) + 1)\n",
        "\n",
        "print(data_top_20)"
      ],
      "metadata": {
        "colab": {
          "base_uri": "https://localhost:8080/"
        },
        "id": "sUjEhg3Mey1r",
        "outputId": "9be79fca-f03b-4900-82af-ec07a2bcfe3f"
      },
      "execution_count": 19,
      "outputs": [
        {
          "output_type": "stream",
          "name": "stdout",
          "text": [
            "    Stock                Industry\n",
            "1    AAPL              Technology\n",
            "2    NVDA              Technology\n",
            "3    MSFT              Technology\n",
            "4    AMZN       Consumer Cyclical\n",
            "5    META  Communication Services\n",
            "6   GOOGL  Communication Services\n",
            "7    AVGO              Technology\n",
            "8    GOOG  Communication Services\n",
            "9     LLY              Healthcare\n",
            "10   TSLA       Consumer Cyclical\n",
            "11    JPM      Financial Services\n",
            "12    UNH              Healthcare\n",
            "13    XOM                  Energy\n",
            "14      V      Financial Services\n",
            "15     MA      Financial Services\n",
            "16     HD       Consumer Cyclical\n",
            "17     PG      Consumer Defensive\n",
            "18   COST      Consumer Defensive\n",
            "19    JNJ              Healthcare\n",
            "20    WMT      Consumer Defensive\n"
          ]
        }
      ]
    },
    {
      "cell_type": "code",
      "source": [
        "# Choose stocks in top 4 sector weighting for SPY: Tehcnology, Financial Services, Healthcare, Consumer Cyclical Industry\n",
        "# Stocks in Tehcnology Industry in top 20\n",
        "tech_stocks = data_top_20[data_top_20['Industry'] == 'Technology']\n",
        "\n",
        "# Stocks in Financial Services Industry in top 20\n",
        "financial_services_stocks = data_top_20[data_top_20['Industry'] == 'Financial Services']\n",
        "\n",
        "# Stocks in Healthcare Industry in top 20\n",
        "healthcare_stocks = data_top_20[data_top_20['Industry'] == 'Healthcare']\n",
        "\n",
        "# Stocks in Consumer Cyclical Industry in top 20\n",
        "consumer_cyclical_stocks = data_top_20[data_top_20['Industry'] == 'Consumer Cyclical']\n",
        "\n",
        "# Combine the dataframes\n",
        "df_industries = pd.concat([tech_stocks, financial_services_stocks, healthcare_stocks, consumer_cyclical_stocks])\n",
        "\n",
        "print(df_industries)"
      ],
      "metadata": {
        "colab": {
          "base_uri": "https://localhost:8080/"
        },
        "id": "XHnUFd4qfG24",
        "outputId": "0223be0b-4198-4a20-ea1b-b4cef3487104"
      },
      "execution_count": 20,
      "outputs": [
        {
          "output_type": "stream",
          "name": "stdout",
          "text": [
            "   Stock            Industry\n",
            "1   AAPL          Technology\n",
            "2   NVDA          Technology\n",
            "3   MSFT          Technology\n",
            "7   AVGO          Technology\n",
            "11   JPM  Financial Services\n",
            "14     V  Financial Services\n",
            "15    MA  Financial Services\n",
            "9    LLY          Healthcare\n",
            "12   UNH          Healthcare\n",
            "19   JNJ          Healthcare\n",
            "4   AMZN   Consumer Cyclical\n",
            "10  TSLA   Consumer Cyclical\n",
            "16    HD   Consumer Cyclical\n"
          ]
        }
      ]
    },
    {
      "cell_type": "markdown",
      "source": [
        "## EDA on Stocks"
      ],
      "metadata": {
        "id": "NbT3o_55jKro"
      }
    },
    {
      "cell_type": "code",
      "source": [
        "stock_file = [\"aapl.us.txt\",\"nvda.us.txt\",\"msft.us.txt\",\"avgo.us.txt\",\"jpm.us.txt\",\"v.us.txt\",\"ma.us.txt\",\"lly.us.txt\",\"unh.us.txt\",\"jnj.us.txt\",\"amzn.us.txt\",\"tsla.us.txt\",\"hd.us.txt\"]\n",
        "#check the entire period for stocks of interest\n",
        "start_date={}\n",
        "for file in stock_file:\n",
        "    stock = pd.read_csv(\"/content/drive/MyDrive/cs3244_data/Stocks/\"+file)\n",
        "    start_date[file] = stock['Date'].min()\n",
        "    print(f\"Data for {file} starts from {stock['Date'].min()} to {stock['Date'].max()}\")\n"
      ],
      "metadata": {
        "colab": {
          "base_uri": "https://localhost:8080/"
        },
        "id": "rvxqAr0iYDa6",
        "outputId": "25eca910-3d81-49ae-e5a8-46c15c6b1a01"
      },
      "execution_count": 21,
      "outputs": [
        {
          "output_type": "stream",
          "name": "stdout",
          "text": [
            "Data for aapl.us.txt starts from 1984-09-07 to 2017-11-10\n",
            "Data for nvda.us.txt starts from 1999-01-22 to 2017-11-10\n",
            "Data for msft.us.txt starts from 1986-03-13 to 2017-11-10\n",
            "Data for avgo.us.txt starts from 2009-08-05 to 2017-11-10\n",
            "Data for jpm.us.txt starts from 1970-01-02 to 2017-11-10\n",
            "Data for v.us.txt starts from 2008-03-18 to 2017-11-10\n",
            "Data for ma.us.txt starts from 2006-05-24 to 2017-11-10\n",
            "Data for lly.us.txt starts from 1982-01-04 to 2017-11-10\n",
            "Data for unh.us.txt starts from 1990-03-26 to 2017-11-10\n",
            "Data for jnj.us.txt starts from 1970-01-02 to 2017-11-10\n",
            "Data for amzn.us.txt starts from 1997-05-16 to 2017-11-10\n",
            "Data for tsla.us.txt starts from 2010-06-28 to 2017-11-10\n",
            "Data for hd.us.txt starts from 1981-09-22 to 2017-11-10\n"
          ]
        }
      ]
    },
    {
      "cell_type": "code",
      "source": [
        "#get the latest stock start date\n",
        "start_date = max(start_date.values())\n",
        "print(f\"The latest stock start date is {start_date}\")"
      ],
      "metadata": {
        "colab": {
          "base_uri": "https://localhost:8080/"
        },
        "id": "YRPPINaZ71Cd",
        "outputId": "4a4c84ff-f172-4b93-a4ed-f8dac3648141"
      },
      "execution_count": 22,
      "outputs": [
        {
          "output_type": "stream",
          "name": "stdout",
          "text": [
            "The latest stock start date is 2010-06-28\n"
          ]
        }
      ]
    },
    {
      "cell_type": "markdown",
      "source": [
        "#### Hypothesis 1: Correlation between Volume and Changes in Price\n",
        "###### Strong correlation between trading volumes and percentage change in price based on **opening and closing prices**"
      ],
      "metadata": {
        "id": "vZgo4uKdjCod"
      }
    },
    {
      "cell_type": "code",
      "source": [
        "# get correlation for all stocks\n",
        "corr = []\n",
        "for file in stock_file:\n",
        "    stock = pd.read_csv(\"/content/drive/MyDrive/cs3244_data/Stocks/\"+file)\n",
        "    missing_val = stock.isnull().sum()\n",
        "    if missing_val.sum() > 0:\n",
        "        print(f\"Missing values in {file}\")\n",
        "    stock['Date'] = pd.to_datetime(stock['Date'])\n",
        "    stock = stock[stock['Date'] >= start_date]\n",
        "    stock['Change'] = np.abs(stock['Close'] - stock['Open']) / stock['Open'] * 100\n",
        "    correlation = stock['Volume'].corr(stock['Change'])\n",
        "    corr.append(correlation)\n",
        "\n",
        "# get name of stocks from file name and capitalize\n",
        "stock_name = []\n",
        "for file in stock_file:\n",
        "    stock_name.append(file.split(\".\")[0])\n",
        "stock_name = [x.upper() for x in stock_name]\n",
        "\n",
        "# create a dataframe with stock name and correlation\n",
        "correlation_df = pd.DataFrame(list(zip(stock_name, corr)), columns=['Stock', 'Correlation'])\n",
        "print(correlation_df)\n",
        "\n",
        "# calculate the average correlation\n",
        "average_correlation = correlation_df['Correlation'].mean()\n",
        "print(f'Average correlation coefficient: {average_correlation}')"
      ],
      "metadata": {
        "id": "6PsI-EHgf1ap",
        "colab": {
          "base_uri": "https://localhost:8080/"
        },
        "outputId": "141b54da-ff3e-4951-cd0c-e105070a96a0"
      },
      "execution_count": 24,
      "outputs": [
        {
          "output_type": "stream",
          "name": "stdout",
          "text": [
            "   Stock  Correlation\n",
            "0   AAPL     0.402873\n",
            "1   NVDA     0.594237\n",
            "2   MSFT     0.341510\n",
            "3   AVGO     0.229031\n",
            "4    JPM     0.503507\n",
            "5      V     0.569272\n",
            "6     MA     0.527601\n",
            "7    LLY     0.287326\n",
            "8    UNH     0.429373\n",
            "9    JNJ     0.262933\n",
            "10  AMZN     0.539833\n",
            "11  TSLA     0.322830\n",
            "12    HD     0.424483\n",
            "Average correlation coefficient: 0.4180620265217106\n"
          ]
        }
      ]
    },
    {
      "cell_type": "markdown",
      "source": [
        "#### Evaluation\n",
        "- The average correlation coefficient is 0.4181, which indicates a weak correlation between trading volume and percentage change in stock price based on daily opening and closing prices.\n",
        "- The use of daily opening and closing prices can overlook important price movements that occur throughout the trading day which can be influenced by news events, market sentiment or trading strategies.\n",
        "- Intraday price movements may provide a better insight into the relationship between trading volume and stock price change as opening and closing prices may not reflect the accurate fluctuations in prices on certain trading days.\n"
      ],
      "metadata": {
        "id": "dBpAk70NYD8C"
      }
    },
    {
      "cell_type": "markdown",
      "source": [
        "#### Hypothesis 2: Correlation between Volume and Changes in Price\n",
        "###### Strong correlation between trading volumes and percentage change in price based on **intraday (high,low) prices**"
      ],
      "metadata": {
        "id": "9pKbVXfzJhak"
      }
    },
    {
      "cell_type": "code",
      "source": [
        "# get correlation for all stocks\n",
        "corr = []\n",
        "for file in stock_file:\n",
        "    stock = pd.read_csv(\"/content/drive/MyDrive/cs3244_data/Stocks/\"+file)\n",
        "    missing_val = stock.isnull().sum()\n",
        "    if missing_val.sum() > 0:\n",
        "        print(f\"Missing values in {file}\")\n",
        "    stock['Date'] = pd.to_datetime(stock['Date'])\n",
        "    stock = stock[stock['Date'] >= start_date]\n",
        "    stock['Change'] = np.abs(stock['High'] - stock['Low']) / stock['Low'] * 100\n",
        "    correlation = stock['Volume'].corr(stock['Change'])\n",
        "    corr.append(correlation)\n",
        "\n",
        "# get name of stocks from file name and capitalize\n",
        "stock_name = []\n",
        "for file in stock_file:\n",
        "    stock_name.append(file.split(\".\")[0])\n",
        "stock_name = [x.upper() for x in stock_name]\n",
        "\n",
        "# create a dataframe with stock name and correlation\n",
        "correlation_df = pd.DataFrame(list(zip(stock_name, corr)), columns=['Stock', 'Correlation'])\n",
        "print(correlation_df)\n",
        "\n",
        "# calculate the average correlation\n",
        "average_correlation = correlation_df['Correlation'].mean()\n",
        "print(f'Average correlation coefficient: {average_correlation}')"
      ],
      "metadata": {
        "colab": {
          "base_uri": "https://localhost:8080/"
        },
        "id": "-qHni9WDJg4I",
        "outputId": "44e469e5-672b-4607-ff13-594fe008a438"
      },
      "execution_count": 8,
      "outputs": [
        {
          "output_type": "stream",
          "name": "stdout",
          "text": [
            "   Stock  Correlation\n",
            "0   AAPL     0.559295\n",
            "1   NVDA     0.756574\n",
            "2   MSFT     0.490027\n",
            "3   AVGO     0.344268\n",
            "4    JPM     0.638036\n",
            "5      V     0.667854\n",
            "6     MA     0.672747\n",
            "7    LLY     0.342679\n",
            "8    UNH     0.596457\n",
            "9    JNJ     0.387538\n",
            "10  AMZN     0.696114\n",
            "11  TSLA     0.130743\n",
            "12    HD     0.495311\n",
            "Average correlation coefficient: 0.521357122948271\n"
          ]
        }
      ]
    },
    {
      "cell_type": "markdown",
      "source": [
        "#### Evaluation\n",
        "- The average correlation coefficient has increased to 0.5214, which indicates a stronger correlation between trading volume and percentage change in stock price based on intraday trading prices.\n",
        "- This shows that intraday price movements provide a more comprehensive view of the relationship between changes in stock prices and trading volume compared to opening and closing prices.\n",
        "- For example, a stock might open at a certain price, spike or drop significantly during the day, and close at a price near the opening price. Using price change in opening and closing prices would fail to reflect the volatility of trading activity throughout the session."
      ],
      "metadata": {
        "id": "ph5a5nc0MEQ7"
      }
    },
    {
      "cell_type": "markdown",
      "source": [
        "#### Hypothesis 3: Price volatility across different industries\n",
        "###### Stocks in the technology industry have higher volatility compared to other industries\n"
      ],
      "metadata": {
        "id": "ltHWRvZKgYU7"
      }
    },
    {
      "cell_type": "code",
      "source": [
        "# volatility is the std of a stock's annualised returns over a given period\n",
        "# calculate votality for all stocks in the stock list\n",
        "volatility = []\n",
        "for file in stock_file:\n",
        "    stock = pd.read_csv(\"/content/drive/MyDrive/cs3244_data/Stocks/\"+file)\n",
        "    missing_val = stock.isnull().sum()\n",
        "    if missing_val.sum() > 0:\n",
        "        print(f\"Missing values in {file}\")\n",
        "    stock['Date'] = pd.to_datetime(stock['Date'])\n",
        "    stock = stock[stock['Date'] >= start_date]\n",
        "    stock[\"Daily Return\"]=stock[\"Close\"].pct_change()*100\n",
        "    # average of 21 trading days monthly\n",
        "    stock['Monthly Volatility'] = stock['Daily Return'].rolling(window=21).std()\n",
        "    stock = stock.dropna()\n",
        "    # 252 trading days in a year\n",
        "    stock['Annualised Volatility'] = stock['Monthly Volatility'] * np.sqrt(252)\n",
        "    volatility.append(stock['Annualised Volatility'].mean())\n",
        "\n",
        "# get name of stocks from file name and capitalize\n",
        "stock_name = []\n",
        "for file in stock_file:\n",
        "    stock_name.append(file.split(\".\")[0])\n",
        "stock_name = [x.upper() for x in stock_name]\n",
        "\n",
        "# create a dataframe with stock name, volatility and industry\n",
        "volatility_df = pd.DataFrame(list(zip(stock_name, volatility)), columns=['Stock', 'Average Volatility'])\n",
        "volatility_df = pd.merge(volatility_df, industry_df, on='Stock', how='left')\n",
        "print(volatility_df)\n",
        "print(\"---------------------------------------------------\")\n",
        "\n",
        "# calculate average volatility grouped by industry\n",
        "average_volatility = volatility_df.groupby('Industry').mean(\"Average Volatility\")\n",
        "print(average_volatility.sort_values(by='Average Volatility', ascending=False))"
      ],
      "metadata": {
        "id": "Xv6f5OkygXa0",
        "colab": {
          "base_uri": "https://localhost:8080/"
        },
        "outputId": "ed7cc314-7690-41fd-9680-7359221b245f"
      },
      "execution_count": 25,
      "outputs": [
        {
          "output_type": "stream",
          "name": "stdout",
          "text": [
            "   Stock  Average Volatility            Industry\n",
            "0   AAPL           23.488060          Technology\n",
            "1   NVDA           35.272842          Technology\n",
            "2   MSFT           20.934503          Technology\n",
            "3   AVGO           32.864686          Technology\n",
            "4    JPM           23.343221  Financial Services\n",
            "5      V           21.550197  Financial Services\n",
            "6     MA           22.386019  Financial Services\n",
            "7    LLY           18.552874          Healthcare\n",
            "8    UNH           21.096308          Healthcare\n",
            "9    JNJ           13.023160          Healthcare\n",
            "10  AMZN           28.774491   Consumer Cyclical\n",
            "11  TSLA           47.252749   Consumer Cyclical\n",
            "12    HD           18.245285   Consumer Cyclical\n",
            "---------------------------------------------------\n",
            "                    Average Volatility\n",
            "Industry                              \n",
            "Consumer Cyclical            31.424175\n",
            "Technology                   28.140023\n",
            "Financial Services           22.426479\n",
            "Healthcare                   17.557447\n"
          ]
        }
      ]
    },
    {
      "cell_type": "markdown",
      "source": [
        "#### Evaluation\n",
        "- `average_volatility` highlights the varying degrees of risk associated with investing in the chosen industries, with Consumer Cyclical being the most volatile and Healthcare the least.\n",
        "- Broad market trends and global economic factors may have a greater impact on stock volatility than industry classification, highlighting the importance of diversification in a portfolio.\n",
        "- Therefore, choosing SPY which has a broad market exposure, encompassing various sectors such as technology, healthcare, finance, etc. reduces the risk associated with individual sectors and ensures the dataset is a good representative of the stock market.\n"
      ],
      "metadata": {
        "id": "pb98hXp0g1Uc"
      }
    },
    {
      "cell_type": "markdown",
      "source": [
        "#### Hypothesis 4: Seasonal Patterns on Stock Prices\n",
        "###### Best and worst months for the stock market"
      ],
      "metadata": {
        "id": "pXbkx9oQPI3X"
      }
    },
    {
      "cell_type": "code",
      "source": [
        "# get the month for the highest avg price for all stocks in the stock list\n",
        "max_month = []\n",
        "for file in stock_file:\n",
        "    stock = pd.read_csv(\"/content/drive/MyDrive/cs3244_data/Stocks/\"+file)\n",
        "    stock['Date'] = pd.to_datetime(stock['Date'])\n",
        "    stock = stock[stock['Date'] >= start_date]\n",
        "    stock['Month'] = stock['Date'].dt.month\n",
        "    stock['Year'] = stock['Date'].dt.year\n",
        "    average_price = stock.groupby(['Year', 'Month'])['High'].mean().reset_index()\n",
        "    # get the maximum price for each year\n",
        "    max_price = []\n",
        "    for year in average_price['Year'].unique():\n",
        "        max_price.append(average_price[average_price['Year'] == year].sort_values(by='High', ascending = False).head(1))\n",
        "    max_price = pd.concat(max_price)\n",
        "    # average the month column to get the best months across years\n",
        "    best_month = max_price['Month'].mean().round(0).astype(int)\n",
        "    max_month.append(best_month)\n",
        "\n",
        "# add in quarter of the year based on max month\n",
        "quarter = []\n",
        "for month in max_month:\n",
        "    if month in [1, 2, 3]:\n",
        "        quarter.append('Q1')\n",
        "    elif month in [4, 5, 6]:\n",
        "        quarter.append('Q2')\n",
        "    elif month in [7, 8, 9]:\n",
        "        quarter.append('Q3')\n",
        "    else:\n",
        "        quarter.append('Q4')\n",
        "\n",
        "# get name of stocks from file name and capitalize\n",
        "stock_name = []\n",
        "for file in stock_file:\n",
        "    stock_name.append(file.split(\".\")[0])\n",
        "stock_name = [x.upper() for x in stock_name]\n",
        "\n",
        "# get industry of stocks\n",
        "industry = []\n",
        "for stock in stock_name:\n",
        "    industry.append(industries[stock])\n",
        "\n",
        "# create a dataframe with stock name, month with highest average closing price and industry\n",
        "max_month_df = pd.DataFrame(list(zip(stock_name, max_month, quarter, industry)), columns=['Stock', 'Month', \"Quarter\", 'Industry'])\n",
        "max_month_df[\"Type\"] = \"Best\"\n",
        "print(max_month_df)"
      ],
      "metadata": {
        "id": "AbfdtBc5X_YT",
        "colab": {
          "base_uri": "https://localhost:8080/"
        },
        "outputId": "6d6799da-8ccd-4039-8510-64b3769ec20a"
      },
      "execution_count": 30,
      "outputs": [
        {
          "output_type": "stream",
          "name": "stdout",
          "text": [
            "   Stock  Month Quarter            Industry  Type\n",
            "0   AAPL     10      Q4          Technology  Best\n",
            "1   NVDA      9      Q3          Technology  Best\n",
            "2   MSFT      9      Q3          Technology  Best\n",
            "3   AVGO     10      Q4          Technology  Best\n",
            "4    JPM      9      Q3  Financial Services  Best\n",
            "5      V     11      Q4  Financial Services  Best\n",
            "6     MA     12      Q4  Financial Services  Best\n",
            "7    LLY      9      Q3          Healthcare  Best\n",
            "8    UNH     10      Q4          Healthcare  Best\n",
            "9    JNJ     10      Q4          Healthcare  Best\n",
            "10  AMZN     10      Q4   Consumer Cyclical  Best\n",
            "11  TSLA      8      Q3   Consumer Cyclical  Best\n",
            "12    HD     11      Q4   Consumer Cyclical  Best\n"
          ]
        }
      ]
    },
    {
      "cell_type": "code",
      "source": [
        "# get the month for the lowest avg price for all stocks in the stock list\n",
        "min_month = []\n",
        "for file in stock_file:\n",
        "    stock = pd.read_csv(\"/content/drive/MyDrive/cs3244_data/Stocks/\"+file)\n",
        "    stock['Date'] = pd.to_datetime(stock['Date'])\n",
        "    stock = stock[stock['Date'] >= start_date]\n",
        "    stock['Month'] = stock['Date'].dt.month\n",
        "    stock['Year'] = stock['Date'].dt.year\n",
        "    average_price = stock.groupby(['Year', 'Month'])['Low'].mean().reset_index()\n",
        "    # get the minimum price for each year\n",
        "    min_price = []\n",
        "    for year in average_price['Year'].unique():\n",
        "        min_price.append(average_price[average_price['Year'] == year].sort_values(by='Low').head(1))\n",
        "    min_price = pd.concat(min_price)\n",
        "    # average the month column to get the worst months across years\n",
        "    worst_month = min_price['Month'].mean().round(0).astype(int)\n",
        "    min_month.append(worst_month)\n",
        "\n",
        "# add in quarter of the year based on min month\n",
        "quarter = []\n",
        "for month in min_month:\n",
        "    if month in [1, 2, 3]:\n",
        "        quarter.append('Q1')\n",
        "    elif month in [4, 5, 6]:\n",
        "        quarter.append('Q2')\n",
        "    elif month in [7, 8, 9]:\n",
        "        quarter.append('Q3')\n",
        "    else:\n",
        "        quarter.append('Q4')\n",
        "\n",
        "# get name of stocks from file name and capitalize\n",
        "stock_name = []\n",
        "for file in stock_file:\n",
        "    stock_name.append(file.split(\".\")[0])\n",
        "stock_name = [x.upper() for x in stock_name]\n",
        "\n",
        "# get industry of stocks\n",
        "industry = []\n",
        "for stock in stock_name:\n",
        "    industry.append(industries[stock])\n",
        "\n",
        "# create a dataframe with stock name, month with highest average closing price and industry\n",
        "min_month_df = pd.DataFrame(list(zip(stock_name, min_month, quarter, industry)), columns=['Stock', 'Month', \"Quarter\", 'Industry'])\n",
        "min_month_df[\"Type\"] = \"Worst\"\n",
        "print(min_month_df)"
      ],
      "metadata": {
        "colab": {
          "base_uri": "https://localhost:8080/"
        },
        "id": "eXn6g10HKIxK",
        "outputId": "73a89e0b-a25e-403f-f0e3-9bfdbd8f51dd"
      },
      "execution_count": 11,
      "outputs": [
        {
          "output_type": "stream",
          "name": "stdout",
          "text": [
            "   Stock  Month Quarter            Industry   Type\n",
            "0   AAPL      4      Q2          Technology  Worst\n",
            "1   NVDA      4      Q2          Technology  Worst\n",
            "2   MSFT      4      Q2          Technology  Worst\n",
            "3   AVGO      2      Q1          Technology  Worst\n",
            "4    JPM      4      Q2  Financial Services  Worst\n",
            "5      V      3      Q1  Financial Services  Worst\n",
            "6     MA      2      Q1  Financial Services  Worst\n",
            "7    LLY      4      Q2          Healthcare  Worst\n",
            "8    UNH      2      Q1          Healthcare  Worst\n",
            "9    JNJ      4      Q2          Healthcare  Worst\n",
            "10  AMZN      3      Q1   Consumer Cyclical  Worst\n",
            "11  TSLA      2      Q1   Consumer Cyclical  Worst\n",
            "12    HD      3      Q1   Consumer Cyclical  Worst\n"
          ]
        }
      ]
    },
    {
      "cell_type": "code",
      "source": [
        "# combine the dataframes\n",
        "month_df = pd.merge(max_month_df, min_month_df, on='Stock', how='left')\n",
        "\n",
        "#convert the quarter columns to categorical with a specific order\n",
        "quarter_order = ['Q1', 'Q2', 'Q3', 'Q4']\n",
        "month_df['Quarter_x'] = pd.Categorical(month_df['Quarter_x'], categories=quarter_order, ordered=True)\n",
        "month_df['Quarter_y'] = pd.Categorical(month_df['Quarter_y'], categories=quarter_order, ordered=True)\n",
        "\n",
        "#count points for each quarter\n",
        "count_best = month_df['Quarter_x'].value_counts().reindex(quarter_order)\n",
        "count_worst = month_df['Quarter_y'].value_counts().reindex(quarter_order)\n",
        "\n",
        "# plot a visualisation coloured by best & worst months\n",
        "plt.figure(figsize=(12, 8))\n",
        "\n",
        "sns.stripplot(data=month_df, x=\"Quarter_x\", y=\"Month_x\",\n",
        "               hue=\"Type_x\", dodge=True, s=10, palette={'Best': 'red'}, alpha=0.7)\n",
        "sns.stripplot(data=month_df, x=\"Quarter_y\", y=\"Month_y\",\n",
        "               hue=\"Type_y\", dodge=True, s=10,  palette={'Worst': 'blue'}, alpha=0.7)\n",
        "\n",
        "#add counts to the plot\n",
        "for quarter in quarter_order:\n",
        "    plt.text(x=quarter, y=0, s=f'N={count_best[quarter]}', ha='center', va='bottom', color='red', fontsize=10)\n",
        "    plt.text(x=quarter, y=-1, s=f'N={count_worst[quarter]}', ha='center', va='top', color='blue', fontsize=10)\n",
        "\n",
        "# add labels and title\n",
        "plt.xlabel('Quarter')\n",
        "plt.ylabel('Month')\n",
        "plt.title('Best and Worst Months for Stocks')\n",
        "plt.legend(title='Month', bbox_to_anchor=(1.05, 1), loc='upper left')\n",
        "plt.show()\n",
        "\n"
      ],
      "metadata": {
        "colab": {
          "base_uri": "https://localhost:8080/",
          "height": 829
        },
        "id": "ZQf1Be8MRnq7",
        "outputId": "3e334f41-eee2-40b2-9c72-89e593e6c450"
      },
      "execution_count": 12,
      "outputs": [
        {
          "output_type": "display_data",
          "data": {
            "text/plain": [
              "<Figure size 1200x800 with 1 Axes>"
            ],
            "image/png": "[encoded data removed]"
          },
          "metadata": {}
        }
      ]
    },
    {
      "cell_type": "markdown",
      "source": [
        "#### Evaluation\n",
        "- The scatterplot above provides a clear overview of seasonal patterns in stock prices, highlighting the `best` and `worst` months with the highest and lowest average prices respectively, together with its corresponding quarter.\n",
        "- The best months are concentrated in Q4 while the worst months are equally distributed in Q1 & Q2 across the chosen industries.\n",
        "- The strong performance in Q4 could be attributed to increased consumer spending during the holiday season leading to a seasonal boost which results in positive earnings reports that can drive stock prices higher.\n",
        "-  Conversely, the lower average prices in the first half of the year may not only reflect investors' reassessment of their portfolios after holiday spending but also the challenges faced by companies such as post-holiday sales decline or slow start in the new fiscal year which can negatively impact stock performance.\n",
        "- Since earnings reports occur at the end of every quarter for US companies, it is possible that earnings report does contribute to the `best` and `worst` months of stock prices."
      ],
      "metadata": {
        "id": "qgKw9-BSYAxE"
      }
    },
    {
      "cell_type": "markdown",
      "source": [
        "## EDA on ETFs"
      ],
      "metadata": {
        "id": "ltNY3zMkELEU"
      }
    },
    {
      "cell_type": "code",
      "source": [
        "etf_file = [\"spy.us.txt\",\"ivv.us.txt\",\"voo.us.txt\",\"vti.us.txt\",\"qqq.us.txt\"]\n",
        "#check the entire period for etfs of interest\n",
        "start_date={}\n",
        "for file in etf_file:\n",
        "    etf = pd.read_csv(\"/content/drive/MyDrive/cs3244_data/ETFs/\"+file)\n",
        "    start_date[file] = etf['Date'].min()\n",
        "    print(f\"Data for {file} starts from {etf['Date'].min()} to {etf['Date'].max()}\")"
      ],
      "metadata": {
        "colab": {
          "base_uri": "https://localhost:8080/"
        },
        "id": "B_tsw60okFMH",
        "outputId": "2619e367-5c28-4770-dae5-3c33e202d3f2"
      },
      "execution_count": 13,
      "outputs": [
        {
          "output_type": "stream",
          "name": "stdout",
          "text": [
            "Data for spy.us.txt starts from 2005-02-25 to 2017-11-10\n",
            "Data for ivv.us.txt starts from 2005-02-25 to 2017-11-10\n",
            "Data for voo.us.txt starts from 2010-09-14 to 2017-11-10\n",
            "Data for vti.us.txt starts from 2005-02-25 to 2017-11-10\n",
            "Data for qqq.us.txt starts from 1999-03-10 to 2017-11-10\n"
          ]
        }
      ]
    },
    {
      "cell_type": "code",
      "source": [
        "#get the latest etf start date\n",
        "start_date = max(start_date.values())\n",
        "print(f\"The latest etf start date is {start_date}\")"
      ],
      "metadata": {
        "colab": {
          "base_uri": "https://localhost:8080/"
        },
        "id": "WNCsYKXb_sUL",
        "outputId": "0a55b258-00a6-42d1-c0ce-79ad519f79f3"
      },
      "execution_count": 14,
      "outputs": [
        {
          "output_type": "stream",
          "name": "stdout",
          "text": [
            "The latest etf start date is 2010-09-14\n"
          ]
        }
      ]
    },
    {
      "cell_type": "markdown",
      "source": [
        "#### Hypothesis 1: Average trading volumes of ETFs\n",
        "###### SPY will the highest average trading volume"
      ],
      "metadata": {
        "id": "FQAXGeesmqPC"
      }
    },
    {
      "cell_type": "code",
      "source": [
        "trading_volume = []\n",
        "for file in etf_file:\n",
        "    etf = pd.read_csv(\"/content/drive/MyDrive/cs3244_data/ETFs/\"+file)\n",
        "    missing_val = etf.isnull().sum()\n",
        "    if missing_val.sum() > 0:\n",
        "        print(f\"Missing values in {file}\")\n",
        "    etf['Date'] = pd.to_datetime(etf['Date'])\n",
        "    etf = etf[etf['Date'] >= start_date]\n",
        "    # get average trading volume\n",
        "    etf['Volume'] = etf['Volume'] / 1000000\n",
        "    trading_volume.append(round(etf['Volume'].mean(),2))\n",
        "\n",
        "# get names of ETFs from file name and capitalize\n",
        "etf_name = []\n",
        "for file in etf_file:\n",
        "    etf_name.append(file.split(\".\")[0])\n",
        "etf_name = [x.upper() for x in etf_name]\n",
        "\n",
        "# create a dataframe with ETF name and average trading volume\n",
        "trading_volume_df = pd.DataFrame(list(zip(etf_name, trading_volume)), columns=['ETF', 'Average Trading Volume (in Millions)'])\n",
        "trading_volume_df.sort_values(by='Average Trading Volume (in Millions)', ascending=False).reset_index(drop=True)"
      ],
      "metadata": {
        "colab": {
          "base_uri": "https://localhost:8080/",
          "height": 206
        },
        "id": "KGCJrAFqnFMR",
        "outputId": "e13aeb9d-ab9b-4504-c4f2-74e3deaff4db"
      },
      "execution_count": 15,
      "outputs": [
        {
          "output_type": "execute_result",
          "data": {
            "text/plain": [
              "   ETF  Average Trading Volume (in Millions)\n",
              "0  SPY                                140.17\n",
              "1  QQQ                                 40.75\n",
              "2  IVV                                  4.20\n",
              "3  VTI                                  2.61\n",
              "4  VOO                                  1.32"
            ],
            "text/html": [
              "\n",
              "  <div id=\"df-e102d56a-f9c4-49d6-969e-4f8bc20bb0b1\" class=\"colab-df-container\">\n",
              "    <div>\n",
              "<style scoped>\n",
              "    .dataframe tbody tr th:only-of-type {\n",
              "        vertical-align: middle;\n",
              "    }\n",
              "\n",
              "    .dataframe tbody tr th {\n",
              "        vertical-align: top;\n",
              "    }\n",
              "\n",
              "    .dataframe thead th {\n",
              "        text-align: right;\n",
              "    }\n",
              "</style>\n",
              "<table border=\"1\" class=\"dataframe\">\n",
              "  <thead>\n",
              "    <tr style=\"text-align: right;\">\n",
              "      <th></th>\n",
              "      <th>ETF</th>\n",
              "      <th>Average Trading Volume (in Millions)</th>\n",
              "    </tr>\n",
              "  </thead>\n",
              "  <tbody>\n",
              "    <tr>\n",
              "      <th>0</th>\n",
              "      <td>SPY</td>\n",
              "      <td>140.17</td>\n",
              "    </tr>\n",
              "    <tr>\n",
              "      <th>1</th>\n",
              "      <td>QQQ</td>\n",
              "      <td>40.75</td>\n",
              "    </tr>\n",
              "    <tr>\n",
              "      <th>2</th>\n",
              "      <td>IVV</td>\n",
              "      <td>4.20</td>\n",
              "    </tr>\n",
              "    <tr>\n",
              "      <th>3</th>\n",
              "      <td>VTI</td>\n",
              "      <td>2.61</td>\n",
              "    </tr>\n",
              "    <tr>\n",
              "      <th>4</th>\n",
              "      <td>VOO</td>\n",
              "      <td>1.32</td>\n",
              "    </tr>\n",
              "  </tbody>\n",
              "</table>\n",
              "</div>\n",
              "    <div class=\"colab-df-buttons\">\n",
              "\n",
              "  <div class=\"colab-df-container\">\n",
              "    <button class=\"colab-df-convert\" onclick=\"convertToInteractive('df-e102d56a-f9c4-49d6-969e-4f8bc20bb0b1')\"\n",
              "            title=\"Convert this dataframe to an interactive table.\"\n",
              "            style=\"display:none;\">\n",
              "\n",
              "  <svg xmlns=\"http://www.w3.org/2000/svg\" height=\"24px\" viewBox=\"0 -960 960 960\">\n",
              "    <path d=\"M120-120v-720h720v720H120Zm60-500h600v-160H180v160Zm220 220h160v-160H400v160Zm0 220h160v-160H400v160ZM180-400h160v-160H180v160Zm440 0h160v-160H620v160ZM180-180h160v-160H180v160Zm440 0h160v-160H620v160Z\"/>\n",
              "  </svg>\n",
              "    </button>\n",
              "\n",
              "  <style>\n",
              "    .colab-df-container {\n",
              "      display:flex;\n",
              "      gap: 12px;\n",
              "    }\n",
              "\n",
              "    .colab-df-convert {\n",
              "      background-color: #E8F0FE;\n",
              "      border: none;\n",
              "      border-radius: 50%;\n",
              "      cursor: pointer;\n",
              "      display: none;\n",
              "      fill: #1967D2;\n",
              "      height: 32px;\n",
              "      padding: 0 0 0 0;\n",
              "      width: 32px;\n",
              "    }\n",
              "\n",
              "    .colab-df-convert:hover {\n",
              "      background-color: #E2EBFA;\n",
              "      box-shadow: 0px 1px 2px rgba(60, 64, 67, 0.3), 0px 1px 3px 1px rgba(60, 64, 67, 0.15);\n",
              "      fill: #174EA6;\n",
              "    }\n",
              "\n",
              "    .colab-df-buttons div {\n",
              "      margin-bottom: 4px;\n",
              "    }\n",
              "\n",
              "    [theme=dark] .colab-df-convert {\n",
              "      background-color: #3B4455;\n",
              "      fill: #D2E3FC;\n",
              "    }\n",
              "\n",
              "    [theme=dark] .colab-df-convert:hover {\n",
              "      background-color: #434B5C;\n",
              "      box-shadow: 0px 1px 3px 1px rgba(0, 0, 0, 0.15);\n",
              "      filter: drop-shadow(0px 1px 2px rgba(0, 0, 0, 0.3));\n",
              "      fill: #FFFFFF;\n",
              "    }\n",
              "  </style>\n",
              "\n",
              "    <script>\n",
              "      const buttonEl =\n",
              "        document.querySelector('#df-e102d56a-f9c4-49d6-969e-4f8bc20bb0b1 button.colab-df-convert');\n",
              "      buttonEl.style.display =\n",
              "        google.colab.kernel.accessAllowed ? 'block' : 'none';\n",
              "\n",
              "      async function convertToInteractive(key) {\n",
              "        const element = document.querySelector('#df-e102d56a-f9c4-49d6-969e-4f8bc20bb0b1');\n",
              "        const dataTable =\n",
              "          await google.colab.kernel.invokeFunction('convertToInteractive',\n",
              "                                                    [key], {});\n",
              "        if (!dataTable) return;\n",
              "\n",
              "        const docLinkHtml = 'Like what you see? Visit the ' +\n",
              "          '<a target=\"_blank\" href=https://colab.research.google.com/notebooks/data_table.ipynb>data table notebook</a>'\n",
              "          + ' to learn more about interactive tables.';\n",
              "        element.innerHTML = '';\n",
              "        dataTable['output_type'] = 'display_data';\n",
              "        await google.colab.output.renderOutput(dataTable, element);\n",
              "        const docLink = document.createElement('div');\n",
              "        docLink.innerHTML = docLinkHtml;\n",
              "        element.appendChild(docLink);\n",
              "      }\n",
              "    </script>\n",
              "  </div>\n",
              "\n",
              "\n",
              "<div id=\"df-2d0cd80e-be00-4334-9187-c5c25d8b112d\">\n",
              "  <button class=\"colab-df-quickchart\" onclick=\"quickchart('df-2d0cd80e-be00-4334-9187-c5c25d8b112d')\"\n",
              "            title=\"Suggest charts\"\n",
              "            style=\"display:none;\">\n",
              "\n",
              "<svg xmlns=\"http://www.w3.org/2000/svg\" height=\"24px\"viewBox=\"0 0 24 24\"\n",
              "     width=\"24px\">\n",
              "    <g>\n",
              "        <path d=\"M19 3H5c-1.1 0-2 .9-2 2v14c0 1.1.9 2 2 2h14c1.1 0 2-.9 2-2V5c0-1.1-.9-2-2-2zM9 17H7v-7h2v7zm4 0h-2V7h2v10zm4 0h-2v-4h2v4z\"/>\n",
              "    </g>\n",
              "</svg>\n",
              "  </button>\n",
              "\n",
              "<style>\n",
              "  .colab-df-quickchart {\n",
              "      --bg-color: #E8F0FE;\n",
              "      --fill-color: #1967D2;\n",
              "      --hover-bg-color: #E2EBFA;\n",
              "      --hover-fill-color: #174EA6;\n",
              "      --disabled-fill-color: #AAA;\n",
              "      --disabled-bg-color: #DDD;\n",
              "  }\n",
              "\n",
              "  [theme=dark] .colab-df-quickchart {\n",
              "      --bg-color: #3B4455;\n",
              "      --fill-color: #D2E3FC;\n",
              "      --hover-bg-color: #434B5C;\n",
              "      --hover-fill-color: #FFFFFF;\n",
              "      --disabled-bg-color: #3B4455;\n",
              "      --disabled-fill-color: #666;\n",
              "  }\n",
              "\n",
              "  .colab-df-quickchart {\n",
              "    background-color: var(--bg-color);\n",
              "    border: none;\n",
              "    border-radius: 50%;\n",
              "    cursor: pointer;\n",
              "    display: none;\n",
              "    fill: var(--fill-color);\n",
              "    height: 32px;\n",
              "    padding: 0;\n",
              "    width: 32px;\n",
              "  }\n",
              "\n",
              "  .colab-df-quickchart:hover {\n",
              "    background-color: var(--hover-bg-color);\n",
              "    box-shadow: 0 1px 2px rgba(60, 64, 67, 0.3), 0 1px 3px 1px rgba(60, 64, 67, 0.15);\n",
              "    fill: var(--button-hover-fill-color);\n",
              "  }\n",
              "\n",
              "  .colab-df-quickchart-complete:disabled,\n",
              "  .colab-df-quickchart-complete:disabled:hover {\n",
              "    background-color: var(--disabled-bg-color);\n",
              "    fill: var(--disabled-fill-color);\n",
              "    box-shadow: none;\n",
              "  }\n",
              "\n",
              "  .colab-df-spinner {\n",
              "    border: 2px solid var(--fill-color);\n",
              "    border-color: transparent;\n",
              "    border-bottom-color: var(--fill-color);\n",
              "    animation:\n",
              "      spin 1s steps(1) infinite;\n",
              "  }\n",
              "\n",
              "  @keyframes spin {\n",
              "    0% {\n",
              "      border-color: transparent;\n",
              "      border-bottom-color: var(--fill-color);\n",
              "      border-left-color: var(--fill-color);\n",
              "    }\n",
              "    20% {\n",
              "      border-color: transparent;\n",
              "      border-left-color: var(--fill-color);\n",
              "      border-top-color: var(--fill-color);\n",
              "    }\n",
              "    30% {\n",
              "      border-color: transparent;\n",
              "      border-left-color: var(--fill-color);\n",
              "      border-top-color: var(--fill-color);\n",
              "      border-right-color: var(--fill-color);\n",
              "    }\n",
              "    40% {\n",
              "      border-color: transparent;\n",
              "      border-right-color: var(--fill-color);\n",
              "      border-top-color: var(--fill-color);\n",
              "    }\n",
              "    60% {\n",
              "      border-color: transparent;\n",
              "      border-right-color: var(--fill-color);\n",
              "    }\n",
              "    80% {\n",
              "      border-color: transparent;\n",
              "      border-right-color: var(--fill-color);\n",
              "      border-bottom-color: var(--fill-color);\n",
              "    }\n",
              "    90% {\n",
              "      border-color: transparent;\n",
              "      border-bottom-color: var(--fill-color);\n",
              "    }\n",
              "  }\n",
              "</style>\n",
              "\n",
              "  <script>\n",
              "    async function quickchart(key) {\n",
              "      const quickchartButtonEl =\n",
              "        document.querySelector('#' + key + ' button');\n",
              "      quickchartButtonEl.disabled = true;  // To prevent multiple clicks.\n",
              "      quickchartButtonEl.classList.add('colab-df-spinner');\n",
              "      try {\n",
              "        const charts = await google.colab.kernel.invokeFunction(\n",
              "            'suggestCharts', [key], {});\n",
              "      } catch (error) {\n",
              "        console.error('Error during call to suggestCharts:', error);\n",
              "      }\n",
              "      quickchartButtonEl.classList.remove('colab-df-spinner');\n",
              "      quickchartButtonEl.classList.add('colab-df-quickchart-complete');\n",
              "    }\n",
              "    (() => {\n",
              "      let quickchartButtonEl =\n",
              "        document.querySelector('#df-2d0cd80e-be00-4334-9187-c5c25d8b112d button');\n",
              "      quickchartButtonEl.style.display =\n",
              "        google.colab.kernel.accessAllowed ? 'block' : 'none';\n",
              "    })();\n",
              "  </script>\n",
              "</div>\n",
              "\n",
              "    </div>\n",
              "  </div>\n"
            ],
            "application/vnd.google.colaboratory.intrinsic+json": {
              "type": "dataframe",
              "summary": "{\n  \"name\": \"trading_volume_df\",\n  \"rows\": 5,\n  \"fields\": [\n    {\n      \"column\": \"ETF\",\n      \"properties\": {\n        \"dtype\": \"string\",\n        \"num_unique_values\": 5,\n        \"samples\": [\n          \"QQQ\",\n          \"VOO\",\n          \"IVV\"\n        ],\n        \"semantic_type\": \"\",\n        \"description\": \"\"\n      }\n    },\n    {\n      \"column\": \"Average Trading Volume (in Millions)\",\n      \"properties\": {\n        \"dtype\": \"number\",\n        \"std\": 59.553348772340236,\n        \"min\": 1.32,\n        \"max\": 140.17,\n        \"num_unique_values\": 5,\n        \"samples\": [\n          40.75,\n          1.32,\n          4.2\n        ],\n        \"semantic_type\": \"\",\n        \"description\": \"\"\n      }\n    }\n  ]\n}"
            }
          },
          "metadata": {},
          "execution_count": 15
        }
      ]
    },
    {
      "cell_type": "markdown",
      "source": [
        "#### Evaluation\n",
        "- SPY has the highest trading volume, reflecting how SPY is one of the most actively traded ETFs in the world. Its high trading volume gives it high liquidity allowing investors to buy and sell without causing significant daily price movement of the ETF.\n",
        "- In our case, it is also crucial for machine learning model as it ensures that the data used for training and validation reflects real market conditions without significant price impact from trades."
      ],
      "metadata": {
        "id": "7fO5p6zinvRm"
      }
    },
    {
      "cell_type": "markdown",
      "source": [
        "#### Hypothesis 2: Performance Comparison Among ETFs using Annualised Returns\n",
        "###### SPY, IVV, and VOO will have very close annualized returns as they track the S&P 500 index compared to VTI and QQQ."
      ],
      "metadata": {
        "id": "CKpn0WyHj-kd"
      }
    },
    {
      "cell_type": "code",
      "source": [
        "annualized_return_percentage = []\n",
        "for file in etf_file:\n",
        "    etf = pd.read_csv(\"/content/drive/MyDrive/cs3244_data/ETFs/\" + file)\n",
        "    #calculate beginning and ending etf prices\n",
        "    beginning_value = etf['Close'].iloc[0]\n",
        "    ending_value = etf['Close'].iloc[-1]\n",
        "    #calculate the number of years\n",
        "    etf['Date'] = pd.to_datetime(etf['Date'])\n",
        "    etf = etf[etf['Date'] >= start_date]\n",
        "    etf = etf.sort_values('Date')\n",
        "    n = (etf['Date'].iloc[-1] - etf['Date'].iloc[0]).days / 365\n",
        "    #calculate annualized return\n",
        "    annualized_return = (ending_value / beginning_value) ** (1 / n) - 1\n",
        "    #convert to percentage and round to 2 decimal places\n",
        "    annualized_return_percentage.append(round(annualized_return * 100, 2))\n",
        "\n",
        "\n",
        "# Get names of ETFs from filenames and capitalize\n",
        "etf_name = [file.split(\".\")[0].upper() for file in etf_file]\n",
        "\n",
        "# Create a DataFrame with ETF names and annualized returns\n",
        "annualized_return_df = pd.DataFrame(list(zip(etf_name, annualized_return_percentage)), columns=['ETF', 'Annualized Return (%)'])\n",
        "annualized_return_df.sort_values(by='Annualized Return (%)', ascending=False).reset_index(drop=True)"
      ],
      "metadata": {
        "colab": {
          "base_uri": "https://localhost:8080/",
          "height": 206
        },
        "id": "FyI4Qdf3TCF4",
        "outputId": "b9f07a09-0ada-42fa-a3c7-a38d83ad8a11"
      },
      "execution_count": 16,
      "outputs": [
        {
          "output_type": "execute_result",
          "data": {
            "text/plain": [
              "   ETF  Annualized Return (%)\n",
              "0  QQQ                  18.47\n",
              "1  VOO                  14.48\n",
              "2  VTI                  13.91\n",
              "3  IVV                  13.36\n",
              "4  SPY                  13.26"
            ],
            "text/html": [
              "\n",
              "  <div id=\"df-39012d94-686e-482c-83ce-ba658011c076\" class=\"colab-df-container\">\n",
              "    <div>\n",
              "<style scoped>\n",
              "    .dataframe tbody tr th:only-of-type {\n",
              "        vertical-align: middle;\n",
              "    }\n",
              "\n",
              "    .dataframe tbody tr th {\n",
              "        vertical-align: top;\n",
              "    }\n",
              "\n",
              "    .dataframe thead th {\n",
              "        text-align: right;\n",
              "    }\n",
              "</style>\n",
              "<table border=\"1\" class=\"dataframe\">\n",
              "  <thead>\n",
              "    <tr style=\"text-align: right;\">\n",
              "      <th></th>\n",
              "      <th>ETF</th>\n",
              "      <th>Annualized Return (%)</th>\n",
              "    </tr>\n",
              "  </thead>\n",
              "  <tbody>\n",
              "    <tr>\n",
              "      <th>0</th>\n",
              "      <td>QQQ</td>\n",
              "      <td>18.47</td>\n",
              "    </tr>\n",
              "    <tr>\n",
              "      <th>1</th>\n",
              "      <td>VOO</td>\n",
              "      <td>14.48</td>\n",
              "    </tr>\n",
              "    <tr>\n",
              "      <th>2</th>\n",
              "      <td>VTI</td>\n",
              "      <td>13.91</td>\n",
              "    </tr>\n",
              "    <tr>\n",
              "      <th>3</th>\n",
              "      <td>IVV</td>\n",
              "      <td>13.36</td>\n",
              "    </tr>\n",
              "    <tr>\n",
              "      <th>4</th>\n",
              "      <td>SPY</td>\n",
              "      <td>13.26</td>\n",
              "    </tr>\n",
              "  </tbody>\n",
              "</table>\n",
              "</div>\n",
              "    <div class=\"colab-df-buttons\">\n",
              "\n",
              "  <div class=\"colab-df-container\">\n",
              "    <button class=\"colab-df-convert\" onclick=\"convertToInteractive('df-39012d94-686e-482c-83ce-ba658011c076')\"\n",
              "            title=\"Convert this dataframe to an interactive table.\"\n",
              "            style=\"display:none;\">\n",
              "\n",
              "  <svg xmlns=\"http://www.w3.org/2000/svg\" height=\"24px\" viewBox=\"0 -960 960 960\">\n",
              "    <path d=\"M120-120v-720h720v720H120Zm60-500h600v-160H180v160Zm220 220h160v-160H400v160Zm0 220h160v-160H400v160ZM180-400h160v-160H180v160Zm440 0h160v-160H620v160ZM180-180h160v-160H180v160Zm440 0h160v-160H620v160Z\"/>\n",
              "  </svg>\n",
              "    </button>\n",
              "\n",
              "  <style>\n",
              "    .colab-df-container {\n",
              "      display:flex;\n",
              "      gap: 12px;\n",
              "    }\n",
              "\n",
              "    .colab-df-convert {\n",
              "      background-color: #E8F0FE;\n",
              "      border: none;\n",
              "      border-radius: 50%;\n",
              "      cursor: pointer;\n",
              "      display: none;\n",
              "      fill: #1967D2;\n",
              "      height: 32px;\n",
              "      padding: 0 0 0 0;\n",
              "      width: 32px;\n",
              "    }\n",
              "\n",
              "    .colab-df-convert:hover {\n",
              "      background-color: #E2EBFA;\n",
              "      box-shadow: 0px 1px 2px rgba(60, 64, 67, 0.3), 0px 1px 3px 1px rgba(60, 64, 67, 0.15);\n",
              "      fill: #174EA6;\n",
              "    }\n",
              "\n",
              "    .colab-df-buttons div {\n",
              "      margin-bottom: 4px;\n",
              "    }\n",
              "\n",
              "    [theme=dark] .colab-df-convert {\n",
              "      background-color: #3B4455;\n",
              "      fill: #D2E3FC;\n",
              "    }\n",
              "\n",
              "    [theme=dark] .colab-df-convert:hover {\n",
              "      background-color: #434B5C;\n",
              "      box-shadow: 0px 1px 3px 1px rgba(0, 0, 0, 0.15);\n",
              "      filter: drop-shadow(0px 1px 2px rgba(0, 0, 0, 0.3));\n",
              "      fill: #FFFFFF;\n",
              "    }\n",
              "  </style>\n",
              "\n",
              "    <script>\n",
              "      const buttonEl =\n",
              "        document.querySelector('#df-39012d94-686e-482c-83ce-ba658011c076 button.colab-df-convert');\n",
              "      buttonEl.style.display =\n",
              "        google.colab.kernel.accessAllowed ? 'block' : 'none';\n",
              "\n",
              "      async function convertToInteractive(key) {\n",
              "        const element = document.querySelector('#df-39012d94-686e-482c-83ce-ba658011c076');\n",
              "        const dataTable =\n",
              "          await google.colab.kernel.invokeFunction('convertToInteractive',\n",
              "                                                    [key], {});\n",
              "        if (!dataTable) return;\n",
              "\n",
              "        const docLinkHtml = 'Like what you see? Visit the ' +\n",
              "          '<a target=\"_blank\" href=https://colab.research.google.com/notebooks/data_table.ipynb>data table notebook</a>'\n",
              "          + ' to learn more about interactive tables.';\n",
              "        element.innerHTML = '';\n",
              "        dataTable['output_type'] = 'display_data';\n",
              "        await google.colab.output.renderOutput(dataTable, element);\n",
              "        const docLink = document.createElement('div');\n",
              "        docLink.innerHTML = docLinkHtml;\n",
              "        element.appendChild(docLink);\n",
              "      }\n",
              "    </script>\n",
              "  </div>\n",
              "\n",
              "\n",
              "<div id=\"df-b83568f9-9782-4b8d-afd6-cfcd93a88774\">\n",
              "  <button class=\"colab-df-quickchart\" onclick=\"quickchart('df-b83568f9-9782-4b8d-afd6-cfcd93a88774')\"\n",
              "            title=\"Suggest charts\"\n",
              "            style=\"display:none;\">\n",
              "\n",
              "<svg xmlns=\"http://www.w3.org/2000/svg\" height=\"24px\"viewBox=\"0 0 24 24\"\n",
              "     width=\"24px\">\n",
              "    <g>\n",
              "        <path d=\"M19 3H5c-1.1 0-2 .9-2 2v14c0 1.1.9 2 2 2h14c1.1 0 2-.9 2-2V5c0-1.1-.9-2-2-2zM9 17H7v-7h2v7zm4 0h-2V7h2v10zm4 0h-2v-4h2v4z\"/>\n",
              "    </g>\n",
              "</svg>\n",
              "  </button>\n",
              "\n",
              "<style>\n",
              "  .colab-df-quickchart {\n",
              "      --bg-color: #E8F0FE;\n",
              "      --fill-color: #1967D2;\n",
              "      --hover-bg-color: #E2EBFA;\n",
              "      --hover-fill-color: #174EA6;\n",
              "      --disabled-fill-color: #AAA;\n",
              "      --disabled-bg-color: #DDD;\n",
              "  }\n",
              "\n",
              "  [theme=dark] .colab-df-quickchart {\n",
              "      --bg-color: #3B4455;\n",
              "      --fill-color: #D2E3FC;\n",
              "      --hover-bg-color: #434B5C;\n",
              "      --hover-fill-color: #FFFFFF;\n",
              "      --disabled-bg-color: #3B4455;\n",
              "      --disabled-fill-color: #666;\n",
              "  }\n",
              "\n",
              "  .colab-df-quickchart {\n",
              "    background-color: var(--bg-color);\n",
              "    border: none;\n",
              "    border-radius: 50%;\n",
              "    cursor: pointer;\n",
              "    display: none;\n",
              "    fill: var(--fill-color);\n",
              "    height: 32px;\n",
              "    padding: 0;\n",
              "    width: 32px;\n",
              "  }\n",
              "\n",
              "  .colab-df-quickchart:hover {\n",
              "    background-color: var(--hover-bg-color);\n",
              "    box-shadow: 0 1px 2px rgba(60, 64, 67, 0.3), 0 1px 3px 1px rgba(60, 64, 67, 0.15);\n",
              "    fill: var(--button-hover-fill-color);\n",
              "  }\n",
              "\n",
              "  .colab-df-quickchart-complete:disabled,\n",
              "  .colab-df-quickchart-complete:disabled:hover {\n",
              "    background-color: var(--disabled-bg-color);\n",
              "    fill: var(--disabled-fill-color);\n",
              "    box-shadow: none;\n",
              "  }\n",
              "\n",
              "  .colab-df-spinner {\n",
              "    border: 2px solid var(--fill-color);\n",
              "    border-color: transparent;\n",
              "    border-bottom-color: var(--fill-color);\n",
              "    animation:\n",
              "      spin 1s steps(1) infinite;\n",
              "  }\n",
              "\n",
              "  @keyframes spin {\n",
              "    0% {\n",
              "      border-color: transparent;\n",
              "      border-bottom-color: var(--fill-color);\n",
              "      border-left-color: var(--fill-color);\n",
              "    }\n",
              "    20% {\n",
              "      border-color: transparent;\n",
              "      border-left-color: var(--fill-color);\n",
              "      border-top-color: var(--fill-color);\n",
              "    }\n",
              "    30% {\n",
              "      border-color: transparent;\n",
              "      border-left-color: var(--fill-color);\n",
              "      border-top-color: var(--fill-color);\n",
              "      border-right-color: var(--fill-color);\n",
              "    }\n",
              "    40% {\n",
              "      border-color: transparent;\n",
              "      border-right-color: var(--fill-color);\n",
              "      border-top-color: var(--fill-color);\n",
              "    }\n",
              "    60% {\n",
              "      border-color: transparent;\n",
              "      border-right-color: var(--fill-color);\n",
              "    }\n",
              "    80% {\n",
              "      border-color: transparent;\n",
              "      border-right-color: var(--fill-color);\n",
              "      border-bottom-color: var(--fill-color);\n",
              "    }\n",
              "    90% {\n",
              "      border-color: transparent;\n",
              "      border-bottom-color: var(--fill-color);\n",
              "    }\n",
              "  }\n",
              "</style>\n",
              "\n",
              "  <script>\n",
              "    async function quickchart(key) {\n",
              "      const quickchartButtonEl =\n",
              "        document.querySelector('#' + key + ' button');\n",
              "      quickchartButtonEl.disabled = true;  // To prevent multiple clicks.\n",
              "      quickchartButtonEl.classList.add('colab-df-spinner');\n",
              "      try {\n",
              "        const charts = await google.colab.kernel.invokeFunction(\n",
              "            'suggestCharts', [key], {});\n",
              "      } catch (error) {\n",
              "        console.error('Error during call to suggestCharts:', error);\n",
              "      }\n",
              "      quickchartButtonEl.classList.remove('colab-df-spinner');\n",
              "      quickchartButtonEl.classList.add('colab-df-quickchart-complete');\n",
              "    }\n",
              "    (() => {\n",
              "      let quickchartButtonEl =\n",
              "        document.querySelector('#df-b83568f9-9782-4b8d-afd6-cfcd93a88774 button');\n",
              "      quickchartButtonEl.style.display =\n",
              "        google.colab.kernel.accessAllowed ? 'block' : 'none';\n",
              "    })();\n",
              "  </script>\n",
              "</div>\n",
              "\n",
              "    </div>\n",
              "  </div>\n"
            ],
            "application/vnd.google.colaboratory.intrinsic+json": {
              "type": "dataframe",
              "summary": "{\n  \"name\": \"annualized_return_df\",\n  \"rows\": 5,\n  \"fields\": [\n    {\n      \"column\": \"ETF\",\n      \"properties\": {\n        \"dtype\": \"string\",\n        \"num_unique_values\": 5,\n        \"samples\": [\n          \"VOO\",\n          \"SPY\",\n          \"VTI\"\n        ],\n        \"semantic_type\": \"\",\n        \"description\": \"\"\n      }\n    },\n    {\n      \"column\": \"Annualized Return (%)\",\n      \"properties\": {\n        \"dtype\": \"number\",\n        \"std\": 2.165324456057336,\n        \"min\": 13.26,\n        \"max\": 18.47,\n        \"num_unique_values\": 5,\n        \"samples\": [\n          14.48,\n          13.26,\n          13.91\n        ],\n        \"semantic_type\": \"\",\n        \"description\": \"\"\n      }\n    }\n  ]\n}"
            }
          },
          "metadata": {},
          "execution_count": 16
        }
      ]
    },
    {
      "cell_type": "markdown",
      "source": [
        "#### Evaluation\n",
        "- QQQ, which tracks the Nasdaq-100 index, has the highest annualized return at 18.47%, indicating strong performance likely driven by its tech-heavy composition. This sector-specific focus can lead to higher returns especially in bullish technology and growth markets.\n",
        "- SPY (13.26%), IVV (13.36%) and VOO (14.48%) show similar annualized returns, reflecting their shared focus on large-cap US equities as they all track the S&P 500 index, which includes the largest US companies across various sectors."
      ],
      "metadata": {
        "id": "iYxYTlyqB6Eq"
      }
    },
    {
      "cell_type": "markdown",
      "source": [
        "#### Hypothesis 3: Volatility Comparison Among ETFs"
      ],
      "metadata": {
        "id": "I67UWMzlCLs5"
      }
    },
    {
      "cell_type": "code",
      "source": [
        "volatility = []\n",
        "for file in etf_file:\n",
        "    etf = pd.read_csv(\"/content/drive/MyDrive/cs3244_data/ETFs/\"+file)\n",
        "    missing_val = etf.isnull().sum()\n",
        "    if missing_val.sum() > 0:\n",
        "        print(f\"Missing values in {file}\")\n",
        "    etf['Date'] = pd.to_datetime(etf['Date'])\n",
        "    etf = etf[etf['Date'] >= start_date]\n",
        "    etf[\"Daily Return\"]=etf[\"Close\"].pct_change()*100\n",
        "    # average of 21 trading days monthly\n",
        "    etf['Monthly Volatility'] = etf['Daily Return'].rolling(window=21).std()\n",
        "    etf = etf.dropna()\n",
        "    # 252 trading days in a year\n",
        "    etf['Annualised Volatility'] = etf['Monthly Volatility'] * np.sqrt(252)\n",
        "    volatility.append(round(etf['Annualised Volatility'].mean(),2))\n",
        "\n",
        "# print the average volatility for each ETF\n",
        "volatility_df = pd.DataFrame(list(zip(etf_name, volatility)), columns=['ETF', 'Average Volatility'])\n",
        "volatility_df.sort_values(by='Average Volatility', ascending=False).reset_index(drop=True)"
      ],
      "metadata": {
        "colab": {
          "base_uri": "https://localhost:8080/",
          "height": 206
        },
        "id": "8Kh5WrPHCXf3",
        "outputId": "3ca2b066-1803-401e-feda-687457e8926c"
      },
      "execution_count": 17,
      "outputs": [
        {
          "output_type": "execute_result",
          "data": {
            "text/plain": [
              "   ETF  Average Volatility\n",
              "0  QQQ               14.89\n",
              "1  VTI               13.01\n",
              "2  VOO               12.72\n",
              "3  SPY               12.68\n",
              "4  IVV               12.67"
            ],
            "text/html": [
              "\n",
              "  <div id=\"df-8e3746e1-c4f6-424e-a838-ea65f1b6ff02\" class=\"colab-df-container\">\n",
              "    <div>\n",
              "<style scoped>\n",
              "    .dataframe tbody tr th:only-of-type {\n",
              "        vertical-align: middle;\n",
              "    }\n",
              "\n",
              "    .dataframe tbody tr th {\n",
              "        vertical-align: top;\n",
              "    }\n",
              "\n",
              "    .dataframe thead th {\n",
              "        text-align: right;\n",
              "    }\n",
              "</style>\n",
              "<table border=\"1\" class=\"dataframe\">\n",
              "  <thead>\n",
              "    <tr style=\"text-align: right;\">\n",
              "      <th></th>\n",
              "      <th>ETF</th>\n",
              "      <th>Average Volatility</th>\n",
              "    </tr>\n",
              "  </thead>\n",
              "  <tbody>\n",
              "    <tr>\n",
              "      <th>0</th>\n",
              "      <td>QQQ</td>\n",
              "      <td>14.89</td>\n",
              "    </tr>\n",
              "    <tr>\n",
              "      <th>1</th>\n",
              "      <td>VTI</td>\n",
              "      <td>13.01</td>\n",
              "    </tr>\n",
              "    <tr>\n",
              "      <th>2</th>\n",
              "      <td>VOO</td>\n",
              "      <td>12.72</td>\n",
              "    </tr>\n",
              "    <tr>\n",
              "      <th>3</th>\n",
              "      <td>SPY</td>\n",
              "      <td>12.68</td>\n",
              "    </tr>\n",
              "    <tr>\n",
              "      <th>4</th>\n",
              "      <td>IVV</td>\n",
              "      <td>12.67</td>\n",
              "    </tr>\n",
              "  </tbody>\n",
              "</table>\n",
              "</div>\n",
              "    <div class=\"colab-df-buttons\">\n",
              "\n",
              "  <div class=\"colab-df-container\">\n",
              "    <button class=\"colab-df-convert\" onclick=\"convertToInteractive('df-8e3746e1-c4f6-424e-a838-ea65f1b6ff02')\"\n",
              "            title=\"Convert this dataframe to an interactive table.\"\n",
              "            style=\"display:none;\">\n",
              "\n",
              "  <svg xmlns=\"http://www.w3.org/2000/svg\" height=\"24px\" viewBox=\"0 -960 960 960\">\n",
              "    <path d=\"M120-120v-720h720v720H120Zm60-500h600v-160H180v160Zm220 220h160v-160H400v160Zm0 220h160v-160H400v160ZM180-400h160v-160H180v160Zm440 0h160v-160H620v160ZM180-180h160v-160H180v160Zm440 0h160v-160H620v160Z\"/>\n",
              "  </svg>\n",
              "    </button>\n",
              "\n",
              "  <style>\n",
              "    .colab-df-container {\n",
              "      display:flex;\n",
              "      gap: 12px;\n",
              "    }\n",
              "\n",
              "    .colab-df-convert {\n",
              "      background-color: #E8F0FE;\n",
              "      border: none;\n",
              "      border-radius: 50%;\n",
              "      cursor: pointer;\n",
              "      display: none;\n",
              "      fill: #1967D2;\n",
              "      height: 32px;\n",
              "      padding: 0 0 0 0;\n",
              "      width: 32px;\n",
              "    }\n",
              "\n",
              "    .colab-df-convert:hover {\n",
              "      background-color: #E2EBFA;\n",
              "      box-shadow: 0px 1px 2px rgba(60, 64, 67, 0.3), 0px 1px 3px 1px rgba(60, 64, 67, 0.15);\n",
              "      fill: #174EA6;\n",
              "    }\n",
              "\n",
              "    .colab-df-buttons div {\n",
              "      margin-bottom: 4px;\n",
              "    }\n",
              "\n",
              "    [theme=dark] .colab-df-convert {\n",
              "      background-color: #3B4455;\n",
              "      fill: #D2E3FC;\n",
              "    }\n",
              "\n",
              "    [theme=dark] .colab-df-convert:hover {\n",
              "      background-color: #434B5C;\n",
              "      box-shadow: 0px 1px 3px 1px rgba(0, 0, 0, 0.15);\n",
              "      filter: drop-shadow(0px 1px 2px rgba(0, 0, 0, 0.3));\n",
              "      fill: #FFFFFF;\n",
              "    }\n",
              "  </style>\n",
              "\n",
              "    <script>\n",
              "      const buttonEl =\n",
              "        document.querySelector('#df-8e3746e1-c4f6-424e-a838-ea65f1b6ff02 button.colab-df-convert');\n",
              "      buttonEl.style.display =\n",
              "        google.colab.kernel.accessAllowed ? 'block' : 'none';\n",
              "\n",
              "      async function convertToInteractive(key) {\n",
              "        const element = document.querySelector('#df-8e3746e1-c4f6-424e-a838-ea65f1b6ff02');\n",
              "        const dataTable =\n",
              "          await google.colab.kernel.invokeFunction('convertToInteractive',\n",
              "                                                    [key], {});\n",
              "        if (!dataTable) return;\n",
              "\n",
              "        const docLinkHtml = 'Like what you see? Visit the ' +\n",
              "          '<a target=\"_blank\" href=https://colab.research.google.com/notebooks/data_table.ipynb>data table notebook</a>'\n",
              "          + ' to learn more about interactive tables.';\n",
              "        element.innerHTML = '';\n",
              "        dataTable['output_type'] = 'display_data';\n",
              "        await google.colab.output.renderOutput(dataTable, element);\n",
              "        const docLink = document.createElement('div');\n",
              "        docLink.innerHTML = docLinkHtml;\n",
              "        element.appendChild(docLink);\n",
              "      }\n",
              "    </script>\n",
              "  </div>\n",
              "\n",
              "\n",
              "<div id=\"df-87914294-a308-494f-a241-fffcddc85356\">\n",
              "  <button class=\"colab-df-quickchart\" onclick=\"quickchart('df-87914294-a308-494f-a241-fffcddc85356')\"\n",
              "            title=\"Suggest charts\"\n",
              "            style=\"display:none;\">\n",
              "\n",
              "<svg xmlns=\"http://www.w3.org/2000/svg\" height=\"24px\"viewBox=\"0 0 24 24\"\n",
              "     width=\"24px\">\n",
              "    <g>\n",
              "        <path d=\"M19 3H5c-1.1 0-2 .9-2 2v14c0 1.1.9 2 2 2h14c1.1 0 2-.9 2-2V5c0-1.1-.9-2-2-2zM9 17H7v-7h2v7zm4 0h-2V7h2v10zm4 0h-2v-4h2v4z\"/>\n",
              "    </g>\n",
              "</svg>\n",
              "  </button>\n",
              "\n",
              "<style>\n",
              "  .colab-df-quickchart {\n",
              "      --bg-color: #E8F0FE;\n",
              "      --fill-color: #1967D2;\n",
              "      --hover-bg-color: #E2EBFA;\n",
              "      --hover-fill-color: #174EA6;\n",
              "      --disabled-fill-color: #AAA;\n",
              "      --disabled-bg-color: #DDD;\n",
              "  }\n",
              "\n",
              "  [theme=dark] .colab-df-quickchart {\n",
              "      --bg-color: #3B4455;\n",
              "      --fill-color: #D2E3FC;\n",
              "      --hover-bg-color: #434B5C;\n",
              "      --hover-fill-color: #FFFFFF;\n",
              "      --disabled-bg-color: #3B4455;\n",
              "      --disabled-fill-color: #666;\n",
              "  }\n",
              "\n",
              "  .colab-df-quickchart {\n",
              "    background-color: var(--bg-color);\n",
              "    border: none;\n",
              "    border-radius: 50%;\n",
              "    cursor: pointer;\n",
              "    display: none;\n",
              "    fill: var(--fill-color);\n",
              "    height: 32px;\n",
              "    padding: 0;\n",
              "    width: 32px;\n",
              "  }\n",
              "\n",
              "  .colab-df-quickchart:hover {\n",
              "    background-color: var(--hover-bg-color);\n",
              "    box-shadow: 0 1px 2px rgba(60, 64, 67, 0.3), 0 1px 3px 1px rgba(60, 64, 67, 0.15);\n",
              "    fill: var(--button-hover-fill-color);\n",
              "  }\n",
              "\n",
              "  .colab-df-quickchart-complete:disabled,\n",
              "  .colab-df-quickchart-complete:disabled:hover {\n",
              "    background-color: var(--disabled-bg-color);\n",
              "    fill: var(--disabled-fill-color);\n",
              "    box-shadow: none;\n",
              "  }\n",
              "\n",
              "  .colab-df-spinner {\n",
              "    border: 2px solid var(--fill-color);\n",
              "    border-color: transparent;\n",
              "    border-bottom-color: var(--fill-color);\n",
              "    animation:\n",
              "      spin 1s steps(1) infinite;\n",
              "  }\n",
              "\n",
              "  @keyframes spin {\n",
              "    0% {\n",
              "      border-color: transparent;\n",
              "      border-bottom-color: var(--fill-color);\n",
              "      border-left-color: var(--fill-color);\n",
              "    }\n",
              "    20% {\n",
              "      border-color: transparent;\n",
              "      border-left-color: var(--fill-color);\n",
              "      border-top-color: var(--fill-color);\n",
              "    }\n",
              "    30% {\n",
              "      border-color: transparent;\n",
              "      border-left-color: var(--fill-color);\n",
              "      border-top-color: var(--fill-color);\n",
              "      border-right-color: var(--fill-color);\n",
              "    }\n",
              "    40% {\n",
              "      border-color: transparent;\n",
              "      border-right-color: var(--fill-color);\n",
              "      border-top-color: var(--fill-color);\n",
              "    }\n",
              "    60% {\n",
              "      border-color: transparent;\n",
              "      border-right-color: var(--fill-color);\n",
              "    }\n",
              "    80% {\n",
              "      border-color: transparent;\n",
              "      border-right-color: var(--fill-color);\n",
              "      border-bottom-color: var(--fill-color);\n",
              "    }\n",
              "    90% {\n",
              "      border-color: transparent;\n",
              "      border-bottom-color: var(--fill-color);\n",
              "    }\n",
              "  }\n",
              "</style>\n",
              "\n",
              "  <script>\n",
              "    async function quickchart(key) {\n",
              "      const quickchartButtonEl =\n",
              "        document.querySelector('#' + key + ' button');\n",
              "      quickchartButtonEl.disabled = true;  // To prevent multiple clicks.\n",
              "      quickchartButtonEl.classList.add('colab-df-spinner');\n",
              "      try {\n",
              "        const charts = await google.colab.kernel.invokeFunction(\n",
              "            'suggestCharts', [key], {});\n",
              "      } catch (error) {\n",
              "        console.error('Error during call to suggestCharts:', error);\n",
              "      }\n",
              "      quickchartButtonEl.classList.remove('colab-df-spinner');\n",
              "      quickchartButtonEl.classList.add('colab-df-quickchart-complete');\n",
              "    }\n",
              "    (() => {\n",
              "      let quickchartButtonEl =\n",
              "        document.querySelector('#df-87914294-a308-494f-a241-fffcddc85356 button');\n",
              "      quickchartButtonEl.style.display =\n",
              "        google.colab.kernel.accessAllowed ? 'block' : 'none';\n",
              "    })();\n",
              "  </script>\n",
              "</div>\n",
              "\n",
              "    </div>\n",
              "  </div>\n"
            ],
            "application/vnd.google.colaboratory.intrinsic+json": {
              "type": "dataframe",
              "summary": "{\n  \"name\": \"volatility_df\",\n  \"rows\": 5,\n  \"fields\": [\n    {\n      \"column\": \"ETF\",\n      \"properties\": {\n        \"dtype\": \"string\",\n        \"num_unique_values\": 5,\n        \"samples\": [\n          \"VTI\",\n          \"IVV\",\n          \"VOO\"\n        ],\n        \"semantic_type\": \"\",\n        \"description\": \"\"\n      }\n    },\n    {\n      \"column\": \"Average Volatility\",\n      \"properties\": {\n        \"dtype\": \"number\",\n        \"std\": 0.9583475361266394,\n        \"min\": 12.67,\n        \"max\": 14.89,\n        \"num_unique_values\": 5,\n        \"samples\": [\n          13.01,\n          12.67,\n          12.72\n        ],\n        \"semantic_type\": \"\",\n        \"description\": \"\"\n      }\n    }\n  ]\n}"
            }
          },
          "metadata": {},
          "execution_count": 17
        }
      ]
    },
    {
      "cell_type": "markdown",
      "source": [
        "#### Evaluation\n",
        "- With the highest average volatility at 14.89%, QQQ reflects the risk associated with its tech-heavy composition. This elevated volatility in stock prices is typical for tech-focused investments which can experience significant price fluctuations due to market sentiment and sector-specific developments, especially during market downturns.\n",
        "- Similar to the annualized returns, the average volatility of VOO, SPY, and IVV is comparable.\n",
        "- Popular ETFs such as SPY, evident from its highest trading volumes, tend to have a more stable asset base i.e. lower volatility which reduces the risk of large liquidations that can be disruptive to an ETF's performance. This stability is advantageous for our machine learning model as it reduces noise in the data, allowing algorithms to learn more effectively."
      ],
      "metadata": {
        "id": "SrDZr_AyFBFS"
      }
    },
    {
      "cell_type": "code",
      "source": [
        "#merge annualised returns with volatility\n",
        "returns_avgvolatility = pd.merge(annualized_return_df, volatility_df, on='ETF')\n",
        "print(returns_avgvolatility.sort_values(by='Annualized Return (%)', ascending=False).reset_index(drop=True))\n",
        "\n",
        "#compute correlation between return and average volatility\n",
        "correlation = returns_avgvolatility['Annualized Return (%)'].corr(returns_avgvolatility['Average Volatility'])\n",
        "print(f\"Correlation between Annualized Return and Average Volatility: {correlation}\")"
      ],
      "metadata": {
        "colab": {
          "base_uri": "https://localhost:8080/"
        },
        "id": "9W_xAvzpKZ5e",
        "outputId": "de329a87-a6bb-48c3-8625-b9efd4fcb6e1"
      },
      "execution_count": 18,
      "outputs": [
        {
          "output_type": "stream",
          "name": "stdout",
          "text": [
            "   ETF  Annualized Return (%)  Average Volatility\n",
            "0  QQQ                  18.47               14.89\n",
            "1  VOO                  14.48               12.72\n",
            "2  VTI                  13.91               13.01\n",
            "3  IVV                  13.36               12.67\n",
            "4  SPY                  13.26               12.68\n",
            "Correlation between Annualized Return and Average Volatility: 0.9741398030220445\n"
          ]
        }
      ]
    },
    {
      "cell_type": "markdown",
      "source": [
        "#### Correlation between Annualised Returns and Average Volatility\n",
        "\n",
        "The correlation between annualized returns and average volatility for the ETFs analyzed is 0.97, indicating a strong positive relationship. This suggests that the average volatility of an ETF increases with its annualized returns. For example, QQQ, which has the highest annualized return of 18.47% also exhibits the highest volatility at 14.89%. In contrast, SPY, IVV, and VOO, which have lower annualized returns, also show lower volatility. This trend highlights the risk-return trade-off where higher potential returns often come with greater price fluctuations, making QQQ a less stable investment compared to the more stable options like SPY and VOO."
      ],
      "metadata": {
        "id": "0-AZ1RgzFi1V"
      }
    },
    {
      "cell_type": "markdown",
      "source": [
        "#### Conclusion\n",
        "In our project, we chose SPY as the primary ETF to train our time series model due to its robust characteristics. With an annualized return of 13.26% and an average volatility of 12.68%, SPY offers a stable performance while still capturing the growth potential of large-cap US equities. Its high liquidity, indicated by an extremely high average trading volume of 140.17 million, ensures that the data used reflects real market dynamics, allowing for accurate predictions without significant price impact. Additionally, SPY's diversified market exposure across various sectors reduces noise in the dataset, making it easier for our model to identify meaningful patterns and trends. Selecting SPY as our training data enables us to not only create more reliable models for forecasting stock market behavior but also compare the accuracy between different models."
      ],
      "metadata": {
        "id": "QPuXI8nKFjTf"
      }
    }
  ]
}