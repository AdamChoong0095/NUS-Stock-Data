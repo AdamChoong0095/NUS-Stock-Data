{
  "nbformat": 4,
  "nbformat_minor": 0,
  "metadata": {
    "colab": {
      "provenance": [],
      "toc_visible": true,
      "include_colab_link": true
    },
    "kernelspec": {
      "name": "python3",
      "display_name": "Python 3"
    },
    "language_info": {
      "name": "python"
    }
  },
  "cells": [
    {
      "cell_type": "markdown",
      "metadata": {
        "id": "view-in-github",
        "colab_type": "text"
      },
      "source": [
        "<a href=\"https://colab.research.google.com/github/danigallegdup/NUS-Stock-Data/blob/main/Stock_price_prediction.ipynb\" target=\"_parent\"><img src=\"https://colab.research.google.com/assets/colab-badge.svg\" alt=\"Open In Colab\"/></a>"
      ]
    },
    {
      "cell_type": "markdown",
      "source": [
        "# Stock Price Prediction using LSTM\n",
        "This project aims to predict stock prices using historical data and Long Short-Term Memory (LSTM) neural networks.\n",
        "\n",
        "## Data Loading and Preprocessing"
      ],
      "metadata": {
        "id": "XcQP_IIp6AW-"
      }
    },
    {
      "cell_type": "code",
      "source": [
        "!pip install optuna\n"
      ],
      "metadata": {
        "id": "-ka1K7JfE2Zg",
        "outputId": "b97472f8-a966-4fa4-f1a0-69773a23fc1d",
        "colab": {
          "base_uri": "https://localhost:8080/"
        }
      },
      "execution_count": 80,
      "outputs": [
        {
          "output_type": "stream",
          "name": "stdout",
          "text": [
            "Collecting optuna\n",
            "  Downloading optuna-4.0.0-py3-none-any.whl.metadata (16 kB)\n",
            "Collecting alembic>=1.5.0 (from optuna)\n",
            "  Downloading alembic-1.13.3-py3-none-any.whl.metadata (7.4 kB)\n",
            "Collecting colorlog (from optuna)\n",
            "  Downloading colorlog-6.8.2-py3-none-any.whl.metadata (10 kB)\n",
            "Requirement already satisfied: numpy in /usr/local/lib/python3.10/dist-packages (from optuna) (1.26.4)\n",
            "Requirement already satisfied: packaging>=20.0 in /usr/local/lib/python3.10/dist-packages (from optuna) (24.1)\n",
            "Requirement already satisfied: sqlalchemy>=1.3.0 in /usr/local/lib/python3.10/dist-packages (from optuna) (2.0.36)\n",
            "Requirement already satisfied: tqdm in /usr/local/lib/python3.10/dist-packages (from optuna) (4.66.5)\n",
            "Requirement already satisfied: PyYAML in /usr/local/lib/python3.10/dist-packages (from optuna) (6.0.2)\n",
            "Collecting Mako (from alembic>=1.5.0->optuna)\n",
            "  Downloading Mako-1.3.6-py3-none-any.whl.metadata (2.9 kB)\n",
            "Requirement already satisfied: typing-extensions>=4 in /usr/local/lib/python3.10/dist-packages (from alembic>=1.5.0->optuna) (4.12.2)\n",
            "Requirement already satisfied: greenlet!=0.4.17 in /usr/local/lib/python3.10/dist-packages (from sqlalchemy>=1.3.0->optuna) (3.1.1)\n",
            "Requirement already satisfied: MarkupSafe>=0.9.2 in /usr/local/lib/python3.10/dist-packages (from Mako->alembic>=1.5.0->optuna) (3.0.2)\n",
            "Downloading optuna-4.0.0-py3-none-any.whl (362 kB)\n",
            "\u001b[2K   \u001b[90m━━━━━━━━━━━━━━━━━━━━━━━━━━━━━━━━━━━━━━━━\u001b[0m \u001b[32m362.8/362.8 kB\u001b[0m \u001b[31m12.5 MB/s\u001b[0m eta \u001b[36m0:00:00\u001b[0m\n",
            "\u001b[?25hDownloading alembic-1.13.3-py3-none-any.whl (233 kB)\n",
            "\u001b[2K   \u001b[90m━━━━━━━━━━━━━━━━━━━━━━━━━━━━━━━━━━━━━━━━\u001b[0m \u001b[32m233.2/233.2 kB\u001b[0m \u001b[31m15.4 MB/s\u001b[0m eta \u001b[36m0:00:00\u001b[0m\n",
            "\u001b[?25hDownloading colorlog-6.8.2-py3-none-any.whl (11 kB)\n",
            "Downloading Mako-1.3.6-py3-none-any.whl (78 kB)\n",
            "\u001b[2K   \u001b[90m━━━━━━━━━━━━━━━━━━━━━━━━━━━━━━━━━━━━━━━━\u001b[0m \u001b[32m78.6/78.6 kB\u001b[0m \u001b[31m5.0 MB/s\u001b[0m eta \u001b[36m0:00:00\u001b[0m\n",
            "\u001b[?25hInstalling collected packages: Mako, colorlog, alembic, optuna\n",
            "Successfully installed Mako-1.3.6 alembic-1.13.3 colorlog-6.8.2 optuna-4.0.0\n"
          ]
        }
      ]
    },
    {
      "cell_type": "code",
      "source": [
        "# Import necessary libraries\n",
        "import pandas as pd\n",
        "import numpy as np\n",
        "from google.colab import drive\n",
        "from sklearn.preprocessing import MinMaxScaler\n",
        "import torch\n",
        "import torch.nn as nn\n",
        "from torch.utils.data import DataLoader, Dataset\n",
        "from torch.utils.data import DataLoader, random_split\n",
        "import matplotlib.pyplot as plt\n",
        "import optuna\n"
      ],
      "metadata": {
        "id": "HHXUC3Mz9Hds"
      },
      "execution_count": 93,
      "outputs": []
    },
    {
      "cell_type": "code",
      "execution_count": 94,
      "metadata": {
        "id": "2YiZfa652vD8",
        "colab": {
          "base_uri": "https://localhost:8080/"
        },
        "outputId": "6ed419a9-c021-40b9-f366-31bc7dfda87f"
      },
      "outputs": [
        {
          "output_type": "stream",
          "name": "stdout",
          "text": [
            "Drive already mounted at /content/drive; to attempt to forcibly remount, call drive.mount(\"/content/drive\", force_remount=True).\n"
          ]
        }
      ],
      "source": [
        "# Mount Google Drive\n",
        "drive.mount('/content/drive')"
      ]
    },
    {
      "cell_type": "code",
      "source": [
        "# Load the dataset (had to make a shortcut from \"Shared with Me\" to MyDrive)\n",
        "sp500=pd.read_csv('/content/drive/MyDrive/cs3244_data/ETFs/spy.us.txt')\n",
        "sp500.drop(columns={'OpenInt','Volume'}, inplace=True)\n",
        "# Create empty lists to store the new data\n",
        "dates = []\n",
        "prices = []\n",
        "price_types = []\n",
        "\n",
        "# Iterate through the DataFrame\n",
        "for index, row in sp500.iterrows():\n",
        "  date = row['Date']\n",
        "  open_price = row['Open']\n",
        "  high_price = row['High']\n",
        "  low_price = row['Low']\n",
        "  close_price = row['Close']\n",
        "\n",
        "  # Append the data to the lists\n",
        "  dates.extend([date] * 4)  # Repeat the date 4 times\n",
        "  prices.extend([open_price, high_price, low_price, close_price])\n",
        "  price_types.extend(['open', 'high', 'low', 'close'])\n",
        "\n",
        "# Create a new DataFrame\n",
        "sp500 = pd.DataFrame({'Date': dates, 'Price': prices, 'Type of Price': price_types})"
      ],
      "metadata": {
        "id": "IT2u0Nza3WpE"
      },
      "execution_count": 95,
      "outputs": []
    },
    {
      "cell_type": "code",
      "source": [
        "# Group the DataFrame by Date and Type of Price\n",
        "grouped = sp500.groupby(['Date', 'Type of Price'])\n",
        "\n",
        "# Calculate the average price for each date and type\n",
        "avg_prices = grouped['Price'].mean().reset_index()\n",
        "\n",
        "# Create a dictionary to store the average high and low prices for each date\n",
        "avg_high_low = {}\n",
        "\n",
        "# Iterate through the average prices\n",
        "for index, row in avg_prices.iterrows():\n",
        "  date = row['Date']\n",
        "  price_type = row['Type of Price']\n",
        "  price = row['Price']\n",
        "\n",
        "  if date not in avg_high_low:\n",
        "    avg_high_low[date] = {}\n",
        "\n",
        "  if price_type == 'high' or price_type == 'low':\n",
        "    avg_high_low[date][price_type] = price\n",
        "\n",
        "# Iterate through the DataFrame and replace high and low prices with the average\n",
        "for index, row in sp500.iterrows():\n",
        "  date = row['Date']\n",
        "  price_type = row['Type of Price']\n",
        "\n",
        "  if price_type == 'high' or price_type == 'low' and date in avg_high_low:\n",
        "    sp500.loc[index, 'Price'] = avg_high_low[date][price_type]\n"
      ],
      "metadata": {
        "id": "ZcUkfHw04ntd"
      },
      "execution_count": 96,
      "outputs": []
    },
    {
      "cell_type": "code",
      "source": [
        "# Create a new DataFrame to store the modified data\n",
        "new_sp500 = pd.DataFrame(columns=['Date', 'Price', 'Type of Price'])\n",
        "\n",
        "# Iterate through the DataFrame\n",
        "i = 0\n",
        "while i < len(sp500):\n",
        "  row = sp500.iloc[i]\n",
        "  if row['Type of Price'] == 'high':\n",
        "    # Check if the next row exists and is 'low'\n",
        "    if i + 1 < len(sp500) and sp500.iloc[i + 1]['Type of Price'] == 'low':\n",
        "      # Calculate the average of the high and low prices\n",
        "      average_price = (row['Price'] + sp500.iloc[i + 1]['Price']) / 2\n",
        "      # Add a new row with the average price and label 'average'\n",
        "      new_sp500 = pd.concat([new_sp500, pd.DataFrame({'Date': [row['Date']], 'Price': [average_price], 'Type of Price': ['average']})], ignore_index=True)\n",
        "      i += 2  # Skip the next row (low)\n",
        "    else:\n",
        "      # If the next row is not 'low', keep the current row as it is\n",
        "      new_sp500 = pd.concat([new_sp500, pd.DataFrame({'Date': [row['Date']], 'Price': [row['Price']], 'Type of Price': [row['Type of Price']]})], ignore_index=True)\n",
        "      i += 1\n",
        "  else:\n",
        "    # If the current row is not 'high', keep it as it is\n",
        "    new_sp500 = pd.concat([new_sp500, pd.DataFrame({'Date': [row['Date']], 'Price': [row['Price']], 'Type of Price': [row['Type of Price']]})], ignore_index=True)\n",
        "    i += 1\n",
        "\n",
        "# Replace the original sp500 DataFrame with the modified one\n",
        "sp500 = new_sp500\n",
        "sp500"
      ],
      "metadata": {
        "id": "jZkS-cDmFqIM",
        "outputId": "9a1e85b5-c18e-4aea-83d0-5567d483de9f",
        "colab": {
          "base_uri": "https://localhost:8080/",
          "height": 478
        }
      },
      "execution_count": 97,
      "outputs": [
        {
          "output_type": "stream",
          "name": "stderr",
          "text": [
            "<ipython-input-97-90077ebfbdb0>:22: FutureWarning: The behavior of DataFrame concatenation with empty or all-NA entries is deprecated. In a future version, this will no longer exclude empty or all-NA columns when determining the result dtypes. To retain the old behavior, exclude the relevant entries before the concat operation.\n",
            "  new_sp500 = pd.concat([new_sp500, pd.DataFrame({'Date': [row['Date']], 'Price': [row['Price']], 'Type of Price': [row['Type of Price']]})], ignore_index=True)\n"
          ]
        },
        {
          "output_type": "execute_result",
          "data": {
            "text/plain": [
              "            Date    Price Type of Price\n",
              "0     2005-02-25  104.770          open\n",
              "1     2005-02-25  105.340       average\n",
              "2     2005-02-25  105.790         close\n",
              "3     2005-02-28  105.550          open\n",
              "4     2005-02-28  105.120       average\n",
              "...          ...      ...           ...\n",
              "9598  2017-11-09  257.375       average\n",
              "9599  2017-11-09  258.170         close\n",
              "9600  2017-11-10  257.730          open\n",
              "9601  2017-11-10  257.790       average\n",
              "9602  2017-11-10  258.090         close\n",
              "\n",
              "[9603 rows x 3 columns]"
            ],
            "text/html": [
              "\n",
              "  <div id=\"df-623672d0-e123-489b-8a8c-51d70b529bcd\" class=\"colab-df-container\">\n",
              "    <div>\n",
              "<style scoped>\n",
              "    .dataframe tbody tr th:only-of-type {\n",
              "        vertical-align: middle;\n",
              "    }\n",
              "\n",
              "    .dataframe tbody tr th {\n",
              "        vertical-align: top;\n",
              "    }\n",
              "\n",
              "    .dataframe thead th {\n",
              "        text-align: right;\n",
              "    }\n",
              "</style>\n",
              "<table border=\"1\" class=\"dataframe\">\n",
              "  <thead>\n",
              "    <tr style=\"text-align: right;\">\n",
              "      <th></th>\n",
              "      <th>Date</th>\n",
              "      <th>Price</th>\n",
              "      <th>Type of Price</th>\n",
              "    </tr>\n",
              "  </thead>\n",
              "  <tbody>\n",
              "    <tr>\n",
              "      <th>0</th>\n",
              "      <td>2005-02-25</td>\n",
              "      <td>104.770</td>\n",
              "      <td>open</td>\n",
              "    </tr>\n",
              "    <tr>\n",
              "      <th>1</th>\n",
              "      <td>2005-02-25</td>\n",
              "      <td>105.340</td>\n",
              "      <td>average</td>\n",
              "    </tr>\n",
              "    <tr>\n",
              "      <th>2</th>\n",
              "      <td>2005-02-25</td>\n",
              "      <td>105.790</td>\n",
              "      <td>close</td>\n",
              "    </tr>\n",
              "    <tr>\n",
              "      <th>3</th>\n",
              "      <td>2005-02-28</td>\n",
              "      <td>105.550</td>\n",
              "      <td>open</td>\n",
              "    </tr>\n",
              "    <tr>\n",
              "      <th>4</th>\n",
              "      <td>2005-02-28</td>\n",
              "      <td>105.120</td>\n",
              "      <td>average</td>\n",
              "    </tr>\n",
              "    <tr>\n",
              "      <th>...</th>\n",
              "      <td>...</td>\n",
              "      <td>...</td>\n",
              "      <td>...</td>\n",
              "    </tr>\n",
              "    <tr>\n",
              "      <th>9598</th>\n",
              "      <td>2017-11-09</td>\n",
              "      <td>257.375</td>\n",
              "      <td>average</td>\n",
              "    </tr>\n",
              "    <tr>\n",
              "      <th>9599</th>\n",
              "      <td>2017-11-09</td>\n",
              "      <td>258.170</td>\n",
              "      <td>close</td>\n",
              "    </tr>\n",
              "    <tr>\n",
              "      <th>9600</th>\n",
              "      <td>2017-11-10</td>\n",
              "      <td>257.730</td>\n",
              "      <td>open</td>\n",
              "    </tr>\n",
              "    <tr>\n",
              "      <th>9601</th>\n",
              "      <td>2017-11-10</td>\n",
              "      <td>257.790</td>\n",
              "      <td>average</td>\n",
              "    </tr>\n",
              "    <tr>\n",
              "      <th>9602</th>\n",
              "      <td>2017-11-10</td>\n",
              "      <td>258.090</td>\n",
              "      <td>close</td>\n",
              "    </tr>\n",
              "  </tbody>\n",
              "</table>\n",
              "<p>9603 rows × 3 columns</p>\n",
              "</div>\n",
              "    <div class=\"colab-df-buttons\">\n",
              "\n",
              "  <div class=\"colab-df-container\">\n",
              "    <button class=\"colab-df-convert\" onclick=\"convertToInteractive('df-623672d0-e123-489b-8a8c-51d70b529bcd')\"\n",
              "            title=\"Convert this dataframe to an interactive table.\"\n",
              "            style=\"display:none;\">\n",
              "\n",
              "  <svg xmlns=\"http://www.w3.org/2000/svg\" height=\"24px\" viewBox=\"0 -960 960 960\">\n",
              "    <path d=\"M120-120v-720h720v720H120Zm60-500h600v-160H180v160Zm220 220h160v-160H400v160Zm0 220h160v-160H400v160ZM180-400h160v-160H180v160Zm440 0h160v-160H620v160ZM180-180h160v-160H180v160Zm440 0h160v-160H620v160Z\"/>\n",
              "  </svg>\n",
              "    </button>\n",
              "\n",
              "  <style>\n",
              "    .colab-df-container {\n",
              "      display:flex;\n",
              "      gap: 12px;\n",
              "    }\n",
              "\n",
              "    .colab-df-convert {\n",
              "      background-color: #E8F0FE;\n",
              "      border: none;\n",
              "      border-radius: 50%;\n",
              "      cursor: pointer;\n",
              "      display: none;\n",
              "      fill: #1967D2;\n",
              "      height: 32px;\n",
              "      padding: 0 0 0 0;\n",
              "      width: 32px;\n",
              "    }\n",
              "\n",
              "    .colab-df-convert:hover {\n",
              "      background-color: #E2EBFA;\n",
              "      box-shadow: 0px 1px 2px rgba(60, 64, 67, 0.3), 0px 1px 3px 1px rgba(60, 64, 67, 0.15);\n",
              "      fill: #174EA6;\n",
              "    }\n",
              "\n",
              "    .colab-df-buttons div {\n",
              "      margin-bottom: 4px;\n",
              "    }\n",
              "\n",
              "    [theme=dark] .colab-df-convert {\n",
              "      background-color: #3B4455;\n",
              "      fill: #D2E3FC;\n",
              "    }\n",
              "\n",
              "    [theme=dark] .colab-df-convert:hover {\n",
              "      background-color: #434B5C;\n",
              "      box-shadow: 0px 1px 3px 1px rgba(0, 0, 0, 0.15);\n",
              "      filter: drop-shadow(0px 1px 2px rgba(0, 0, 0, 0.3));\n",
              "      fill: #FFFFFF;\n",
              "    }\n",
              "  </style>\n",
              "\n",
              "    <script>\n",
              "      const buttonEl =\n",
              "        document.querySelector('#df-623672d0-e123-489b-8a8c-51d70b529bcd button.colab-df-convert');\n",
              "      buttonEl.style.display =\n",
              "        google.colab.kernel.accessAllowed ? 'block' : 'none';\n",
              "\n",
              "      async function convertToInteractive(key) {\n",
              "        const element = document.querySelector('#df-623672d0-e123-489b-8a8c-51d70b529bcd');\n",
              "        const dataTable =\n",
              "          await google.colab.kernel.invokeFunction('convertToInteractive',\n",
              "                                                    [key], {});\n",
              "        if (!dataTable) return;\n",
              "\n",
              "        const docLinkHtml = 'Like what you see? Visit the ' +\n",
              "          '<a target=\"_blank\" href=https://colab.research.google.com/notebooks/data_table.ipynb>data table notebook</a>'\n",
              "          + ' to learn more about interactive tables.';\n",
              "        element.innerHTML = '';\n",
              "        dataTable['output_type'] = 'display_data';\n",
              "        await google.colab.output.renderOutput(dataTable, element);\n",
              "        const docLink = document.createElement('div');\n",
              "        docLink.innerHTML = docLinkHtml;\n",
              "        element.appendChild(docLink);\n",
              "      }\n",
              "    </script>\n",
              "  </div>\n",
              "\n",
              "\n",
              "<div id=\"df-aa641b3d-60c8-4d25-98a7-8d63298060d8\">\n",
              "  <button class=\"colab-df-quickchart\" onclick=\"quickchart('df-aa641b3d-60c8-4d25-98a7-8d63298060d8')\"\n",
              "            title=\"Suggest charts\"\n",
              "            style=\"display:none;\">\n",
              "\n",
              "<svg xmlns=\"http://www.w3.org/2000/svg\" height=\"24px\"viewBox=\"0 0 24 24\"\n",
              "     width=\"24px\">\n",
              "    <g>\n",
              "        <path d=\"M19 3H5c-1.1 0-2 .9-2 2v14c0 1.1.9 2 2 2h14c1.1 0 2-.9 2-2V5c0-1.1-.9-2-2-2zM9 17H7v-7h2v7zm4 0h-2V7h2v10zm4 0h-2v-4h2v4z\"/>\n",
              "    </g>\n",
              "</svg>\n",
              "  </button>\n",
              "\n",
              "<style>\n",
              "  .colab-df-quickchart {\n",
              "      --bg-color: #E8F0FE;\n",
              "      --fill-color: #1967D2;\n",
              "      --hover-bg-color: #E2EBFA;\n",
              "      --hover-fill-color: #174EA6;\n",
              "      --disabled-fill-color: #AAA;\n",
              "      --disabled-bg-color: #DDD;\n",
              "  }\n",
              "\n",
              "  [theme=dark] .colab-df-quickchart {\n",
              "      --bg-color: #3B4455;\n",
              "      --fill-color: #D2E3FC;\n",
              "      --hover-bg-color: #434B5C;\n",
              "      --hover-fill-color: #FFFFFF;\n",
              "      --disabled-bg-color: #3B4455;\n",
              "      --disabled-fill-color: #666;\n",
              "  }\n",
              "\n",
              "  .colab-df-quickchart {\n",
              "    background-color: var(--bg-color);\n",
              "    border: none;\n",
              "    border-radius: 50%;\n",
              "    cursor: pointer;\n",
              "    display: none;\n",
              "    fill: var(--fill-color);\n",
              "    height: 32px;\n",
              "    padding: 0;\n",
              "    width: 32px;\n",
              "  }\n",
              "\n",
              "  .colab-df-quickchart:hover {\n",
              "    background-color: var(--hover-bg-color);\n",
              "    box-shadow: 0 1px 2px rgba(60, 64, 67, 0.3), 0 1px 3px 1px rgba(60, 64, 67, 0.15);\n",
              "    fill: var(--button-hover-fill-color);\n",
              "  }\n",
              "\n",
              "  .colab-df-quickchart-complete:disabled,\n",
              "  .colab-df-quickchart-complete:disabled:hover {\n",
              "    background-color: var(--disabled-bg-color);\n",
              "    fill: var(--disabled-fill-color);\n",
              "    box-shadow: none;\n",
              "  }\n",
              "\n",
              "  .colab-df-spinner {\n",
              "    border: 2px solid var(--fill-color);\n",
              "    border-color: transparent;\n",
              "    border-bottom-color: var(--fill-color);\n",
              "    animation:\n",
              "      spin 1s steps(1) infinite;\n",
              "  }\n",
              "\n",
              "  @keyframes spin {\n",
              "    0% {\n",
              "      border-color: transparent;\n",
              "      border-bottom-color: var(--fill-color);\n",
              "      border-left-color: var(--fill-color);\n",
              "    }\n",
              "    20% {\n",
              "      border-color: transparent;\n",
              "      border-left-color: var(--fill-color);\n",
              "      border-top-color: var(--fill-color);\n",
              "    }\n",
              "    30% {\n",
              "      border-color: transparent;\n",
              "      border-left-color: var(--fill-color);\n",
              "      border-top-color: var(--fill-color);\n",
              "      border-right-color: var(--fill-color);\n",
              "    }\n",
              "    40% {\n",
              "      border-color: transparent;\n",
              "      border-right-color: var(--fill-color);\n",
              "      border-top-color: var(--fill-color);\n",
              "    }\n",
              "    60% {\n",
              "      border-color: transparent;\n",
              "      border-right-color: var(--fill-color);\n",
              "    }\n",
              "    80% {\n",
              "      border-color: transparent;\n",
              "      border-right-color: var(--fill-color);\n",
              "      border-bottom-color: var(--fill-color);\n",
              "    }\n",
              "    90% {\n",
              "      border-color: transparent;\n",
              "      border-bottom-color: var(--fill-color);\n",
              "    }\n",
              "  }\n",
              "</style>\n",
              "\n",
              "  <script>\n",
              "    async function quickchart(key) {\n",
              "      const quickchartButtonEl =\n",
              "        document.querySelector('#' + key + ' button');\n",
              "      quickchartButtonEl.disabled = true;  // To prevent multiple clicks.\n",
              "      quickchartButtonEl.classList.add('colab-df-spinner');\n",
              "      try {\n",
              "        const charts = await google.colab.kernel.invokeFunction(\n",
              "            'suggestCharts', [key], {});\n",
              "      } catch (error) {\n",
              "        console.error('Error during call to suggestCharts:', error);\n",
              "      }\n",
              "      quickchartButtonEl.classList.remove('colab-df-spinner');\n",
              "      quickchartButtonEl.classList.add('colab-df-quickchart-complete');\n",
              "    }\n",
              "    (() => {\n",
              "      let quickchartButtonEl =\n",
              "        document.querySelector('#df-aa641b3d-60c8-4d25-98a7-8d63298060d8 button');\n",
              "      quickchartButtonEl.style.display =\n",
              "        google.colab.kernel.accessAllowed ? 'block' : 'none';\n",
              "    })();\n",
              "  </script>\n",
              "</div>\n",
              "\n",
              "  <div id=\"id_c49d0c04-8842-4784-9f8c-b773702e8398\">\n",
              "    <style>\n",
              "      .colab-df-generate {\n",
              "        background-color: #E8F0FE;\n",
              "        border: none;\n",
              "        border-radius: 50%;\n",
              "        cursor: pointer;\n",
              "        display: none;\n",
              "        fill: #1967D2;\n",
              "        height: 32px;\n",
              "        padding: 0 0 0 0;\n",
              "        width: 32px;\n",
              "      }\n",
              "\n",
              "      .colab-df-generate:hover {\n",
              "        background-color: #E2EBFA;\n",
              "        box-shadow: 0px 1px 2px rgba(60, 64, 67, 0.3), 0px 1px 3px 1px rgba(60, 64, 67, 0.15);\n",
              "        fill: #174EA6;\n",
              "      }\n",
              "\n",
              "      [theme=dark] .colab-df-generate {\n",
              "        background-color: #3B4455;\n",
              "        fill: #D2E3FC;\n",
              "      }\n",
              "\n",
              "      [theme=dark] .colab-df-generate:hover {\n",
              "        background-color: #434B5C;\n",
              "        box-shadow: 0px 1px 3px 1px rgba(0, 0, 0, 0.15);\n",
              "        filter: drop-shadow(0px 1px 2px rgba(0, 0, 0, 0.3));\n",
              "        fill: #FFFFFF;\n",
              "      }\n",
              "    </style>\n",
              "    <button class=\"colab-df-generate\" onclick=\"generateWithVariable('sp500')\"\n",
              "            title=\"Generate code using this dataframe.\"\n",
              "            style=\"display:none;\">\n",
              "\n",
              "  <svg xmlns=\"http://www.w3.org/2000/svg\" height=\"24px\"viewBox=\"0 0 24 24\"\n",
              "       width=\"24px\">\n",
              "    <path d=\"M7,19H8.4L18.45,9,17,7.55,7,17.6ZM5,21V16.75L18.45,3.32a2,2,0,0,1,2.83,0l1.4,1.43a1.91,1.91,0,0,1,.58,1.4,1.91,1.91,0,0,1-.58,1.4L9.25,21ZM18.45,9,17,7.55Zm-12,3A5.31,5.31,0,0,0,4.9,8.1,5.31,5.31,0,0,0,1,6.5,5.31,5.31,0,0,0,4.9,4.9,5.31,5.31,0,0,0,6.5,1,5.31,5.31,0,0,0,8.1,4.9,5.31,5.31,0,0,0,12,6.5,5.46,5.46,0,0,0,6.5,12Z\"/>\n",
              "  </svg>\n",
              "    </button>\n",
              "    <script>\n",
              "      (() => {\n",
              "      const buttonEl =\n",
              "        document.querySelector('#id_c49d0c04-8842-4784-9f8c-b773702e8398 button.colab-df-generate');\n",
              "      buttonEl.style.display =\n",
              "        google.colab.kernel.accessAllowed ? 'block' : 'none';\n",
              "\n",
              "      buttonEl.onclick = () => {\n",
              "        google.colab.notebook.generateWithVariable('sp500');\n",
              "      }\n",
              "      })();\n",
              "    </script>\n",
              "  </div>\n",
              "\n",
              "    </div>\n",
              "  </div>\n"
            ],
            "application/vnd.google.colaboratory.intrinsic+json": {
              "type": "dataframe",
              "variable_name": "sp500",
              "summary": "{\n  \"name\": \"sp500\",\n  \"rows\": 9603,\n  \"fields\": [\n    {\n      \"column\": \"Date\",\n      \"properties\": {\n        \"dtype\": \"object\",\n        \"num_unique_values\": 3201,\n        \"samples\": [\n          \"2010-08-11\",\n          \"2009-11-23\",\n          \"2016-10-26\"\n        ],\n        \"semantic_type\": \"\",\n        \"description\": \"\"\n      }\n    },\n    {\n      \"column\": \"Price\",\n      \"properties\": {\n        \"dtype\": \"number\",\n        \"std\": 46.51258321622472,\n        \"min\": 59.195,\n        \"max\": 259.11,\n        \"num_unique_values\": 7436,\n        \"samples\": [\n          112.02,\n          148.95,\n          99.75\n        ],\n        \"semantic_type\": \"\",\n        \"description\": \"\"\n      }\n    },\n    {\n      \"column\": \"Type of Price\",\n      \"properties\": {\n        \"dtype\": \"category\",\n        \"num_unique_values\": 3,\n        \"samples\": [\n          \"open\",\n          \"average\",\n          \"close\"\n        ],\n        \"semantic_type\": \"\",\n        \"description\": \"\"\n      }\n    }\n  ]\n}"
            }
          },
          "metadata": {},
          "execution_count": 97
        }
      ]
    },
    {
      "cell_type": "markdown",
      "source": [
        "## Neural Network Architecture"
      ],
      "metadata": {
        "id": "mG1yyfA95n-B"
      }
    },
    {
      "cell_type": "markdown",
      "source": [
        "References: To put in our presentation or somewhere later <br>\n",
        "https://www.analyticsvidhya.com/blog/2021/12/stock-price-prediction-using-lstm/ <br>\n",
        "https://www.coursera.org/in/articles/types-of-neural-networks"
      ],
      "metadata": {
        "id": "K2WxXIV9nBDe"
      }
    },
    {
      "cell_type": "markdown",
      "source": [
        "In our project, we decided to utilise Long short-term memory (LSTM) networks. LSTMs are a specialised type of recurrent neural network architecture, specifically designed to remember information over extended periods of time. This makes them the perfect model to use for our time-series data.\n"
      ],
      "metadata": {
        "id": "6eCigDRPmsTH"
      }
    },
    {
      "cell_type": "markdown",
      "source": [
        "Originally use 'Close' price as we deduced it as most relevant and stable data and introduce the least amount of noise. But now I that I think of it that could be the main reason it is overfitting lol"
      ],
      "metadata": {
        "id": "0QgKPaYyoAID"
      }
    },
    {
      "cell_type": "code",
      "source": [
        "print(sp500) # test case\n",
        "\n",
        "scaler = MinMaxScaler(feature_range=(-1, 1))\n",
        "sp500['Price'] = scaler.fit_transform(sp500['Price'].values.reshape(-1, 1))"
      ],
      "metadata": {
        "id": "3GNEiMvnDNxZ",
        "colab": {
          "base_uri": "https://localhost:8080/"
        },
        "outputId": "925734c1-bebf-4b0f-ebb4-4e90cb4a2203"
      },
      "execution_count": 98,
      "outputs": [
        {
          "output_type": "stream",
          "name": "stdout",
          "text": [
            "            Date    Price Type of Price\n",
            "0     2005-02-25  104.770          open\n",
            "1     2005-02-25  105.340       average\n",
            "2     2005-02-25  105.790         close\n",
            "3     2005-02-28  105.550          open\n",
            "4     2005-02-28  105.120       average\n",
            "...          ...      ...           ...\n",
            "9598  2017-11-09  257.375       average\n",
            "9599  2017-11-09  258.170         close\n",
            "9600  2017-11-10  257.730          open\n",
            "9601  2017-11-10  257.790       average\n",
            "9602  2017-11-10  258.090         close\n",
            "\n",
            "[9603 rows x 3 columns]\n"
          ]
        }
      ]
    },
    {
      "cell_type": "markdown",
      "source": [
        "## Normalizing the Data"
      ],
      "metadata": {
        "id": "z-Eq62pz8-fO"
      }
    },
    {
      "cell_type": "code",
      "source": [
        "\n",
        "# Initialize the MinMaxScaler with a range between 0 and 1\n",
        "scaler = MinMaxScaler(feature_range=(0, 1))\n",
        "\n",
        "# Fit the scaler on the 'Price' column and transform the data\n",
        "# Reshape to (-1, 1) because the scaler expects a 2D array\n",
        "sp500['Price'] = scaler.fit_transform(sp500['Price'].values.reshape(-1, 1))\n",
        "\n",
        "# Now, split the scaled data into training and testing sets\n",
        "data = sp500['Price'].values\n",
        "train_size = int(len(data) * 0.8)\n",
        "train_data = data[:train_size]\n",
        "test_data = data[train_size - 10:]  # Include overlap for sequence creation\n",
        "\n",
        "# After creating predictions, use the scaler to revert them back to the original scale:\n",
        "# predictions_rescaled = scaler.inverse_transform(predictions)\n",
        "# actuals_rescaled = scaler.inverse_transform(actuals)\n"
      ],
      "metadata": {
        "id": "MueTEaE38VKN"
      },
      "execution_count": 99,
      "outputs": []
    },
    {
      "cell_type": "code",
      "source": [
        "# Convert predictions and actual values back to their original scale\n",
        "predictions_rescaled = scaler.inverse_transform(np.array(test_predictions).reshape(-1, 1))\n",
        "actuals_rescaled = scaler.inverse_transform(np.array(test_data[10:]).reshape(-1, 1))  # Adjust for the overlap\n"
      ],
      "metadata": {
        "id": "XG0JsbMe8wN2"
      },
      "execution_count": 100,
      "outputs": []
    },
    {
      "cell_type": "markdown",
      "source": [
        "## Prepare Dataset for PyTorch"
      ],
      "metadata": {
        "id": "Ct-7SnbS9FgQ"
      }
    },
    {
      "cell_type": "code",
      "source": [
        "\n",
        "class StockDataset(Dataset):\n",
        "    def __init__(self, data, seq_length=10):\n",
        "        self.data = data\n",
        "        self.seq_length = seq_length\n",
        "\n",
        "    def __len__(self):\n",
        "        # The length is reduced by the sequence length to avoid out-of-bound errors\n",
        "        return len(self.data) - self.seq_length\n",
        "\n",
        "    def __getitem__(self, index):\n",
        "        # Get a sequence of prices and the next price as the label\n",
        "        x = self.data[index:index + self.seq_length]  # Sequence input\n",
        "        y = self.data[index + self.seq_length]  # Label (next value in sequence)\n",
        "\n",
        "        # Convert to PyTorch tensors and reshape x to (seq_length, 1)\n",
        "        x = torch.tensor(x, dtype=torch.float32).view(-1, 1)\n",
        "        y = torch.tensor(y, dtype=torch.float32)\n",
        "\n",
        "        return x, y\n"
      ],
      "metadata": {
        "id": "zN8xagoV9CVX"
      },
      "execution_count": 101,
      "outputs": []
    },
    {
      "cell_type": "code",
      "source": [
        "# Define the sequence length (e.g., 10 for predicting based on 10 days of past data)\n",
        "seq_length = 10\n",
        "\n",
        "# Create training and testing datasets\n",
        "train_dataset = StockDataset(train_data, seq_length=seq_length)\n",
        "test_dataset = StockDataset(test_data, seq_length=seq_length)\n",
        "\n",
        "# Create DataLoaders for training and testing datasets\n",
        "# Batch size is set to 64 for training, adjust based on memory capacity\n",
        "train_loader = DataLoader(train_dataset, batch_size=64, shuffle=True)\n",
        "test_loader = DataLoader(test_dataset, batch_size=64, shuffle=False)\n"
      ],
      "metadata": {
        "id": "SCPLQueK9fig"
      },
      "execution_count": 102,
      "outputs": []
    },
    {
      "cell_type": "markdown",
      "source": [
        "## Define LSTM Model"
      ],
      "metadata": {
        "id": "_083a_5R9qw6"
      }
    },
    {
      "cell_type": "code",
      "source": [
        "def objective(trial):\n",
        "    # Suggest values for hyperparameters\n",
        "    learning_rate = trial.suggest_loguniform('learning_rate', 1e-5, 1e-1)\n",
        "    hidden_size = trial.suggest_int('hidden_size', 50, 200)\n",
        "    num_layers = trial.suggest_int('num_layers', 1, 3)\n",
        "    batch_size = trial.suggest_categorical('batch_size', [16, 32, 64, 128])"
      ],
      "metadata": {
        "id": "y1lyovrdFIpR"
      },
      "execution_count": 103,
      "outputs": []
    },
    {
      "cell_type": "code",
      "source": [
        "\n",
        "class LSTMStockPredictor(nn.Module):\n",
        "    def __init__(self, input_size=1, hidden_layer_size=50, output_size=1):\n",
        "        super(LSTMStockPredictor, self).__init__()\n",
        "        self.hidden_layer_size = hidden_layer_size\n",
        "\n",
        "        # Define two LSTM layers with 50 units each\n",
        "        self.lstm = nn.LSTM(input_size, hidden_layer_size, num_layers=2, batch_first=True)\n",
        "\n",
        "        # Define a linear layer to map the LSTM outputs to the desired output size\n",
        "        self.linear = nn.Linear(hidden_layer_size, output_size)\n",
        "\n",
        "    def forward(self, input_seq):\n",
        "        # Pass the input sequence through the LSTM layers\n",
        "        lstm_out, _ = self.lstm(input_seq)  # lstm_out: [batch_size, seq_length, hidden_layer_size]\n",
        "\n",
        "        # Take the output of the last time step (seq_length - 1)\n",
        "        lstm_out = lstm_out[:, -1, :]  # Shape: [batch_size, hidden_layer_size]\n",
        "\n",
        "        # Pass the output through the linear layer to get the final prediction\n",
        "        predictions = self.linear(lstm_out)  # Shape: [batch_size, output_size]\n",
        "\n",
        "        return predictions\n"
      ],
      "metadata": {
        "id": "QpTBxVav9tb5"
      },
      "execution_count": 104,
      "outputs": []
    },
    {
      "cell_type": "code",
      "source": [
        "# Initialize the model\n",
        "model = LSTMStockPredictor(input_size=1, hidden_layer_size=50, output_size=1)\n",
        "\n",
        "# Define the loss function (Mean Squared Error)\n",
        "loss_function = nn.MSELoss()\n",
        "\n",
        "# Define the optimizer (Adam)\n",
        "optimizer = torch.optim.Adam(model.parameters(), lr=0.001)  # Learning rate can be adjusted as needed\n"
      ],
      "metadata": {
        "id": "xgeG9pvw92LU"
      },
      "execution_count": 105,
      "outputs": []
    },
    {
      "cell_type": "markdown",
      "source": [
        "## Train the Model"
      ],
      "metadata": {
        "id": "1SV0MgxS952v"
      }
    },
    {
      "cell_type": "code",
      "source": [
        "\n",
        "# Set the model to training mode\n",
        "model.train()\n",
        "\n",
        "# Define the number of epochs for training\n",
        "epochs = 100  # Adjust as needed based on convergence\n",
        "\n",
        "# Iterate over epochs for training\n",
        "for epoch in range(epochs):\n",
        "    epoch_loss = 0  # To keep track of the cumulative loss for the epoch\n",
        "\n",
        "    # Loop through batches of data from the DataLoader\n",
        "    for seq, labels in train_loader:\n",
        "        optimizer.zero_grad()  # Clear the gradients from the previous step\n",
        "\n",
        "        # Reshape seq to have dimensions (batch_size, seq_length, input_size)\n",
        "        seq = seq.view(-1, seq_length, 1)  # Adjust shape for LSTM input\n",
        "\n",
        "        # Forward pass: get predictions from the model\n",
        "        y_pred = model(seq)\n",
        "\n",
        "        # Calculate the loss between the predicted and actual values\n",
        "        loss = loss_function(y_pred, labels.view(-1, 1))\n",
        "\n",
        "        # Backpropagation: compute gradients\n",
        "        loss.backward()\n",
        "\n",
        "        # Update model parameters\n",
        "        optimizer.step()\n",
        "\n",
        "        # Accumulate the loss for this batch\n",
        "        epoch_loss += loss.item()\n",
        "\n",
        "    # Compute the average loss for the epoch\n",
        "    average_loss = epoch_loss / len(train_loader)\n",
        "\n",
        "    # Log the loss every 10 epochs\n",
        "    if epoch % 10 == 0:\n",
        "        print(f'Epoch {epoch + 1}/{epochs}, Loss: {average_loss:.6f}')\n"
      ],
      "metadata": {
        "colab": {
          "base_uri": "https://localhost:8080/"
        },
        "id": "CndL00Rl-Gyd",
        "outputId": "d7bcaf7c-16fb-4673-9e77-f15e007e0268"
      },
      "execution_count": 107,
      "outputs": [
        {
          "output_type": "stream",
          "name": "stdout",
          "text": [
            "Epoch 1/100, Loss: 0.015726\n",
            "Epoch 11/100, Loss: 0.000057\n",
            "Epoch 21/100, Loss: 0.000050\n",
            "Epoch 31/100, Loss: 0.000051\n",
            "Epoch 41/100, Loss: 0.000039\n",
            "Epoch 51/100, Loss: 0.000028\n",
            "Epoch 61/100, Loss: 0.000024\n",
            "Epoch 71/100, Loss: 0.000016\n",
            "Epoch 81/100, Loss: 0.000014\n",
            "Epoch 91/100, Loss: 0.000013\n"
          ]
        }
      ]
    },
    {
      "cell_type": "markdown",
      "source": [
        "# Evaluate the Model"
      ],
      "metadata": {
        "id": "SNkqlPLv-A3a"
      }
    },
    {
      "cell_type": "code",
      "source": [
        "model.eval()  # Set the model to evaluation mode\n",
        "\n",
        "test_predictions = []\n",
        "test_data = []\n",
        "\n",
        "with torch.no_grad():\n",
        "    for seq, labels in dataloader:  # Use your test dataloader if you have separate training and testing sets\n",
        "        # Initialize the hidden state for the LSTM\n",
        "        model.hidden_cell = (torch.zeros(1, 1, model.hidden_layer_size),\n",
        "                             torch.zeros(1, 1, model.hidden_layer_size))\n",
        "\n",
        "        # Ensure the input sequence shape is (seq_length, batch_size, input_size)\n",
        "        seq = seq.view(seq_length, -1, 1)\n",
        "\n",
        "        # Get the model's predictions\n",
        "        y_pred = model(seq)\n",
        "\n",
        "        # Append each prediction and corresponding label\n",
        "        for prediction, actual in zip(y_pred, labels):\n",
        "            test_predictions.append(prediction.item())  # Convert each prediction to a Python scalar\n",
        "            test_data.append(actual.item())  # Convert each actual label to a scalar\n",
        "\n"
      ],
      "metadata": {
        "id": "i25VbAAL-37I"
      },
      "execution_count": 71,
      "outputs": []
    },
    {
      "cell_type": "code",
      "source": [
        "# Convert lists to NumPy arrays and reshape to (-1, 1) for inverse transformation\n",
        "test_predictions = np.array(test_predictions).reshape(-1, 1)\n",
        "test_data = np.array(test_data).reshape(-1, 1)\n",
        "\n",
        "# Use the scaler to inverse transform the scaled values back to their original range\n",
        "predictions_rescaled = scaler.inverse_transform(test_predictions)\n",
        "actuals_rescaled = scaler.inverse_transform(test_data)"
      ],
      "metadata": {
        "id": "vN7PEfJl_b__"
      },
      "execution_count": 72,
      "outputs": []
    },
    {
      "cell_type": "code",
      "source": [
        "import matplotlib.pyplot as plt\n",
        "\n",
        "# Plot the rescaled predictions and actual values\n",
        "plt.figure(figsize=(10, 6))\n",
        "plt.plot(actuals_rescaled, label='Actual Prices', color='red')\n",
        "plt.plot(predictions_rescaled, label='Predicted Prices', color='blue')\n",
        "plt.title('Stock Price Prediction vs Actual Prices')\n",
        "plt.xlabel('Time')\n",
        "plt.ylabel('Stock Price')\n",
        "plt.legend()\n",
        "plt.show()\n"
      ],
      "metadata": {
        "colab": {
          "base_uri": "https://localhost:8080/",
          "height": 564
        },
        "id": "0rHQb1cX_gtO",
        "outputId": "d40d4b7f-db3c-49b8-8426-f7307e9e81eb"
      },
      "execution_count": 73,
      "outputs": [
        {
          "output_type": "display_data",
          "data": {
            "text/plain": [
              "<Figure size 1000x600 with 1 Axes>"
            ],
            "image/png": "[encoded data removed]"
          },
          "metadata": {}
        }
      ]
    },
    {
      "cell_type": "markdown",
      "source": [
        "## Calcuate Evaluation Metrics"
      ],
      "metadata": {
        "id": "PPwW9Mfi_67U"
      }
    },
    {
      "cell_type": "code",
      "source": [
        "from sklearn.metrics import mean_squared_error\n",
        "\n",
        "# Calculate RMSE between rescaled predictions and actual values\n",
        "rmse = np.sqrt(mean_squared_error(actuals_rescaled, predictions_rescaled))\n",
        "print(f'RMSE: {rmse}')\n"
      ],
      "metadata": {
        "colab": {
          "base_uri": "https://localhost:8080/"
        },
        "id": "4xnwjt-G_59n",
        "outputId": "edf28ccc-2611-42db-f491-53ca1a2c76bf"
      },
      "execution_count": 74,
      "outputs": [
        {
          "output_type": "stream",
          "name": "stdout",
          "text": [
            "RMSE: 1.2635195943239885\n"
          ]
        }
      ]
    },
    {
      "cell_type": "code",
      "source": [
        "from sklearn.metrics import mean_absolute_error, r2_score\n",
        "\n",
        "# Calculate MAE\n",
        "mae = mean_absolute_error(actuals_rescaled, predictions_rescaled)\n",
        "print(f'MAE: {mae}')\n",
        "\n",
        "# Calculate R-Squared\n",
        "r2 = r2_score(actuals_rescaled, predictions_rescaled)\n",
        "print(f'R²: {r2}')\n"
      ],
      "metadata": {
        "colab": {
          "base_uri": "https://localhost:8080/"
        },
        "id": "Qm6Ajd5VAF7T",
        "outputId": "bcf8618d-e39c-4ae5-8763-91ead0df0b49"
      },
      "execution_count": 75,
      "outputs": [
        {
          "output_type": "stream",
          "name": "stdout",
          "text": [
            "MAE: 0.9844395655297363\n",
            "R²: -0.8972203486770098\n"
          ]
        }
      ]
    },
    {
      "cell_type": "code",
      "source": [
        "import optuna\n",
        "import torch\n",
        "from torch.utils.data import DataLoader\n",
        "import torch.nn as nn\n",
        "\n",
        "def objective(trial):\n",
        "    # Suggest values for hyperparameters\n",
        "    learning_rate = trial.suggest_loguniform('learning_rate', 1e-5, 1e-1)\n",
        "    hidden_size = trial.suggest_int('hidden_size', 50, 200)\n",
        "    num_layers = trial.suggest_int('num_layers', 1, 3)\n",
        "    batch_size = trial.suggest_categorical('batch_size', [16, 32, 64, 128])\n",
        "\n",
        "    # Define the LSTM model with the suggested parameters\n",
        "    class LSTMStockPredictor(nn.Module):\n",
        "        def __init__(self, input_size=1, hidden_layer_size=hidden_size, output_size=1):\n",
        "            super(LSTMStockPredictor, self).__init__()\n",
        "            self.hidden_layer_size = hidden_size\n",
        "            self.lstm = nn.LSTM(input_size, hidden_size, num_layers=num_layers, batch_first=True)\n",
        "            self.linear = nn.Linear(hidden_size, output_size)\n",
        "\n",
        "        def forward(self, input_seq):\n",
        "            lstm_out, _ = self.lstm(input_seq)\n",
        "            predictions = self.linear(lstm_out[:, -1, :])\n",
        "            return predictions\n",
        "\n",
        "    # Initialize model, loss function, and optimizer\n",
        "    model = LSTMStockPredictor()\n",
        "    loss_function = nn.MSELoss()\n",
        "    optimizer = torch.optim.Adam(model.parameters(), lr=learning_rate)\n",
        "\n",
        "    # Create DataLoaders for the suggested batch size\n",
        "    train_loader = DataLoader(train_dataset, batch_size=batch_size, shuffle=True)\n",
        "    val_loader = DataLoader(val_subset, batch_size=batch_size, shuffle=False)\n",
        "\n",
        "    # Train the model for a few epochs to save time during tuning\n",
        "    model.train()\n",
        "    for epoch in range(5):  # Using a small number of epochs for quick tuning\n",
        "        for seq, labels in train_loader:\n",
        "            optimizer.zero_grad()\n",
        "            seq = seq.view(-1, seq_length, 1)\n",
        "            y_pred = model(seq)\n",
        "            loss = loss_function(y_pred, labels.view(-1, 1))\n",
        "            loss.backward()\n",
        "            optimizer.step()\n",
        "\n",
        "    # Evaluate the model on the validation set\n",
        "    model.eval()\n",
        "    val_loss = 0\n",
        "    with torch.no_grad():\n",
        "        for seq, labels in val_loader:\n",
        "            seq = seq.view(-1, seq_length, 1)\n",
        "            y_pred = model(seq)\n",
        "            loss = loss_function(y_pred, labels.view(-1, 1))\n",
        "            val_loss += loss.item()\n",
        "\n",
        "    # Return the average validation loss for the trial\n",
        "    avg_val_loss = val_loss / len(val_loader)\n",
        "    return avg_val_loss\n",
        "\n",
        "# Create the study and run optimization\n",
        "study = optuna.create_study(direction='minimize')\n",
        "study.optimize(objective, n_trials=50)\n",
        "\n",
        "# Print the best parameters found\n",
        "print('Best trial:', study.best_trial.params)\n",
        "\n"
      ],
      "metadata": {
        "id": "y5VN1OgSGdyU",
        "outputId": "99220035-a651-4ad4-9106-0f15589182c0",
        "colab": {
          "base_uri": "https://localhost:8080/"
        }
      },
      "execution_count": 91,
      "outputs": [
        {
          "metadata": {
            "tags": null
          },
          "name": "stderr",
          "output_type": "stream",
          "text": [
            "[I 2024-10-25 10:01:21,220] A new study created in memory with name: no-name-4ac3d57f-e274-4b16-bddd-e408683967ac\n",
            "<ipython-input-91-8f766bb32340>:8: FutureWarning: suggest_loguniform has been deprecated in v3.0.0. This feature will be removed in v6.0.0. See https://github.com/optuna/optuna/releases/tag/v3.0.0. Use suggest_float(..., log=True) instead.\n",
            "  learning_rate = trial.suggest_loguniform('learning_rate', 1e-5, 1e-1)\n",
            "[I 2024-10-25 10:01:44,003] Trial 0 finished with value: 0.0004806853169914878 and parameters: {'learning_rate': 8.326410432744284e-05, 'hidden_size': 102, 'num_layers': 1, 'batch_size': 32}. Best is trial 0 with value: 0.0004806853169914878.\n",
            "[I 2024-10-25 10:02:06,151] Trial 1 finished with value: 0.02023681024244676 and parameters: {'learning_rate': 1.5315281765167176e-05, 'hidden_size': 71, 'num_layers': 2, 'batch_size': 64}. Best is trial 0 with value: 0.0004806853169914878.\n",
            "[I 2024-10-25 10:02:18,565] Trial 2 finished with value: 0.005206287547480315 and parameters: {'learning_rate': 3.6211972786871146e-05, 'hidden_size': 151, 'num_layers': 1, 'batch_size': 64}. Best is trial 0 with value: 0.0004806853169914878.\n",
            "[I 2024-10-25 10:02:30,041] Trial 3 finished with value: 4.920528408547398e-05 and parameters: {'learning_rate': 0.0013350800553447457, 'hidden_size': 139, 'num_layers': 1, 'batch_size': 64}. Best is trial 3 with value: 4.920528408547398e-05.\n",
            "[I 2024-10-25 10:02:49,534] Trial 4 finished with value: 0.008324881472314397 and parameters: {'learning_rate': 1.5890131682476953e-05, 'hidden_size': 112, 'num_layers': 2, 'batch_size': 32}. Best is trial 3 with value: 4.920528408547398e-05.\n",
            "[I 2024-10-25 10:03:00,408] Trial 5 finished with value: 0.017133502328457933 and parameters: {'learning_rate': 1.5103249675933798e-05, 'hidden_size': 133, 'num_layers': 1, 'batch_size': 64}. Best is trial 3 with value: 4.920528408547398e-05.\n",
            "[I 2024-10-25 10:03:26,859] Trial 6 finished with value: 5.6494735588330514e-05 and parameters: {'learning_rate': 0.0001817027131840302, 'hidden_size': 181, 'num_layers': 1, 'batch_size': 16}. Best is trial 3 with value: 4.920528408547398e-05.\n",
            "[I 2024-10-25 10:03:43,904] Trial 7 finished with value: 2.2323541278031673e-05 and parameters: {'learning_rate': 0.008919360746681254, 'hidden_size': 167, 'num_layers': 1, 'batch_size': 32}. Best is trial 7 with value: 2.2323541278031673e-05.\n",
            "[I 2024-10-25 10:04:02,145] Trial 8 finished with value: 6.371615184737796e-05 and parameters: {'learning_rate': 0.000839343384246723, 'hidden_size': 63, 'num_layers': 3, 'batch_size': 32}. Best is trial 7 with value: 2.2323541278031673e-05.\n",
            "[I 2024-10-25 10:04:11,698] Trial 9 finished with value: 0.011431150992090503 and parameters: {'learning_rate': 3.291816730258063e-05, 'hidden_size': 115, 'num_layers': 1, 'batch_size': 64}. Best is trial 7 with value: 2.2323541278031673e-05.\n",
            "[I 2024-10-25 10:05:25,385] Trial 10 finished with value: 0.0001155997142632259 and parameters: {'learning_rate': 0.03999794581283464, 'hidden_size': 190, 'num_layers': 3, 'batch_size': 128}. Best is trial 7 with value: 2.2323541278031673e-05.\n",
            "[I 2024-10-25 10:06:09,037] Trial 11 finished with value: 3.384667229511251e-05 and parameters: {'learning_rate': 0.013250208334325381, 'hidden_size': 158, 'num_layers': 2, 'batch_size': 16}. Best is trial 7 with value: 2.2323541278031673e-05.\n",
            "[I 2024-10-25 10:06:50,764] Trial 12 finished with value: 0.00011980222147182455 and parameters: {'learning_rate': 0.029689568496499306, 'hidden_size': 162, 'num_layers': 2, 'batch_size': 16}. Best is trial 7 with value: 2.2323541278031673e-05.\n",
            "[I 2024-10-25 10:07:35,374] Trial 13 finished with value: 2.6090677190874583e-05 and parameters: {'learning_rate': 0.006974969283013337, 'hidden_size': 169, 'num_layers': 2, 'batch_size': 16}. Best is trial 7 with value: 2.2323541278031673e-05.\n",
            "[I 2024-10-25 10:08:29,838] Trial 14 finished with value: 5.598715839975436e-05 and parameters: {'learning_rate': 0.004787081256491462, 'hidden_size': 179, 'num_layers': 3, 'batch_size': 128}. Best is trial 7 with value: 2.2323541278031673e-05.\n",
            "[I 2024-10-25 10:09:25,163] Trial 15 finished with value: 0.00014066719677430228 and parameters: {'learning_rate': 0.00618904879302941, 'hidden_size': 195, 'num_layers': 2, 'batch_size': 16}. Best is trial 7 with value: 2.2323541278031673e-05.\n",
            "[I 2024-10-25 10:10:17,317] Trial 16 finished with value: 0.00017161511641461402 and parameters: {'learning_rate': 0.001500693756215212, 'hidden_size': 168, 'num_layers': 3, 'batch_size': 32}. Best is trial 7 with value: 2.2323541278031673e-05.\n",
            "[I 2024-10-25 10:10:54,945] Trial 17 finished with value: 2.9732986736992945e-05 and parameters: {'learning_rate': 0.004765354285935033, 'hidden_size': 148, 'num_layers': 2, 'batch_size': 16}. Best is trial 7 with value: 2.2323541278031673e-05.\n",
            "[I 2024-10-25 10:11:02,950] Trial 18 finished with value: 0.00015328811650761054 and parameters: {'learning_rate': 0.08286057776870734, 'hidden_size': 90, 'num_layers': 1, 'batch_size': 32}. Best is trial 7 with value: 2.2323541278031673e-05.\n",
            "[I 2024-10-25 10:11:43,179] Trial 19 finished with value: 5.4464600907522254e-05 and parameters: {'learning_rate': 0.00037167395974935957, 'hidden_size': 200, 'num_layers': 2, 'batch_size': 128}. Best is trial 7 with value: 2.2323541278031673e-05.\n",
            "[I 2024-10-25 10:12:35,160] Trial 20 finished with value: 0.00012337003549115858 and parameters: {'learning_rate': 0.014119590116051847, 'hidden_size': 174, 'num_layers': 2, 'batch_size': 16}. Best is trial 7 with value: 2.2323541278031673e-05.\n",
            "[I 2024-10-25 10:13:10,505] Trial 21 finished with value: 2.681038364471533e-05 and parameters: {'learning_rate': 0.003408018795671023, 'hidden_size': 145, 'num_layers': 2, 'batch_size': 16}. Best is trial 7 with value: 2.2323541278031673e-05.\n",
            "[I 2024-10-25 10:13:44,273] Trial 22 finished with value: 5.534459990030882e-05 and parameters: {'learning_rate': 0.0026433882474993318, 'hidden_size': 140, 'num_layers': 2, 'batch_size': 16}. Best is trial 7 with value: 2.2323541278031673e-05.\n",
            "[I 2024-10-25 10:14:31,100] Trial 23 finished with value: 3.997790341259133e-05 and parameters: {'learning_rate': 0.01109513484429857, 'hidden_size': 125, 'num_layers': 3, 'batch_size': 16}. Best is trial 7 with value: 2.2323541278031673e-05.\n",
            "[I 2024-10-25 10:14:47,290] Trial 24 finished with value: 4.71622347504308e-05 and parameters: {'learning_rate': 0.0006331164214369557, 'hidden_size': 157, 'num_layers': 1, 'batch_size': 32}. Best is trial 7 with value: 2.2323541278031673e-05.\n",
            "[I 2024-10-25 10:15:38,073] Trial 25 finished with value: 3.082148102369805e-05 and parameters: {'learning_rate': 0.002809393919044499, 'hidden_size': 185, 'num_layers': 2, 'batch_size': 16}. Best is trial 7 with value: 2.2323541278031673e-05.\n",
            "[I 2024-10-25 10:22:09,492] Trial 26 finished with value: 0.026297170193477843 and parameters: {'learning_rate': 0.02809736331245373, 'hidden_size': 170, 'num_layers': 3, 'batch_size': 16}. Best is trial 7 with value: 2.2323541278031673e-05.\n",
            "[I 2024-10-25 10:22:34,473] Trial 27 finished with value: 2.5735588811433747e-05 and parameters: {'learning_rate': 0.00811297204429226, 'hidden_size': 129, 'num_layers': 2, 'batch_size': 32}. Best is trial 7 with value: 2.2323541278031673e-05.\n",
            "[I 2024-10-25 10:22:45,877] Trial 28 finished with value: 9.366017616230238e-05 and parameters: {'learning_rate': 0.08507544211624232, 'hidden_size': 122, 'num_layers': 1, 'batch_size': 32}. Best is trial 7 with value: 2.2323541278031673e-05.\n",
            "[I 2024-10-25 10:22:53,936] Trial 29 finished with value: 0.00010227921135689637 and parameters: {'learning_rate': 0.010490782936179872, 'hidden_size': 97, 'num_layers': 1, 'batch_size': 32}. Best is trial 7 with value: 2.2323541278031673e-05.\n",
            "[I 2024-10-25 10:23:09,906] Trial 30 finished with value: 1.7304493601007682e-05 and parameters: {'learning_rate': 0.021756123191076546, 'hidden_size': 85, 'num_layers': 2, 'batch_size': 32}. Best is trial 30 with value: 1.7304493601007682e-05.\n",
            "[I 2024-10-25 10:23:23,992] Trial 31 finished with value: 1.5761739556789205e-05 and parameters: {'learning_rate': 0.01913175948064042, 'hidden_size': 76, 'num_layers': 2, 'batch_size': 32}. Best is trial 31 with value: 1.5761739556789205e-05.\n",
            "[I 2024-10-25 10:23:38,853] Trial 32 finished with value: 0.0004457025625015376 and parameters: {'learning_rate': 0.037877817651177606, 'hidden_size': 82, 'num_layers': 2, 'batch_size': 32}. Best is trial 31 with value: 1.5761739556789205e-05.\n",
            "[I 2024-10-25 10:23:52,949] Trial 33 finished with value: 6.397319058730015e-05 and parameters: {'learning_rate': 0.021527466230067543, 'hidden_size': 76, 'num_layers': 2, 'batch_size': 32}. Best is trial 31 with value: 1.5761739556789205e-05.\n",
            "[I 2024-10-25 10:24:04,678] Trial 34 finished with value: 0.0007017220341367647 and parameters: {'learning_rate': 0.06148331234370336, 'hidden_size': 54, 'num_layers': 2, 'batch_size': 32}. Best is trial 31 with value: 1.5761739556789205e-05.\n",
            "[I 2024-10-25 10:24:23,582] Trial 35 finished with value: 4.218865543255864e-05 and parameters: {'learning_rate': 0.014958654734571888, 'hidden_size': 105, 'num_layers': 2, 'batch_size': 32}. Best is trial 31 with value: 1.5761739556789205e-05.\n",
            "[I 2024-10-25 10:24:31,849] Trial 36 finished with value: 5.3788375945866086e-05 and parameters: {'learning_rate': 0.0018379804555970784, 'hidden_size': 89, 'num_layers': 1, 'batch_size': 32}. Best is trial 31 with value: 1.5761739556789205e-05.\n",
            "[I 2024-10-25 10:24:39,734] Trial 37 finished with value: 3.130459045526853e-05 and parameters: {'learning_rate': 0.00776090569961543, 'hidden_size': 69, 'num_layers': 1, 'batch_size': 32}. Best is trial 31 with value: 1.5761739556789205e-05.\n",
            "[I 2024-10-25 10:24:56,539] Trial 38 finished with value: 0.025071737065445632 and parameters: {'learning_rate': 0.051358331378462824, 'hidden_size': 54, 'num_layers': 3, 'batch_size': 32}. Best is trial 31 with value: 1.5761739556789205e-05.\n",
            "[I 2024-10-25 10:25:04,956] Trial 39 finished with value: 9.355516522191465e-05 and parameters: {'learning_rate': 0.022502165682748765, 'hidden_size': 111, 'num_layers': 1, 'batch_size': 64}. Best is trial 31 with value: 1.5761739556789205e-05.\n",
            "[I 2024-10-25 10:25:17,064] Trial 40 finished with value: 5.735013485264062e-05 and parameters: {'learning_rate': 0.00013100383541570312, 'hidden_size': 66, 'num_layers': 2, 'batch_size': 32}. Best is trial 31 with value: 1.5761739556789205e-05.\n",
            "[I 2024-10-25 10:25:43,735] Trial 41 finished with value: 4.316859159795664e-05 and parameters: {'learning_rate': 0.007392900693404204, 'hidden_size': 133, 'num_layers': 2, 'batch_size': 32}. Best is trial 31 with value: 1.5761739556789205e-05.\n",
            "[I 2024-10-25 10:25:58,398] Trial 42 finished with value: 2.3946935603665526e-05 and parameters: {'learning_rate': 0.019990682160110924, 'hidden_size': 77, 'num_layers': 2, 'batch_size': 32}. Best is trial 31 with value: 1.5761739556789205e-05.\n",
            "[I 2024-10-25 10:26:13,414] Trial 43 finished with value: 9.03128492761122e-05 and parameters: {'learning_rate': 0.01915170424165798, 'hidden_size': 78, 'num_layers': 2, 'batch_size': 32}. Best is trial 31 with value: 1.5761739556789205e-05.\n",
            "[I 2024-10-25 10:26:32,563] Trial 44 finished with value: 9.596161604955948e-05 and parameters: {'learning_rate': 0.043275131884704776, 'hidden_size': 98, 'num_layers': 2, 'batch_size': 32}. Best is trial 31 with value: 1.5761739556789205e-05.\n",
            "[I 2024-10-25 10:26:46,360] Trial 45 finished with value: 4.23660733304132e-05 and parameters: {'learning_rate': 0.009894627783598777, 'hidden_size': 86, 'num_layers': 2, 'batch_size': 64}. Best is trial 31 with value: 1.5761739556789205e-05.\n",
            "[I 2024-10-25 10:26:56,313] Trial 46 finished with value: 4.698355041909963e-05 and parameters: {'learning_rate': 0.004061623594286794, 'hidden_size': 63, 'num_layers': 2, 'batch_size': 128}. Best is trial 31 with value: 1.5761739556789205e-05.\n",
            "[I 2024-10-25 10:27:34,233] Trial 47 finished with value: 0.00026582731364518014 and parameters: {'learning_rate': 0.03202925501114383, 'hidden_size': 104, 'num_layers': 3, 'batch_size': 32}. Best is trial 31 with value: 1.5761739556789205e-05.\n",
            "[I 2024-10-25 10:27:46,831] Trial 48 finished with value: 2.3185232047732523e-05 and parameters: {'learning_rate': 0.017917997951756873, 'hidden_size': 73, 'num_layers': 2, 'batch_size': 32}. Best is trial 31 with value: 1.5761739556789205e-05.\n",
            "[I 2024-10-25 10:27:59,387] Trial 49 finished with value: 4.5408563664750545e-05 and parameters: {'learning_rate': 0.018099215234472606, 'hidden_size': 73, 'num_layers': 2, 'batch_size': 32}. Best is trial 31 with value: 1.5761739556789205e-05.\n"
          ]
        },
        {
          "metadata": {
            "tags": null
          },
          "name": "stdout",
          "output_type": "stream",
          "text": [
            "Best trial: {'learning_rate': 0.01913175948064042, 'hidden_size': 76, 'num_layers': 2, 'batch_size': 32}\n"
          ]
        }
      ]
    },
    {
      "cell_type": "code",
      "source": [
        "# Extract the best hyperparameters\n",
        "best_params = study.best_trial.params\n",
        "learning_rate = best_params['learning_rate']\n",
        "hidden_size = best_params['hidden_size']\n",
        "num_layers = best_params['num_layers']\n",
        "batch_size = best_params['batch_size']\n",
        "\n",
        "# Define the final model with the best parameters\n",
        "class LSTMStockPredictor(nn.Module):\n",
        "    def __init__(self, input_size=1, hidden_layer_size=hidden_size, output_size=1):\n",
        "        super(LSTMStockPredictor, self).__init__()\n",
        "        self.hidden_layer_size = hidden_layer_size\n",
        "        self.lstm = nn.LSTM(input_size, hidden_layer_size, num_layers=num_layers, batch_first=True)\n",
        "        self.linear = nn.Linear(hidden_layer_size, output_size)\n",
        "\n",
        "    def forward(self, input_seq):\n",
        "        lstm_out, _ = self.lstm(input_seq)\n",
        "        predictions = self.linear(lstm_out[:, -1, :])\n",
        "        return predictions\n",
        "\n",
        "# Initialize the final model, loss function, and optimizer with the best hyperparameters\n",
        "model = LSTMStockPredictor()\n",
        "loss_function = nn.MSELoss()\n",
        "optimizer = torch.optim.Adam(model.parameters(), lr=learning_rate)\n",
        "\n",
        "# Create DataLoader with the best batch size\n",
        "train_loader = DataLoader(train_dataset, batch_size=batch_size, shuffle=True)\n",
        "val_loader = DataLoader(val_subset, batch_size=batch_size, shuffle=False)\n",
        "\n",
        "# Retrain the model using the best hyperparameters\n",
        "for epoch in range(20):  # Use a larger number of epochs for final training\n",
        "    model.train()\n",
        "    epoch_loss = 0\n",
        "    for seq, labels in train_loader:\n",
        "        optimizer.zero_grad()\n",
        "        seq = seq.view(-1, seq_length, 1)\n",
        "        y_pred = model(seq)\n",
        "        loss = loss_function(y_pred, labels.view(-1, 1))\n",
        "        loss.backward()\n",
        "        optimizer.step()\n",
        "        epoch_loss += loss.item()\n",
        "    print(f'Epoch {epoch+1}, Loss: {epoch_loss / len(train_loader)}')\n"
      ],
      "metadata": {
        "id": "pEk7NBr0Qkz2",
        "outputId": "6483fc02-23dd-41c5-824b-381f6afbd3bf",
        "colab": {
          "base_uri": "https://localhost:8080/"
        }
      },
      "execution_count": 108,
      "outputs": [
        {
          "output_type": "stream",
          "name": "stdout",
          "text": [
            "Epoch 1, Loss: 0.0063499959799476835\n",
            "Epoch 2, Loss: 9.537756454468157e-05\n",
            "Epoch 3, Loss: 6.821950882264597e-05\n",
            "Epoch 4, Loss: 5.412741830923551e-05\n",
            "Epoch 5, Loss: 5.8614268334622464e-05\n",
            "Epoch 6, Loss: 3.4853465941372026e-05\n",
            "Epoch 7, Loss: 3.931217525708537e-05\n",
            "Epoch 8, Loss: 4.428067009219679e-05\n",
            "Epoch 9, Loss: 2.743971456690512e-05\n",
            "Epoch 10, Loss: 4.386944021916861e-05\n",
            "Epoch 11, Loss: 3.275632942063566e-05\n",
            "Epoch 12, Loss: 3.278327085922683e-05\n",
            "Epoch 13, Loss: 5.435204442202727e-05\n",
            "Epoch 14, Loss: 2.4146887860373074e-05\n",
            "Epoch 15, Loss: 4.515841187829513e-05\n",
            "Epoch 16, Loss: 3.8234913726379695e-05\n",
            "Epoch 17, Loss: 2.7427378804153098e-05\n",
            "Epoch 18, Loss: 2.6141133419817684e-05\n",
            "Epoch 19, Loss: 2.926543490768078e-05\n",
            "Epoch 20, Loss: 4.9544563370318426e-05\n"
          ]
        }
      ]
    },
    {
      "cell_type": "code",
      "source": [
        "import torch\n",
        "import torch.nn as nn\n",
        "from torch.utils.data import DataLoader, random_split\n",
        "import matplotlib.pyplot as plt\n",
        "import optuna\n",
        "\n",
        "# Define the proportion of training and validation data (e.g., 80% train, 20% validation)\n",
        "train_ratio = 0.8\n",
        "train_size = int(train_ratio * len(train_dataset))\n",
        "val_size = len(train_dataset) - train_size\n",
        "\n",
        "# Split the dataset into training and validation sets\n",
        "train_subset, val_subset = random_split(train_dataset, [train_size, val_size])\n",
        "\n",
        "# Define the objective function for hyperparameter tuning\n",
        "def objective(trial):\n",
        "    # Suggest hyperparameters\n",
        "    learning_rate = trial.suggest_loguniform('learning_rate', 1e-5, 1e-1)\n",
        "    hidden_size = trial.suggest_int('hidden_size', 50, 200)\n",
        "    num_layers = trial.suggest_int('num_layers', 1, 3)\n",
        "    batch_size = trial.suggest_categorical('batch_size', [16, 32, 64, 128])\n",
        "\n",
        "    # Define the LSTM model with the suggested parameters\n",
        "    class LSTMStockPredictor(nn.Module):\n",
        "        def __init__(self, input_size=1, hidden_layer_size=hidden_size, output_size=1):\n",
        "            super(LSTMStockPredictor, self).__init__()\n",
        "            self.hidden_layer_size = hidden_layer_size\n",
        "            self.lstm = nn.LSTM(input_size, hidden_layer_size, num_layers=num_layers, batch_first=True)\n",
        "            self.linear = nn.Linear(hidden_layer_size, output_size)\n",
        "\n",
        "        def forward(self, input_seq):\n",
        "            lstm_out, _ = self.lstm(input_seq)\n",
        "            predictions = self.linear(lstm_out[:, -1, :])\n",
        "            return predictions\n",
        "\n",
        "    # Initialize the model, loss function, and optimizer with the suggested hyperparameters\n",
        "    model = LSTMStockPredictor()\n",
        "    loss_function = nn.MSELoss()\n",
        "    optimizer = torch.optim.Adam(model.parameters(), lr=learning_rate)\n",
        "\n",
        "    # Create DataLoaders with the suggested batch size\n",
        "    train_loader = DataLoader(train_subset, batch_size=batch_size, shuffle=True)\n",
        "    val_loader = DataLoader(val_subset, batch_size=batch_size, shuffle=False)\n",
        "\n",
        "    # Train the model for a few epochs to save time during tuning\n",
        "    model.train()\n",
        "    for epoch in range(5):  # Using a smaller number of epochs for quick tuning\n",
        "        for seq, labels in train_loader:\n",
        "            optimizer.zero_grad()\n",
        "            seq = seq.view(-1, seq_length, 1)\n",
        "            y_pred = model(seq)\n",
        "            loss = loss_function(y_pred, labels.view(-1, 1))\n",
        "            loss.backward()\n",
        "            optimizer.step()\n",
        "\n",
        "    # Evaluate the model on the validation set\n",
        "    model.eval()\n",
        "    val_loss = 0.0\n",
        "    with torch.no_grad():\n",
        "        for seq, labels in val_loader:\n",
        "            seq = seq.view(-1, seq_length, 1)\n",
        "            y_pred = model(seq)\n",
        "            loss = loss_function(y_pred, labels.view(-1, 1))\n",
        "            val_loss += loss.item()\n",
        "\n",
        "    avg_val_loss = val_loss / len(val_loader)\n",
        "    return avg_val_loss\n",
        "\n",
        "# Create the study and run optimization\n",
        "study = optuna.create_study(direction='minimize')\n",
        "study.optimize(objective, n_trials=50)\n",
        "\n",
        "# Extract the best hyperparameters\n",
        "best_params = study.best_trial.params\n",
        "learning_rate = best_params['learning_rate']\n",
        "hidden_size = best_params['hidden_size']\n",
        "num_layers = best_params['num_layers']\n",
        "batch_size = best_params['batch_size']\n",
        "\n",
        "print(f\"Best parameters found: {best_params}\")\n",
        "\n",
        "# Define the final model with the best parameters\n",
        "class LSTMStockPredictor(nn.Module):\n",
        "    def __init__(self, input_size=1, hidden_layer_size=hidden_size, output_size=1):\n",
        "        super(LSTMStockPredictor, self).__init__()\n",
        "        self.hidden_layer_size = hidden_size\n",
        "        self.lstm = nn.LSTM(input_size, hidden_size, num_layers=num_layers, batch_first=True)\n",
        "        self.linear = nn.Linear(hidden_size, output_size)\n",
        "\n",
        "    def forward(self, input_seq):\n",
        "        lstm_out, _ = self.lstm(input_seq)\n",
        "        predictions = self.linear(lstm_out[:, -1, :])\n",
        "        return predictions\n",
        "\n",
        "# Initialize the final model, loss function, and optimizer with the best hyperparameters\n",
        "model = LSTMStockPredictor()\n",
        "loss_function = nn.MSELoss()\n",
        "optimizer = torch.optim.Adam(model.parameters(), lr=learning_rate)\n",
        "\n",
        "# Create DataLoaders with the best batch size\n",
        "train_loader = DataLoader(train_subset, batch_size=batch_size, shuffle=True)\n",
        "val_loader = DataLoader(val_subset, batch_size=batch_size, shuffle=False)\n",
        "\n",
        "# Lists to store the loss values for plotting\n",
        "train_losses = []\n",
        "val_losses = []\n",
        "\n",
        "# Training with validation\n",
        "num_epochs = 20  # Number of epochs for final training\n",
        "for epoch in range(num_epochs):\n",
        "    train_loss = 0.0\n",
        "    val_loss = 0.0\n",
        "\n",
        "    # Training Loop\n",
        "    model.train()\n",
        "    for seq, labels in train_loader:\n",
        "        optimizer.zero_grad()\n",
        "        seq = seq.view(-1, seq_length, 1)\n",
        "        y_pred = model(seq)\n",
        "        loss = loss_function(y_pred, labels.view(-1, 1))\n",
        "        loss.backward()\n",
        "        optimizer.step()\n",
        "        train_loss += loss.item()\n",
        "\n",
        "    # Calculate average training loss for this epoch\n",
        "    avg_train_loss = train_loss / len(train_loader)\n",
        "    train_losses.append(avg_train_loss)\n",
        "\n",
        "    # Validation Loop\n",
        "    model.eval()\n",
        "    with torch.no_grad():\n",
        "        for seq, labels in val_loader:\n",
        "            seq = seq.view(-1, seq_length, 1)\n",
        "            y_pred = model(seq)\n",
        "            loss = loss_function(y_pred, labels.view(-1, 1))\n",
        "            val_loss += loss.item()\n",
        "\n",
        "    # Calculate average validation loss for this epoch\n",
        "    avg_val_loss = val_loss / len(val_loader)\n",
        "    val_losses.append(avg_val_loss)\n",
        "\n",
        "    # Print epoch summary\n",
        "    print(f'Epoch {epoch + 1}/{num_epochs}, Training Loss: {avg_train_loss:.4f}, Validation Loss: {avg_val_loss:.4f}')\n",
        "\n",
        "# Plot training & validation loss values\n",
        "plt.figure(figsize=(10, 6))\n",
        "plt.plot(train_losses, label='Training Loss', color='blue', linewidth=2)\n",
        "plt.plot(val_losses, label='Validation Loss', color='orange', linestyle='--', linewidth=2)\n",
        "plt.title('Model Loss over Epochs')\n",
        "plt.xlabel('Epoch')\n",
        "plt.ylabel('Loss')\n",
        "plt.legend(loc='upper right')\n",
        "plt.grid(True)\n",
        "plt.show()\n"
      ],
      "metadata": {
        "id": "jOx9EKgxSWnt",
        "outputId": "2736cfa8-bd7a-4fd3-c9d6-bdf0320b5098",
        "colab": {
          "base_uri": "https://localhost:8080/",
          "height": 1000
        }
      },
      "execution_count": 109,
      "outputs": [
        {
          "output_type": "stream",
          "name": "stderr",
          "text": [
            "[I 2024-10-25 10:47:18,034] A new study created in memory with name: no-name-9bc28354-9c1c-4566-b577-8164a39ea79e\n",
            "<ipython-input-109-256127fd328c>:18: FutureWarning: suggest_loguniform has been deprecated in v3.0.0. This feature will be removed in v6.0.0. See https://github.com/optuna/optuna/releases/tag/v3.0.0. Use suggest_float(..., log=True) instead.\n",
            "  learning_rate = trial.suggest_loguniform('learning_rate', 1e-5, 1e-1)\n",
            "[I 2024-10-25 10:47:35,933] Trial 0 finished with value: 4.8669389040393675e-05 and parameters: {'learning_rate': 0.0010829881300759429, 'hidden_size': 142, 'num_layers': 1, 'batch_size': 64}. Best is trial 0 with value: 4.8669389040393675e-05.\n",
            "[I 2024-10-25 10:47:47,006] Trial 1 finished with value: 6.0154083257657476e-05 and parameters: {'learning_rate': 0.010878662528365743, 'hidden_size': 167, 'num_layers': 1, 'batch_size': 128}. Best is trial 0 with value: 4.8669389040393675e-05.\n",
            "[I 2024-10-25 10:48:32,435] Trial 2 finished with value: 7.688354173751577e-05 and parameters: {'learning_rate': 0.0007179014134856232, 'hidden_size': 142, 'num_layers': 3, 'batch_size': 16}. Best is trial 0 with value: 4.8669389040393675e-05.\n",
            "[I 2024-10-25 10:48:44,726] Trial 3 finished with value: 0.0006380765747356539 and parameters: {'learning_rate': 0.00011492716964840443, 'hidden_size': 105, 'num_layers': 2, 'batch_size': 128}. Best is trial 0 with value: 4.8669389040393675e-05.\n",
            "[I 2024-10-25 10:48:58,110] Trial 4 finished with value: 7.28697874971355e-05 and parameters: {'learning_rate': 0.0067043560403842965, 'hidden_size': 74, 'num_layers': 3, 'batch_size': 64}. Best is trial 0 with value: 4.8669389040393675e-05.\n",
            "[I 2024-10-25 10:49:10,524] Trial 5 finished with value: 0.0006758398958481848 and parameters: {'learning_rate': 0.00015171607853416906, 'hidden_size': 87, 'num_layers': 2, 'batch_size': 128}. Best is trial 0 with value: 4.8669389040393675e-05.\n",
            "[I 2024-10-25 10:49:18,359] Trial 6 finished with value: 0.04928340079883734 and parameters: {'learning_rate': 1.3193770662589157e-05, 'hidden_size': 80, 'num_layers': 2, 'batch_size': 128}. Best is trial 0 with value: 4.8669389040393675e-05.\n",
            "[I 2024-10-25 10:49:51,716] Trial 7 finished with value: 6.190505431883746e-05 and parameters: {'learning_rate': 0.0008874318917526056, 'hidden_size': 188, 'num_layers': 2, 'batch_size': 32}. Best is trial 0 with value: 4.8669389040393675e-05.\n",
            "[I 2024-10-25 10:50:04,888] Trial 8 finished with value: 0.012986310641281307 and parameters: {'learning_rate': 1.1988822256029426e-05, 'hidden_size': 158, 'num_layers': 1, 'batch_size': 32}. Best is trial 0 with value: 4.8669389040393675e-05.\n",
            "[I 2024-10-25 10:50:46,603] Trial 9 finished with value: 0.0001255414144528307 and parameters: {'learning_rate': 0.009686473094909952, 'hidden_size': 144, 'num_layers': 3, 'batch_size': 16}. Best is trial 0 with value: 4.8669389040393675e-05.\n",
            "[I 2024-10-25 10:50:54,220] Trial 10 finished with value: 0.002924850113534679 and parameters: {'learning_rate': 0.060661068723242235, 'hidden_size': 120, 'num_layers': 1, 'batch_size': 64}. Best is trial 0 with value: 4.8669389040393675e-05.\n",
            "[I 2024-10-25 10:51:07,325] Trial 11 finished with value: 3.929949798475718e-05 and parameters: {'learning_rate': 0.008115251311764039, 'hidden_size': 190, 'num_layers': 1, 'batch_size': 64}. Best is trial 11 with value: 3.929949798475718e-05.\n",
            "[I 2024-10-25 10:51:20,070] Trial 12 finished with value: 4.308650098513075e-05 and parameters: {'learning_rate': 0.002638013905226746, 'hidden_size': 188, 'num_layers': 1, 'batch_size': 64}. Best is trial 11 with value: 3.929949798475718e-05.\n",
            "[I 2024-10-25 10:51:33,542] Trial 13 finished with value: 0.007595595011177163 and parameters: {'learning_rate': 0.056400636812894145, 'hidden_size': 193, 'num_layers': 1, 'batch_size': 64}. Best is trial 11 with value: 3.929949798475718e-05.\n",
            "[I 2024-10-25 10:51:45,971] Trial 14 finished with value: 3.675795195097938e-05 and parameters: {'learning_rate': 0.0040452292569832585, 'hidden_size': 174, 'num_layers': 1, 'batch_size': 64}. Best is trial 14 with value: 3.675795195097938e-05.\n",
            "[I 2024-10-25 10:51:58,825] Trial 15 finished with value: 0.0013195720239309594 and parameters: {'learning_rate': 0.02821608391619815, 'hidden_size': 175, 'num_layers': 1, 'batch_size': 64}. Best is trial 14 with value: 3.675795195097938e-05.\n",
            "[I 2024-10-25 10:52:30,198] Trial 16 finished with value: 6.647853191073712e-05 and parameters: {'learning_rate': 0.0021252345358743624, 'hidden_size': 196, 'num_layers': 2, 'batch_size': 64}. Best is trial 14 with value: 3.675795195097938e-05.\n",
            "[I 2024-10-25 10:52:34,110] Trial 17 finished with value: 0.000446474710770417 and parameters: {'learning_rate': 0.00017594541004991562, 'hidden_size': 52, 'num_layers': 1, 'batch_size': 64}. Best is trial 14 with value: 3.675795195097938e-05.\n",
            "[I 2024-10-25 10:52:47,930] Trial 18 finished with value: 0.0002164103349665917 and parameters: {'learning_rate': 0.016917600529177238, 'hidden_size': 172, 'num_layers': 1, 'batch_size': 32}. Best is trial 14 with value: 3.675795195097938e-05.\n",
            "[I 2024-10-25 10:53:20,158] Trial 19 finished with value: 5.4343147079786526e-05 and parameters: {'learning_rate': 0.003311402124504487, 'hidden_size': 155, 'num_layers': 2, 'batch_size': 16}. Best is trial 14 with value: 3.675795195097938e-05.\n",
            "[I 2024-10-25 10:53:39,224] Trial 20 finished with value: 6.106319733589771e-05 and parameters: {'learning_rate': 0.00036331412966666884, 'hidden_size': 128, 'num_layers': 2, 'batch_size': 64}. Best is trial 14 with value: 3.675795195097938e-05.\n",
            "[I 2024-10-25 10:53:51,717] Trial 21 finished with value: 6.264045017208748e-05 and parameters: {'learning_rate': 0.003258024590124856, 'hidden_size': 183, 'num_layers': 1, 'batch_size': 64}. Best is trial 14 with value: 3.675795195097938e-05.\n",
            "[I 2024-10-25 10:54:06,015] Trial 22 finished with value: 3.8236301710033636e-05 and parameters: {'learning_rate': 0.004987738337744538, 'hidden_size': 198, 'num_layers': 1, 'batch_size': 64}. Best is trial 14 with value: 3.675795195097938e-05.\n",
            "[I 2024-10-25 10:54:20,487] Trial 23 finished with value: 8.012545686142403e-05 and parameters: {'learning_rate': 0.025499205636626266, 'hidden_size': 199, 'num_layers': 1, 'batch_size': 64}. Best is trial 14 with value: 3.675795195097938e-05.\n",
            "[I 2024-10-25 10:54:32,690] Trial 24 finished with value: 5.225165023148293e-05 and parameters: {'learning_rate': 0.0063773855791579145, 'hidden_size': 178, 'num_layers': 1, 'batch_size': 64}. Best is trial 14 with value: 3.675795195097938e-05.\n",
            "[I 2024-10-25 10:54:43,682] Trial 25 finished with value: 4.7043381755429436e-05 and parameters: {'learning_rate': 0.001477837190886188, 'hidden_size': 161, 'num_layers': 1, 'batch_size': 64}. Best is trial 14 with value: 3.675795195097938e-05.\n",
            "[I 2024-10-25 10:54:58,591] Trial 26 finished with value: 0.00015544059048503792 and parameters: {'learning_rate': 0.09983699774714147, 'hidden_size': 199, 'num_layers': 1, 'batch_size': 64}. Best is trial 14 with value: 3.675795195097938e-05.\n",
            "[I 2024-10-25 10:55:16,807] Trial 27 finished with value: 6.576680169700921e-05 and parameters: {'learning_rate': 0.004264644796436103, 'hidden_size': 183, 'num_layers': 1, 'batch_size': 16}. Best is trial 14 with value: 3.675795195097938e-05.\n",
            "[I 2024-10-25 10:55:39,285] Trial 28 finished with value: 6.322688326084365e-05 and parameters: {'learning_rate': 0.0004249657981444451, 'hidden_size': 153, 'num_layers': 2, 'batch_size': 64}. Best is trial 14 with value: 3.675795195097938e-05.\n",
            "[I 2024-10-25 10:55:48,758] Trial 29 finished with value: 2.435394990622323e-05 and parameters: {'learning_rate': 0.015129923865699686, 'hidden_size': 131, 'num_layers': 1, 'batch_size': 32}. Best is trial 29 with value: 2.435394990622323e-05.\n",
            "[I 2024-10-25 10:55:58,935] Trial 30 finished with value: 2.203254418494301e-05 and parameters: {'learning_rate': 0.02063967014095355, 'hidden_size': 127, 'num_layers': 1, 'batch_size': 32}. Best is trial 30 with value: 2.203254418494301e-05.\n",
            "[I 2024-10-25 10:56:09,422] Trial 31 finished with value: 4.0216088450506504e-05 and parameters: {'learning_rate': 0.02031892873674662, 'hidden_size': 126, 'num_layers': 1, 'batch_size': 32}. Best is trial 30 with value: 2.203254418494301e-05.\n",
            "[I 2024-10-25 10:56:16,997] Trial 32 finished with value: 5.7437297073192894e-05 and parameters: {'learning_rate': 0.015430401271415688, 'hidden_size': 103, 'num_layers': 1, 'batch_size': 32}. Best is trial 30 with value: 2.203254418494301e-05.\n",
            "[I 2024-10-25 10:56:26,629] Trial 33 finished with value: 0.004121442111985137 and parameters: {'learning_rate': 0.03761107530536395, 'hidden_size': 115, 'num_layers': 1, 'batch_size': 32}. Best is trial 30 with value: 2.203254418494301e-05.\n",
            "[I 2024-10-25 10:56:37,891] Trial 34 finished with value: 3.358665920435063e-05 and parameters: {'learning_rate': 0.005321125963203284, 'hidden_size': 134, 'num_layers': 1, 'batch_size': 32}. Best is trial 30 with value: 2.203254418494301e-05.\n",
            "[I 2024-10-25 10:56:48,271] Trial 35 finished with value: 3.660406611061262e-05 and parameters: {'learning_rate': 0.012116674319077252, 'hidden_size': 135, 'num_layers': 1, 'batch_size': 32}. Best is trial 30 with value: 2.203254418494301e-05.\n",
            "[I 2024-10-25 10:57:23,709] Trial 36 finished with value: 0.0008137768133262094 and parameters: {'learning_rate': 0.013988366479663094, 'hidden_size': 134, 'num_layers': 3, 'batch_size': 32}. Best is trial 30 with value: 2.203254418494301e-05.\n",
            "[I 2024-10-25 10:57:34,721] Trial 37 finished with value: 0.00011698441903718049 and parameters: {'learning_rate': 0.038478264421802716, 'hidden_size': 137, 'num_layers': 1, 'batch_size': 32}. Best is trial 30 with value: 2.203254418494301e-05.\n",
            "[I 2024-10-25 10:57:51,498] Trial 38 finished with value: 6.007025520678629e-05 and parameters: {'learning_rate': 0.010490183806454452, 'hidden_size': 108, 'num_layers': 2, 'batch_size': 32}. Best is trial 30 with value: 2.203254418494301e-05.\n",
            "[I 2024-10-25 10:58:03,774] Trial 39 finished with value: 6.772139803009243e-05 and parameters: {'learning_rate': 0.0014877539591106486, 'hidden_size': 145, 'num_layers': 1, 'batch_size': 32}. Best is trial 30 with value: 2.203254418494301e-05.\n",
            "[I 2024-10-25 10:58:17,670] Trial 40 finished with value: 0.0004312316614232259 and parameters: {'learning_rate': 0.0843644657676414, 'hidden_size': 96, 'num_layers': 2, 'batch_size': 32}. Best is trial 30 with value: 2.203254418494301e-05.\n",
            "[I 2024-10-25 10:58:26,235] Trial 41 finished with value: 0.021363141636053722 and parameters: {'learning_rate': 3.0528141046348554e-05, 'hidden_size': 133, 'num_layers': 1, 'batch_size': 128}. Best is trial 30 with value: 2.203254418494301e-05.\n",
            "[I 2024-10-25 10:58:35,941] Trial 42 finished with value: 0.00010606531229010822 and parameters: {'learning_rate': 0.005338898622805669, 'hidden_size': 116, 'num_layers': 1, 'batch_size': 32}. Best is trial 30 with value: 2.203254418494301e-05.\n",
            "[I 2024-10-25 10:58:46,681] Trial 43 finished with value: 2.7355276851418846e-05 and parameters: {'learning_rate': 0.009315491976668491, 'hidden_size': 146, 'num_layers': 1, 'batch_size': 32}. Best is trial 30 with value: 2.203254418494301e-05.\n",
            "[I 2024-10-25 10:58:58,637] Trial 44 finished with value: 3.493748946918155e-05 and parameters: {'learning_rate': 0.009418981316876992, 'hidden_size': 148, 'num_layers': 1, 'batch_size': 32}. Best is trial 30 with value: 2.203254418494301e-05.\n",
            "[I 2024-10-25 10:59:10,366] Trial 45 finished with value: 3.125515604551765e-05 and parameters: {'learning_rate': 0.0075760163875768, 'hidden_size': 145, 'num_layers': 1, 'batch_size': 32}. Best is trial 30 with value: 2.203254418494301e-05.\n",
            "[I 2024-10-25 10:59:20,335] Trial 46 finished with value: 4.10430530261389e-05 and parameters: {'learning_rate': 0.03854841962544377, 'hidden_size': 122, 'num_layers': 1, 'batch_size': 32}. Best is trial 30 with value: 2.203254418494301e-05.\n",
            "[I 2024-10-25 11:00:04,370] Trial 47 finished with value: 0.00014684358802696806 and parameters: {'learning_rate': 0.007292436152162606, 'hidden_size': 163, 'num_layers': 3, 'batch_size': 32}. Best is trial 30 with value: 2.203254418494301e-05.\n",
            "[I 2024-10-25 11:00:13,247] Trial 48 finished with value: 0.00018222511789645068 and parameters: {'learning_rate': 0.022948317442844587, 'hidden_size': 151, 'num_layers': 1, 'batch_size': 128}. Best is trial 30 with value: 2.203254418494301e-05.\n",
            "[I 2024-10-25 11:00:25,247] Trial 49 finished with value: 9.152574640817572e-05 and parameters: {'learning_rate': 0.0021832701788645783, 'hidden_size': 141, 'num_layers': 1, 'batch_size': 32}. Best is trial 30 with value: 2.203254418494301e-05.\n"
          ]
        },
        {
          "output_type": "stream",
          "name": "stdout",
          "text": [
            "Best parameters found: {'learning_rate': 0.02063967014095355, 'hidden_size': 127, 'num_layers': 1, 'batch_size': 32}\n",
            "Epoch 1/20, Training Loss: 0.1328, Validation Loss: 0.0266\n",
            "Epoch 2/20, Training Loss: 0.0133, Validation Loss: 0.0001\n",
            "Epoch 3/20, Training Loss: 0.0001, Validation Loss: 0.0001\n",
            "Epoch 4/20, Training Loss: 0.0001, Validation Loss: 0.0001\n",
            "Epoch 5/20, Training Loss: 0.0003, Validation Loss: 0.0005\n",
            "Epoch 6/20, Training Loss: 0.0004, Validation Loss: 0.0003\n",
            "Epoch 7/20, Training Loss: 0.0003, Validation Loss: 0.0001\n",
            "Epoch 8/20, Training Loss: 0.0003, Validation Loss: 0.0002\n",
            "Epoch 9/20, Training Loss: 0.0003, Validation Loss: 0.0011\n",
            "Epoch 10/20, Training Loss: 0.0005, Validation Loss: 0.0002\n",
            "Epoch 11/20, Training Loss: 0.0002, Validation Loss: 0.0002\n",
            "Epoch 12/20, Training Loss: 0.0003, Validation Loss: 0.0000\n",
            "Epoch 13/20, Training Loss: 0.0003, Validation Loss: 0.0000\n",
            "Epoch 14/20, Training Loss: 0.0002, Validation Loss: 0.0002\n",
            "Epoch 15/20, Training Loss: 0.0003, Validation Loss: 0.0001\n",
            "Epoch 16/20, Training Loss: 0.0003, Validation Loss: 0.0001\n",
            "Epoch 17/20, Training Loss: 0.0001, Validation Loss: 0.0001\n",
            "Epoch 18/20, Training Loss: 0.0002, Validation Loss: 0.0002\n",
            "Epoch 19/20, Training Loss: 0.0003, Validation Loss: 0.0000\n",
            "Epoch 20/20, Training Loss: 0.0002, Validation Loss: 0.0006\n"
          ]
        },
        {
          "output_type": "display_data",
          "data": {
            "text/plain": [
              "<Figure size 1000x600 with 1 Axes>"
            ],
            "image/png": "[encoded data removed]"
          },
          "metadata": {}
        }
      ]
    }
  ]
}