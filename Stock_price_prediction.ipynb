{
  "nbformat": 4,
  "nbformat_minor": 0,
  "metadata": {
    "colab": {
      "provenance": [],
      "toc_visible": true,
      "mount_file_id": "1ysKi05g2fpl5SSK0s2reE-_STB7Lhs5A",
      "authorship_tag": "ABX9TyNkc7/+1yIgQxJqO5e3YwMH",
      "include_colab_link": true
    },
    "kernelspec": {
      "name": "python3",
      "display_name": "Python 3"
    },
    "language_info": {
      "name": "python"
    }
  },
  "cells": [
    {
      "cell_type": "markdown",
      "metadata": {
        "id": "view-in-github",
        "colab_type": "text"
      },
      "source": [
        "<a href=\"https://colab.research.google.com/github/AdamChoong0095/NUS-Stock-Data/blob/Adam/Stock_price_prediction.ipynb\" target=\"_parent\"><img src=\"https://colab.research.google.com/assets/colab-badge.svg\" alt=\"Open In Colab\"/></a>"
      ]
    },
    {
      "cell_type": "markdown",
      "source": [
        "# Stock Price CS3244 project\n",
        "The goals of this project are:\n",
        "* To determine an effective model with justificaiton for predicting stock prices of the S&P500\n",
        "* To determine if the S&P500 is a good indicator of performance for other companies contained in the top 500 performing companies"
      ],
      "metadata": {
        "id": "KEYGYDAFWDdE"
      }
    },
    {
      "cell_type": "code",
      "source": [
        "from google.colab import drive\n",
        "drive.mount('/content/drive')"
      ],
      "metadata": {
        "id": "jkJPApluWCq0",
        "outputId": "335f6659-7389-4d92-aad1-b35e1d880d08",
        "colab": {
          "base_uri": "https://localhost:8080/"
        }
      },
      "execution_count": 1,
      "outputs": [
        {
          "output_type": "stream",
          "name": "stdout",
          "text": [
            "Drive already mounted at /content/drive; to attempt to forcibly remount, call drive.mount(\"/content/drive\", force_remount=True).\n"
          ]
        }
      ]
    },
    {
      "cell_type": "code",
      "source": [
        "import pandas as pd\n",
        "sp500=pd.read_csv('/content/drive/MyDrive/cs3244_data/ETFs/spy.us.txt')\n",
        "sp500.drop(columns={'OpenInt','Volume'}, inplace=True)\n",
        "# Create empty lists to store the new data\n",
        "dates = []\n",
        "prices = []\n",
        "price_types = []\n",
        "\n",
        "# Iterate through the DataFrame\n",
        "for index, row in sp500.iterrows():\n",
        "  date = row['Date']\n",
        "  open_price = row['Open']\n",
        "  high_price = row['High']\n",
        "  low_price = row['Low']\n",
        "  close_price = row['Close']\n",
        "\n",
        "  # Append the data to the lists\n",
        "  dates.extend([date] * 4)  # Repeat the date 4 times\n",
        "  prices.extend([open_price, high_price, low_price, close_price])\n",
        "  price_types.extend(['open', 'high', 'low', 'close'])\n",
        "\n",
        "# Create a new DataFrame\n",
        "sp500 = pd.DataFrame({'Date': dates, 'Price': prices, 'Type of Price': price_types})"
      ],
      "metadata": {
        "id": "IT2u0Nza3WpE"
      },
      "execution_count": 2,
      "outputs": []
    },
    {
      "cell_type": "code",
      "source": [
        "# Group the DataFrame by Date and Type of Price\n",
        "grouped = sp500.groupby(['Date', 'Type of Price'])\n",
        "\n",
        "# Calculate the average price for each date and type\n",
        "avg_prices = grouped['Price'].mean().reset_index()\n",
        "\n",
        "# Create a dictionary to store the average high and low prices for each date\n",
        "avg_high_low = {}\n",
        "\n",
        "# Iterate through the average prices\n",
        "for index, row in avg_prices.iterrows():\n",
        "  date = row['Date']\n",
        "  price_type = row['Type of Price']\n",
        "  price = row['Price']\n",
        "\n",
        "  if date not in avg_high_low:\n",
        "    avg_high_low[date] = {}\n",
        "\n",
        "  if price_type == 'high' or price_type == 'low':\n",
        "    avg_high_low[date][price_type] = price\n",
        "\n",
        "# Iterate through the DataFrame and replace high and low prices with the average\n",
        "for index, row in sp500.iterrows():\n",
        "  date = row['Date']\n",
        "  price_type = row['Type of Price']\n",
        "\n",
        "  if price_type == 'high' or price_type == 'low' and date in avg_high_low:\n",
        "    sp500.loc[index, 'Price'] = avg_high_low[date][price_type]\n"
      ],
      "metadata": {
        "id": "ZcUkfHw04ntd"
      },
      "execution_count": 3,
      "outputs": []
    },
    {
      "cell_type": "code",
      "source": [
        "# Create a new DataFrame to store the modified data\n",
        "new_sp500 = pd.DataFrame(columns=['Date', 'Price', 'Type of Price'])\n",
        "\n",
        "# Iterate through the DataFrame\n",
        "i = 0\n",
        "while i < len(sp500):\n",
        "  row = sp500.iloc[i]\n",
        "  if row['Type of Price'] == 'high':\n",
        "    # Check if the next row exists and is 'low'\n",
        "    if i + 1 < len(sp500) and sp500.iloc[i + 1]['Type of Price'] == 'low':\n",
        "      # Calculate the average of the high and low prices\n",
        "      average_price = (row['Price'] + sp500.iloc[i + 1]['Price']) / 2\n",
        "      # Add a new row with the average price and label 'average'\n",
        "      new_sp500 = pd.concat([new_sp500, pd.DataFrame({'Date': [row['Date']], 'Price': [average_price], 'Type of Price': ['average']})], ignore_index=True)\n",
        "      i += 2  # Skip the next row (low)\n",
        "    else:\n",
        "      # If the next row is not 'low', keep the current row as it is\n",
        "      new_sp500 = pd.concat([new_sp500, pd.DataFrame({'Date': [row['Date']], 'Price': [row['Price']], 'Type of Price': [row['Type of Price']]})], ignore_index=True)\n",
        "      i += 1\n",
        "  else:\n",
        "    # If the current row is not 'high', keep it as it is\n",
        "    new_sp500 = pd.concat([new_sp500, pd.DataFrame({'Date': [row['Date']], 'Price': [row['Price']], 'Type of Price': [row['Type of Price']]})], ignore_index=True)\n",
        "    i += 1\n",
        "\n",
        "new_dates = []\n",
        "for index, row in new_sp500.iterrows():\n",
        "  date = row['Date']\n",
        "  price_type = row['Type of Price']\n",
        "  if price_type == 'open':\n",
        "    new_dates.append(date + '-09:30')\n",
        "  elif price_type == 'average':\n",
        "    new_dates.append(date + '-13:30')\n",
        "  else:\n",
        "    new_dates.append(date + '-16:30')\n",
        "\n",
        "new_sp500['Date'] = new_dates\n",
        "sp500=new_sp500\n",
        "sp500"
      ],
      "metadata": {
        "id": "jZkS-cDmFqIM",
        "colab": {
          "base_uri": "https://localhost:8080/",
          "height": 473
        },
        "outputId": "8c6da9e1-9054-4188-e61c-2e0002019a5b"
      },
      "execution_count": 4,
      "outputs": [
        {
          "output_type": "stream",
          "name": "stderr",
          "text": [
            "<ipython-input-4-c8516a3cec5f>:22: FutureWarning: The behavior of DataFrame concatenation with empty or all-NA entries is deprecated. In a future version, this will no longer exclude empty or all-NA columns when determining the result dtypes. To retain the old behavior, exclude the relevant entries before the concat operation.\n",
            "  new_sp500 = pd.concat([new_sp500, pd.DataFrame({'Date': [row['Date']], 'Price': [row['Price']], 'Type of Price': [row['Type of Price']]})], ignore_index=True)\n"
          ]
        },
        {
          "output_type": "execute_result",
          "data": {
            "text/plain": [
              "                  Date    Price Type of Price\n",
              "0     2005-02-25-09:30  104.770          open\n",
              "1     2005-02-25-13:30  105.340       average\n",
              "2     2005-02-25-16:30  105.790         close\n",
              "3     2005-02-28-09:30  105.550          open\n",
              "4     2005-02-28-13:30  105.120       average\n",
              "...                ...      ...           ...\n",
              "9598  2017-11-09-13:30  257.375       average\n",
              "9599  2017-11-09-16:30  258.170         close\n",
              "9600  2017-11-10-09:30  257.730          open\n",
              "9601  2017-11-10-13:30  257.790       average\n",
              "9602  2017-11-10-16:30  258.090         close\n",
              "\n",
              "[9603 rows x 3 columns]"
            ],
            "text/html": [
              "\n",
              "  <div id=\"df-19eea637-e691-492f-ab72-f86e8813d636\" class=\"colab-df-container\">\n",
              "    <div>\n",
              "<style scoped>\n",
              "    .dataframe tbody tr th:only-of-type {\n",
              "        vertical-align: middle;\n",
              "    }\n",
              "\n",
              "    .dataframe tbody tr th {\n",
              "        vertical-align: top;\n",
              "    }\n",
              "\n",
              "    .dataframe thead th {\n",
              "        text-align: right;\n",
              "    }\n",
              "</style>\n",
              "<table border=\"1\" class=\"dataframe\">\n",
              "  <thead>\n",
              "    <tr style=\"text-align: right;\">\n",
              "      <th></th>\n",
              "      <th>Date</th>\n",
              "      <th>Price</th>\n",
              "      <th>Type of Price</th>\n",
              "    </tr>\n",
              "  </thead>\n",
              "  <tbody>\n",
              "    <tr>\n",
              "      <th>0</th>\n",
              "      <td>2005-02-25-09:30</td>\n",
              "      <td>104.770</td>\n",
              "      <td>open</td>\n",
              "    </tr>\n",
              "    <tr>\n",
              "      <th>1</th>\n",
              "      <td>2005-02-25-13:30</td>\n",
              "      <td>105.340</td>\n",
              "      <td>average</td>\n",
              "    </tr>\n",
              "    <tr>\n",
              "      <th>2</th>\n",
              "      <td>2005-02-25-16:30</td>\n",
              "      <td>105.790</td>\n",
              "      <td>close</td>\n",
              "    </tr>\n",
              "    <tr>\n",
              "      <th>3</th>\n",
              "      <td>2005-02-28-09:30</td>\n",
              "      <td>105.550</td>\n",
              "      <td>open</td>\n",
              "    </tr>\n",
              "    <tr>\n",
              "      <th>4</th>\n",
              "      <td>2005-02-28-13:30</td>\n",
              "      <td>105.120</td>\n",
              "      <td>average</td>\n",
              "    </tr>\n",
              "    <tr>\n",
              "      <th>...</th>\n",
              "      <td>...</td>\n",
              "      <td>...</td>\n",
              "      <td>...</td>\n",
              "    </tr>\n",
              "    <tr>\n",
              "      <th>9598</th>\n",
              "      <td>2017-11-09-13:30</td>\n",
              "      <td>257.375</td>\n",
              "      <td>average</td>\n",
              "    </tr>\n",
              "    <tr>\n",
              "      <th>9599</th>\n",
              "      <td>2017-11-09-16:30</td>\n",
              "      <td>258.170</td>\n",
              "      <td>close</td>\n",
              "    </tr>\n",
              "    <tr>\n",
              "      <th>9600</th>\n",
              "      <td>2017-11-10-09:30</td>\n",
              "      <td>257.730</td>\n",
              "      <td>open</td>\n",
              "    </tr>\n",
              "    <tr>\n",
              "      <th>9601</th>\n",
              "      <td>2017-11-10-13:30</td>\n",
              "      <td>257.790</td>\n",
              "      <td>average</td>\n",
              "    </tr>\n",
              "    <tr>\n",
              "      <th>9602</th>\n",
              "      <td>2017-11-10-16:30</td>\n",
              "      <td>258.090</td>\n",
              "      <td>close</td>\n",
              "    </tr>\n",
              "  </tbody>\n",
              "</table>\n",
              "<p>9603 rows × 3 columns</p>\n",
              "</div>\n",
              "    <div class=\"colab-df-buttons\">\n",
              "\n",
              "  <div class=\"colab-df-container\">\n",
              "    <button class=\"colab-df-convert\" onclick=\"convertToInteractive('df-19eea637-e691-492f-ab72-f86e8813d636')\"\n",
              "            title=\"Convert this dataframe to an interactive table.\"\n",
              "            style=\"display:none;\">\n",
              "\n",
              "  <svg xmlns=\"http://www.w3.org/2000/svg\" height=\"24px\" viewBox=\"0 -960 960 960\">\n",
              "    <path d=\"M120-120v-720h720v720H120Zm60-500h600v-160H180v160Zm220 220h160v-160H400v160Zm0 220h160v-160H400v160ZM180-400h160v-160H180v160Zm440 0h160v-160H620v160ZM180-180h160v-160H180v160Zm440 0h160v-160H620v160Z\"/>\n",
              "  </svg>\n",
              "    </button>\n",
              "\n",
              "  <style>\n",
              "    .colab-df-container {\n",
              "      display:flex;\n",
              "      gap: 12px;\n",
              "    }\n",
              "\n",
              "    .colab-df-convert {\n",
              "      background-color: #E8F0FE;\n",
              "      border: none;\n",
              "      border-radius: 50%;\n",
              "      cursor: pointer;\n",
              "      display: none;\n",
              "      fill: #1967D2;\n",
              "      height: 32px;\n",
              "      padding: 0 0 0 0;\n",
              "      width: 32px;\n",
              "    }\n",
              "\n",
              "    .colab-df-convert:hover {\n",
              "      background-color: #E2EBFA;\n",
              "      box-shadow: 0px 1px 2px rgba(60, 64, 67, 0.3), 0px 1px 3px 1px rgba(60, 64, 67, 0.15);\n",
              "      fill: #174EA6;\n",
              "    }\n",
              "\n",
              "    .colab-df-buttons div {\n",
              "      margin-bottom: 4px;\n",
              "    }\n",
              "\n",
              "    [theme=dark] .colab-df-convert {\n",
              "      background-color: #3B4455;\n",
              "      fill: #D2E3FC;\n",
              "    }\n",
              "\n",
              "    [theme=dark] .colab-df-convert:hover {\n",
              "      background-color: #434B5C;\n",
              "      box-shadow: 0px 1px 3px 1px rgba(0, 0, 0, 0.15);\n",
              "      filter: drop-shadow(0px 1px 2px rgba(0, 0, 0, 0.3));\n",
              "      fill: #FFFFFF;\n",
              "    }\n",
              "  </style>\n",
              "\n",
              "    <script>\n",
              "      const buttonEl =\n",
              "        document.querySelector('#df-19eea637-e691-492f-ab72-f86e8813d636 button.colab-df-convert');\n",
              "      buttonEl.style.display =\n",
              "        google.colab.kernel.accessAllowed ? 'block' : 'none';\n",
              "\n",
              "      async function convertToInteractive(key) {\n",
              "        const element = document.querySelector('#df-19eea637-e691-492f-ab72-f86e8813d636');\n",
              "        const dataTable =\n",
              "          await google.colab.kernel.invokeFunction('convertToInteractive',\n",
              "                                                    [key], {});\n",
              "        if (!dataTable) return;\n",
              "\n",
              "        const docLinkHtml = 'Like what you see? Visit the ' +\n",
              "          '<a target=\"_blank\" href=https://colab.research.google.com/notebooks/data_table.ipynb>data table notebook</a>'\n",
              "          + ' to learn more about interactive tables.';\n",
              "        element.innerHTML = '';\n",
              "        dataTable['output_type'] = 'display_data';\n",
              "        await google.colab.output.renderOutput(dataTable, element);\n",
              "        const docLink = document.createElement('div');\n",
              "        docLink.innerHTML = docLinkHtml;\n",
              "        element.appendChild(docLink);\n",
              "      }\n",
              "    </script>\n",
              "  </div>\n",
              "\n",
              "\n",
              "<div id=\"df-b7d76c5a-586c-430e-9017-2bf0bae0a00d\">\n",
              "  <button class=\"colab-df-quickchart\" onclick=\"quickchart('df-b7d76c5a-586c-430e-9017-2bf0bae0a00d')\"\n",
              "            title=\"Suggest charts\"\n",
              "            style=\"display:none;\">\n",
              "\n",
              "<svg xmlns=\"http://www.w3.org/2000/svg\" height=\"24px\"viewBox=\"0 0 24 24\"\n",
              "     width=\"24px\">\n",
              "    <g>\n",
              "        <path d=\"M19 3H5c-1.1 0-2 .9-2 2v14c0 1.1.9 2 2 2h14c1.1 0 2-.9 2-2V5c0-1.1-.9-2-2-2zM9 17H7v-7h2v7zm4 0h-2V7h2v10zm4 0h-2v-4h2v4z\"/>\n",
              "    </g>\n",
              "</svg>\n",
              "  </button>\n",
              "\n",
              "<style>\n",
              "  .colab-df-quickchart {\n",
              "      --bg-color: #E8F0FE;\n",
              "      --fill-color: #1967D2;\n",
              "      --hover-bg-color: #E2EBFA;\n",
              "      --hover-fill-color: #174EA6;\n",
              "      --disabled-fill-color: #AAA;\n",
              "      --disabled-bg-color: #DDD;\n",
              "  }\n",
              "\n",
              "  [theme=dark] .colab-df-quickchart {\n",
              "      --bg-color: #3B4455;\n",
              "      --fill-color: #D2E3FC;\n",
              "      --hover-bg-color: #434B5C;\n",
              "      --hover-fill-color: #FFFFFF;\n",
              "      --disabled-bg-color: #3B4455;\n",
              "      --disabled-fill-color: #666;\n",
              "  }\n",
              "\n",
              "  .colab-df-quickchart {\n",
              "    background-color: var(--bg-color);\n",
              "    border: none;\n",
              "    border-radius: 50%;\n",
              "    cursor: pointer;\n",
              "    display: none;\n",
              "    fill: var(--fill-color);\n",
              "    height: 32px;\n",
              "    padding: 0;\n",
              "    width: 32px;\n",
              "  }\n",
              "\n",
              "  .colab-df-quickchart:hover {\n",
              "    background-color: var(--hover-bg-color);\n",
              "    box-shadow: 0 1px 2px rgba(60, 64, 67, 0.3), 0 1px 3px 1px rgba(60, 64, 67, 0.15);\n",
              "    fill: var(--button-hover-fill-color);\n",
              "  }\n",
              "\n",
              "  .colab-df-quickchart-complete:disabled,\n",
              "  .colab-df-quickchart-complete:disabled:hover {\n",
              "    background-color: var(--disabled-bg-color);\n",
              "    fill: var(--disabled-fill-color);\n",
              "    box-shadow: none;\n",
              "  }\n",
              "\n",
              "  .colab-df-spinner {\n",
              "    border: 2px solid var(--fill-color);\n",
              "    border-color: transparent;\n",
              "    border-bottom-color: var(--fill-color);\n",
              "    animation:\n",
              "      spin 1s steps(1) infinite;\n",
              "  }\n",
              "\n",
              "  @keyframes spin {\n",
              "    0% {\n",
              "      border-color: transparent;\n",
              "      border-bottom-color: var(--fill-color);\n",
              "      border-left-color: var(--fill-color);\n",
              "    }\n",
              "    20% {\n",
              "      border-color: transparent;\n",
              "      border-left-color: var(--fill-color);\n",
              "      border-top-color: var(--fill-color);\n",
              "    }\n",
              "    30% {\n",
              "      border-color: transparent;\n",
              "      border-left-color: var(--fill-color);\n",
              "      border-top-color: var(--fill-color);\n",
              "      border-right-color: var(--fill-color);\n",
              "    }\n",
              "    40% {\n",
              "      border-color: transparent;\n",
              "      border-right-color: var(--fill-color);\n",
              "      border-top-color: var(--fill-color);\n",
              "    }\n",
              "    60% {\n",
              "      border-color: transparent;\n",
              "      border-right-color: var(--fill-color);\n",
              "    }\n",
              "    80% {\n",
              "      border-color: transparent;\n",
              "      border-right-color: var(--fill-color);\n",
              "      border-bottom-color: var(--fill-color);\n",
              "    }\n",
              "    90% {\n",
              "      border-color: transparent;\n",
              "      border-bottom-color: var(--fill-color);\n",
              "    }\n",
              "  }\n",
              "</style>\n",
              "\n",
              "  <script>\n",
              "    async function quickchart(key) {\n",
              "      const quickchartButtonEl =\n",
              "        document.querySelector('#' + key + ' button');\n",
              "      quickchartButtonEl.disabled = true;  // To prevent multiple clicks.\n",
              "      quickchartButtonEl.classList.add('colab-df-spinner');\n",
              "      try {\n",
              "        const charts = await google.colab.kernel.invokeFunction(\n",
              "            'suggestCharts', [key], {});\n",
              "      } catch (error) {\n",
              "        console.error('Error during call to suggestCharts:', error);\n",
              "      }\n",
              "      quickchartButtonEl.classList.remove('colab-df-spinner');\n",
              "      quickchartButtonEl.classList.add('colab-df-quickchart-complete');\n",
              "    }\n",
              "    (() => {\n",
              "      let quickchartButtonEl =\n",
              "        document.querySelector('#df-b7d76c5a-586c-430e-9017-2bf0bae0a00d button');\n",
              "      quickchartButtonEl.style.display =\n",
              "        google.colab.kernel.accessAllowed ? 'block' : 'none';\n",
              "    })();\n",
              "  </script>\n",
              "</div>\n",
              "\n",
              "  <div id=\"id_d484091e-2d5e-4b89-a6de-2c9cfab0a477\">\n",
              "    <style>\n",
              "      .colab-df-generate {\n",
              "        background-color: #E8F0FE;\n",
              "        border: none;\n",
              "        border-radius: 50%;\n",
              "        cursor: pointer;\n",
              "        display: none;\n",
              "        fill: #1967D2;\n",
              "        height: 32px;\n",
              "        padding: 0 0 0 0;\n",
              "        width: 32px;\n",
              "      }\n",
              "\n",
              "      .colab-df-generate:hover {\n",
              "        background-color: #E2EBFA;\n",
              "        box-shadow: 0px 1px 2px rgba(60, 64, 67, 0.3), 0px 1px 3px 1px rgba(60, 64, 67, 0.15);\n",
              "        fill: #174EA6;\n",
              "      }\n",
              "\n",
              "      [theme=dark] .colab-df-generate {\n",
              "        background-color: #3B4455;\n",
              "        fill: #D2E3FC;\n",
              "      }\n",
              "\n",
              "      [theme=dark] .colab-df-generate:hover {\n",
              "        background-color: #434B5C;\n",
              "        box-shadow: 0px 1px 3px 1px rgba(0, 0, 0, 0.15);\n",
              "        filter: drop-shadow(0px 1px 2px rgba(0, 0, 0, 0.3));\n",
              "        fill: #FFFFFF;\n",
              "      }\n",
              "    </style>\n",
              "    <button class=\"colab-df-generate\" onclick=\"generateWithVariable('sp500')\"\n",
              "            title=\"Generate code using this dataframe.\"\n",
              "            style=\"display:none;\">\n",
              "\n",
              "  <svg xmlns=\"http://www.w3.org/2000/svg\" height=\"24px\"viewBox=\"0 0 24 24\"\n",
              "       width=\"24px\">\n",
              "    <path d=\"M7,19H8.4L18.45,9,17,7.55,7,17.6ZM5,21V16.75L18.45,3.32a2,2,0,0,1,2.83,0l1.4,1.43a1.91,1.91,0,0,1,.58,1.4,1.91,1.91,0,0,1-.58,1.4L9.25,21ZM18.45,9,17,7.55Zm-12,3A5.31,5.31,0,0,0,4.9,8.1,5.31,5.31,0,0,0,1,6.5,5.31,5.31,0,0,0,4.9,4.9,5.31,5.31,0,0,0,6.5,1,5.31,5.31,0,0,0,8.1,4.9,5.31,5.31,0,0,0,12,6.5,5.46,5.46,0,0,0,6.5,12Z\"/>\n",
              "  </svg>\n",
              "    </button>\n",
              "    <script>\n",
              "      (() => {\n",
              "      const buttonEl =\n",
              "        document.querySelector('#id_d484091e-2d5e-4b89-a6de-2c9cfab0a477 button.colab-df-generate');\n",
              "      buttonEl.style.display =\n",
              "        google.colab.kernel.accessAllowed ? 'block' : 'none';\n",
              "\n",
              "      buttonEl.onclick = () => {\n",
              "        google.colab.notebook.generateWithVariable('sp500');\n",
              "      }\n",
              "      })();\n",
              "    </script>\n",
              "  </div>\n",
              "\n",
              "    </div>\n",
              "  </div>\n"
            ],
            "application/vnd.google.colaboratory.intrinsic+json": {
              "type": "dataframe",
              "variable_name": "sp500",
              "summary": "{\n  \"name\": \"sp500\",\n  \"rows\": 9603,\n  \"fields\": [\n    {\n      \"column\": \"Date\",\n      \"properties\": {\n        \"dtype\": \"object\",\n        \"num_unique_values\": 9603,\n        \"samples\": [\n          \"2006-11-21-13:30\",\n          \"2017-09-27-16:30\",\n          \"2014-09-22-09:30\"\n        ],\n        \"semantic_type\": \"\",\n        \"description\": \"\"\n      }\n    },\n    {\n      \"column\": \"Price\",\n      \"properties\": {\n        \"dtype\": \"number\",\n        \"std\": 46.51258321622472,\n        \"min\": 59.195,\n        \"max\": 259.11,\n        \"num_unique_values\": 7436,\n        \"samples\": [\n          112.02,\n          148.95,\n          99.75\n        ],\n        \"semantic_type\": \"\",\n        \"description\": \"\"\n      }\n    },\n    {\n      \"column\": \"Type of Price\",\n      \"properties\": {\n        \"dtype\": \"category\",\n        \"num_unique_values\": 3,\n        \"samples\": [\n          \"open\",\n          \"average\",\n          \"close\"\n        ],\n        \"semantic_type\": \"\",\n        \"description\": \"\"\n      }\n    }\n  ]\n}"
            }
          },
          "metadata": {},
          "execution_count": 4
        }
      ]
    },
    {
      "cell_type": "code",
      "source": [
        "import seaborn as sns\n",
        "import matplotlib.pyplot as plt\n",
        "graph_sp500_prices=sp500.drop(columns='Type of Price')\n",
        "sns.lineplot(data=graph_sp500_prices,x='Date',y='Price')\n",
        "plt.title('Stock Price History of S&P 500')\n",
        "plt.show()"
      ],
      "metadata": {
        "colab": {
          "base_uri": "https://localhost:8080/",
          "height": 472
        },
        "id": "ac5QYhqLMSu4",
        "outputId": "74da498d-ae79-415b-cf63-a5fe3c95fe54"
      },
      "execution_count": 5,
      "outputs": [
        {
          "output_type": "display_data",
          "data": {
            "text/plain": [
              "<Figure size 640x480 with 1 Axes>"
            ],
            "image/png": "[encoded data removed]"
          },
          "metadata": {}
        }
      ]
    },
    {
      "cell_type": "markdown",
      "source": [
        "## Method\n",
        "To achieve the first goal, we will tune hyperparameters of different models to achieve the best performance possible for each type of model (based on multiple metrics)\n",
        "* Split data into 80/20 proportion (4 years of training to predict 1 year of prices) to mitigate the effect of overfitting or underfitting. For training/validation, we try cross validation on time series (recommended but more computationally expensive, see code below)\n",
        "* Select models appropriate for the time series context.\n",
        "* Compare between model types and ascertain the best model for predicting prices based on a standardised set of metrics.\n",
        "* Apply the selected model to an assortment of companies contained in the S&P500.\n",
        "* The purpose of doing this will be to demonstrate whether or not this approach of model selection generalises well on stock price prediction.\n",
        "\n",
        "The reasoning behind this approach is that the S&P500 is a traditional indicator (by definition) of the performance of the 500 most dominant stocks in Wall Street."
      ],
      "metadata": {
        "id": "NGoF_IuRVyUT"
      }
    },
    {
      "cell_type": "code",
      "source": [
        "#perform unique time series cross validation (instead of stochastic selection of subsets, we select ordered subsets to train and validate models)\n",
        "import numpy as np\n",
        "from sklearn.model_selection import TimeSeriesSplit\n",
        "train_size = int(len(sp500) * 0.8)\n",
        "sp500.drop(columns=['Type of Price'],inplace=True)\n",
        "sp500_train = sp500[:train_size]\n",
        "sp500_test = sp500[train_size:]\n",
        "tscv=TimeSeriesSplit(n_splits=5)\n",
        "cv_data=[]\n",
        "for train_idx,validate_idx in tscv.split(sp500_train):\n",
        "  train=sp500_train.iloc[train_idx]\n",
        "  validate=sp500_train.iloc[validate_idx]\n",
        "  cv_data.append((train,validate))"
      ],
      "metadata": {
        "id": "lKz9Mn3HMyCl"
      },
      "execution_count": 6,
      "outputs": []
    },
    {
      "cell_type": "markdown",
      "source": [
        "We will only focus on time series specific modelling techniques that can capture the sequential nature of our data because of our project's method which is to use historical prices to predict future prices. This means models like SVR or random forests which generally perform poorly when trying to capture trends in time series data will be excluded. Further reasoning for excluding these models is also because of the lack of other features than price, volume (which we exclude because of our lack of justificaiton or understanding for including this feature) and date"
      ],
      "metadata": {
        "id": "PAciUBSDQIPP"
      }
    },
    {
      "cell_type": "markdown",
      "source": [
        "### (Seasonal) ARIMA approach\n",
        "Firstly, we apply normal ARIMA methods. In theory, this model should perform poorly because the data is seasonal meaning the stock price is directly or strongly affected by the date. This makes sense since our only factor so far in the modelling is time. The evidence for our theoretically poor performance of traditional ARIMA on our data set is shown through a p test of whether our data is stationary. We use an Augmented Dickey Fuller hypothesis test to find if there is sufficient evidence against the null hypothesis that our data is stationary."
      ],
      "metadata": {
        "id": "wMv--qcwsa6v"
      }
    },
    {
      "cell_type": "code",
      "source": [
        "from statsmodels.tsa.stattools import adfuller\n",
        "\n",
        "# Check for stationarity using ADF test\n",
        "result = adfuller(sp500['Price'])\n",
        "print(f'ADF Statistic: {result[0]}')\n",
        "print(f'p-value: {result[1]}')\n",
        "\n",
        "# Interpretation:\n",
        "# If p-value < 0.05, the series is stationary."
      ],
      "metadata": {
        "colab": {
          "base_uri": "https://localhost:8080/"
        },
        "id": "JIioJ8_HinRP",
        "outputId": "00d066fb-b150-4c30-a57c-95d746e57cd5"
      },
      "execution_count": 13,
      "outputs": [
        {
          "output_type": "stream",
          "name": "stdout",
          "text": [
            "ADF Statistic: 1.4665690908746367\n",
            "p-value: 0.9973965330167506\n"
          ]
        }
      ]
    },
    {
      "cell_type": "markdown",
      "source": [
        "It seems that there may be overwhelming evidence based on the p-value, that the data is not stationary. However, to confirm that this is likely true and not an unusual occurence, we test traditional ARIMA on the data. The metrics we will use to highlight that non-seasonal ARIMA may not be suitable for our context are AIC and BIC values, (we expect to see higher AIC and BIC than SARIMA) residual analysis and lastly, relative accuracy."
      ],
      "metadata": {
        "id": "Izkk25all9E9"
      }
    },
    {
      "cell_type": "code",
      "source": [
        "from statsmodels.tsa.arima.model import ARIMA\n",
        "# Assuming your training data is stored in a DataFrame called 'train' with a column named 'Price'\n",
        "# Fit the ARIMA model\n",
        "model = ARIMA(sp500_train['Price'], order=(5, 1, 0)) # (p, d, q)\n",
        "model_fit = model.fit()\n",
        "\n",
        "# Print model summary\n",
        "print(model_fit.summary())\n"
      ],
      "metadata": {
        "colab": {
          "base_uri": "https://localhost:8080/"
        },
        "id": "y6rF-1H4l8ck",
        "outputId": "4bbbda5b-157a-483b-b5fe-8b40085ca9c1"
      },
      "execution_count": 15,
      "outputs": [
        {
          "output_type": "stream",
          "name": "stdout",
          "text": [
            "                               SARIMAX Results                                \n",
            "==============================================================================\n",
            "Dep. Variable:                  Price   No. Observations:                 7682\n",
            "Model:                 ARIMA(5, 1, 0)   Log Likelihood               -7562.600\n",
            "Date:                Wed, 02 Oct 2024   AIC                          15137.200\n",
            "Time:                        09:47:11   BIC                          15178.879\n",
            "Sample:                             0   HQIC                         15151.495\n",
            "                               - 7682                                         \n",
            "Covariance Type:                  opg                                         \n",
            "==============================================================================\n",
            "                 coef    std err          z      P>|z|      [0.025      0.975]\n",
            "------------------------------------------------------------------------------\n",
            "ar.L1          0.0929      0.006     16.588      0.000       0.082       0.104\n",
            "ar.L2          0.0654      0.007      9.639      0.000       0.052       0.079\n",
            "ar.L3         -0.0841      0.007    -12.476      0.000      -0.097      -0.071\n",
            "ar.L4          0.0088      0.006      1.368      0.171      -0.004       0.021\n",
            "ar.L5         -0.0142      0.006     -2.245      0.025      -0.027      -0.002\n",
            "sigma2         0.4195      0.003    130.450      0.000       0.413       0.426\n",
            "===================================================================================\n",
            "Ljung-Box (L1) (Q):                   0.00   Jarque-Bera (JB):             16959.17\n",
            "Prob(Q):                              0.95   Prob(JB):                         0.00\n",
            "Heteroskedasticity (H):               1.24   Skew:                            -0.37\n",
            "Prob(H) (two-sided):                  0.00   Kurtosis:                        10.24\n",
            "===================================================================================\n",
            "\n",
            "Warnings:\n",
            "[1] Covariance matrix calculated using the outer product of gradients (complex-step).\n"
          ]
        }
      ]
    },
    {
      "cell_type": "code",
      "source": [
        " from sklearn.metrics import mean_squared_error, mean_absolute_error,mean_absolute_percentage_error\n",
        "\n",
        "# Make predictions on the test data\n",
        "predictions = model_fit.predict(start=len(sp500_train), end=len(sp500) - 1)\n",
        "\n",
        "# Calculate evaluation metrics\n",
        "rmse = mean_squared_error(sp500_test['Price'], predictions, squared=False)\n",
        "mae = mean_absolute_error(sp500_test['Price'], predictions)\n",
        "mse = mean_squared_error(sp500_test['Price'], predictions)\n",
        "mape=mean_absolute_percentage_error(sp500_test['Price'], predictions)\n",
        "\n",
        "# Print the evaluation metrics\n",
        "print(f'RMSE: {rmse}')\n",
        "print(f'MAE: {mae}')\n",
        "print(f'MSE: {mse}')\n",
        "print(f'MAPE: {mape}')\n",
        "print(f'AIC: {model_fit.aic}')\n",
        "print(f'BIC: {model_fit.bic}')\n",
        "#note that normalisation is unnecesary beecause the scale is consistent and multiple variables are not involved\n"
      ],
      "metadata": {
        "id": "IXbeXHjaro6x",
        "outputId": "e469491f-f1dd-490a-8d2e-c38ef02903de",
        "colab": {
          "base_uri": "https://localhost:8080/"
        }
      },
      "execution_count": 17,
      "outputs": [
        {
          "output_type": "stream",
          "name": "stdout",
          "text": [
            "RMSE: 26.181949560642206\n",
            "MAE: 19.296896734389712\n",
            "MSE: 685.4944827960127\n",
            "MAPE: 0.08399653172746785\n",
            "AIC: 15137.200272798978\n",
            "BIC: 15178.87930295497\n"
          ]
        },
        {
          "output_type": "stream",
          "name": "stderr",
          "text": [
            "/usr/local/lib/python3.10/dist-packages/sklearn/metrics/_regression.py:492: FutureWarning: 'squared' is deprecated in version 1.4 and will be removed in 1.6. To calculate the root mean squared error, use the function'root_mean_squared_error'.\n",
            "  warnings.warn(\n"
          ]
        }
      ]
    },
    {
      "cell_type": "markdown",
      "source": [
        "We notice that the model performs very poorly from the RMSE, MAE and MSE results even if the MAPE seems to indicate the model's generally good performance. This is because, as expected from earlier citations, we have high AIC and BIC values attributed to the model's expected failure to capture patterns in our seasonal data."
      ],
      "metadata": {
        "id": "3C-8qcd4s4l4"
      }
    },
    {
      "cell_type": "markdown",
      "source": [
        "### GARCH approach"
      ],
      "metadata": {
        "id": "djHPHiOUR0Xp"
      }
    },
    {
      "cell_type": "code",
      "source": [],
      "metadata": {
        "id": "B6KqXWq1TIDf"
      },
      "execution_count": null,
      "outputs": []
    },
    {
      "cell_type": "markdown",
      "source": [
        "### Neural Network (CNN, RNN and LSTM) approach\n"
      ],
      "metadata": {
        "id": "70sk9yvaS66T"
      }
    },
    {
      "cell_type": "code",
      "source": [],
      "metadata": {
        "id": "0DCTpAgJR89A"
      },
      "execution_count": null,
      "outputs": []
    },
    {
      "cell_type": "markdown",
      "source": [
        "### Hybrid approach"
      ],
      "metadata": {
        "id": "ShEN6tf2TCVi"
      }
    },
    {
      "cell_type": "code",
      "source": [],
      "metadata": {
        "id": "i1cxWOQ_TG6n"
      },
      "execution_count": null,
      "outputs": []
    },
    {
      "cell_type": "markdown",
      "source": [
        "## Evaluation and Discussion"
      ],
      "metadata": {
        "id": "QDpuAVbMsjhs"
      }
    },
    {
      "cell_type": "markdown",
      "source": [
        "## Conclusion"
      ],
      "metadata": {
        "id": "lI8nVsDNsuFF"
      }
    },
    {
      "cell_type": "code",
      "source": [],
      "metadata": {
        "id": "CVdFlFn5sx-k"
      },
      "execution_count": null,
      "outputs": []
    }
  ]
}