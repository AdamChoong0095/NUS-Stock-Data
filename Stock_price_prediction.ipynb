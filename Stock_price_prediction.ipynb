{
  "nbformat": 4,
  "nbformat_minor": 0,
  "metadata": {
    "colab": {
      "provenance": [],
      "include_colab_link": true
    },
    "kernelspec": {
      "name": "python3",
      "display_name": "Python 3"
    },
    "language_info": {
      "name": "python"
    }
  },
  "cells": [
    {
      "cell_type": "markdown",
      "metadata": {
        "id": "view-in-github",
        "colab_type": "text"
      },
      "source": [
        "<a href=\"https://colab.research.google.com/github/danigallegdup/NUS-Stock-Data/blob/main/Stock_price_prediction.ipynb\" target=\"_parent\"><img src=\"https://colab.research.google.com/assets/colab-badge.svg\" alt=\"Open In Colab\"/></a>"
      ]
    },
    {
      "cell_type": "markdown",
      "source": [
        "# Stock Price Prediction using LSTM\n",
        "This project aims to predict stock prices using historical data and Long Short-Term Memory (LSTM) neural networks.\n",
        "\n",
        "## Data Loading and Preprocessing"
      ],
      "metadata": {
        "id": "XcQP_IIp6AW-"
      }
    },
    {
      "cell_type": "code",
      "source": [
        "!pip install optuna"
      ],
      "metadata": {
        "colab": {
          "base_uri": "https://localhost:8080/"
        },
        "id": "VKOrixTfm68N",
        "outputId": "239a7fe8-1472-4012-dcbf-3d4e12a7b309"
      },
      "execution_count": null,
      "outputs": [
        {
          "output_type": "stream",
          "name": "stdout",
          "text": [
            "Collecting optuna\n",
            "  Downloading optuna-4.1.0-py3-none-any.whl.metadata (16 kB)\n",
            "Collecting alembic>=1.5.0 (from optuna)\n",
            "  Downloading alembic-1.14.0-py3-none-any.whl.metadata (7.4 kB)\n",
            "Collecting colorlog (from optuna)\n",
            "  Downloading colorlog-6.9.0-py3-none-any.whl.metadata (10 kB)\n",
            "Requirement already satisfied: numpy in /usr/local/lib/python3.10/dist-packages (from optuna) (1.26.4)\n",
            "Requirement already satisfied: packaging>=20.0 in /usr/local/lib/python3.10/dist-packages (from optuna) (24.2)\n",
            "Requirement already satisfied: sqlalchemy>=1.4.2 in /usr/local/lib/python3.10/dist-packages (from optuna) (2.0.36)\n",
            "Requirement already satisfied: tqdm in /usr/local/lib/python3.10/dist-packages (from optuna) (4.66.6)\n",
            "Requirement already satisfied: PyYAML in /usr/local/lib/python3.10/dist-packages (from optuna) (6.0.2)\n",
            "Collecting Mako (from alembic>=1.5.0->optuna)\n",
            "  Downloading Mako-1.3.6-py3-none-any.whl.metadata (2.9 kB)\n",
            "Requirement already satisfied: typing-extensions>=4 in /usr/local/lib/python3.10/dist-packages (from alembic>=1.5.0->optuna) (4.12.2)\n",
            "Requirement already satisfied: greenlet!=0.4.17 in /usr/local/lib/python3.10/dist-packages (from sqlalchemy>=1.4.2->optuna) (3.1.1)\n",
            "Requirement already satisfied: MarkupSafe>=0.9.2 in /usr/local/lib/python3.10/dist-packages (from Mako->alembic>=1.5.0->optuna) (3.0.2)\n",
            "Downloading optuna-4.1.0-py3-none-any.whl (364 kB)\n",
            "\u001b[2K   \u001b[90m━━━━━━━━━━━━━━━━━━━━━━━━━━━━━━━━━━━━━━━━\u001b[0m \u001b[32m364.4/364.4 kB\u001b[0m \u001b[31m8.8 MB/s\u001b[0m eta \u001b[36m0:00:00\u001b[0m\n",
            "\u001b[?25hDownloading alembic-1.14.0-py3-none-any.whl (233 kB)\n",
            "\u001b[2K   \u001b[90m━━━━━━━━━━━━━━━━━━━━━━━━━━━━━━━━━━━━━━━━\u001b[0m \u001b[32m233.5/233.5 kB\u001b[0m \u001b[31m11.4 MB/s\u001b[0m eta \u001b[36m0:00:00\u001b[0m\n",
            "\u001b[?25hDownloading colorlog-6.9.0-py3-none-any.whl (11 kB)\n",
            "Downloading Mako-1.3.6-py3-none-any.whl (78 kB)\n",
            "\u001b[2K   \u001b[90m━━━━━━━━━━━━━━━━━━━━━━━━━━━━━━━━━━━━━━━━\u001b[0m \u001b[32m78.6/78.6 kB\u001b[0m \u001b[31m4.7 MB/s\u001b[0m eta \u001b[36m0:00:00\u001b[0m\n",
            "\u001b[?25hInstalling collected packages: Mako, colorlog, alembic, optuna\n",
            "Successfully installed Mako-1.3.6 alembic-1.14.0 colorlog-6.9.0 optuna-4.1.0\n"
          ]
        }
      ]
    },
    {
      "cell_type": "code",
      "source": [
        "#######################################################\n",
        "# Import necessary libraries\n",
        "########################################################\n",
        "import torch\n",
        "from google.colab import drive\n",
        "import torch.nn as nn\n",
        "from torch.utils.data import DataLoader, random_split, Dataset\n",
        "from sklearn.metrics import mean_absolute_error, r2_score, mean_squared_error\n",
        "from sklearn.linear_model import LinearRegression\n",
        "from sklearn.model_selection import TimeSeriesSplit\n",
        "from sklearn.preprocessing import MinMaxScaler\n",
        "from torch.optim.lr_scheduler import ReduceLROnPlateau\n",
        "import matplotlib.pyplot as plt\n",
        "import matplotlib.dates as mdates\n",
        "import pandas as pd\n",
        "import optuna\n",
        "import numpy as np"
      ],
      "metadata": {
        "id": "-ka1K7JfE2Zg"
      },
      "execution_count": null,
      "outputs": []
    },
    {
      "cell_type": "code",
      "source": [
        "# Mount Google Drive\n",
        "drive.mount('/content/drive')"
      ],
      "metadata": {
        "id": "PXIdDscEgfyQ",
        "outputId": "11738599-19b2-4593-fe68-7c7ccce8fffe",
        "colab": {
          "base_uri": "https://localhost:8080/"
        }
      },
      "execution_count": null,
      "outputs": [
        {
          "output_type": "stream",
          "name": "stdout",
          "text": [
            "Mounted at /content/drive\n"
          ]
        }
      ]
    },
    {
      "cell_type": "code",
      "source": [
        "# Load the dataset (had to make a shortcut from \"Shared with Me\" to MyDrive)\n",
        "sp500=pd.read_csv('/content/drive/MyDrive/cs3244_data/ETFs/spy.us.txt')\n",
        "sp500.drop(columns={'OpenInt','Volume'}, inplace=True)"
      ],
      "metadata": {
        "id": "gvXd8J_bhvdf"
      },
      "execution_count": null,
      "outputs": []
    },
    {
      "cell_type": "code",
      "source": [
        "# Create empty lists to store the new data\n",
        "dates = []\n",
        "prices = []\n",
        "price_types = []\n",
        "\n",
        "# Iterate through the DataFrame\n",
        "for index, row in sp500.iterrows():\n",
        "  date = row['Date']\n",
        "  open_price = row['Open']\n",
        "  high_price = row['High']\n",
        "  low_price = row['Low']\n",
        "  close_price = row['Close']\n",
        "\n",
        "  # Append the data to the lists\n",
        "  dates.extend([date] * 4)  # Repeat the date 4 times\n",
        "  prices.extend([open_price, high_price, low_price, close_price])\n",
        "  price_types.extend(['open', 'high', 'low', 'close'])\n",
        "\n",
        "# Create a new DataFrame\n",
        "sp500 = pd.DataFrame({'Date': dates, 'Price': prices, 'Type of Price': price_types})\n",
        "\n",
        "# Group the DataFrame by Date and Type of Price\n",
        "grouped = sp500.groupby(['Date', 'Type of Price'])\n",
        "\n",
        "# Calculate the average price for each date and type\n",
        "avg_prices = grouped['Price'].mean().reset_index()\n",
        "\n",
        "# Create a dictionary to store the average high and low prices for each date\n",
        "avg_high_low = {}\n",
        "\n",
        "# Iterate through the average prices\n",
        "for index, row in avg_prices.iterrows():\n",
        "  date = row['Date']\n",
        "  price_type = row['Type of Price']\n",
        "  price = row['Price']\n",
        "\n",
        "  if date not in avg_high_low:\n",
        "    avg_high_low[date] = {}\n",
        "\n",
        "  if price_type == 'high' or price_type == 'low':\n",
        "    avg_high_low[date][price_type] = price\n",
        "\n",
        "# Iterate through the DataFrame and replace high and low prices with the average\n",
        "for index, row in sp500.iterrows():\n",
        "  date = row['Date']\n",
        "  price_type = row['Type of Price']\n",
        "\n",
        "  if price_type == 'high' or price_type == 'low' and date in avg_high_low:\n",
        "    sp500.loc[index, 'Price'] = avg_high_low[date][price_type]\n",
        "\n",
        "# Create a new DataFrame to store the modified data\n",
        "new_sp500 = pd.DataFrame(columns=['Date', 'Price', 'Type of Price'])\n",
        "\n",
        "# Iterate through the DataFrame\n",
        "i = 0\n",
        "while i < len(sp500):\n",
        "  row = sp500.iloc[i]\n",
        "  if row['Type of Price'] == 'high':\n",
        "    # Check if the next row exists and is 'low'\n",
        "    if i + 1 < len(sp500) and sp500.iloc[i + 1]['Type of Price'] == 'low':\n",
        "      # Calculate the average of the high and low prices\n",
        "      average_price = (row['Price'] + sp500.iloc[i + 1]['Price']) / 2\n",
        "      # Add a new row with the average price and label 'average'\n",
        "      new_sp500 = pd.concat([new_sp500, pd.DataFrame({'Date': [row['Date']], 'Price': [average_price], 'Type of Price': ['average']})], ignore_index=True)\n",
        "      i += 2  # Skip the next row (low)\n",
        "    else:\n",
        "      # If the next row is not 'low', keep the current row as it is\n",
        "      new_sp500 = pd.concat([new_sp500, pd.DataFrame({'Date': [row['Date']], 'Price': [row['Price']], 'Type of Price': [row['Type of Price']]})], ignore_index=True)\n",
        "      i += 1\n",
        "  else:\n",
        "    # If the current row is not 'high', keep it as it is\n",
        "    new_sp500 = pd.concat([new_sp500, pd.DataFrame({'Date': [row['Date']], 'Price': [row['Price']], 'Type of Price': [row['Type of Price']]})], ignore_index=True)\n",
        "    i += 1\n",
        "\n",
        "# Replace the original sp500 DataFrame with the modified one\n",
        "sp500 = new_sp500\n",
        "sp500\n",
        "\n",
        "print(sp500) # test case"
      ],
      "metadata": {
        "id": "o0MoS5VDiLP0",
        "outputId": "7c982f81-9b49-44f9-b9c6-0e9775db90b1",
        "colab": {
          "base_uri": "https://localhost:8080/"
        }
      },
      "execution_count": null,
      "outputs": [
        {
          "output_type": "stream",
          "name": "stderr",
          "text": [
            "<ipython-input-5-e6fa68340177>:72: FutureWarning: The behavior of DataFrame concatenation with empty or all-NA entries is deprecated. In a future version, this will no longer exclude empty or all-NA columns when determining the result dtypes. To retain the old behavior, exclude the relevant entries before the concat operation.\n",
            "  new_sp500 = pd.concat([new_sp500, pd.DataFrame({'Date': [row['Date']], 'Price': [row['Price']], 'Type of Price': [row['Type of Price']]})], ignore_index=True)\n"
          ]
        },
        {
          "output_type": "stream",
          "name": "stdout",
          "text": [
            "            Date    Price Type of Price\n",
            "0     2005-02-25  104.770          open\n",
            "1     2005-02-25  105.340       average\n",
            "2     2005-02-25  105.790         close\n",
            "3     2005-02-28  105.550          open\n",
            "4     2005-02-28  105.120       average\n",
            "...          ...      ...           ...\n",
            "9598  2017-11-09  257.375       average\n",
            "9599  2017-11-09  258.170         close\n",
            "9600  2017-11-10  257.730          open\n",
            "9601  2017-11-10  257.790       average\n",
            "9602  2017-11-10  258.090         close\n",
            "\n",
            "[9603 rows x 3 columns]\n"
          ]
        }
      ]
    },
    {
      "cell_type": "code",
      "source": [
        "#######################################################\n",
        "#  Scaling and Data Splitting\n",
        "########################################################\n",
        "\"\"\"\n",
        "Implementation: explain what makes this code good /20\n",
        "Technical Justification: Why we chose to do what we did /10\n",
        "Results Interpretation: /10\n",
        "Related Work: Sources and References /4\n",
        "\"\"\"\n",
        "sp500['Date'] = pd.to_datetime(sp500['Date'])\n",
        "sp500_filtered = sp500[sp500['Date'].dt.year >= 2012]\n",
        "data = sp500_filtered['Price'].values.reshape(-1, 1)\n",
        "\n",
        "# Initialize the MinMaxScaler\n",
        "scaler = MinMaxScaler(feature_range=(-1, 1))\n",
        "data = scaler.fit_transform(data)\n",
        "\n",
        "# Now, split the scaled data into training and testing sets based on the defined split ratio\n",
        "train_size = int(len(data) * 0.8)\n",
        "train_data = data[:train_size]\n",
        "test_data = data[train_size - 90:]  # Include overlap for sequence creation"
      ],
      "metadata": {
        "id": "IT2u0Nza3WpE"
      },
      "execution_count": null,
      "outputs": []
    },
    {
      "cell_type": "code",
      "source": [
        "######################################################\n",
        "#  Custom Dataset Creation\n",
        "########################################################\n",
        "\"\"\"\n",
        "Implementation: explain what makes this code good /20\n",
        "Technical Justification: Why we chose to do what we did /10\n",
        "Results Interpretation: /10\n",
        "Related Work: Sources and References /4\n",
        "\"\"\"\n",
        "class StockDataset(Dataset):\n",
        "    def __init__(self, data, seq_length):\n",
        "        self.data = data\n",
        "        self.seq_length = seq_length\n",
        "\n",
        "    def __len__(self):\n",
        "        # The length is reduced by the sequence length to avoid out-of-bound errors\n",
        "        return len(self.data) - self.seq_length\n",
        "\n",
        "    def __getitem__(self, index):\n",
        "        # Get a sequence of prices and the next price as the label\n",
        "        x = self.data[index:index + self.seq_length]  # Sequence input\n",
        "        y = self.data[index + self.seq_length]  # Label (next value in sequence)\n",
        "\n",
        "        # Convert to PyTorch tensors and reshape x to (seq_length, 1)\n",
        "        x = torch.tensor(x, dtype=torch.float32).view(-1, 1)\n",
        "        y = torch.tensor(y, dtype=torch.float32)\n",
        "\n",
        "        return x, y\n",
        "\n",
        "# Instantiate the dataset with the SEQUENCE_LENGTH constant\n",
        "dataset = StockDataset(data=sp500_filtered['Price'].values, seq_length=90)\n"
      ],
      "metadata": {
        "id": "ZcUkfHw04ntd"
      },
      "execution_count": null,
      "outputs": []
    },
    {
      "cell_type": "code",
      "source": [
        "#######################################################\n",
        "#  DataLoader Setup\n",
        "########################################################\n",
        "\"\"\"\n",
        "Implementation: explain what makes this code good /20\n",
        "Technical Justification: Why we chose to do what we did /10\n",
        "Results Interpretation: /10\n",
        "Related Work: Sources and References /4\n",
        "\"\"\"\n",
        "\n",
        "# Create training and testing datasets with a defined sequence length\n",
        "train_dataset = StockDataset(train_data, seq_length=90)\n",
        "test_dataset = StockDataset(test_data, seq_length=90)\n",
        "\n",
        "# Create DataLoaders for training and testing datasets\n",
        "train_loader = DataLoader(train_dataset, batch_size=64, shuffle=True)\n",
        "test_loader = DataLoader(test_dataset, batch_size=64, shuffle=False)\n",
        "\n",
        "# Calculate training and validation sizes based on the defined training ratio\n",
        "train_size = int(0.8 * len(train_dataset))\n",
        "val_size = len(train_dataset) - train_size\n",
        "\n",
        "# Split the dataset into training and validation subsets\n",
        "train_subset, val_subset = random_split(train_dataset, [train_size, val_size])\n"
      ],
      "metadata": {
        "id": "jZkS-cDmFqIM"
      },
      "execution_count": null,
      "outputs": []
    },
    {
      "cell_type": "code",
      "source": [
        "#######################################################\n",
        "#  Hyperparameter Tuning with Optuna\n",
        "########################################################\n",
        "\"\"\"\n",
        "Implementation: explain what makes this code good /20\n",
        "Technical Justification: Why we chose to do what we did /10\n",
        "Results Interpretation: /10\n",
        "Related Work: Sources and References /4\n",
        "\"\"\"\n",
        "\n",
        "# Constants\n",
        "N_TRIALS = 50            # Number of trials for Optuna\n",
        "MAX_EPOCHS = 5           # Number of epochs for tuning (set low to speed up Optuna)\n",
        "INPUT_SIZE = 1           # Number of input features for LSTM\n",
        "OUTPUT_SIZE = 1          # Number of output features for LSTM\n",
        "SEQ_LENGTH = 90          # Sequence length used in training (make sure this matches your StockDataset)\n",
        "HIDDEN_SIZE_RANGE = (50, 200)  # Range for hidden layer size in LSTM\n",
        "NUM_LAYERS_RANGE = (1, 3)      # Range for the number of LSTM layers\n",
        "LEARNING_RATE_RANGE = (1e-5, 1e-1)  # Range for learning rate\n",
        "BATCH_SIZE_OPTIONS = [16, 32, 64]  # Options for batch size\n",
        "\n",
        "#######################################################\n",
        "#  Hyperparameter Tuning with Optuna\n",
        "########################################################\n",
        "\"\"\"\n",
        "Implementation: explain what makes this code good /20\n",
        "Technical Justification: Why we chose to do what we did /10\n",
        "Results Interpretation: /10\n",
        "Related Work: Sources and References /4\n",
        "\"\"\"\n",
        "\n",
        "# Define the objective function for hyperparameter tuning\n",
        "def objective(trial):\n",
        "    # Suggest hyperparameters within specified ranges\n",
        "    learning_rate = trial.suggest_loguniform('learning_rate', *LEARNING_RATE_RANGE)\n",
        "    hidden_size = trial.suggest_int('hidden_size', *HIDDEN_SIZE_RANGE)\n",
        "    num_layers = trial.suggest_int('num_layers', *NUM_LAYERS_RANGE)\n",
        "    batch_size = trial.suggest_categorical('batch_size', BATCH_SIZE_OPTIONS)\n",
        "\n",
        "    # Define the LSTM model with the suggested parameters\n",
        "    class LSTMStockPredictor(nn.Module):\n",
        "        def __init__(self, input_size=INPUT_SIZE, hidden_layer_size=hidden_size, output_size=OUTPUT_SIZE):\n",
        "            super(LSTMStockPredictor, self).__init__()\n",
        "            self.hidden_layer_size = hidden_layer_size\n",
        "            self.lstm = nn.LSTM(input_size, hidden_layer_size, num_layers=num_layers, batch_first=True)\n",
        "            self.linear = nn.Linear(hidden_layer_size, output_size)\n",
        "\n",
        "        def forward(self, input_seq):\n",
        "            lstm_out, _ = self.lstm(input_seq)\n",
        "            predictions = self.linear(lstm_out[:, -1, :])\n",
        "            return predictions\n",
        "\n",
        "    # Initialize the model, loss function, and optimizer with the suggested hyperparameters\n",
        "    model = LSTMStockPredictor()\n",
        "    loss_function = nn.MSELoss()\n",
        "    optimizer = torch.optim.Adam(model.parameters(), lr=learning_rate)\n",
        "\n",
        "    # Create DataLoaders with the suggested batch size\n",
        "    train_loader = DataLoader(train_subset, batch_size=batch_size, shuffle=True)\n",
        "    val_loader = DataLoader(val_subset, batch_size=batch_size, shuffle=False)\n",
        "\n",
        "    # Train the model for a few epochs to save time during tuning\n",
        "    model.train()\n",
        "    for epoch in range(MAX_EPOCHS):\n",
        "        for seq, labels in train_loader:\n",
        "            optimizer.zero_grad()\n",
        "            seq = seq.view(-1, SEQ_LENGTH, INPUT_SIZE)\n",
        "            y_pred = model(seq)\n",
        "            loss = loss_function(y_pred, labels.view(-1, OUTPUT_SIZE))\n",
        "            loss.backward()\n",
        "            optimizer.step()\n",
        "\n",
        "    # Evaluate the model on the validation set\n",
        "    model.eval()\n",
        "    val_loss = 0.0\n",
        "    with torch.no_grad():\n",
        "        for seq, labels in val_loader:\n",
        "            seq = seq.view(-1, SEQ_LENGTH, INPUT_SIZE)\n",
        "            y_pred = model(seq)\n",
        "            loss = loss_function(y_pred, labels.view(-1, OUTPUT_SIZE))\n",
        "            val_loss += loss.item()\n",
        "\n",
        "    avg_val_loss = val_loss / len(val_loader)\n",
        "    return avg_val_loss\n",
        "\n",
        "# Create the study and run optimization\n",
        "study = optuna.create_study(direction='minimize')\n",
        "study.optimize(objective, n_trials=N_TRIALS)\n",
        "\n",
        "# Extract the best hyperparameters\n",
        "best_params = study.best_trial.params\n",
        "print(f\"Best parameters found: {best_params}\")"
      ],
      "metadata": {
        "id": "dKe5_-wMwbDk",
        "outputId": "6286b767-4359-48d4-ae89-8ad0e2a23b0e",
        "colab": {
          "base_uri": "https://localhost:8080/"
        }
      },
      "execution_count": null,
      "outputs": [
        {
          "output_type": "stream",
          "name": "stderr",
          "text": [
            "[I 2024-11-17 08:58:02,850] A new study created in memory with name: no-name-76c0a18f-cc4b-45d1-b799-c51b8a61af78\n",
            "<ipython-input-10-2c0c6ab9b91e>:35: FutureWarning: suggest_loguniform has been deprecated in v3.0.0. This feature will be removed in v6.0.0. See https://github.com/optuna/optuna/releases/tag/v3.0.0. Use suggest_float(..., log=True) instead.\n",
            "  learning_rate = trial.suggest_loguniform('learning_rate', *LEARNING_RATE_RANGE)\n",
            "[I 2024-11-17 08:58:52,931] Trial 0 finished with value: 0.03373209607194771 and parameters: {'learning_rate': 4.626524493534114e-05, 'hidden_size': 138, 'num_layers': 1, 'batch_size': 64}. Best is trial 0 with value: 0.03373209607194771.\n",
            "<ipython-input-10-2c0c6ab9b91e>:35: FutureWarning: suggest_loguniform has been deprecated in v3.0.0. This feature will be removed in v6.0.0. See https://github.com/optuna/optuna/releases/tag/v3.0.0. Use suggest_float(..., log=True) instead.\n",
            "  learning_rate = trial.suggest_loguniform('learning_rate', *LEARNING_RATE_RANGE)\n",
            "[I 2024-11-17 09:01:06,955] Trial 1 finished with value: 0.0009515793195036663 and parameters: {'learning_rate': 0.0002237702844484689, 'hidden_size': 157, 'num_layers': 3, 'batch_size': 32}. Best is trial 1 with value: 0.0009515793195036663.\n",
            "[I 2024-11-17 09:02:15,885] Trial 2 finished with value: 0.0003464647080280966 and parameters: {'learning_rate': 0.001318977242254593, 'hidden_size': 149, 'num_layers': 2, 'batch_size': 16}. Best is trial 2 with value: 0.0003464647080280966.\n",
            "[I 2024-11-17 09:03:36,763] Trial 3 finished with value: 0.0015514660626649857 and parameters: {'learning_rate': 5.607441705963331e-05, 'hidden_size': 151, 'num_layers': 2, 'batch_size': 64}. Best is trial 2 with value: 0.0003464647080280966.\n",
            "[I 2024-11-17 09:04:11,034] Trial 4 finished with value: 0.000818617456719618 and parameters: {'learning_rate': 0.00023159429913390586, 'hidden_size': 78, 'num_layers': 2, 'batch_size': 64}. Best is trial 2 with value: 0.0003464647080280966.\n",
            "[I 2024-11-17 09:05:19,676] Trial 5 finished with value: 0.001197633176740386 and parameters: {'learning_rate': 4.851738583818921e-05, 'hidden_size': 114, 'num_layers': 3, 'batch_size': 16}. Best is trial 2 with value: 0.0003464647080280966.\n",
            "[I 2024-11-17 09:06:24,989] Trial 6 finished with value: 0.0005020185144530842 and parameters: {'learning_rate': 0.0018257641885923688, 'hidden_size': 143, 'num_layers': 2, 'batch_size': 16}. Best is trial 2 with value: 0.0003464647080280966.\n",
            "[I 2024-11-17 09:08:26,244] Trial 7 finished with value: 0.0007131209620803764 and parameters: {'learning_rate': 0.00031667504192114856, 'hidden_size': 154, 'num_layers': 3, 'batch_size': 16}. Best is trial 2 with value: 0.0003464647080280966.\n",
            "[I 2024-11-17 09:08:44,843] Trial 8 finished with value: 0.0007476729667607949 and parameters: {'learning_rate': 0.0001646309487183699, 'hidden_size': 108, 'num_layers': 1, 'batch_size': 16}. Best is trial 2 with value: 0.0003464647080280966.\n",
            "[I 2024-11-17 09:09:08,074] Trial 9 finished with value: 0.0006448394659938375 and parameters: {'learning_rate': 0.0021111540840729965, 'hidden_size': 66, 'num_layers': 2, 'batch_size': 16}. Best is trial 2 with value: 0.0003464647080280966.\n",
            "[I 2024-11-17 09:09:53,245] Trial 10 finished with value: 0.009407670723951676 and parameters: {'learning_rate': 0.03196473093264289, 'hidden_size': 185, 'num_layers': 1, 'batch_size': 32}. Best is trial 2 with value: 0.0003464647080280966.\n",
            "[I 2024-11-17 09:11:42,707] Trial 11 finished with value: 0.000277978743476772 and parameters: {'learning_rate': 0.004493004438052597, 'hidden_size': 188, 'num_layers': 2, 'batch_size': 16}. Best is trial 11 with value: 0.000277978743476772.\n",
            "[I 2024-11-17 09:13:36,219] Trial 12 finished with value: 0.0019103376623454758 and parameters: {'learning_rate': 0.012062912902079273, 'hidden_size': 200, 'num_layers': 2, 'batch_size': 16}. Best is trial 11 with value: 0.000277978743476772.\n",
            "[I 2024-11-17 09:15:04,686] Trial 13 finished with value: 0.0001841072224289581 and parameters: {'learning_rate': 0.008371869372195253, 'hidden_size': 175, 'num_layers': 2, 'batch_size': 16}. Best is trial 13 with value: 0.0001841072224289581.\n",
            "[I 2024-11-17 09:15:41,116] Trial 14 finished with value: 0.0001717945927091271 and parameters: {'learning_rate': 0.01031700470329211, 'hidden_size': 175, 'num_layers': 1, 'batch_size': 16}. Best is trial 14 with value: 0.0001717945927091271.\n",
            "[I 2024-11-17 09:16:30,065] Trial 15 finished with value: 0.005224537739360874 and parameters: {'learning_rate': 0.09993905961582648, 'hidden_size': 173, 'num_layers': 1, 'batch_size': 32}. Best is trial 14 with value: 0.0001717945927091271.\n",
            "[I 2024-11-17 09:17:04,257] Trial 16 finished with value: 0.00023638082777986048 and parameters: {'learning_rate': 0.010756823522973998, 'hidden_size': 172, 'num_layers': 1, 'batch_size': 16}. Best is trial 14 with value: 0.0001717945927091271.\n",
            "[I 2024-11-17 09:17:20,992] Trial 17 finished with value: 0.000853898574860068 and parameters: {'learning_rate': 0.030891553672096336, 'hidden_size': 93, 'num_layers': 1, 'batch_size': 16}. Best is trial 14 with value: 0.0001717945927091271.\n",
            "[I 2024-11-17 09:18:54,901] Trial 18 finished with value: 0.0004804247768003155 and parameters: {'learning_rate': 0.006214959660355662, 'hidden_size': 127, 'num_layers': 3, 'batch_size': 32}. Best is trial 14 with value: 0.0001717945927091271.\n",
            "[I 2024-11-17 09:19:31,690] Trial 19 finished with value: 0.019815040921623058 and parameters: {'learning_rate': 0.03671990772239842, 'hidden_size': 168, 'num_layers': 1, 'batch_size': 64}. Best is trial 14 with value: 0.0001717945927091271.\n",
            "[I 2024-11-17 09:22:34,871] Trial 20 finished with value: 0.0007246479369562373 and parameters: {'learning_rate': 0.0005204353126862188, 'hidden_size': 197, 'num_layers': 3, 'batch_size': 16}. Best is trial 14 with value: 0.0001717945927091271.\n",
            "[I 2024-11-17 09:23:11,149] Trial 21 finished with value: 0.00018019432792987737 and parameters: {'learning_rate': 0.009638729325192233, 'hidden_size': 173, 'num_layers': 1, 'batch_size': 16}. Best is trial 14 with value: 0.0001717945927091271.\n",
            "[I 2024-11-17 09:23:48,085] Trial 22 finished with value: 0.0001346682577356908 and parameters: {'learning_rate': 0.005345822440237841, 'hidden_size': 180, 'num_layers': 1, 'batch_size': 16}. Best is trial 22 with value: 0.0001346682577356908.\n",
            "[I 2024-11-17 09:24:27,291] Trial 23 finished with value: 0.000313380741400496 and parameters: {'learning_rate': 0.0030055395391177225, 'hidden_size': 186, 'num_layers': 1, 'batch_size': 16}. Best is trial 22 with value: 0.0001346682577356908.\n",
            "[I 2024-11-17 09:24:35,998] Trial 24 finished with value: 0.00017698029684900328 and parameters: {'learning_rate': 0.01718036279099811, 'hidden_size': 50, 'num_layers': 1, 'batch_size': 16}. Best is trial 22 with value: 0.0001346682577356908.\n",
            "[I 2024-11-17 09:24:45,652] Trial 25 finished with value: 0.00016972865961923327 and parameters: {'learning_rate': 0.01901660638098665, 'hidden_size': 51, 'num_layers': 1, 'batch_size': 16}. Best is trial 22 with value: 0.0001346682577356908.\n",
            "[I 2024-11-17 09:25:13,788] Trial 26 finished with value: 0.028972317041321236 and parameters: {'learning_rate': 0.0900287481267811, 'hidden_size': 129, 'num_layers': 1, 'batch_size': 16}. Best is trial 22 with value: 0.0001346682577356908.\n",
            "[I 2024-11-17 09:25:30,723] Trial 27 finished with value: 0.00046806818070101804 and parameters: {'learning_rate': 0.0008630508920094291, 'hidden_size': 99, 'num_layers': 1, 'batch_size': 16}. Best is trial 22 with value: 0.0001346682577356908.\n",
            "[I 2024-11-17 09:25:44,021] Trial 28 finished with value: 0.00030895551290913403 and parameters: {'learning_rate': 0.003896684655951183, 'hidden_size': 78, 'num_layers': 1, 'batch_size': 32}. Best is trial 22 with value: 0.0001346682577356908.\n",
            "[I 2024-11-17 09:26:46,033] Trial 29 finished with value: 0.0005514765428167514 and parameters: {'learning_rate': 0.019135599611474523, 'hidden_size': 135, 'num_layers': 1, 'batch_size': 64}. Best is trial 22 with value: 0.0001346682577356908.\n",
            "[I 2024-11-17 09:26:54,022] Trial 30 finished with value: 0.004051961174065416 and parameters: {'learning_rate': 0.053240494694885475, 'hidden_size': 52, 'num_layers': 1, 'batch_size': 64}. Best is trial 22 with value: 0.0001346682577356908.\n",
            "[I 2024-11-17 09:27:03,951] Trial 31 finished with value: 0.00012851290929657725 and parameters: {'learning_rate': 0.018082731713324387, 'hidden_size': 51, 'num_layers': 1, 'batch_size': 16}. Best is trial 31 with value: 0.00012851290929657725.\n",
            "[I 2024-11-17 09:27:15,808] Trial 32 finished with value: 0.00019170230437091297 and parameters: {'learning_rate': 0.018479050584890418, 'hidden_size': 61, 'num_layers': 1, 'batch_size': 16}. Best is trial 31 with value: 0.00012851290929657725.\n",
            "[I 2024-11-17 09:27:30,654] Trial 33 finished with value: 0.12643879685889592 and parameters: {'learning_rate': 1.2832175754978039e-05, 'hidden_size': 79, 'num_layers': 1, 'batch_size': 16}. Best is trial 31 with value: 0.00012851290929657725.\n",
            "[I 2024-11-17 09:27:40,653] Trial 34 finished with value: 0.00020267555266235087 and parameters: {'learning_rate': 0.005929738247322445, 'hidden_size': 64, 'num_layers': 1, 'batch_size': 16}. Best is trial 31 with value: 0.00012851290929657725.\n",
            "[I 2024-11-17 09:27:58,099] Trial 35 finished with value: 0.0002045380406343611 and parameters: {'learning_rate': 0.04382748757432673, 'hidden_size': 93, 'num_layers': 1, 'batch_size': 16}. Best is trial 31 with value: 0.00012851290929657725.\n",
            "[I 2024-11-17 09:28:44,368] Trial 36 finished with value: 0.0002510899473484394 and parameters: {'learning_rate': 0.01913884343321481, 'hidden_size': 116, 'num_layers': 2, 'batch_size': 16}. Best is trial 31 with value: 0.00012851290929657725.\n",
            "[I 2024-11-17 09:29:22,181] Trial 37 finished with value: 0.0004555817629972642 and parameters: {'learning_rate': 0.0011118492241075349, 'hidden_size': 157, 'num_layers': 1, 'batch_size': 64}. Best is trial 31 with value: 0.00012851290929657725.\n",
            "[I 2024-11-17 09:30:36,761] Trial 38 finished with value: 0.0003621864260904576 and parameters: {'learning_rate': 0.002678638972056405, 'hidden_size': 145, 'num_layers': 2, 'batch_size': 32}. Best is trial 31 with value: 0.00012851290929657725.\n",
            "[I 2024-11-17 09:31:08,628] Trial 39 finished with value: 0.00020988476667711936 and parameters: {'learning_rate': 0.0062103391501767986, 'hidden_size': 164, 'num_layers': 1, 'batch_size': 16}. Best is trial 31 with value: 0.00012851290929657725.\n",
            "[I 2024-11-17 09:31:22,206] Trial 40 finished with value: 0.001873760515908626 and parameters: {'learning_rate': 0.067987464868202, 'hidden_size': 70, 'num_layers': 1, 'batch_size': 16}. Best is trial 31 with value: 0.00012851290929657725.\n",
            "[I 2024-11-17 09:31:32,178] Trial 41 finished with value: 0.0001523774380571426 and parameters: {'learning_rate': 0.016142787195502415, 'hidden_size': 51, 'num_layers': 1, 'batch_size': 16}. Best is trial 31 with value: 0.00012851290929657725.\n",
            "[I 2024-11-17 09:31:43,275] Trial 42 finished with value: 0.00013820961017203942 and parameters: {'learning_rate': 0.02594735243499897, 'hidden_size': 54, 'num_layers': 1, 'batch_size': 16}. Best is trial 31 with value: 0.00012851290929657725.\n",
            "[I 2024-11-17 09:31:51,686] Trial 43 finished with value: 9.673280055721989e-05 and parameters: {'learning_rate': 0.024587881072345535, 'hidden_size': 56, 'num_layers': 1, 'batch_size': 16}. Best is trial 43 with value: 9.673280055721989e-05.\n",
            "[I 2024-11-17 09:32:13,172] Trial 44 finished with value: 0.00021491068648835855 and parameters: {'learning_rate': 0.02978760950659266, 'hidden_size': 59, 'num_layers': 2, 'batch_size': 16}. Best is trial 43 with value: 9.673280055721989e-05.\n",
            "[I 2024-11-17 09:32:24,179] Trial 45 finished with value: 0.0015278858680341561 and parameters: {'learning_rate': 0.06122544971768266, 'hidden_size': 72, 'num_layers': 1, 'batch_size': 16}. Best is trial 43 with value: 9.673280055721989e-05.\n",
            "[I 2024-11-17 09:32:39,344] Trial 46 finished with value: 0.00013560892921304912 and parameters: {'learning_rate': 0.028565504644230064, 'hidden_size': 84, 'num_layers': 1, 'batch_size': 16}. Best is trial 43 with value: 9.673280055721989e-05.\n",
            "[I 2024-11-17 09:32:53,399] Trial 47 finished with value: 0.000577888634242382 and parameters: {'learning_rate': 0.030376704979465236, 'hidden_size': 88, 'num_layers': 1, 'batch_size': 16}. Best is trial 43 with value: 9.673280055721989e-05.\n",
            "[I 2024-11-17 09:33:12,301] Trial 48 finished with value: 0.00037278416874125304 and parameters: {'learning_rate': 0.024808342007125953, 'hidden_size': 57, 'num_layers': 2, 'batch_size': 16}. Best is trial 43 with value: 9.673280055721989e-05.\n",
            "[I 2024-11-17 09:33:26,141] Trial 49 finished with value: 0.00014857240074144846 and parameters: {'learning_rate': 0.013269778105481073, 'hidden_size': 71, 'num_layers': 1, 'batch_size': 64}. Best is trial 43 with value: 9.673280055721989e-05.\n"
          ]
        },
        {
          "output_type": "stream",
          "name": "stdout",
          "text": [
            "Best parameters found: {'learning_rate': 0.024587881072345535, 'hidden_size': 56, 'num_layers': 1, 'batch_size': 16}\n"
          ]
        }
      ]
    },
    {
      "cell_type": "code",
      "source": [
        "#######################################################\n",
        "# Model Definition and Training with Best Parameters\n",
        "#######################################################\n",
        "\"\"\"\n",
        "Implementation: explain what makes this code good /20\n",
        "Technical Justification: Why we chose to do what we did /10\n",
        "Results Interpretation: /10\n",
        "Related Work: Sources and References /4\n",
        "\"\"\"\n",
        "\n",
        "# Extract the best parameters from the Optuna study\n",
        "best_params = study.best_trial.params\n",
        "hidden_size = best_params['hidden_size']\n",
        "num_layers = best_params['num_layers']\n",
        "learning_rate = best_params['learning_rate']\n",
        "batch_size = best_params['batch_size']\n",
        "\n",
        "# Define the final model with the best parameters\n",
        "class LSTMStockPredictor(nn.Module):\n",
        "    def __init__(self, input_size=1, hidden_layer_size=hidden_size, output_size=1):\n",
        "        super(LSTMStockPredictor, self).__init__()\n",
        "        self.hidden_layer_size = hidden_layer_size\n",
        "        self.lstm = nn.LSTM(input_size, hidden_layer_size, num_layers=num_layers, batch_first=True)\n",
        "        self.linear = nn.Linear(hidden_layer_size, output_size)\n",
        "\n",
        "    def forward(self, input_seq):\n",
        "        lstm_out, _ = self.lstm(input_seq)\n",
        "        predictions = self.linear(lstm_out[:, -1, :])\n",
        "        return predictions\n",
        "\n",
        "# Initialize the final model, loss function, and optimizer with the best hyperparameters\n",
        "model = LSTMStockPredictor()\n",
        "loss_function = nn.MSELoss()\n",
        "optimizer = torch.optim.Adam(model.parameters(), lr=learning_rate)\n",
        "\n",
        "# Create DataLoaders with the best batch size\n",
        "train_loader = DataLoader(train_subset, batch_size=batch_size, shuffle=True)\n",
        "val_loader = DataLoader(val_subset, batch_size=batch_size, shuffle=False)"
      ],
      "metadata": {
        "id": "zvui_R3Y1J2s"
      },
      "execution_count": null,
      "outputs": []
    },
    {
      "cell_type": "code",
      "source": [
        "#######################################################\n",
        "#  Training and Validation\n",
        "#######################################################\n",
        "\"\"\"\n",
        "Implementation: Explain each code component /20\n",
        "Technical Justification: Rationale behind each choice /10\n",
        "Results Interpretation: How to interpret loss trends /10\n",
        "Related Work: Relevant LSTM and Optuna studies /4\n",
        "\"\"\"\n",
        "\n",
        "# Hyperparameters and Configurations\n",
        "NUM_EPOCHS = 50           # Number of epochs for final training\n",
        "SEQ_LENGTH = 90           # Sequence length, can adjust based on data preprocessing\n",
        "BATCH_SIZE = best_params['batch_size']  # Batch size from best parameters\n",
        "\n",
        "# Initialize lists to store loss values for plotting\n",
        "train_losses = []\n",
        "val_losses = []\n",
        "\n",
        "# Training and Validation Loop\n",
        "for epoch in range(NUM_EPOCHS):\n",
        "    train_loss = 0.0\n",
        "    val_loss = 0.0\n",
        "\n",
        "    # Training Loop\n",
        "    model.train()\n",
        "    for seq, labels in train_loader:\n",
        "        optimizer.zero_grad()\n",
        "        seq = seq.view(-1, SEQ_LENGTH, 1)  # Ensure correct input shape\n",
        "        y_pred = model(seq)\n",
        "        loss = loss_function(y_pred, labels.view(-1, 1))\n",
        "        loss.backward()\n",
        "        optimizer.step()\n",
        "        train_loss += loss.item()\n",
        "\n",
        "    # Calculate average training loss for this epoch\n",
        "    avg_train_loss = train_loss / len(train_loader)\n",
        "    train_losses.append(avg_train_loss)\n",
        "\n",
        "    # Validation Loop\n",
        "    model.eval()\n",
        "    with torch.no_grad():\n",
        "        for seq, labels in val_loader:\n",
        "            seq = seq.view(-1, SEQ_LENGTH, 1)\n",
        "            y_pred = model(seq)\n",
        "            loss = loss_function(y_pred, labels.view(-1, 1))\n",
        "            val_loss += loss.item()\n",
        "\n",
        "    # Calculate average validation loss for this epoch\n",
        "    avg_val_loss = val_loss / len(val_loader)\n",
        "    val_losses.append(avg_val_loss)\n",
        "\n",
        "    # Print epoch summary\n",
        "    print(f'Epoch {epoch + 1}/{NUM_EPOCHS}, Training Loss: {avg_train_loss:.4f}, Validation Loss: {avg_val_loss:.4f}')\n",
        "\n",
        "# Plot training and validation loss\n",
        "plt.figure(figsize=(10, 6))\n",
        "plt.plot(train_losses, label='Training Loss', linewidth=2)\n",
        "plt.plot(val_losses, label='Validation Loss', linestyle='--', linewidth=2)\n",
        "plt.title('Model Loss over Epochs')\n",
        "plt.xlabel('Epoch')\n",
        "plt.ylabel('Loss')\n",
        "plt.legend(loc='upper right')\n",
        "plt.grid(True)\n",
        "plt.show()\n",
        "\n",
        "# Model Evaluation on Test Set\n",
        "model.eval()\n",
        "\n",
        "# Define DataLoader for the test dataset\n",
        "test_loader = DataLoader(test_dataset, batch_size=BATCH_SIZE, shuffle=False)\n",
        "\n",
        "# Initialize lists for predictions and actual values\n",
        "test_predictions = []\n",
        "test_actuals = []\n",
        "\n",
        "# Evaluation loop\n",
        "with torch.no_grad():\n",
        "    for seq, labels in test_loader:\n",
        "        # Ensure input sequence has the correct shape\n",
        "        seq = seq.view(-1, SEQ_LENGTH, 1)\n",
        "\n",
        "        # Get predictions\n",
        "        y_pred = model(seq)\n",
        "\n",
        "        # Check and adjust shape if needed\n",
        "        if y_pred.dim() == 0:\n",
        "            # If y_pred is a single scalar, convert it directly\n",
        "            test_predictions.append(y_pred.item())\n",
        "        else:\n",
        "            # Otherwise, extend the list with predictions\n",
        "            test_predictions.extend(y_pred.view(-1).tolist())\n",
        "\n",
        "        # Store actual values similarly\n",
        "        if labels.dim() == 0:\n",
        "            test_actuals.append(labels.item())\n",
        "        else:\n",
        "            test_actuals.extend(labels.view(-1).tolist())\n",
        "\n",
        "# Reshape predictions and actuals for inverse scaling\n",
        "test_predictions = np.array(test_predictions).reshape(-1, 1)\n",
        "test_actuals = np.array(test_actuals).reshape(-1, 1)\n",
        "\n",
        "# Use scaler to transform values back to original range\n",
        "predictions_rescaled = scaler.inverse_transform(test_predictions)\n",
        "actuals_rescaled = scaler.inverse_transform(test_actuals)\n"
      ],
      "metadata": {
        "id": "DG6WYwDr2Kok",
        "outputId": "4c9d9951-9fa2-4e10-94f7-2216b7aebfdc",
        "colab": {
          "base_uri": "https://localhost:8080/",
          "height": 1000
        }
      },
      "execution_count": null,
      "outputs": [
        {
          "output_type": "stream",
          "name": "stdout",
          "text": [
            "Epoch 1/50, Training Loss: 0.0060, Validation Loss: 0.0002\n",
            "Epoch 2/50, Training Loss: 0.0002, Validation Loss: 0.0002\n",
            "Epoch 3/50, Training Loss: 0.0002, Validation Loss: 0.0003\n",
            "Epoch 4/50, Training Loss: 0.0002, Validation Loss: 0.0002\n",
            "Epoch 5/50, Training Loss: 0.0002, Validation Loss: 0.0001\n",
            "Epoch 6/50, Training Loss: 0.0002, Validation Loss: 0.0001\n",
            "Epoch 7/50, Training Loss: 0.0002, Validation Loss: 0.0002\n",
            "Epoch 8/50, Training Loss: 0.0002, Validation Loss: 0.0001\n",
            "Epoch 9/50, Training Loss: 0.0002, Validation Loss: 0.0002\n",
            "Epoch 10/50, Training Loss: 0.0002, Validation Loss: 0.0002\n",
            "Epoch 11/50, Training Loss: 0.0002, Validation Loss: 0.0001\n",
            "Epoch 12/50, Training Loss: 0.0002, Validation Loss: 0.0002\n",
            "Epoch 13/50, Training Loss: 0.0002, Validation Loss: 0.0013\n",
            "Epoch 14/50, Training Loss: 0.0002, Validation Loss: 0.0001\n",
            "Epoch 15/50, Training Loss: 0.0001, Validation Loss: 0.0001\n",
            "Epoch 16/50, Training Loss: 0.0002, Validation Loss: 0.0003\n",
            "Epoch 17/50, Training Loss: 0.0002, Validation Loss: 0.0001\n",
            "Epoch 18/50, Training Loss: 0.0002, Validation Loss: 0.0001\n",
            "Epoch 19/50, Training Loss: 0.0002, Validation Loss: 0.0002\n",
            "Epoch 20/50, Training Loss: 0.0002, Validation Loss: 0.0002\n",
            "Epoch 21/50, Training Loss: 0.0003, Validation Loss: 0.0002\n",
            "Epoch 22/50, Training Loss: 0.0002, Validation Loss: 0.0004\n",
            "Epoch 23/50, Training Loss: 0.0002, Validation Loss: 0.0002\n",
            "Epoch 24/50, Training Loss: 0.0002, Validation Loss: 0.0001\n",
            "Epoch 25/50, Training Loss: 0.0002, Validation Loss: 0.0001\n",
            "Epoch 26/50, Training Loss: 0.0003, Validation Loss: 0.0001\n",
            "Epoch 27/50, Training Loss: 0.0002, Validation Loss: 0.0002\n",
            "Epoch 28/50, Training Loss: 0.0002, Validation Loss: 0.0002\n",
            "Epoch 29/50, Training Loss: 0.0002, Validation Loss: 0.0001\n",
            "Epoch 30/50, Training Loss: 0.0002, Validation Loss: 0.0001\n",
            "Epoch 31/50, Training Loss: 0.0002, Validation Loss: 0.0003\n",
            "Epoch 32/50, Training Loss: 0.0002, Validation Loss: 0.0002\n",
            "Epoch 33/50, Training Loss: 0.0002, Validation Loss: 0.0001\n",
            "Epoch 34/50, Training Loss: 0.0002, Validation Loss: 0.0002\n",
            "Epoch 35/50, Training Loss: 0.0002, Validation Loss: 0.0002\n",
            "Epoch 36/50, Training Loss: 0.0002, Validation Loss: 0.0002\n",
            "Epoch 37/50, Training Loss: 0.0002, Validation Loss: 0.0002\n",
            "Epoch 38/50, Training Loss: 0.0002, Validation Loss: 0.0002\n",
            "Epoch 39/50, Training Loss: 0.0002, Validation Loss: 0.0002\n",
            "Epoch 40/50, Training Loss: 0.0002, Validation Loss: 0.0002\n",
            "Epoch 41/50, Training Loss: 0.0002, Validation Loss: 0.0003\n",
            "Epoch 42/50, Training Loss: 0.0002, Validation Loss: 0.0003\n",
            "Epoch 43/50, Training Loss: 0.0002, Validation Loss: 0.0002\n",
            "Epoch 44/50, Training Loss: 0.0001, Validation Loss: 0.0001\n",
            "Epoch 45/50, Training Loss: 0.0001, Validation Loss: 0.0001\n",
            "Epoch 46/50, Training Loss: 0.0002, Validation Loss: 0.0002\n",
            "Epoch 47/50, Training Loss: 0.0002, Validation Loss: 0.0001\n",
            "Epoch 48/50, Training Loss: 0.0002, Validation Loss: 0.0001\n",
            "Epoch 49/50, Training Loss: 0.0002, Validation Loss: 0.0001\n",
            "Epoch 50/50, Training Loss: 0.0001, Validation Loss: 0.0002\n"
          ]
        },
        {
          "output_type": "display_data",
          "data": {
            "text/plain": [
              "<Figure size 1000x600 with 1 Axes>"
            ],
            "image/png": "[encoded data removed]"
          },
          "metadata": {}
        }
      ]
    },
    {
      "cell_type": "code",
      "source": [
        "#######################################################\n",
        "#  Performance Metrics\n",
        "########################################################\n",
        "\"\"\"\n",
        "Implementation: explain what makes this code good /20\n",
        "Technical Justification: Why we chose to do what we did /10\n",
        "Results Interpretation: /10\n",
        "Related Work: Sources and References /4\n",
        "\"\"\"\n",
        "\n",
        "# Calculate MAE\n",
        "mae = mean_absolute_error(actuals_rescaled, predictions_rescaled)\n",
        "print(f'MAE: {mae}')\n",
        "\n",
        "# Calculate R-Squared\n",
        "r2 = r2_score(actuals_rescaled, predictions_rescaled)\n",
        "print(f'R²: {r2}')\n",
        "\n",
        "# Calculate RMSE between rescaled predictions and actual values\n",
        "rmse = np.sqrt(mean_squared_error(actuals_rescaled, predictions_rescaled))\n",
        "print(f'RMSE: {rmse}')"
      ],
      "metadata": {
        "id": "yhH6wggt3f49",
        "outputId": "61d9eafd-34ad-478c-fc13-5a437715267a",
        "colab": {
          "base_uri": "https://localhost:8080/"
        }
      },
      "execution_count": null,
      "outputs": [
        {
          "output_type": "stream",
          "name": "stdout",
          "text": [
            "MAE: 1.1749574273252867\n",
            "R²: 0.992085410424431\n",
            "RMSE: 1.2852711279049587\n"
          ]
        }
      ]
    },
    {
      "cell_type": "code",
      "source": [
        "# Format Data to plot on graph\n",
        "sp500_filtered.set_index('Date', inplace=True)\n",
        "\n",
        "test_set_dates = sp500_filtered.index[-len(actuals_rescaled):]\n",
        "test_set_dates = pd.to_datetime(test_set_dates)  # Ensure it's in datetime format"
      ],
      "metadata": {
        "id": "qWiI_ScwPuFs"
      },
      "execution_count": null,
      "outputs": []
    },
    {
      "cell_type": "code",
      "source": [
        "#######################################################\n",
        "#  Prediction Accuracy Visualization\n",
        "#######################################################\n",
        "\"\"\"\n",
        "Implementation: Explain each code component /20\n",
        "Technical Justification: Rationale behind each choice /10\n",
        "Results Interpretation: How to interpret visualized trends /10\n",
        "Related Work: Relevant LSTM and time-series prediction studies /4\n",
        "\"\"\"\n",
        "\n",
        "# Visualization Settings\n",
        "FIGURE_SIZE = (12, 6)         # Figure dimensions for the plot\n",
        "ACTUAL_COLOR = 'red'          # Color for actual prices line\n",
        "PREDICTED_COLOR = 'blue'      # Color for predicted prices line\n",
        "PLOT_TITLE = 'Stock Price Prediction vs Actual Prices'\n",
        "X_LABEL = 'Time'\n",
        "Y_LABEL = 'Stock Price'\n",
        "\n",
        "plt.plot(test_set_dates, actuals_rescaled, label='Actual Prices', color=ACTUAL_COLOR)\n",
        "plt.plot(test_set_dates, predictions_rescaled, label='Predicted Prices', color=PREDICTED_COLOR)\n",
        "\n",
        "plt.title(PLOT_TITLE)\n",
        "plt.xlabel(X_LABEL)\n",
        "plt.ylabel(Y_LABEL)\n",
        "\n",
        "# Set x-axis limits and format\n",
        "plt.xlim([test_set_dates[0], test_set_dates[-1]])\n",
        "plt.gca().xaxis.set_major_locator(mdates.MonthLocator())\n",
        "plt.gca().xaxis.set_major_formatter(mdates.DateFormatter('%b %Y'))  # Format to show month and year\n",
        "plt.xticks(rotation=45)  # Rotate x-axis labels for better visibility\n",
        "\n",
        "plt.legend()\n",
        "plt.tight_layout()\n",
        "plt.show()"
      ],
      "metadata": {
        "id": "VgNdbaeh3mop",
        "outputId": "25d49094-271f-4264-cf16-4f635c45a61b",
        "colab": {
          "base_uri": "https://localhost:8080/",
          "height": 487
        }
      },
      "execution_count": null,
      "outputs": [
        {
          "output_type": "display_data",
          "data": {
            "text/plain": [
              "<Figure size 640x480 with 1 Axes>"
            ],
            "image/png": "[encoded data removed]"
          },
          "metadata": {}
        }
      ]
    },
    {
      "cell_type": "markdown",
      "source": [
        "## Neural Network Architecture"
      ],
      "metadata": {
        "id": "mG1yyfA95n-B"
      }
    },
    {
      "cell_type": "markdown",
      "source": [
        "References: To put in our presentation or somewhere later <br>\n",
        "https://www.analyticsvidhya.com/blog/2021/12/stock-price-prediction-using-lstm/ <br>\n",
        "https://www.coursera.org/in/articles/types-of-neural-networks"
      ],
      "metadata": {
        "id": "K2WxXIV9nBDe"
      }
    },
    {
      "cell_type": "markdown",
      "source": [
        "In our project, we decided to utilise Long short-term memory (LSTM) networks. LSTMs are a specialised type of recurrent neural network architecture, specifically designed to remember information over extended periods of time. This makes them the perfect model to use for our time-series data.\n"
      ],
      "metadata": {
        "id": "6eCigDRPmsTH"
      }
    },
    {
      "cell_type": "markdown",
      "source": [
        "Originally use 'Close' price as we deduced it as most relevant and stable data and introduce the least amount of noise. But now I that I think of it that could be the main reason it is overfitting lol"
      ],
      "metadata": {
        "id": "0QgKPaYyoAID"
      }
    }
  ]
}