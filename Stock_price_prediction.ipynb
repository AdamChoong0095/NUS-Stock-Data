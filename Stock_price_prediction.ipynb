{
 "cells": [
  {
   "cell_type": "markdown",
   "metadata": {
    "colab_type": "text",
    "id": "view-in-github"
   },
   "source": [
    "<a href=\"https://colab.research.google.com/github/AdamChoong0095/NUS-Stock-Data/blob/Paddy/Stock_price_prediction.ipynb\" target=\"_parent\"><img src=\"https://colab.research.google.com/assets/colab-badge.svg\" alt=\"Open In Colab\"/></a>"
   ]
  },
  {
   "cell_type": "markdown",
   "metadata": {
    "id": "AgnKn1M2-dI2"
   },
   "source": []
  },
  {
   "cell_type": "markdown",
   "metadata": {
    "id": "XcQP_IIp6AW-"
   },
   "source": [
    "# Stock Price Prediction using LSTM\n",
    "This project aims to predict stock prices using historical data and Long Short-Term Memory (LSTM) neural networks.\n",
    "\n",
    "## Data Loading and Preprocessing"
   ]
  },
  {
   "cell_type": "code",
   "execution_count": 1,
   "metadata": {
    "id": "HHXUC3Mz9Hds"
   },
   "outputs": [],
   "source": [
    "# Import necessary libraries\n",
    "import pandas as pd\n",
    "import numpy as np\n",
    "from google.colab import drive\n",
    "from sklearn.preprocessing import MinMaxScaler\n",
    "from tensorflow.keras.models import Sequential\n",
    "from tensorflow.keras.layers import Dense, LSTM\n"
   ]
  },
  {
   "cell_type": "code",
   "execution_count": 2,
   "metadata": {
    "colab": {
     "base_uri": "https://localhost:8080/"
    },
    "id": "2YiZfa652vD8",
    "outputId": "bed21df6-b23d-4c1b-a6de-63a77cb4e5df"
   },
   "outputs": [
    {
     "name": "stdout",
     "output_type": "stream",
     "text": [
      "Mounted at /content/drive\n"
     ]
    }
   ],
   "source": [
    "# Mount Google Drive\n",
    "drive.mount('/content/drive')"
   ]
  },
  {
   "cell_type": "code",
   "execution_count": 3,
   "metadata": {
    "id": "IT2u0Nza3WpE"
   },
   "outputs": [],
   "source": [
    "# Load the dataset (had to make a shortcut from \"Shared with Me\" to MyDrive)\n",
    "sp500=pd.read_csv('/content/drive/MyDrive/cs3244_data/ETFs/spy.us.txt')\n",
    "sp500.drop(columns={'OpenInt','Volume'}, inplace=True)\n",
    "# Create empty lists to store the new data\n",
    "dates = []\n",
    "prices = []\n",
    "price_types = []\n",
    "\n",
    "# Iterate through the DataFrame\n",
    "for index, row in sp500.iterrows():\n",
    "  date = row['Date']\n",
    "  open_price = row['Open']\n",
    "  high_price = row['High']\n",
    "  low_price = row['Low']\n",
    "  close_price = row['Close']\n",
    "\n",
    "  # Append the data to the lists\n",
    "  dates.extend([date] * 4)  # Repeat the date 4 times\n",
    "  prices.extend([open_price, high_price, low_price, close_price])\n",
    "  price_types.extend(['open', 'high', 'low', 'close'])\n",
    "\n",
    "# Create a new DataFrame\n",
    "sp500 = pd.DataFrame({'Date': dates, 'Price': prices, 'Type of Price': price_types})"
   ]
  },
  {
   "cell_type": "code",
   "execution_count": 4,
   "metadata": {
    "id": "ZcUkfHw04ntd"
   },
   "outputs": [],
   "source": [
    "# Group the DataFrame by Date and Type of Price\n",
    "grouped = sp500.groupby(['Date', 'Type of Price'])\n",
    "\n",
    "# Calculate the average price for each date and type\n",
    "avg_prices = grouped['Price'].mean().reset_index()\n",
    "\n",
    "# Create a dictionary to store the average high and low prices for each date\n",
    "avg_high_low = {}\n",
    "\n",
    "# Iterate through the average prices\n",
    "for index, row in avg_prices.iterrows():\n",
    "  date = row['Date']\n",
    "  price_type = row['Type of Price']\n",
    "  price = row['Price']\n",
    "\n",
    "  if date not in avg_high_low:\n",
    "    avg_high_low[date] = {}\n",
    "\n",
    "  if price_type == 'high' or price_type == 'low':\n",
    "    avg_high_low[date][price_type] = price\n",
    "\n",
    "# Iterate through the DataFrame and replace high and low prices with the average\n",
    "for index, row in sp500.iterrows():\n",
    "  date = row['Date']\n",
    "  price_type = row['Type of Price']\n",
    "\n",
    "  if price_type == 'high' or price_type == 'low' and date in avg_high_low:\n",
    "    sp500.loc[index, 'Price'] = avg_high_low[date][price_type]\n"
   ]
  },
  {
   "cell_type": "code",
   "execution_count": 5,
   "metadata": {
    "colab": {
     "base_uri": "https://localhost:8080/",
     "height": 464
    },
    "id": "jZkS-cDmFqIM",
    "outputId": "e00ed69f-8f7a-4b41-c577-83893ada485b"
   },
   "outputs": [
    {
     "name": "stderr",
     "output_type": "stream",
     "text": [
      "<ipython-input-5-90077ebfbdb0>:22: FutureWarning: The behavior of DataFrame concatenation with empty or all-NA entries is deprecated. In a future version, this will no longer exclude empty or all-NA columns when determining the result dtypes. To retain the old behavior, exclude the relevant entries before the concat operation.\n",
      "  new_sp500 = pd.concat([new_sp500, pd.DataFrame({'Date': [row['Date']], 'Price': [row['Price']], 'Type of Price': [row['Type of Price']]})], ignore_index=True)\n"
     ]
    },
    {
     "data": {
      "application/vnd.google.colaboratory.intrinsic+json": {
       "summary": "{\n  \"name\": \"sp500\",\n  \"rows\": 9603,\n  \"fields\": [\n    {\n      \"column\": \"Date\",\n      \"properties\": {\n        \"dtype\": \"object\",\n        \"num_unique_values\": 3201,\n        \"samples\": [\n          \"2010-08-11\",\n          \"2009-11-23\",\n          \"2016-10-26\"\n        ],\n        \"semantic_type\": \"\",\n        \"description\": \"\"\n      }\n    },\n    {\n      \"column\": \"Price\",\n      \"properties\": {\n        \"dtype\": \"number\",\n        \"std\": 46.51258321622472,\n        \"min\": 59.195,\n        \"max\": 259.11,\n        \"num_unique_values\": 7436,\n        \"samples\": [\n          112.02,\n          148.95,\n          99.75\n        ],\n        \"semantic_type\": \"\",\n        \"description\": \"\"\n      }\n    },\n    {\n      \"column\": \"Type of Price\",\n      \"properties\": {\n        \"dtype\": \"category\",\n        \"num_unique_values\": 3,\n        \"samples\": [\n          \"open\",\n          \"average\",\n          \"close\"\n        ],\n        \"semantic_type\": \"\",\n        \"description\": \"\"\n      }\n    }\n  ]\n}",
       "type": "dataframe",
       "variable_name": "sp500"
      },
      "text/html": [
       "\n",
       "  <div id=\"df-37cbae70-8949-4336-a50b-495a1279bcb9\" class=\"colab-df-container\">\n",
       "    <div>\n",
       "<style scoped>\n",
       "    .dataframe tbody tr th:only-of-type {\n",
       "        vertical-align: middle;\n",
       "    }\n",
       "\n",
       "    .dataframe tbody tr th {\n",
       "        vertical-align: top;\n",
       "    }\n",
       "\n",
       "    .dataframe thead th {\n",
       "        text-align: right;\n",
       "    }\n",
       "</style>\n",
       "<table border=\"1\" class=\"dataframe\">\n",
       "  <thead>\n",
       "    <tr style=\"text-align: right;\">\n",
       "      <th></th>\n",
       "      <th>Date</th>\n",
       "      <th>Price</th>\n",
       "      <th>Type of Price</th>\n",
       "    </tr>\n",
       "  </thead>\n",
       "  <tbody>\n",
       "    <tr>\n",
       "      <th>0</th>\n",
       "      <td>2005-02-25</td>\n",
       "      <td>104.770</td>\n",
       "      <td>open</td>\n",
       "    </tr>\n",
       "    <tr>\n",
       "      <th>1</th>\n",
       "      <td>2005-02-25</td>\n",
       "      <td>105.340</td>\n",
       "      <td>average</td>\n",
       "    </tr>\n",
       "    <tr>\n",
       "      <th>2</th>\n",
       "      <td>2005-02-25</td>\n",
       "      <td>105.790</td>\n",
       "      <td>close</td>\n",
       "    </tr>\n",
       "    <tr>\n",
       "      <th>3</th>\n",
       "      <td>2005-02-28</td>\n",
       "      <td>105.550</td>\n",
       "      <td>open</td>\n",
       "    </tr>\n",
       "    <tr>\n",
       "      <th>4</th>\n",
       "      <td>2005-02-28</td>\n",
       "      <td>105.120</td>\n",
       "      <td>average</td>\n",
       "    </tr>\n",
       "    <tr>\n",
       "      <th>...</th>\n",
       "      <td>...</td>\n",
       "      <td>...</td>\n",
       "      <td>...</td>\n",
       "    </tr>\n",
       "    <tr>\n",
       "      <th>9598</th>\n",
       "      <td>2017-11-09</td>\n",
       "      <td>257.375</td>\n",
       "      <td>average</td>\n",
       "    </tr>\n",
       "    <tr>\n",
       "      <th>9599</th>\n",
       "      <td>2017-11-09</td>\n",
       "      <td>258.170</td>\n",
       "      <td>close</td>\n",
       "    </tr>\n",
       "    <tr>\n",
       "      <th>9600</th>\n",
       "      <td>2017-11-10</td>\n",
       "      <td>257.730</td>\n",
       "      <td>open</td>\n",
       "    </tr>\n",
       "    <tr>\n",
       "      <th>9601</th>\n",
       "      <td>2017-11-10</td>\n",
       "      <td>257.790</td>\n",
       "      <td>average</td>\n",
       "    </tr>\n",
       "    <tr>\n",
       "      <th>9602</th>\n",
       "      <td>2017-11-10</td>\n",
       "      <td>258.090</td>\n",
       "      <td>close</td>\n",
       "    </tr>\n",
       "  </tbody>\n",
       "</table>\n",
       "<p>9603 rows × 3 columns</p>\n",
       "</div>\n",
       "    <div class=\"colab-df-buttons\">\n",
       "\n",
       "  <div class=\"colab-df-container\">\n",
       "    <button class=\"colab-df-convert\" onclick=\"convertToInteractive('df-37cbae70-8949-4336-a50b-495a1279bcb9')\"\n",
       "            title=\"Convert this dataframe to an interactive table.\"\n",
       "            style=\"display:none;\">\n",
       "\n",
       "  <svg xmlns=\"http://www.w3.org/2000/svg\" height=\"24px\" viewBox=\"0 -960 960 960\">\n",
       "    <path d=\"M120-120v-720h720v720H120Zm60-500h600v-160H180v160Zm220 220h160v-160H400v160Zm0 220h160v-160H400v160ZM180-400h160v-160H180v160Zm440 0h160v-160H620v160ZM180-180h160v-160H180v160Zm440 0h160v-160H620v160Z\"/>\n",
       "  </svg>\n",
       "    </button>\n",
       "\n",
       "  <style>\n",
       "    .colab-df-container {\n",
       "      display:flex;\n",
       "      gap: 12px;\n",
       "    }\n",
       "\n",
       "    .colab-df-convert {\n",
       "      background-color: #E8F0FE;\n",
       "      border: none;\n",
       "      border-radius: 50%;\n",
       "      cursor: pointer;\n",
       "      display: none;\n",
       "      fill: #1967D2;\n",
       "      height: 32px;\n",
       "      padding: 0 0 0 0;\n",
       "      width: 32px;\n",
       "    }\n",
       "\n",
       "    .colab-df-convert:hover {\n",
       "      background-color: #E2EBFA;\n",
       "      box-shadow: 0px 1px 2px rgba(60, 64, 67, 0.3), 0px 1px 3px 1px rgba(60, 64, 67, 0.15);\n",
       "      fill: #174EA6;\n",
       "    }\n",
       "\n",
       "    .colab-df-buttons div {\n",
       "      margin-bottom: 4px;\n",
       "    }\n",
       "\n",
       "    [theme=dark] .colab-df-convert {\n",
       "      background-color: #3B4455;\n",
       "      fill: #D2E3FC;\n",
       "    }\n",
       "\n",
       "    [theme=dark] .colab-df-convert:hover {\n",
       "      background-color: #434B5C;\n",
       "      box-shadow: 0px 1px 3px 1px rgba(0, 0, 0, 0.15);\n",
       "      filter: drop-shadow(0px 1px 2px rgba(0, 0, 0, 0.3));\n",
       "      fill: #FFFFFF;\n",
       "    }\n",
       "  </style>\n",
       "\n",
       "    <script>\n",
       "      const buttonEl =\n",
       "        document.querySelector('#df-37cbae70-8949-4336-a50b-495a1279bcb9 button.colab-df-convert');\n",
       "      buttonEl.style.display =\n",
       "        google.colab.kernel.accessAllowed ? 'block' : 'none';\n",
       "\n",
       "      async function convertToInteractive(key) {\n",
       "        const element = document.querySelector('#df-37cbae70-8949-4336-a50b-495a1279bcb9');\n",
       "        const dataTable =\n",
       "          await google.colab.kernel.invokeFunction('convertToInteractive',\n",
       "                                                    [key], {});\n",
       "        if (!dataTable) return;\n",
       "\n",
       "        const docLinkHtml = 'Like what you see? Visit the ' +\n",
       "          '<a target=\"_blank\" href=https://colab.research.google.com/notebooks/data_table.ipynb>data table notebook</a>'\n",
       "          + ' to learn more about interactive tables.';\n",
       "        element.innerHTML = '';\n",
       "        dataTable['output_type'] = 'display_data';\n",
       "        await google.colab.output.renderOutput(dataTable, element);\n",
       "        const docLink = document.createElement('div');\n",
       "        docLink.innerHTML = docLinkHtml;\n",
       "        element.appendChild(docLink);\n",
       "      }\n",
       "    </script>\n",
       "  </div>\n",
       "\n",
       "\n",
       "<div id=\"df-7bc40c56-d354-40ed-91b7-d2c857f64317\">\n",
       "  <button class=\"colab-df-quickchart\" onclick=\"quickchart('df-7bc40c56-d354-40ed-91b7-d2c857f64317')\"\n",
       "            title=\"Suggest charts\"\n",
       "            style=\"display:none;\">\n",
       "\n",
       "<svg xmlns=\"http://www.w3.org/2000/svg\" height=\"24px\"viewBox=\"0 0 24 24\"\n",
       "     width=\"24px\">\n",
       "    <g>\n",
       "        <path d=\"M19 3H5c-1.1 0-2 .9-2 2v14c0 1.1.9 2 2 2h14c1.1 0 2-.9 2-2V5c0-1.1-.9-2-2-2zM9 17H7v-7h2v7zm4 0h-2V7h2v10zm4 0h-2v-4h2v4z\"/>\n",
       "    </g>\n",
       "</svg>\n",
       "  </button>\n",
       "\n",
       "<style>\n",
       "  .colab-df-quickchart {\n",
       "      --bg-color: #E8F0FE;\n",
       "      --fill-color: #1967D2;\n",
       "      --hover-bg-color: #E2EBFA;\n",
       "      --hover-fill-color: #174EA6;\n",
       "      --disabled-fill-color: #AAA;\n",
       "      --disabled-bg-color: #DDD;\n",
       "  }\n",
       "\n",
       "  [theme=dark] .colab-df-quickchart {\n",
       "      --bg-color: #3B4455;\n",
       "      --fill-color: #D2E3FC;\n",
       "      --hover-bg-color: #434B5C;\n",
       "      --hover-fill-color: #FFFFFF;\n",
       "      --disabled-bg-color: #3B4455;\n",
       "      --disabled-fill-color: #666;\n",
       "  }\n",
       "\n",
       "  .colab-df-quickchart {\n",
       "    background-color: var(--bg-color);\n",
       "    border: none;\n",
       "    border-radius: 50%;\n",
       "    cursor: pointer;\n",
       "    display: none;\n",
       "    fill: var(--fill-color);\n",
       "    height: 32px;\n",
       "    padding: 0;\n",
       "    width: 32px;\n",
       "  }\n",
       "\n",
       "  .colab-df-quickchart:hover {\n",
       "    background-color: var(--hover-bg-color);\n",
       "    box-shadow: 0 1px 2px rgba(60, 64, 67, 0.3), 0 1px 3px 1px rgba(60, 64, 67, 0.15);\n",
       "    fill: var(--button-hover-fill-color);\n",
       "  }\n",
       "\n",
       "  .colab-df-quickchart-complete:disabled,\n",
       "  .colab-df-quickchart-complete:disabled:hover {\n",
       "    background-color: var(--disabled-bg-color);\n",
       "    fill: var(--disabled-fill-color);\n",
       "    box-shadow: none;\n",
       "  }\n",
       "\n",
       "  .colab-df-spinner {\n",
       "    border: 2px solid var(--fill-color);\n",
       "    border-color: transparent;\n",
       "    border-bottom-color: var(--fill-color);\n",
       "    animation:\n",
       "      spin 1s steps(1) infinite;\n",
       "  }\n",
       "\n",
       "  @keyframes spin {\n",
       "    0% {\n",
       "      border-color: transparent;\n",
       "      border-bottom-color: var(--fill-color);\n",
       "      border-left-color: var(--fill-color);\n",
       "    }\n",
       "    20% {\n",
       "      border-color: transparent;\n",
       "      border-left-color: var(--fill-color);\n",
       "      border-top-color: var(--fill-color);\n",
       "    }\n",
       "    30% {\n",
       "      border-color: transparent;\n",
       "      border-left-color: var(--fill-color);\n",
       "      border-top-color: var(--fill-color);\n",
       "      border-right-color: var(--fill-color);\n",
       "    }\n",
       "    40% {\n",
       "      border-color: transparent;\n",
       "      border-right-color: var(--fill-color);\n",
       "      border-top-color: var(--fill-color);\n",
       "    }\n",
       "    60% {\n",
       "      border-color: transparent;\n",
       "      border-right-color: var(--fill-color);\n",
       "    }\n",
       "    80% {\n",
       "      border-color: transparent;\n",
       "      border-right-color: var(--fill-color);\n",
       "      border-bottom-color: var(--fill-color);\n",
       "    }\n",
       "    90% {\n",
       "      border-color: transparent;\n",
       "      border-bottom-color: var(--fill-color);\n",
       "    }\n",
       "  }\n",
       "</style>\n",
       "\n",
       "  <script>\n",
       "    async function quickchart(key) {\n",
       "      const quickchartButtonEl =\n",
       "        document.querySelector('#' + key + ' button');\n",
       "      quickchartButtonEl.disabled = true;  // To prevent multiple clicks.\n",
       "      quickchartButtonEl.classList.add('colab-df-spinner');\n",
       "      try {\n",
       "        const charts = await google.colab.kernel.invokeFunction(\n",
       "            'suggestCharts', [key], {});\n",
       "      } catch (error) {\n",
       "        console.error('Error during call to suggestCharts:', error);\n",
       "      }\n",
       "      quickchartButtonEl.classList.remove('colab-df-spinner');\n",
       "      quickchartButtonEl.classList.add('colab-df-quickchart-complete');\n",
       "    }\n",
       "    (() => {\n",
       "      let quickchartButtonEl =\n",
       "        document.querySelector('#df-7bc40c56-d354-40ed-91b7-d2c857f64317 button');\n",
       "      quickchartButtonEl.style.display =\n",
       "        google.colab.kernel.accessAllowed ? 'block' : 'none';\n",
       "    })();\n",
       "  </script>\n",
       "</div>\n",
       "\n",
       "  <div id=\"id_a180fe56-bc37-4067-8d4c-ddd920acb88d\">\n",
       "    <style>\n",
       "      .colab-df-generate {\n",
       "        background-color: #E8F0FE;\n",
       "        border: none;\n",
       "        border-radius: 50%;\n",
       "        cursor: pointer;\n",
       "        display: none;\n",
       "        fill: #1967D2;\n",
       "        height: 32px;\n",
       "        padding: 0 0 0 0;\n",
       "        width: 32px;\n",
       "      }\n",
       "\n",
       "      .colab-df-generate:hover {\n",
       "        background-color: #E2EBFA;\n",
       "        box-shadow: 0px 1px 2px rgba(60, 64, 67, 0.3), 0px 1px 3px 1px rgba(60, 64, 67, 0.15);\n",
       "        fill: #174EA6;\n",
       "      }\n",
       "\n",
       "      [theme=dark] .colab-df-generate {\n",
       "        background-color: #3B4455;\n",
       "        fill: #D2E3FC;\n",
       "      }\n",
       "\n",
       "      [theme=dark] .colab-df-generate:hover {\n",
       "        background-color: #434B5C;\n",
       "        box-shadow: 0px 1px 3px 1px rgba(0, 0, 0, 0.15);\n",
       "        filter: drop-shadow(0px 1px 2px rgba(0, 0, 0, 0.3));\n",
       "        fill: #FFFFFF;\n",
       "      }\n",
       "    </style>\n",
       "    <button class=\"colab-df-generate\" onclick=\"generateWithVariable('sp500')\"\n",
       "            title=\"Generate code using this dataframe.\"\n",
       "            style=\"display:none;\">\n",
       "\n",
       "  <svg xmlns=\"http://www.w3.org/2000/svg\" height=\"24px\"viewBox=\"0 0 24 24\"\n",
       "       width=\"24px\">\n",
       "    <path d=\"M7,19H8.4L18.45,9,17,7.55,7,17.6ZM5,21V16.75L18.45,3.32a2,2,0,0,1,2.83,0l1.4,1.43a1.91,1.91,0,0,1,.58,1.4,1.91,1.91,0,0,1-.58,1.4L9.25,21ZM18.45,9,17,7.55Zm-12,3A5.31,5.31,0,0,0,4.9,8.1,5.31,5.31,0,0,0,1,6.5,5.31,5.31,0,0,0,4.9,4.9,5.31,5.31,0,0,0,6.5,1,5.31,5.31,0,0,0,8.1,4.9,5.31,5.31,0,0,0,12,6.5,5.46,5.46,0,0,0,6.5,12Z\"/>\n",
       "  </svg>\n",
       "    </button>\n",
       "    <script>\n",
       "      (() => {\n",
       "      const buttonEl =\n",
       "        document.querySelector('#id_a180fe56-bc37-4067-8d4c-ddd920acb88d button.colab-df-generate');\n",
       "      buttonEl.style.display =\n",
       "        google.colab.kernel.accessAllowed ? 'block' : 'none';\n",
       "\n",
       "      buttonEl.onclick = () => {\n",
       "        google.colab.notebook.generateWithVariable('sp500');\n",
       "      }\n",
       "      })();\n",
       "    </script>\n",
       "  </div>\n",
       "\n",
       "    </div>\n",
       "  </div>\n"
      ],
      "text/plain": [
       "            Date    Price Type of Price\n",
       "0     2005-02-25  104.770          open\n",
       "1     2005-02-25  105.340       average\n",
       "2     2005-02-25  105.790         close\n",
       "3     2005-02-28  105.550          open\n",
       "4     2005-02-28  105.120       average\n",
       "...          ...      ...           ...\n",
       "9598  2017-11-09  257.375       average\n",
       "9599  2017-11-09  258.170         close\n",
       "9600  2017-11-10  257.730          open\n",
       "9601  2017-11-10  257.790       average\n",
       "9602  2017-11-10  258.090         close\n",
       "\n",
       "[9603 rows x 3 columns]"
      ]
     },
     "execution_count": 5,
     "metadata": {},
     "output_type": "execute_result"
    }
   ],
   "source": [
    "# Create a new DataFrame to store the modified data\n",
    "new_sp500 = pd.DataFrame(columns=['Date', 'Price', 'Type of Price'])\n",
    "\n",
    "# Iterate through the DataFrame\n",
    "i = 0\n",
    "while i < len(sp500):\n",
    "  row = sp500.iloc[i]\n",
    "  if row['Type of Price'] == 'high':\n",
    "    # Check if the next row exists and is 'low'\n",
    "    if i + 1 < len(sp500) and sp500.iloc[i + 1]['Type of Price'] == 'low':\n",
    "      # Calculate the average of the high and low prices\n",
    "      average_price = (row['Price'] + sp500.iloc[i + 1]['Price']) / 2\n",
    "      # Add a new row with the average price and label 'average'\n",
    "      new_sp500 = pd.concat([new_sp500, pd.DataFrame({'Date': [row['Date']], 'Price': [average_price], 'Type of Price': ['average']})], ignore_index=True)\n",
    "      i += 2  # Skip the next row (low)\n",
    "    else:\n",
    "      # If the next row is not 'low', keep the current row as it is\n",
    "      new_sp500 = pd.concat([new_sp500, pd.DataFrame({'Date': [row['Date']], 'Price': [row['Price']], 'Type of Price': [row['Type of Price']]})], ignore_index=True)\n",
    "      i += 1\n",
    "  else:\n",
    "    # If the current row is not 'high', keep it as it is\n",
    "    new_sp500 = pd.concat([new_sp500, pd.DataFrame({'Date': [row['Date']], 'Price': [row['Price']], 'Type of Price': [row['Type of Price']]})], ignore_index=True)\n",
    "    i += 1\n",
    "\n",
    "# Replace the original sp500 DataFrame with the modified one\n",
    "sp500 = new_sp500\n",
    "sp500"
   ]
  },
  {
   "cell_type": "markdown",
   "metadata": {
    "id": "mG1yyfA95n-B"
   },
   "source": [
    "## Neural Network Architecture"
   ]
  },
  {
   "cell_type": "code",
   "execution_count": null,
   "metadata": {
    "colab": {
     "base_uri": "https://localhost:8080/"
    },
    "id": "3GNEiMvnDNxZ",
    "outputId": "247be387-0118-4373-c2db-811d258224a4"
   },
   "outputs": [
    {
     "name": "stdout",
     "output_type": "stream",
     "text": [
      "            Date    Price Type of Price\n",
      "0     2005-02-25  104.770          open\n",
      "1     2005-02-25  105.340       average\n",
      "2     2005-02-25  105.790         close\n",
      "3     2005-02-28  105.550          open\n",
      "4     2005-02-28  105.120       average\n",
      "...          ...      ...           ...\n",
      "9598  2017-11-09  257.375       average\n",
      "9599  2017-11-09  258.170         close\n",
      "9600  2017-11-10  257.730          open\n",
      "9601  2017-11-10  257.790       average\n",
      "9602  2017-11-10  258.090         close\n",
      "\n",
      "[9603 rows x 3 columns]\n"
     ]
    }
   ],
   "source": [
    "print(sp500) # test case\n",
    "\n",
    "# Preparing data for LSTM (Use 'Close' prices for simplicity)\n",
    "sp500['Date'] = pd.to_datetime(sp500['Date'])\n",
    "sp500.set_index('Date', inplace=True)"
   ]
  },
  {
   "cell_type": "code",
   "execution_count": null,
   "metadata": {
    "id": "_rwkZU7F-eB0"
   },
   "outputs": [],
   "source": [
    "# Use only 'Close' prices for prediction\n",
    "data = sp500[sp500['Type of Price'] == 'close']['Price'].values\n",
    "data = data.reshape(-1, 1)"
   ]
  },
  {
   "cell_type": "code",
   "execution_count": null,
   "metadata": {
    "id": "ULNr8xHD-ili"
   },
   "outputs": [],
   "source": [
    "# Normalize the data\n",
    "scaler = MinMaxScaler(feature_range=(0,1))\n",
    "scaled_data = scaler.fit_transform(data)"
   ]
  },
  {
   "cell_type": "code",
   "execution_count": null,
   "metadata": {
    "id": "9fT62xTG-jBa"
   },
   "outputs": [],
   "source": [
    "# Define lookback period (e.g., use the past 60 days of data to predict the next day)\n",
    "lookback = 60\n",
    "X_train = []\n",
    "y_train = []\n",
    "\n",
    "\n",
    "for i in range(lookback, len(scaled_data)):\n",
    "    X_train.append(scaled_data[i-lookback:i, 0])\n",
    "    y_train.append(scaled_data[i, 0])"
   ]
  },
  {
   "cell_type": "code",
   "execution_count": null,
   "metadata": {
    "id": "ILvjSz2x-jRa"
   },
   "outputs": [],
   "source": [
    "# Convert to numpy arrays\n",
    "X_train, y_train = np.array(X_train), np.array(y_train)"
   ]
  },
  {
   "cell_type": "code",
   "execution_count": null,
   "metadata": {
    "id": "I_aqclc_-jjL"
   },
   "outputs": [],
   "source": [
    "# Reshape data to be [samples, time steps, features] for LSTM input\n",
    "X_train = np.reshape(X_train, (X_train.shape[0], X_train.shape[1], 1))"
   ]
  },
  {
   "cell_type": "code",
   "execution_count": null,
   "metadata": {
    "id": "bMmR6rMG-j2L"
   },
   "outputs": [],
   "source": [
    "# Define the LSTM Model\n",
    "model = Sequential()"
   ]
  },
  {
   "cell_type": "code",
   "execution_count": null,
   "metadata": {
    "colab": {
     "base_uri": "https://localhost:8080/"
    },
    "id": "teDa1S0X-3J5",
    "outputId": "1fbc4c5c-6e24-4e25-ded6-9033f291a110"
   },
   "outputs": [
    {
     "name": "stderr",
     "output_type": "stream",
     "text": [
      "/usr/local/lib/python3.10/dist-packages/keras/src/layers/rnn/rnn.py:204: UserWarning: Do not pass an `input_shape`/`input_dim` argument to a layer. When using Sequential models, prefer using an `Input(shape)` object as the first layer in the model instead.\n",
      "  super().__init__(**kwargs)\n"
     ]
    }
   ],
   "source": [
    "# LSTM layer\n",
    "model.add(LSTM(units=50, return_sequences=True, input_shape=(X_train.shape[1], 1)))\n",
    "model.add(LSTM(units=50))"
   ]
  },
  {
   "cell_type": "code",
   "execution_count": null,
   "metadata": {
    "id": "QJZrFz0Z--pO"
   },
   "outputs": [],
   "source": [
    "# Fully connected layer\n",
    "model.add(Dense(units=1))  # Output layer for predicting the next price"
   ]
  },
  {
   "cell_type": "code",
   "execution_count": null,
   "metadata": {
    "id": "a8assM3---hm"
   },
   "outputs": [],
   "source": [
    "# Compile the model\n",
    "model.compile(optimizer='adam', loss='mean_squared_error')"
   ]
  },
  {
   "cell_type": "code",
   "execution_count": null,
   "metadata": {
    "colab": {
     "base_uri": "https://localhost:8080/",
     "height": 238
    },
    "id": "Jdcnt7tf--Ts",
    "outputId": "07370591-a705-47f1-985d-f466f7d907e0"
   },
   "outputs": [
    {
     "data": {
      "text/html": [
       "<pre style=\"white-space:pre;overflow-x:auto;line-height:normal;font-family:Menlo,'DejaVu Sans Mono',consolas,'Courier New',monospace\"><span style=\"font-weight: bold\">Model: \"sequential\"</span>\n",
       "</pre>\n"
      ],
      "text/plain": [
       "\u001b[1mModel: \"sequential\"\u001b[0m\n"
      ]
     },
     "metadata": {},
     "output_type": "display_data"
    },
    {
     "data": {
      "text/html": [
       "<pre style=\"white-space:pre;overflow-x:auto;line-height:normal;font-family:Menlo,'DejaVu Sans Mono',consolas,'Courier New',monospace\">┏━━━━━━━━━━━━━━━━━━━━━━━━━━━━━━━━━━━━━━┳━━━━━━━━━━━━━━━━━━━━━━━━━━━━━┳━━━━━━━━━━━━━━━━━┓\n",
       "┃<span style=\"font-weight: bold\"> Layer (type)                         </span>┃<span style=\"font-weight: bold\"> Output Shape                </span>┃<span style=\"font-weight: bold\">         Param # </span>┃\n",
       "┡━━━━━━━━━━━━━━━━━━━━━━━━━━━━━━━━━━━━━━╇━━━━━━━━━━━━━━━━━━━━━━━━━━━━━╇━━━━━━━━━━━━━━━━━┩\n",
       "│ lstm (<span style=\"color: #0087ff; text-decoration-color: #0087ff\">LSTM</span>)                          │ (<span style=\"color: #00d7ff; text-decoration-color: #00d7ff\">None</span>, <span style=\"color: #00af00; text-decoration-color: #00af00\">60</span>, <span style=\"color: #00af00; text-decoration-color: #00af00\">50</span>)              │          <span style=\"color: #00af00; text-decoration-color: #00af00\">10,400</span> │\n",
       "├──────────────────────────────────────┼─────────────────────────────┼─────────────────┤\n",
       "│ lstm_1 (<span style=\"color: #0087ff; text-decoration-color: #0087ff\">LSTM</span>)                        │ (<span style=\"color: #00d7ff; text-decoration-color: #00d7ff\">None</span>, <span style=\"color: #00af00; text-decoration-color: #00af00\">50</span>)                  │          <span style=\"color: #00af00; text-decoration-color: #00af00\">20,200</span> │\n",
       "├──────────────────────────────────────┼─────────────────────────────┼─────────────────┤\n",
       "│ dense (<span style=\"color: #0087ff; text-decoration-color: #0087ff\">Dense</span>)                        │ (<span style=\"color: #00d7ff; text-decoration-color: #00d7ff\">None</span>, <span style=\"color: #00af00; text-decoration-color: #00af00\">1</span>)                   │              <span style=\"color: #00af00; text-decoration-color: #00af00\">51</span> │\n",
       "└──────────────────────────────────────┴─────────────────────────────┴─────────────────┘\n",
       "</pre>\n"
      ],
      "text/plain": [
       "┏━━━━━━━━━━━━━━━━━━━━━━━━━━━━━━━━━━━━━━┳━━━━━━━━━━━━━━━━━━━━━━━━━━━━━┳━━━━━━━━━━━━━━━━━┓\n",
       "┃\u001b[1m \u001b[0m\u001b[1mLayer (type)                        \u001b[0m\u001b[1m \u001b[0m┃\u001b[1m \u001b[0m\u001b[1mOutput Shape               \u001b[0m\u001b[1m \u001b[0m┃\u001b[1m \u001b[0m\u001b[1m        Param #\u001b[0m\u001b[1m \u001b[0m┃\n",
       "┡━━━━━━━━━━━━━━━━━━━━━━━━━━━━━━━━━━━━━━╇━━━━━━━━━━━━━━━━━━━━━━━━━━━━━╇━━━━━━━━━━━━━━━━━┩\n",
       "│ lstm (\u001b[38;5;33mLSTM\u001b[0m)                          │ (\u001b[38;5;45mNone\u001b[0m, \u001b[38;5;34m60\u001b[0m, \u001b[38;5;34m50\u001b[0m)              │          \u001b[38;5;34m10,400\u001b[0m │\n",
       "├──────────────────────────────────────┼─────────────────────────────┼─────────────────┤\n",
       "│ lstm_1 (\u001b[38;5;33mLSTM\u001b[0m)                        │ (\u001b[38;5;45mNone\u001b[0m, \u001b[38;5;34m50\u001b[0m)                  │          \u001b[38;5;34m20,200\u001b[0m │\n",
       "├──────────────────────────────────────┼─────────────────────────────┼─────────────────┤\n",
       "│ dense (\u001b[38;5;33mDense\u001b[0m)                        │ (\u001b[38;5;45mNone\u001b[0m, \u001b[38;5;34m1\u001b[0m)                   │              \u001b[38;5;34m51\u001b[0m │\n",
       "└──────────────────────────────────────┴─────────────────────────────┴─────────────────┘\n"
      ]
     },
     "metadata": {},
     "output_type": "display_data"
    },
    {
     "data": {
      "text/html": [
       "<pre style=\"white-space:pre;overflow-x:auto;line-height:normal;font-family:Menlo,'DejaVu Sans Mono',consolas,'Courier New',monospace\"><span style=\"font-weight: bold\"> Total params: </span><span style=\"color: #00af00; text-decoration-color: #00af00\">30,651</span> (119.73 KB)\n",
       "</pre>\n"
      ],
      "text/plain": [
       "\u001b[1m Total params: \u001b[0m\u001b[38;5;34m30,651\u001b[0m (119.73 KB)\n"
      ]
     },
     "metadata": {},
     "output_type": "display_data"
    },
    {
     "data": {
      "text/html": [
       "<pre style=\"white-space:pre;overflow-x:auto;line-height:normal;font-family:Menlo,'DejaVu Sans Mono',consolas,'Courier New',monospace\"><span style=\"font-weight: bold\"> Trainable params: </span><span style=\"color: #00af00; text-decoration-color: #00af00\">30,651</span> (119.73 KB)\n",
       "</pre>\n"
      ],
      "text/plain": [
       "\u001b[1m Trainable params: \u001b[0m\u001b[38;5;34m30,651\u001b[0m (119.73 KB)\n"
      ]
     },
     "metadata": {},
     "output_type": "display_data"
    },
    {
     "data": {
      "text/html": [
       "<pre style=\"white-space:pre;overflow-x:auto;line-height:normal;font-family:Menlo,'DejaVu Sans Mono',consolas,'Courier New',monospace\"><span style=\"font-weight: bold\"> Non-trainable params: </span><span style=\"color: #00af00; text-decoration-color: #00af00\">0</span> (0.00 B)\n",
       "</pre>\n"
      ],
      "text/plain": [
       "\u001b[1m Non-trainable params: \u001b[0m\u001b[38;5;34m0\u001b[0m (0.00 B)\n"
      ]
     },
     "metadata": {},
     "output_type": "display_data"
    }
   ],
   "source": [
    "model.summary()  # To see the architecture"
   ]
  },
  {
   "cell_type": "markdown",
   "metadata": {
    "id": "WnUUc0ZG_Nzq"
   },
   "source": [
    "## Training the Model Using Prepared Dataset"
   ]
  },
  {
   "cell_type": "code",
   "execution_count": null,
   "metadata": {
    "id": "zqSuhJ3Z--Mu"
   },
   "outputs": [],
   "source": [
    "# Split the data into training and testing sets (80% train, 20% test)\n",
    "train_size = int(len(X_train) * 0.8)\n",
    "X_test = X_train[train_size:]\n",
    "y_test = y_train[train_size:]\n",
    "X_train = X_train[:train_size]\n",
    "y_train = y_train[:train_size]"
   ]
  },
  {
   "cell_type": "code",
   "execution_count": null,
   "metadata": {
    "colab": {
     "base_uri": "https://localhost:8080/"
    },
    "id": "zbIw6efM-9-d",
    "outputId": "d128639e-f0ee-47d5-8198-ae0bc837f509"
   },
   "outputs": [
    {
     "name": "stdout",
     "output_type": "stream",
     "text": [
      "Epoch 1/10\n",
      "\u001b[1m79/79\u001b[0m \u001b[32m━━━━━━━━━━━━━━━━━━━━\u001b[0m\u001b[37m\u001b[0m \u001b[1m12s\u001b[0m 92ms/step - loss: 0.0254\n",
      "Epoch 2/10\n",
      "\u001b[1m79/79\u001b[0m \u001b[32m━━━━━━━━━━━━━━━━━━━━\u001b[0m\u001b[37m\u001b[0m \u001b[1m7s\u001b[0m 51ms/step - loss: 1.8048e-04\n",
      "Epoch 3/10\n",
      "\u001b[1m79/79\u001b[0m \u001b[32m━━━━━━━━━━━━━━━━━━━━\u001b[0m\u001b[37m\u001b[0m \u001b[1m12s\u001b[0m 138ms/step - loss: 1.8353e-04\n",
      "Epoch 4/10\n",
      "\u001b[1m79/79\u001b[0m \u001b[32m━━━━━━━━━━━━━━━━━━━━\u001b[0m\u001b[37m\u001b[0m \u001b[1m15s\u001b[0m 74ms/step - loss: 1.8137e-04\n",
      "Epoch 5/10\n",
      "\u001b[1m79/79\u001b[0m \u001b[32m━━━━━━━━━━━━━━━━━━━━\u001b[0m\u001b[37m\u001b[0m \u001b[1m12s\u001b[0m 97ms/step - loss: 1.7627e-04\n",
      "Epoch 6/10\n",
      "\u001b[1m79/79\u001b[0m \u001b[32m━━━━━━━━━━━━━━━━━━━━\u001b[0m\u001b[37m\u001b[0m \u001b[1m8s\u001b[0m 67ms/step - loss: 1.6742e-04\n",
      "Epoch 7/10\n",
      "\u001b[1m79/79\u001b[0m \u001b[32m━━━━━━━━━━━━━━━━━━━━\u001b[0m\u001b[37m\u001b[0m \u001b[1m11s\u001b[0m 77ms/step - loss: 1.6206e-04\n",
      "Epoch 8/10\n",
      "\u001b[1m79/79\u001b[0m \u001b[32m━━━━━━━━━━━━━━━━━━━━\u001b[0m\u001b[37m\u001b[0m \u001b[1m8s\u001b[0m 46ms/step - loss: 1.6502e-04\n",
      "Epoch 9/10\n",
      "\u001b[1m79/79\u001b[0m \u001b[32m━━━━━━━━━━━━━━━━━━━━\u001b[0m\u001b[37m\u001b[0m \u001b[1m5s\u001b[0m 64ms/step - loss: 1.4548e-04\n",
      "Epoch 10/10\n",
      "\u001b[1m79/79\u001b[0m \u001b[32m━━━━━━━━━━━━━━━━━━━━\u001b[0m\u001b[37m\u001b[0m \u001b[1m5s\u001b[0m 60ms/step - loss: 1.4945e-04\n"
     ]
    },
    {
     "data": {
      "text/plain": [
       "<keras.src.callbacks.history.History at 0x7f13e27f6920>"
      ]
     },
     "execution_count": 29,
     "metadata": {},
     "output_type": "execute_result"
    }
   ],
   "source": [
    "# Train the model\n",
    "model.fit(X_train, y_train, epochs=10, batch_size=32)"
   ]
  },
  {
   "cell_type": "code",
   "execution_count": null,
   "metadata": {
    "colab": {
     "base_uri": "https://localhost:8080/"
    },
    "id": "VImTyLp5_cXt",
    "outputId": "39a22d30-a2a2-48c6-9c44-71353d55f97b"
   },
   "outputs": [
    {
     "name": "stdout",
     "output_type": "stream",
     "text": [
      "\u001b[1m20/20\u001b[0m \u001b[32m━━━━━━━━━━━━━━━━━━━━\u001b[0m\u001b[37m\u001b[0m \u001b[1m1s\u001b[0m 54ms/step\n"
     ]
    }
   ],
   "source": [
    "# Predicting on the test data\n",
    "predicted_stock_price = model.predict(X_test)"
   ]
  },
  {
   "cell_type": "code",
   "execution_count": null,
   "metadata": {
    "id": "tcPRu2hF_cxn"
   },
   "outputs": [],
   "source": [
    "# Invert scaling to get actual stock prices\n",
    "predicted_stock_price = scaler.inverse_transform(predicted_stock_price.reshape(-1, 1))\n",
    "y_test = scaler.inverse_transform(y_test.reshape(-1, 1))"
   ]
  },
  {
   "cell_type": "code",
   "execution_count": null,
   "metadata": {
    "colab": {
     "base_uri": "https://localhost:8080/",
     "height": 472
    },
    "id": "GhZNdXuI_dP9",
    "outputId": "e929fa0e-e5cd-400f-857e-e93bd7ab0ff8"
   },
   "outputs": [
    {
     "data": {
      "image/png": "[encoded data removed]",
      "text/plain": [
       "<Figure size 640x480 with 1 Axes>"
      ]
     },
     "metadata": {},
     "output_type": "display_data"
    }
   ],
   "source": [
    "# Evaluate the model performance by plotting the results\n",
    "import matplotlib.pyplot as plt\n",
    "\n",
    "plt.plot(y_test, color='red', label='Real Stock Price')\n",
    "plt.plot(predicted_stock_price, color='blue', label='Predicted Stock Price')\n",
    "plt.title('Stock Price Prediction')\n",
    "plt.xlabel('Time')\n",
    "plt.ylabel('Stock Price')\n",
    "plt.legend()\n",
    "plt.show()"
   ]
  },
  {
   "cell_type": "markdown",
   "metadata": {
    "id": "CAi4p8WQEdtF"
   },
   "source": [
    "### Key Points:\n",
    "- We split the dataset into **80% training** and **20% testing**.\n",
    "- The model is trained using **10 epochs** and a **batch size of 32**. You can increase these numbers to improve the model’s learning but it may take longer.\n",
    "- After training, the model’s predictions are plotted against the real stock prices for comparison.\n",
    "\n",
    "### Notes:\n",
    "- **Normalization**: We normalize the stock prices to the range of 0 to 1 using `MinMaxScaler` before training the model, as LSTM networks generally perform better with normalized data.\n",
    "- **Lookback Window**: In this case, we use a lookback period of 60 days to predict the next day’s price. You can adjust the lookback window to tune performance.\n",
    "\n"
   ]
  },
  {
   "cell_type": "code",
   "execution_count": null,
   "metadata": {
    "colab": {
     "base_uri": "https://localhost:8080/",
     "height": 819
    },
    "id": "RAkFbAmDHvW6",
    "outputId": "0db3fdea-6b03-4908-b4ef-2e9c1979db93"
   },
   "outputs": [
    {
     "name": "stdout",
     "output_type": "stream",
     "text": [
      "Epoch 1/10\n",
      "\u001b[1m63/63\u001b[0m \u001b[32m━━━━━━━━━━━━━━━━━━━━\u001b[0m\u001b[37m\u001b[0m \u001b[1m7s\u001b[0m 105ms/step - loss: 1.5066e-04 - val_loss: 1.5702e-04\n",
      "Epoch 2/10\n",
      "\u001b[1m63/63\u001b[0m \u001b[32m━━━━━━━━━━━━━━━━━━━━\u001b[0m\u001b[37m\u001b[0m \u001b[1m8s\u001b[0m 73ms/step - loss: 1.4647e-04 - val_loss: 1.5821e-04\n",
      "Epoch 3/10\n",
      "\u001b[1m63/63\u001b[0m \u001b[32m━━━━━━━━━━━━━━━━━━━━\u001b[0m\u001b[37m\u001b[0m \u001b[1m4s\u001b[0m 52ms/step - loss: 1.4357e-04 - val_loss: 1.4536e-04\n",
      "Epoch 4/10\n",
      "\u001b[1m63/63\u001b[0m \u001b[32m━━━━━━━━━━━━━━━━━━━━\u001b[0m\u001b[37m\u001b[0m \u001b[1m5s\u001b[0m 50ms/step - loss: 1.2344e-04 - val_loss: 2.0374e-04\n",
      "Epoch 5/10\n",
      "\u001b[1m63/63\u001b[0m \u001b[32m━━━━━━━━━━━━━━━━━━━━\u001b[0m\u001b[37m\u001b[0m \u001b[1m4s\u001b[0m 63ms/step - loss: 1.3698e-04 - val_loss: 1.4232e-04\n",
      "Epoch 6/10\n",
      "\u001b[1m63/63\u001b[0m \u001b[32m━━━━━━━━━━━━━━━━━━━━\u001b[0m\u001b[37m\u001b[0m \u001b[1m5s\u001b[0m 61ms/step - loss: 1.3650e-04 - val_loss: 2.0616e-04\n",
      "Epoch 7/10\n",
      "\u001b[1m63/63\u001b[0m \u001b[32m━━━━━━━━━━━━━━━━━━━━\u001b[0m\u001b[37m\u001b[0m \u001b[1m4s\u001b[0m 50ms/step - loss: 1.1703e-04 - val_loss: 1.7700e-04\n",
      "Epoch 8/10\n",
      "\u001b[1m63/63\u001b[0m \u001b[32m━━━━━━━━━━━━━━━━━━━━\u001b[0m\u001b[37m\u001b[0m \u001b[1m6s\u001b[0m 71ms/step - loss: 1.4345e-04 - val_loss: 1.4945e-04\n",
      "Epoch 9/10\n",
      "\u001b[1m63/63\u001b[0m \u001b[32m━━━━━━━━━━━━━━━━━━━━\u001b[0m\u001b[37m\u001b[0m \u001b[1m4s\u001b[0m 61ms/step - loss: 1.4223e-04 - val_loss: 1.4679e-04\n",
      "Epoch 10/10\n",
      "\u001b[1m63/63\u001b[0m \u001b[32m━━━━━━━━━━━━━━━━━━━━\u001b[0m\u001b[37m\u001b[0m \u001b[1m3s\u001b[0m 50ms/step - loss: 1.2566e-04 - val_loss: 1.9244e-04\n"
     ]
    },
    {
     "data": {
      "image/png": "[encoded data removed]",
      "text/plain": [
       "<Figure size 640x480 with 1 Axes>"
      ]
     },
     "metadata": {},
     "output_type": "display_data"
    }
   ],
   "source": [
    "# Train the model with validation split\n",
    "history = model.fit(X_train, y_train, epochs=10, batch_size=32, validation_split=0.2)\n",
    "\n",
    "\n",
    "# Plot training & validation loss values\n",
    "plt.plot(history.history['loss'], label='Training Loss')\n",
    "plt.plot(history.history['val_loss'], label='Validation Loss')\n",
    "plt.title('Model Loss')\n",
    "plt.xlabel('Epoch')\n",
    "plt.ylabel('Loss')\n",
    "plt.legend(loc='upper right')\n",
    "plt.show()"
   ]
  },
  {
   "cell_type": "markdown",
   "metadata": {
    "id": "7mXby1uj-DLJ"
   },
   "source": [
    "# Stock Price Prediction using SVM / SVR\n",
    "\n",
    "In this section I am using SVR (support vector regression) to tackle this task, SVR is an extension of SVM that is used for predicting numerical values.\n"
   ]
  },
  {
   "cell_type": "markdown",
   "metadata": {
    "id": "SgrR9KGvUmup"
   },
   "source": [
    "## import the libraries for SVR"
   ]
  },
  {
   "cell_type": "code",
   "execution_count": 6,
   "metadata": {
    "id": "i8CbQJ9BUlcd"
   },
   "outputs": [],
   "source": [
    "import numpy as np\n",
    "from sklearn.preprocessing import MinMaxScaler\n",
    "from sklearn.svm import SVR\n",
    "from sklearn.metrics import mean_squared_error\n",
    "import matplotlib.pyplot as plt\n",
    "import pandas as pd\n",
    "import matplotlib.dates as mdates\n",
    "from sklearn.model_selection import train_test_split"
   ]
  },
  {
   "cell_type": "markdown",
   "metadata": {
    "id": "WGw4hR2UUuFd"
   },
   "source": [
    "## Prepping The Data\n",
    "Using the open, closing and average prices as features and predicting the closing price of the next day"
   ]
  },
  {
   "cell_type": "code",
   "execution_count": null,
   "metadata": {
    "colab": {
     "base_uri": "https://localhost:8080/"
    },
    "id": "SyqRefMKUtNr",
    "outputId": "eccca784-08b0-4412-d41f-92c535d445e3"
   },
   "outputs": [
    {
     "name": "stdout",
     "output_type": "stream",
     "text": [
      "Type of Price  average   close    open\n",
      "Date                                  \n",
      "2005-02-25     105.340  105.79  104.77\n",
      "2005-02-28     105.120  105.08  105.55\n",
      "2005-03-01     105.545  105.62  105.22\n",
      "2005-03-02     105.660  105.57  105.21\n",
      "2005-03-03     105.675  105.61  105.99\n",
      "...                ...     ...     ...\n",
      "2017-11-06     258.610  258.85  258.30\n",
      "2017-11-07     258.730  258.67  258.97\n",
      "2017-11-08     258.685  259.11  258.47\n",
      "2017-11-09     257.375  258.17  257.73\n",
      "2017-11-10     257.790  258.09  257.73\n",
      "\n",
      "[3201 rows x 3 columns]\n",
      "feature: [[104.77  105.34  105.79 ]\n",
      " [105.55  105.12  105.08 ]\n",
      " [105.22  105.545 105.62 ]\n",
      " ...\n",
      " [258.97  258.73  258.67 ]\n",
      " [258.47  258.685 259.11 ]\n",
      " [257.73  257.375 258.17 ]]\n",
      "\n",
      "target [105.08 105.62 105.57 ... 259.11 258.17 258.09]\n"
     ]
    }
   ],
   "source": [
    "# Prepare the data\n",
    "sp500_pivot = sp500.pivot(index='Date', columns='Type of Price', values='Price')\n",
    "print(sp500_pivot)\n",
    "\n",
    "# features\n",
    "x = sp500_pivot[['open', 'average', 'close']].values\n",
    "# target\n",
    "y = sp500_pivot['close'].shift(-1).dropna().values\n",
    "\n",
    "\n",
    "# using closing price to predict next day's opening price\n",
    "# # features\n",
    "# x = sp500_pivot[['close']].values\n",
    "# # target\n",
    "# y = sp500_pivot['open'].shift(-1).dropna().values\n",
    "\n",
    "\n",
    "x = x[:-1]  # Align feature the target\n",
    "print(\"feature:\", x)\n",
    "print()\n",
    "print(\"target\", y)"
   ]
  },
  {
   "cell_type": "markdown",
   "metadata": {
    "id": "31fRQsgCU4q8"
   },
   "source": [
    "## Normalise the targat and features"
   ]
  },
  {
   "cell_type": "code",
   "execution_count": 20,
   "metadata": {
    "id": "bboZtU7XU_EM"
   },
   "outputs": [],
   "source": [
    "# Normalise the 'close' prices only using a separate scaler\n",
    "scaler_close = MinMaxScaler()\n",
    " # Fit scaler only on the 'close' column\n",
    " # rescales the target to a range between 0 and 1\n",
    "y_scaled = scaler_close.fit_transform(y.reshape(-1, 1))\n",
    "\n",
    "# Normalise the features ('open', 'average', 'close')\n",
    "# features are also normalized to the range [0, 1]\n",
    "scaler_features = MinMaxScaler()\n",
    "x_scaled = scaler_features.fit_transform(x)\n",
    "\n",
    "# Split the data into training (80%) + testing(20%)\n",
    "# training: 2005-02 -- 2015-05\n",
    "# testing: 2015-05 -- 2017-11\n",
    "x_train, x_test, y_train, y_test = train_test_split(x_scaled, y_scaled, test_size=0.2, shuffle=False)\n",
    "\n"
   ]
  },
  {
   "cell_type": "markdown",
   "metadata": {
    "id": "QoK4HNOtVRkD"
   },
   "source": [
    "## Function to create sequence of past data points"
   ]
  },
  {
   "cell_type": "code",
   "execution_count": 16,
   "metadata": {
    "id": "OBlitdQsVVyM"
   },
   "outputs": [],
   "source": [
    "def create_dataset(X, y, time_steps=1):\n",
    "    Xs, ys = [], []\n",
    "    for i in range(len(X) - time_steps):\n",
    "        v = X[i:i + time_steps]\n",
    "        Xs.append(v)\n",
    "        ys.append(y[i + time_steps])\n",
    "    return np.array(Xs), np.array(ys)\n"
   ]
  },
  {
   "cell_type": "markdown",
   "metadata": {
    "id": "se5ZsYHcVcs3"
   },
   "source": [
    "## Final set up for data to be inputted as parameters"
   ]
  },
  {
   "cell_type": "code",
   "execution_count": 21,
   "metadata": {
    "colab": {
     "base_uri": "https://localhost:8080/"
    },
    "id": "KGMoDsZHVjlI",
    "outputId": "3844127e-5587-4c97-b99d-3933e8c9c10f"
   },
   "outputs": [
    {
     "name": "stdout",
     "output_type": "stream",
     "text": [
      "X_train shape: (2500, 60, 3)\n",
      "y_train shape: (2500, 1)\n"
     ]
    }
   ],
   "source": [
    "# Set the time step (number of previous days to look at)\n",
    "TIME_STEPS = 60\n",
    "\n",
    "# Create sequences of past data points for training and testing\n",
    "X_train, y_train = create_dataset(x_train, y_train, TIME_STEPS)\n",
    "X_test, y_test = create_dataset(x_test, y_test, TIME_STEPS)\n",
    "\n",
    "# flatten the sequence for SVR\n",
    "X_train_flat = X_train.reshape(X_train.shape[0], -1)\n",
    "X_test_flat = X_test.reshape(X_test.shape[0], -1)\n",
    "\n",
    "print(f'X_train shape: {X_train.shape}')\n",
    "print(f'y_train shape: {y_train.shape}')\n",
    "\n"
   ]
  },
  {
   "cell_type": "markdown",
   "metadata": {
    "id": "Rdma8RBPVuhr"
   },
   "source": [
    "## Hyperparameter Tuning + Stats for the model"
   ]
  },
  {
   "cell_type": "code",
   "execution_count": 22,
   "metadata": {
    "colab": {
     "base_uri": "https://localhost:8080/"
    },
    "id": "CcdA441cVw0S",
    "outputId": "4e05fdd6-8199-4d56-b14c-97082c85039b"
   },
   "outputs": [
    {
     "name": "stdout",
     "output_type": "stream",
     "text": [
      "Fitting 5 folds for each of 96 candidates, totalling 480 fits\n",
      "[CV] END ......C=0.1, epsilon=0.01, gamma=0.0001, kernel=rbf; total time=   0.4s\n",
      "[CV] END ......C=0.1, epsilon=0.01, gamma=0.0001, kernel=rbf; total time=   0.4s\n",
      "[CV] END ......C=0.1, epsilon=0.01, gamma=0.0001, kernel=rbf; total time=   0.4s\n",
      "[CV] END ......C=0.1, epsilon=0.01, gamma=0.0001, kernel=rbf; total time=   0.4s\n",
      "[CV] END ......C=0.1, epsilon=0.01, gamma=0.0001, kernel=rbf; total time=   0.4s\n",
      "[CV] END ...C=0.1, epsilon=0.01, gamma=0.0001, kernel=linear; total time=   0.1s\n",
      "[CV] END ...C=0.1, epsilon=0.01, gamma=0.0001, kernel=linear; total time=   0.1s\n",
      "[CV] END ...C=0.1, epsilon=0.01, gamma=0.0001, kernel=linear; total time=   0.1s\n",
      "[CV] END ...C=0.1, epsilon=0.01, gamma=0.0001, kernel=linear; total time=   0.1s\n",
      "[CV] END ...C=0.1, epsilon=0.01, gamma=0.0001, kernel=linear; total time=   0.1s\n",
      "[CV] END .......C=0.1, epsilon=0.01, gamma=0.001, kernel=rbf; total time=   0.3s\n",
      "[CV] END .......C=0.1, epsilon=0.01, gamma=0.001, kernel=rbf; total time=   0.3s\n",
      "[CV] END .......C=0.1, epsilon=0.01, gamma=0.001, kernel=rbf; total time=   0.3s\n",
      "[CV] END .......C=0.1, epsilon=0.01, gamma=0.001, kernel=rbf; total time=   0.3s\n",
      "[CV] END .......C=0.1, epsilon=0.01, gamma=0.001, kernel=rbf; total time=   0.3s\n",
      "[CV] END ....C=0.1, epsilon=0.01, gamma=0.001, kernel=linear; total time=   0.1s\n",
      "[CV] END ....C=0.1, epsilon=0.01, gamma=0.001, kernel=linear; total time=   0.1s\n",
      "[CV] END ....C=0.1, epsilon=0.01, gamma=0.001, kernel=linear; total time=   0.1s\n",
      "[CV] END ....C=0.1, epsilon=0.01, gamma=0.001, kernel=linear; total time=   0.1s\n",
      "[CV] END ....C=0.1, epsilon=0.01, gamma=0.001, kernel=linear; total time=   0.1s\n",
      "[CV] END ........C=0.1, epsilon=0.01, gamma=0.01, kernel=rbf; total time=   0.2s\n",
      "[CV] END ........C=0.1, epsilon=0.01, gamma=0.01, kernel=rbf; total time=   0.2s\n",
      "[CV] END ........C=0.1, epsilon=0.01, gamma=0.01, kernel=rbf; total time=   0.2s\n",
      "[CV] END ........C=0.1, epsilon=0.01, gamma=0.01, kernel=rbf; total time=   0.2s\n",
      "[CV] END ........C=0.1, epsilon=0.01, gamma=0.01, kernel=rbf; total time=   0.2s\n",
      "[CV] END .....C=0.1, epsilon=0.01, gamma=0.01, kernel=linear; total time=   0.2s\n",
      "[CV] END .....C=0.1, epsilon=0.01, gamma=0.01, kernel=linear; total time=   0.1s\n",
      "[CV] END .....C=0.1, epsilon=0.01, gamma=0.01, kernel=linear; total time=   0.1s\n",
      "[CV] END .....C=0.1, epsilon=0.01, gamma=0.01, kernel=linear; total time=   0.1s\n",
      "[CV] END .....C=0.1, epsilon=0.01, gamma=0.01, kernel=linear; total time=   0.1s\n",
      "[CV] END .........C=0.1, epsilon=0.01, gamma=0.1, kernel=rbf; total time=   0.2s\n",
      "[CV] END .........C=0.1, epsilon=0.01, gamma=0.1, kernel=rbf; total time=   0.1s\n",
      "[CV] END .........C=0.1, epsilon=0.01, gamma=0.1, kernel=rbf; total time=   0.1s\n",
      "[CV] END .........C=0.1, epsilon=0.01, gamma=0.1, kernel=rbf; total time=   0.1s\n",
      "[CV] END .........C=0.1, epsilon=0.01, gamma=0.1, kernel=rbf; total time=   0.1s\n",
      "[CV] END ......C=0.1, epsilon=0.01, gamma=0.1, kernel=linear; total time=   0.1s\n",
      "[CV] END ......C=0.1, epsilon=0.01, gamma=0.1, kernel=linear; total time=   0.1s\n",
      "[CV] END ......C=0.1, epsilon=0.01, gamma=0.1, kernel=linear; total time=   0.1s\n",
      "[CV] END ......C=0.1, epsilon=0.01, gamma=0.1, kernel=linear; total time=   0.1s\n",
      "[CV] END ......C=0.1, epsilon=0.01, gamma=0.1, kernel=linear; total time=   0.1s\n",
      "[CV] END .......C=0.1, epsilon=0.1, gamma=0.0001, kernel=rbf; total time=   0.1s\n",
      "[CV] END .......C=0.1, epsilon=0.1, gamma=0.0001, kernel=rbf; total time=   0.1s\n",
      "[CV] END .......C=0.1, epsilon=0.1, gamma=0.0001, kernel=rbf; total time=   0.0s\n",
      "[CV] END .......C=0.1, epsilon=0.1, gamma=0.0001, kernel=rbf; total time=   0.1s\n",
      "[CV] END .......C=0.1, epsilon=0.1, gamma=0.0001, kernel=rbf; total time=   0.1s\n",
      "[CV] END ....C=0.1, epsilon=0.1, gamma=0.0001, kernel=linear; total time=   0.0s\n",
      "[CV] END ....C=0.1, epsilon=0.1, gamma=0.0001, kernel=linear; total time=   0.0s\n",
      "[CV] END ....C=0.1, epsilon=0.1, gamma=0.0001, kernel=linear; total time=   0.0s\n",
      "[CV] END ....C=0.1, epsilon=0.1, gamma=0.0001, kernel=linear; total time=   0.0s\n",
      "[CV] END ....C=0.1, epsilon=0.1, gamma=0.0001, kernel=linear; total time=   0.0s\n",
      "[CV] END ........C=0.1, epsilon=0.1, gamma=0.001, kernel=rbf; total time=   0.0s\n",
      "[CV] END ........C=0.1, epsilon=0.1, gamma=0.001, kernel=rbf; total time=   0.0s\n",
      "[CV] END ........C=0.1, epsilon=0.1, gamma=0.001, kernel=rbf; total time=   0.0s\n",
      "[CV] END ........C=0.1, epsilon=0.1, gamma=0.001, kernel=rbf; total time=   0.0s\n",
      "[CV] END ........C=0.1, epsilon=0.1, gamma=0.001, kernel=rbf; total time=   0.0s\n",
      "[CV] END .....C=0.1, epsilon=0.1, gamma=0.001, kernel=linear; total time=   0.0s\n",
      "[CV] END .....C=0.1, epsilon=0.1, gamma=0.001, kernel=linear; total time=   0.0s\n",
      "[CV] END .....C=0.1, epsilon=0.1, gamma=0.001, kernel=linear; total time=   0.0s\n",
      "[CV] END .....C=0.1, epsilon=0.1, gamma=0.001, kernel=linear; total time=   0.0s\n",
      "[CV] END .....C=0.1, epsilon=0.1, gamma=0.001, kernel=linear; total time=   0.0s\n",
      "[CV] END .........C=0.1, epsilon=0.1, gamma=0.01, kernel=rbf; total time=   0.0s\n",
      "[CV] END .........C=0.1, epsilon=0.1, gamma=0.01, kernel=rbf; total time=   0.0s\n",
      "[CV] END .........C=0.1, epsilon=0.1, gamma=0.01, kernel=rbf; total time=   0.0s\n",
      "[CV] END .........C=0.1, epsilon=0.1, gamma=0.01, kernel=rbf; total time=   0.0s\n",
      "[CV] END .........C=0.1, epsilon=0.1, gamma=0.01, kernel=rbf; total time=   0.0s\n",
      "[CV] END ......C=0.1, epsilon=0.1, gamma=0.01, kernel=linear; total time=   0.0s\n",
      "[CV] END ......C=0.1, epsilon=0.1, gamma=0.01, kernel=linear; total time=   0.0s\n",
      "[CV] END ......C=0.1, epsilon=0.1, gamma=0.01, kernel=linear; total time=   0.0s\n",
      "[CV] END ......C=0.1, epsilon=0.1, gamma=0.01, kernel=linear; total time=   0.0s\n",
      "[CV] END ......C=0.1, epsilon=0.1, gamma=0.01, kernel=linear; total time=   0.0s\n",
      "[CV] END ..........C=0.1, epsilon=0.1, gamma=0.1, kernel=rbf; total time=   0.0s\n",
      "[CV] END ..........C=0.1, epsilon=0.1, gamma=0.1, kernel=rbf; total time=   0.0s\n",
      "[CV] END ..........C=0.1, epsilon=0.1, gamma=0.1, kernel=rbf; total time=   0.0s\n",
      "[CV] END ..........C=0.1, epsilon=0.1, gamma=0.1, kernel=rbf; total time=   0.0s\n",
      "[CV] END ..........C=0.1, epsilon=0.1, gamma=0.1, kernel=rbf; total time=   0.0s\n",
      "[CV] END .......C=0.1, epsilon=0.1, gamma=0.1, kernel=linear; total time=   0.0s\n",
      "[CV] END .......C=0.1, epsilon=0.1, gamma=0.1, kernel=linear; total time=   0.0s\n",
      "[CV] END .......C=0.1, epsilon=0.1, gamma=0.1, kernel=linear; total time=   0.0s\n",
      "[CV] END .......C=0.1, epsilon=0.1, gamma=0.1, kernel=linear; total time=   0.0s\n",
      "[CV] END .......C=0.1, epsilon=0.1, gamma=0.1, kernel=linear; total time=   0.0s\n",
      "[CV] END .........C=0.1, epsilon=1, gamma=0.0001, kernel=rbf; total time=   0.0s\n",
      "[CV] END .........C=0.1, epsilon=1, gamma=0.0001, kernel=rbf; total time=   0.0s\n",
      "[CV] END .........C=0.1, epsilon=1, gamma=0.0001, kernel=rbf; total time=   0.0s\n",
      "[CV] END .........C=0.1, epsilon=1, gamma=0.0001, kernel=rbf; total time=   0.0s\n",
      "[CV] END .........C=0.1, epsilon=1, gamma=0.0001, kernel=rbf; total time=   0.0s\n",
      "[CV] END ......C=0.1, epsilon=1, gamma=0.0001, kernel=linear; total time=   0.0s\n",
      "[CV] END ......C=0.1, epsilon=1, gamma=0.0001, kernel=linear; total time=   0.0s\n",
      "[CV] END ......C=0.1, epsilon=1, gamma=0.0001, kernel=linear; total time=   0.0s\n",
      "[CV] END ......C=0.1, epsilon=1, gamma=0.0001, kernel=linear; total time=   0.0s\n",
      "[CV] END ......C=0.1, epsilon=1, gamma=0.0001, kernel=linear; total time=   0.0s\n",
      "[CV] END ..........C=0.1, epsilon=1, gamma=0.001, kernel=rbf; total time=   0.0s\n",
      "[CV] END ..........C=0.1, epsilon=1, gamma=0.001, kernel=rbf; total time=   0.0s\n",
      "[CV] END ..........C=0.1, epsilon=1, gamma=0.001, kernel=rbf; total time=   0.0s\n",
      "[CV] END ..........C=0.1, epsilon=1, gamma=0.001, kernel=rbf; total time=   0.0s\n",
      "[CV] END ..........C=0.1, epsilon=1, gamma=0.001, kernel=rbf; total time=   0.0s\n",
      "[CV] END .......C=0.1, epsilon=1, gamma=0.001, kernel=linear; total time=   0.0s\n",
      "[CV] END .......C=0.1, epsilon=1, gamma=0.001, kernel=linear; total time=   0.0s\n",
      "[CV] END .......C=0.1, epsilon=1, gamma=0.001, kernel=linear; total time=   0.0s\n",
      "[CV] END .......C=0.1, epsilon=1, gamma=0.001, kernel=linear; total time=   0.0s\n",
      "[CV] END .......C=0.1, epsilon=1, gamma=0.001, kernel=linear; total time=   0.0s\n",
      "[CV] END ...........C=0.1, epsilon=1, gamma=0.01, kernel=rbf; total time=   0.0s\n",
      "[CV] END ...........C=0.1, epsilon=1, gamma=0.01, kernel=rbf; total time=   0.0s\n",
      "[CV] END ...........C=0.1, epsilon=1, gamma=0.01, kernel=rbf; total time=   0.0s\n",
      "[CV] END ...........C=0.1, epsilon=1, gamma=0.01, kernel=rbf; total time=   0.0s\n",
      "[CV] END ...........C=0.1, epsilon=1, gamma=0.01, kernel=rbf; total time=   0.0s\n",
      "[CV] END ........C=0.1, epsilon=1, gamma=0.01, kernel=linear; total time=   0.0s\n",
      "[CV] END ........C=0.1, epsilon=1, gamma=0.01, kernel=linear; total time=   0.0s\n",
      "[CV] END ........C=0.1, epsilon=1, gamma=0.01, kernel=linear; total time=   0.0s\n",
      "[CV] END ........C=0.1, epsilon=1, gamma=0.01, kernel=linear; total time=   0.0s\n",
      "[CV] END ........C=0.1, epsilon=1, gamma=0.01, kernel=linear; total time=   0.0s\n",
      "[CV] END ............C=0.1, epsilon=1, gamma=0.1, kernel=rbf; total time=   0.0s\n",
      "[CV] END ............C=0.1, epsilon=1, gamma=0.1, kernel=rbf; total time=   0.0s\n",
      "[CV] END ............C=0.1, epsilon=1, gamma=0.1, kernel=rbf; total time=   0.0s\n",
      "[CV] END ............C=0.1, epsilon=1, gamma=0.1, kernel=rbf; total time=   0.0s\n",
      "[CV] END ............C=0.1, epsilon=1, gamma=0.1, kernel=rbf; total time=   0.0s\n",
      "[CV] END .........C=0.1, epsilon=1, gamma=0.1, kernel=linear; total time=   0.0s\n",
      "[CV] END .........C=0.1, epsilon=1, gamma=0.1, kernel=linear; total time=   0.0s\n",
      "[CV] END .........C=0.1, epsilon=1, gamma=0.1, kernel=linear; total time=   0.0s\n",
      "[CV] END .........C=0.1, epsilon=1, gamma=0.1, kernel=linear; total time=   0.0s\n",
      "[CV] END .........C=0.1, epsilon=1, gamma=0.1, kernel=linear; total time=   0.0s\n",
      "[CV] END ........C=0.1, epsilon=10, gamma=0.0001, kernel=rbf; total time=   0.0s\n",
      "[CV] END ........C=0.1, epsilon=10, gamma=0.0001, kernel=rbf; total time=   0.0s\n",
      "[CV] END ........C=0.1, epsilon=10, gamma=0.0001, kernel=rbf; total time=   0.0s\n",
      "[CV] END ........C=0.1, epsilon=10, gamma=0.0001, kernel=rbf; total time=   0.0s\n",
      "[CV] END ........C=0.1, epsilon=10, gamma=0.0001, kernel=rbf; total time=   0.0s\n",
      "[CV] END .....C=0.1, epsilon=10, gamma=0.0001, kernel=linear; total time=   0.0s\n",
      "[CV] END .....C=0.1, epsilon=10, gamma=0.0001, kernel=linear; total time=   0.0s\n",
      "[CV] END .....C=0.1, epsilon=10, gamma=0.0001, kernel=linear; total time=   0.0s\n",
      "[CV] END .....C=0.1, epsilon=10, gamma=0.0001, kernel=linear; total time=   0.0s\n",
      "[CV] END .....C=0.1, epsilon=10, gamma=0.0001, kernel=linear; total time=   0.0s\n",
      "[CV] END .........C=0.1, epsilon=10, gamma=0.001, kernel=rbf; total time=   0.0s\n",
      "[CV] END .........C=0.1, epsilon=10, gamma=0.001, kernel=rbf; total time=   0.0s\n",
      "[CV] END .........C=0.1, epsilon=10, gamma=0.001, kernel=rbf; total time=   0.0s\n",
      "[CV] END .........C=0.1, epsilon=10, gamma=0.001, kernel=rbf; total time=   0.0s\n",
      "[CV] END .........C=0.1, epsilon=10, gamma=0.001, kernel=rbf; total time=   0.0s\n",
      "[CV] END ......C=0.1, epsilon=10, gamma=0.001, kernel=linear; total time=   0.0s\n",
      "[CV] END ......C=0.1, epsilon=10, gamma=0.001, kernel=linear; total time=   0.0s\n",
      "[CV] END ......C=0.1, epsilon=10, gamma=0.001, kernel=linear; total time=   0.0s\n",
      "[CV] END ......C=0.1, epsilon=10, gamma=0.001, kernel=linear; total time=   0.0s\n",
      "[CV] END ......C=0.1, epsilon=10, gamma=0.001, kernel=linear; total time=   0.0s\n",
      "[CV] END ..........C=0.1, epsilon=10, gamma=0.01, kernel=rbf; total time=   0.0s\n",
      "[CV] END ..........C=0.1, epsilon=10, gamma=0.01, kernel=rbf; total time=   0.0s\n",
      "[CV] END ..........C=0.1, epsilon=10, gamma=0.01, kernel=rbf; total time=   0.0s\n",
      "[CV] END ..........C=0.1, epsilon=10, gamma=0.01, kernel=rbf; total time=   0.0s\n",
      "[CV] END ..........C=0.1, epsilon=10, gamma=0.01, kernel=rbf; total time=   0.0s\n",
      "[CV] END .......C=0.1, epsilon=10, gamma=0.01, kernel=linear; total time=   0.0s\n",
      "[CV] END .......C=0.1, epsilon=10, gamma=0.01, kernel=linear; total time=   0.0s\n",
      "[CV] END .......C=0.1, epsilon=10, gamma=0.01, kernel=linear; total time=   0.0s\n",
      "[CV] END .......C=0.1, epsilon=10, gamma=0.01, kernel=linear; total time=   0.0s\n",
      "[CV] END .......C=0.1, epsilon=10, gamma=0.01, kernel=linear; total time=   0.0s\n",
      "[CV] END ...........C=0.1, epsilon=10, gamma=0.1, kernel=rbf; total time=   0.0s\n",
      "[CV] END ...........C=0.1, epsilon=10, gamma=0.1, kernel=rbf; total time=   0.0s\n",
      "[CV] END ...........C=0.1, epsilon=10, gamma=0.1, kernel=rbf; total time=   0.0s\n",
      "[CV] END ...........C=0.1, epsilon=10, gamma=0.1, kernel=rbf; total time=   0.0s\n",
      "[CV] END ...........C=0.1, epsilon=10, gamma=0.1, kernel=rbf; total time=   0.0s\n",
      "[CV] END ........C=0.1, epsilon=10, gamma=0.1, kernel=linear; total time=   0.0s\n",
      "[CV] END ........C=0.1, epsilon=10, gamma=0.1, kernel=linear; total time=   0.0s\n",
      "[CV] END ........C=0.1, epsilon=10, gamma=0.1, kernel=linear; total time=   0.0s\n",
      "[CV] END ........C=0.1, epsilon=10, gamma=0.1, kernel=linear; total time=   0.0s\n",
      "[CV] END ........C=0.1, epsilon=10, gamma=0.1, kernel=linear; total time=   0.0s\n",
      "[CV] END ........C=1, epsilon=0.01, gamma=0.0001, kernel=rbf; total time=   0.6s\n",
      "[CV] END ........C=1, epsilon=0.01, gamma=0.0001, kernel=rbf; total time=   1.0s\n",
      "[CV] END ........C=1, epsilon=0.01, gamma=0.0001, kernel=rbf; total time=   0.6s\n",
      "[CV] END ........C=1, epsilon=0.01, gamma=0.0001, kernel=rbf; total time=   0.9s\n",
      "[CV] END ........C=1, epsilon=0.01, gamma=0.0001, kernel=rbf; total time=   0.7s\n",
      "[CV] END .....C=1, epsilon=0.01, gamma=0.0001, kernel=linear; total time=   1.1s\n",
      "[CV] END .....C=1, epsilon=0.01, gamma=0.0001, kernel=linear; total time=   0.9s\n",
      "[CV] END .....C=1, epsilon=0.01, gamma=0.0001, kernel=linear; total time=   0.6s\n",
      "[CV] END .....C=1, epsilon=0.01, gamma=0.0001, kernel=linear; total time=   0.2s\n",
      "[CV] END .....C=1, epsilon=0.01, gamma=0.0001, kernel=linear; total time=   0.3s\n",
      "[CV] END .........C=1, epsilon=0.01, gamma=0.001, kernel=rbf; total time=   0.2s\n",
      "[CV] END .........C=1, epsilon=0.01, gamma=0.001, kernel=rbf; total time=   0.2s\n",
      "[CV] END .........C=1, epsilon=0.01, gamma=0.001, kernel=rbf; total time=   0.2s\n",
      "[CV] END .........C=1, epsilon=0.01, gamma=0.001, kernel=rbf; total time=   0.2s\n",
      "[CV] END .........C=1, epsilon=0.01, gamma=0.001, kernel=rbf; total time=   0.2s\n",
      "[CV] END ......C=1, epsilon=0.01, gamma=0.001, kernel=linear; total time=   0.3s\n",
      "[CV] END ......C=1, epsilon=0.01, gamma=0.001, kernel=linear; total time=   0.3s\n",
      "[CV] END ......C=1, epsilon=0.01, gamma=0.001, kernel=linear; total time=   0.2s\n",
      "[CV] END ......C=1, epsilon=0.01, gamma=0.001, kernel=linear; total time=   0.2s\n",
      "[CV] END ......C=1, epsilon=0.01, gamma=0.001, kernel=linear; total time=   0.3s\n",
      "[CV] END ..........C=1, epsilon=0.01, gamma=0.01, kernel=rbf; total time=   0.2s\n",
      "[CV] END ..........C=1, epsilon=0.01, gamma=0.01, kernel=rbf; total time=   0.2s\n",
      "[CV] END ..........C=1, epsilon=0.01, gamma=0.01, kernel=rbf; total time=   0.1s\n",
      "[CV] END ..........C=1, epsilon=0.01, gamma=0.01, kernel=rbf; total time=   0.2s\n",
      "[CV] END ..........C=1, epsilon=0.01, gamma=0.01, kernel=rbf; total time=   0.1s\n",
      "[CV] END .......C=1, epsilon=0.01, gamma=0.01, kernel=linear; total time=   0.3s\n",
      "[CV] END .......C=1, epsilon=0.01, gamma=0.01, kernel=linear; total time=   0.3s\n",
      "[CV] END .......C=1, epsilon=0.01, gamma=0.01, kernel=linear; total time=   0.2s\n",
      "[CV] END .......C=1, epsilon=0.01, gamma=0.01, kernel=linear; total time=   0.2s\n",
      "[CV] END .......C=1, epsilon=0.01, gamma=0.01, kernel=linear; total time=   0.3s\n",
      "[CV] END ...........C=1, epsilon=0.01, gamma=0.1, kernel=rbf; total time=   0.2s\n",
      "[CV] END ...........C=1, epsilon=0.01, gamma=0.1, kernel=rbf; total time=   0.2s\n",
      "[CV] END ...........C=1, epsilon=0.01, gamma=0.1, kernel=rbf; total time=   0.1s\n",
      "[CV] END ...........C=1, epsilon=0.01, gamma=0.1, kernel=rbf; total time=   0.2s\n",
      "[CV] END ...........C=1, epsilon=0.01, gamma=0.1, kernel=rbf; total time=   0.1s\n",
      "[CV] END ........C=1, epsilon=0.01, gamma=0.1, kernel=linear; total time=   0.3s\n",
      "[CV] END ........C=1, epsilon=0.01, gamma=0.1, kernel=linear; total time=   0.3s\n",
      "[CV] END ........C=1, epsilon=0.01, gamma=0.1, kernel=linear; total time=   0.2s\n",
      "[CV] END ........C=1, epsilon=0.01, gamma=0.1, kernel=linear; total time=   0.2s\n",
      "[CV] END ........C=1, epsilon=0.01, gamma=0.1, kernel=linear; total time=   0.3s\n",
      "[CV] END .........C=1, epsilon=0.1, gamma=0.0001, kernel=rbf; total time=   0.0s\n",
      "[CV] END .........C=1, epsilon=0.1, gamma=0.0001, kernel=rbf; total time=   0.0s\n",
      "[CV] END .........C=1, epsilon=0.1, gamma=0.0001, kernel=rbf; total time=   0.0s\n",
      "[CV] END .........C=1, epsilon=0.1, gamma=0.0001, kernel=rbf; total time=   0.0s\n",
      "[CV] END .........C=1, epsilon=0.1, gamma=0.0001, kernel=rbf; total time=   0.0s\n",
      "[CV] END ......C=1, epsilon=0.1, gamma=0.0001, kernel=linear; total time=   0.0s\n",
      "[CV] END ......C=1, epsilon=0.1, gamma=0.0001, kernel=linear; total time=   0.0s\n",
      "[CV] END ......C=1, epsilon=0.1, gamma=0.0001, kernel=linear; total time=   0.0s\n",
      "[CV] END ......C=1, epsilon=0.1, gamma=0.0001, kernel=linear; total time=   0.0s\n",
      "[CV] END ......C=1, epsilon=0.1, gamma=0.0001, kernel=linear; total time=   0.0s\n",
      "[CV] END ..........C=1, epsilon=0.1, gamma=0.001, kernel=rbf; total time=   0.0s\n",
      "[CV] END ..........C=1, epsilon=0.1, gamma=0.001, kernel=rbf; total time=   0.0s\n",
      "[CV] END ..........C=1, epsilon=0.1, gamma=0.001, kernel=rbf; total time=   0.0s\n",
      "[CV] END ..........C=1, epsilon=0.1, gamma=0.001, kernel=rbf; total time=   0.0s\n",
      "[CV] END ..........C=1, epsilon=0.1, gamma=0.001, kernel=rbf; total time=   0.0s\n",
      "[CV] END .......C=1, epsilon=0.1, gamma=0.001, kernel=linear; total time=   0.0s\n",
      "[CV] END .......C=1, epsilon=0.1, gamma=0.001, kernel=linear; total time=   0.0s\n",
      "[CV] END .......C=1, epsilon=0.1, gamma=0.001, kernel=linear; total time=   0.0s\n",
      "[CV] END .......C=1, epsilon=0.1, gamma=0.001, kernel=linear; total time=   0.0s\n",
      "[CV] END .......C=1, epsilon=0.1, gamma=0.001, kernel=linear; total time=   0.0s\n",
      "[CV] END ...........C=1, epsilon=0.1, gamma=0.01, kernel=rbf; total time=   0.0s\n",
      "[CV] END ...........C=1, epsilon=0.1, gamma=0.01, kernel=rbf; total time=   0.0s\n",
      "[CV] END ...........C=1, epsilon=0.1, gamma=0.01, kernel=rbf; total time=   0.0s\n",
      "[CV] END ...........C=1, epsilon=0.1, gamma=0.01, kernel=rbf; total time=   0.0s\n",
      "[CV] END ...........C=1, epsilon=0.1, gamma=0.01, kernel=rbf; total time=   0.0s\n",
      "[CV] END ........C=1, epsilon=0.1, gamma=0.01, kernel=linear; total time=   0.0s\n",
      "[CV] END ........C=1, epsilon=0.1, gamma=0.01, kernel=linear; total time=   0.0s\n",
      "[CV] END ........C=1, epsilon=0.1, gamma=0.01, kernel=linear; total time=   0.0s\n",
      "[CV] END ........C=1, epsilon=0.1, gamma=0.01, kernel=linear; total time=   0.0s\n",
      "[CV] END ........C=1, epsilon=0.1, gamma=0.01, kernel=linear; total time=   0.0s\n",
      "[CV] END ............C=1, epsilon=0.1, gamma=0.1, kernel=rbf; total time=   0.0s\n",
      "[CV] END ............C=1, epsilon=0.1, gamma=0.1, kernel=rbf; total time=   0.0s\n",
      "[CV] END ............C=1, epsilon=0.1, gamma=0.1, kernel=rbf; total time=   0.0s\n",
      "[CV] END ............C=1, epsilon=0.1, gamma=0.1, kernel=rbf; total time=   0.0s\n",
      "[CV] END ............C=1, epsilon=0.1, gamma=0.1, kernel=rbf; total time=   0.0s\n",
      "[CV] END .........C=1, epsilon=0.1, gamma=0.1, kernel=linear; total time=   0.0s\n",
      "[CV] END .........C=1, epsilon=0.1, gamma=0.1, kernel=linear; total time=   0.0s\n",
      "[CV] END .........C=1, epsilon=0.1, gamma=0.1, kernel=linear; total time=   0.0s\n",
      "[CV] END .........C=1, epsilon=0.1, gamma=0.1, kernel=linear; total time=   0.0s\n",
      "[CV] END .........C=1, epsilon=0.1, gamma=0.1, kernel=linear; total time=   0.0s\n",
      "[CV] END ...........C=1, epsilon=1, gamma=0.0001, kernel=rbf; total time=   0.0s\n",
      "[CV] END ...........C=1, epsilon=1, gamma=0.0001, kernel=rbf; total time=   0.0s\n",
      "[CV] END ...........C=1, epsilon=1, gamma=0.0001, kernel=rbf; total time=   0.0s\n",
      "[CV] END ...........C=1, epsilon=1, gamma=0.0001, kernel=rbf; total time=   0.0s\n",
      "[CV] END ...........C=1, epsilon=1, gamma=0.0001, kernel=rbf; total time=   0.0s\n",
      "[CV] END ........C=1, epsilon=1, gamma=0.0001, kernel=linear; total time=   0.0s\n",
      "[CV] END ........C=1, epsilon=1, gamma=0.0001, kernel=linear; total time=   0.0s\n",
      "[CV] END ........C=1, epsilon=1, gamma=0.0001, kernel=linear; total time=   0.0s\n",
      "[CV] END ........C=1, epsilon=1, gamma=0.0001, kernel=linear; total time=   0.0s\n",
      "[CV] END ........C=1, epsilon=1, gamma=0.0001, kernel=linear; total time=   0.0s\n",
      "[CV] END ............C=1, epsilon=1, gamma=0.001, kernel=rbf; total time=   0.0s\n",
      "[CV] END ............C=1, epsilon=1, gamma=0.001, kernel=rbf; total time=   0.0s\n",
      "[CV] END ............C=1, epsilon=1, gamma=0.001, kernel=rbf; total time=   0.0s\n",
      "[CV] END ............C=1, epsilon=1, gamma=0.001, kernel=rbf; total time=   0.0s\n",
      "[CV] END ............C=1, epsilon=1, gamma=0.001, kernel=rbf; total time=   0.0s\n",
      "[CV] END .........C=1, epsilon=1, gamma=0.001, kernel=linear; total time=   0.0s\n",
      "[CV] END .........C=1, epsilon=1, gamma=0.001, kernel=linear; total time=   0.0s\n",
      "[CV] END .........C=1, epsilon=1, gamma=0.001, kernel=linear; total time=   0.0s\n",
      "[CV] END .........C=1, epsilon=1, gamma=0.001, kernel=linear; total time=   0.0s\n",
      "[CV] END .........C=1, epsilon=1, gamma=0.001, kernel=linear; total time=   0.0s\n",
      "[CV] END .............C=1, epsilon=1, gamma=0.01, kernel=rbf; total time=   0.0s\n",
      "[CV] END .............C=1, epsilon=1, gamma=0.01, kernel=rbf; total time=   0.0s\n",
      "[CV] END .............C=1, epsilon=1, gamma=0.01, kernel=rbf; total time=   0.0s\n",
      "[CV] END .............C=1, epsilon=1, gamma=0.01, kernel=rbf; total time=   0.0s\n",
      "[CV] END .............C=1, epsilon=1, gamma=0.01, kernel=rbf; total time=   0.0s\n",
      "[CV] END ..........C=1, epsilon=1, gamma=0.01, kernel=linear; total time=   0.0s\n",
      "[CV] END ..........C=1, epsilon=1, gamma=0.01, kernel=linear; total time=   0.0s\n",
      "[CV] END ..........C=1, epsilon=1, gamma=0.01, kernel=linear; total time=   0.0s\n",
      "[CV] END ..........C=1, epsilon=1, gamma=0.01, kernel=linear; total time=   0.0s\n",
      "[CV] END ..........C=1, epsilon=1, gamma=0.01, kernel=linear; total time=   0.0s\n",
      "[CV] END ..............C=1, epsilon=1, gamma=0.1, kernel=rbf; total time=   0.0s\n",
      "[CV] END ..............C=1, epsilon=1, gamma=0.1, kernel=rbf; total time=   0.0s\n",
      "[CV] END ..............C=1, epsilon=1, gamma=0.1, kernel=rbf; total time=   0.0s\n",
      "[CV] END ..............C=1, epsilon=1, gamma=0.1, kernel=rbf; total time=   0.0s\n",
      "[CV] END ..............C=1, epsilon=1, gamma=0.1, kernel=rbf; total time=   0.0s\n",
      "[CV] END ...........C=1, epsilon=1, gamma=0.1, kernel=linear; total time=   0.0s\n",
      "[CV] END ...........C=1, epsilon=1, gamma=0.1, kernel=linear; total time=   0.0s\n",
      "[CV] END ...........C=1, epsilon=1, gamma=0.1, kernel=linear; total time=   0.0s\n",
      "[CV] END ...........C=1, epsilon=1, gamma=0.1, kernel=linear; total time=   0.0s\n",
      "[CV] END ...........C=1, epsilon=1, gamma=0.1, kernel=linear; total time=   0.0s\n",
      "[CV] END ..........C=1, epsilon=10, gamma=0.0001, kernel=rbf; total time=   0.0s\n",
      "[CV] END ..........C=1, epsilon=10, gamma=0.0001, kernel=rbf; total time=   0.0s\n",
      "[CV] END ..........C=1, epsilon=10, gamma=0.0001, kernel=rbf; total time=   0.0s\n",
      "[CV] END ..........C=1, epsilon=10, gamma=0.0001, kernel=rbf; total time=   0.0s\n",
      "[CV] END ..........C=1, epsilon=10, gamma=0.0001, kernel=rbf; total time=   0.0s\n",
      "[CV] END .......C=1, epsilon=10, gamma=0.0001, kernel=linear; total time=   0.0s\n",
      "[CV] END .......C=1, epsilon=10, gamma=0.0001, kernel=linear; total time=   0.0s\n",
      "[CV] END .......C=1, epsilon=10, gamma=0.0001, kernel=linear; total time=   0.0s\n",
      "[CV] END .......C=1, epsilon=10, gamma=0.0001, kernel=linear; total time=   0.0s\n",
      "[CV] END .......C=1, epsilon=10, gamma=0.0001, kernel=linear; total time=   0.0s\n",
      "[CV] END ...........C=1, epsilon=10, gamma=0.001, kernel=rbf; total time=   0.0s\n",
      "[CV] END ...........C=1, epsilon=10, gamma=0.001, kernel=rbf; total time=   0.0s\n",
      "[CV] END ...........C=1, epsilon=10, gamma=0.001, kernel=rbf; total time=   0.0s\n",
      "[CV] END ...........C=1, epsilon=10, gamma=0.001, kernel=rbf; total time=   0.0s\n",
      "[CV] END ...........C=1, epsilon=10, gamma=0.001, kernel=rbf; total time=   0.0s\n",
      "[CV] END ........C=1, epsilon=10, gamma=0.001, kernel=linear; total time=   0.0s\n",
      "[CV] END ........C=1, epsilon=10, gamma=0.001, kernel=linear; total time=   0.0s\n",
      "[CV] END ........C=1, epsilon=10, gamma=0.001, kernel=linear; total time=   0.0s\n",
      "[CV] END ........C=1, epsilon=10, gamma=0.001, kernel=linear; total time=   0.0s\n",
      "[CV] END ........C=1, epsilon=10, gamma=0.001, kernel=linear; total time=   0.0s\n",
      "[CV] END ............C=1, epsilon=10, gamma=0.01, kernel=rbf; total time=   0.0s\n",
      "[CV] END ............C=1, epsilon=10, gamma=0.01, kernel=rbf; total time=   0.0s\n",
      "[CV] END ............C=1, epsilon=10, gamma=0.01, kernel=rbf; total time=   0.0s\n",
      "[CV] END ............C=1, epsilon=10, gamma=0.01, kernel=rbf; total time=   0.0s\n",
      "[CV] END ............C=1, epsilon=10, gamma=0.01, kernel=rbf; total time=   0.0s\n",
      "[CV] END .........C=1, epsilon=10, gamma=0.01, kernel=linear; total time=   0.0s\n",
      "[CV] END .........C=1, epsilon=10, gamma=0.01, kernel=linear; total time=   0.0s\n",
      "[CV] END .........C=1, epsilon=10, gamma=0.01, kernel=linear; total time=   0.0s\n",
      "[CV] END .........C=1, epsilon=10, gamma=0.01, kernel=linear; total time=   0.0s\n",
      "[CV] END .........C=1, epsilon=10, gamma=0.01, kernel=linear; total time=   0.0s\n",
      "[CV] END .............C=1, epsilon=10, gamma=0.1, kernel=rbf; total time=   0.0s\n",
      "[CV] END .............C=1, epsilon=10, gamma=0.1, kernel=rbf; total time=   0.0s\n",
      "[CV] END .............C=1, epsilon=10, gamma=0.1, kernel=rbf; total time=   0.0s\n",
      "[CV] END .............C=1, epsilon=10, gamma=0.1, kernel=rbf; total time=   0.0s\n",
      "[CV] END .............C=1, epsilon=10, gamma=0.1, kernel=rbf; total time=   0.0s\n",
      "[CV] END ..........C=1, epsilon=10, gamma=0.1, kernel=linear; total time=   0.0s\n",
      "[CV] END ..........C=1, epsilon=10, gamma=0.1, kernel=linear; total time=   0.0s\n",
      "[CV] END ..........C=1, epsilon=10, gamma=0.1, kernel=linear; total time=   0.0s\n",
      "[CV] END ..........C=1, epsilon=10, gamma=0.1, kernel=linear; total time=   0.0s\n",
      "[CV] END ..........C=1, epsilon=10, gamma=0.1, kernel=linear; total time=   0.0s\n",
      "[CV] END .......C=10, epsilon=0.01, gamma=0.0001, kernel=rbf; total time=   0.2s\n",
      "[CV] END .......C=10, epsilon=0.01, gamma=0.0001, kernel=rbf; total time=   0.2s\n",
      "[CV] END .......C=10, epsilon=0.01, gamma=0.0001, kernel=rbf; total time=   0.2s\n",
      "[CV] END .......C=10, epsilon=0.01, gamma=0.0001, kernel=rbf; total time=   0.2s\n",
      "[CV] END .......C=10, epsilon=0.01, gamma=0.0001, kernel=rbf; total time=   0.2s\n",
      "[CV] END ....C=10, epsilon=0.01, gamma=0.0001, kernel=linear; total time=   2.3s\n",
      "[CV] END ....C=10, epsilon=0.01, gamma=0.0001, kernel=linear; total time=   3.0s\n",
      "[CV] END ....C=10, epsilon=0.01, gamma=0.0001, kernel=linear; total time=   1.2s\n",
      "[CV] END ....C=10, epsilon=0.01, gamma=0.0001, kernel=linear; total time=   1.2s\n",
      "[CV] END ....C=10, epsilon=0.01, gamma=0.0001, kernel=linear; total time=   1.4s\n",
      "[CV] END ........C=10, epsilon=0.01, gamma=0.001, kernel=rbf; total time=   0.2s\n",
      "[CV] END ........C=10, epsilon=0.01, gamma=0.001, kernel=rbf; total time=   0.1s\n",
      "[CV] END ........C=10, epsilon=0.01, gamma=0.001, kernel=rbf; total time=   0.1s\n",
      "[CV] END ........C=10, epsilon=0.01, gamma=0.001, kernel=rbf; total time=   0.2s\n",
      "[CV] END ........C=10, epsilon=0.01, gamma=0.001, kernel=rbf; total time=   0.1s\n",
      "[CV] END .....C=10, epsilon=0.01, gamma=0.001, kernel=linear; total time=   1.4s\n",
      "[CV] END .....C=10, epsilon=0.01, gamma=0.001, kernel=linear; total time=   1.5s\n",
      "[CV] END .....C=10, epsilon=0.01, gamma=0.001, kernel=linear; total time=   0.9s\n",
      "[CV] END .....C=10, epsilon=0.01, gamma=0.001, kernel=linear; total time=   1.2s\n",
      "[CV] END .....C=10, epsilon=0.01, gamma=0.001, kernel=linear; total time=   1.5s\n",
      "[CV] END .........C=10, epsilon=0.01, gamma=0.01, kernel=rbf; total time=   0.3s\n",
      "[CV] END .........C=10, epsilon=0.01, gamma=0.01, kernel=rbf; total time=   0.3s\n",
      "[CV] END .........C=10, epsilon=0.01, gamma=0.01, kernel=rbf; total time=   0.2s\n",
      "[CV] END .........C=10, epsilon=0.01, gamma=0.01, kernel=rbf; total time=   0.2s\n",
      "[CV] END .........C=10, epsilon=0.01, gamma=0.01, kernel=rbf; total time=   0.3s\n",
      "[CV] END ......C=10, epsilon=0.01, gamma=0.01, kernel=linear; total time=   2.8s\n",
      "[CV] END ......C=10, epsilon=0.01, gamma=0.01, kernel=linear; total time=   2.0s\n",
      "[CV] END ......C=10, epsilon=0.01, gamma=0.01, kernel=linear; total time=   0.9s\n",
      "[CV] END ......C=10, epsilon=0.01, gamma=0.01, kernel=linear; total time=   1.2s\n",
      "[CV] END ......C=10, epsilon=0.01, gamma=0.01, kernel=linear; total time=   1.4s\n",
      "[CV] END ..........C=10, epsilon=0.01, gamma=0.1, kernel=rbf; total time=   0.3s\n",
      "[CV] END ..........C=10, epsilon=0.01, gamma=0.1, kernel=rbf; total time=   0.2s\n",
      "[CV] END ..........C=10, epsilon=0.01, gamma=0.1, kernel=rbf; total time=   0.2s\n",
      "[CV] END ..........C=10, epsilon=0.01, gamma=0.1, kernel=rbf; total time=   0.2s\n",
      "[CV] END ..........C=10, epsilon=0.01, gamma=0.1, kernel=rbf; total time=   0.2s\n",
      "[CV] END .......C=10, epsilon=0.01, gamma=0.1, kernel=linear; total time=   1.4s\n",
      "[CV] END .......C=10, epsilon=0.01, gamma=0.1, kernel=linear; total time=   1.5s\n",
      "[CV] END .......C=10, epsilon=0.01, gamma=0.1, kernel=linear; total time=   0.9s\n",
      "[CV] END .......C=10, epsilon=0.01, gamma=0.1, kernel=linear; total time=   1.6s\n",
      "[CV] END .......C=10, epsilon=0.01, gamma=0.1, kernel=linear; total time=   2.7s\n",
      "[CV] END ........C=10, epsilon=0.1, gamma=0.0001, kernel=rbf; total time=   0.0s\n",
      "[CV] END ........C=10, epsilon=0.1, gamma=0.0001, kernel=rbf; total time=   0.0s\n",
      "[CV] END ........C=10, epsilon=0.1, gamma=0.0001, kernel=rbf; total time=   0.0s\n",
      "[CV] END ........C=10, epsilon=0.1, gamma=0.0001, kernel=rbf; total time=   0.0s\n",
      "[CV] END ........C=10, epsilon=0.1, gamma=0.0001, kernel=rbf; total time=   0.0s\n",
      "[CV] END .....C=10, epsilon=0.1, gamma=0.0001, kernel=linear; total time=   0.0s\n",
      "[CV] END .....C=10, epsilon=0.1, gamma=0.0001, kernel=linear; total time=   0.0s\n",
      "[CV] END .....C=10, epsilon=0.1, gamma=0.0001, kernel=linear; total time=   0.0s\n",
      "[CV] END .....C=10, epsilon=0.1, gamma=0.0001, kernel=linear; total time=   0.0s\n",
      "[CV] END .....C=10, epsilon=0.1, gamma=0.0001, kernel=linear; total time=   0.0s\n",
      "[CV] END .........C=10, epsilon=0.1, gamma=0.001, kernel=rbf; total time=   0.0s\n",
      "[CV] END .........C=10, epsilon=0.1, gamma=0.001, kernel=rbf; total time=   0.0s\n",
      "[CV] END .........C=10, epsilon=0.1, gamma=0.001, kernel=rbf; total time=   0.0s\n",
      "[CV] END .........C=10, epsilon=0.1, gamma=0.001, kernel=rbf; total time=   0.0s\n",
      "[CV] END .........C=10, epsilon=0.1, gamma=0.001, kernel=rbf; total time=   0.0s\n",
      "[CV] END ......C=10, epsilon=0.1, gamma=0.001, kernel=linear; total time=   0.0s\n",
      "[CV] END ......C=10, epsilon=0.1, gamma=0.001, kernel=linear; total time=   0.0s\n",
      "[CV] END ......C=10, epsilon=0.1, gamma=0.001, kernel=linear; total time=   0.0s\n",
      "[CV] END ......C=10, epsilon=0.1, gamma=0.001, kernel=linear; total time=   0.0s\n",
      "[CV] END ......C=10, epsilon=0.1, gamma=0.001, kernel=linear; total time=   0.0s\n",
      "[CV] END ..........C=10, epsilon=0.1, gamma=0.01, kernel=rbf; total time=   0.0s\n",
      "[CV] END ..........C=10, epsilon=0.1, gamma=0.01, kernel=rbf; total time=   0.0s\n",
      "[CV] END ..........C=10, epsilon=0.1, gamma=0.01, kernel=rbf; total time=   0.0s\n",
      "[CV] END ..........C=10, epsilon=0.1, gamma=0.01, kernel=rbf; total time=   0.0s\n",
      "[CV] END ..........C=10, epsilon=0.1, gamma=0.01, kernel=rbf; total time=   0.0s\n",
      "[CV] END .......C=10, epsilon=0.1, gamma=0.01, kernel=linear; total time=   0.0s\n",
      "[CV] END .......C=10, epsilon=0.1, gamma=0.01, kernel=linear; total time=   0.0s\n",
      "[CV] END .......C=10, epsilon=0.1, gamma=0.01, kernel=linear; total time=   0.0s\n",
      "[CV] END .......C=10, epsilon=0.1, gamma=0.01, kernel=linear; total time=   0.0s\n",
      "[CV] END .......C=10, epsilon=0.1, gamma=0.01, kernel=linear; total time=   0.0s\n",
      "[CV] END ...........C=10, epsilon=0.1, gamma=0.1, kernel=rbf; total time=   0.0s\n",
      "[CV] END ...........C=10, epsilon=0.1, gamma=0.1, kernel=rbf; total time=   0.0s\n",
      "[CV] END ...........C=10, epsilon=0.1, gamma=0.1, kernel=rbf; total time=   0.0s\n",
      "[CV] END ...........C=10, epsilon=0.1, gamma=0.1, kernel=rbf; total time=   0.0s\n",
      "[CV] END ...........C=10, epsilon=0.1, gamma=0.1, kernel=rbf; total time=   0.0s\n",
      "[CV] END ........C=10, epsilon=0.1, gamma=0.1, kernel=linear; total time=   0.0s\n",
      "[CV] END ........C=10, epsilon=0.1, gamma=0.1, kernel=linear; total time=   0.0s\n",
      "[CV] END ........C=10, epsilon=0.1, gamma=0.1, kernel=linear; total time=   0.0s\n",
      "[CV] END ........C=10, epsilon=0.1, gamma=0.1, kernel=linear; total time=   0.0s\n",
      "[CV] END ........C=10, epsilon=0.1, gamma=0.1, kernel=linear; total time=   0.0s\n",
      "[CV] END ..........C=10, epsilon=1, gamma=0.0001, kernel=rbf; total time=   0.0s\n",
      "[CV] END ..........C=10, epsilon=1, gamma=0.0001, kernel=rbf; total time=   0.0s\n",
      "[CV] END ..........C=10, epsilon=1, gamma=0.0001, kernel=rbf; total time=   0.0s\n",
      "[CV] END ..........C=10, epsilon=1, gamma=0.0001, kernel=rbf; total time=   0.0s\n",
      "[CV] END ..........C=10, epsilon=1, gamma=0.0001, kernel=rbf; total time=   0.0s\n",
      "[CV] END .......C=10, epsilon=1, gamma=0.0001, kernel=linear; total time=   0.0s\n",
      "[CV] END .......C=10, epsilon=1, gamma=0.0001, kernel=linear; total time=   0.0s\n",
      "[CV] END .......C=10, epsilon=1, gamma=0.0001, kernel=linear; total time=   0.0s\n",
      "[CV] END .......C=10, epsilon=1, gamma=0.0001, kernel=linear; total time=   0.0s\n",
      "[CV] END .......C=10, epsilon=1, gamma=0.0001, kernel=linear; total time=   0.0s\n",
      "[CV] END ...........C=10, epsilon=1, gamma=0.001, kernel=rbf; total time=   0.0s\n",
      "[CV] END ...........C=10, epsilon=1, gamma=0.001, kernel=rbf; total time=   0.0s\n",
      "[CV] END ...........C=10, epsilon=1, gamma=0.001, kernel=rbf; total time=   0.0s\n",
      "[CV] END ...........C=10, epsilon=1, gamma=0.001, kernel=rbf; total time=   0.0s\n",
      "[CV] END ...........C=10, epsilon=1, gamma=0.001, kernel=rbf; total time=   0.0s\n",
      "[CV] END ........C=10, epsilon=1, gamma=0.001, kernel=linear; total time=   0.0s\n",
      "[CV] END ........C=10, epsilon=1, gamma=0.001, kernel=linear; total time=   0.0s\n",
      "[CV] END ........C=10, epsilon=1, gamma=0.001, kernel=linear; total time=   0.0s\n",
      "[CV] END ........C=10, epsilon=1, gamma=0.001, kernel=linear; total time=   0.0s\n",
      "[CV] END ........C=10, epsilon=1, gamma=0.001, kernel=linear; total time=   0.0s\n",
      "[CV] END ............C=10, epsilon=1, gamma=0.01, kernel=rbf; total time=   0.0s\n",
      "[CV] END ............C=10, epsilon=1, gamma=0.01, kernel=rbf; total time=   0.0s\n",
      "[CV] END ............C=10, epsilon=1, gamma=0.01, kernel=rbf; total time=   0.0s\n",
      "[CV] END ............C=10, epsilon=1, gamma=0.01, kernel=rbf; total time=   0.0s\n",
      "[CV] END ............C=10, epsilon=1, gamma=0.01, kernel=rbf; total time=   0.0s\n",
      "[CV] END .........C=10, epsilon=1, gamma=0.01, kernel=linear; total time=   0.0s\n",
      "[CV] END .........C=10, epsilon=1, gamma=0.01, kernel=linear; total time=   0.0s\n",
      "[CV] END .........C=10, epsilon=1, gamma=0.01, kernel=linear; total time=   0.0s\n",
      "[CV] END .........C=10, epsilon=1, gamma=0.01, kernel=linear; total time=   0.0s\n",
      "[CV] END .........C=10, epsilon=1, gamma=0.01, kernel=linear; total time=   0.0s\n",
      "[CV] END .............C=10, epsilon=1, gamma=0.1, kernel=rbf; total time=   0.0s\n",
      "[CV] END .............C=10, epsilon=1, gamma=0.1, kernel=rbf; total time=   0.0s\n",
      "[CV] END .............C=10, epsilon=1, gamma=0.1, kernel=rbf; total time=   0.0s\n",
      "[CV] END .............C=10, epsilon=1, gamma=0.1, kernel=rbf; total time=   0.0s\n",
      "[CV] END .............C=10, epsilon=1, gamma=0.1, kernel=rbf; total time=   0.0s\n",
      "[CV] END ..........C=10, epsilon=1, gamma=0.1, kernel=linear; total time=   0.0s\n",
      "[CV] END ..........C=10, epsilon=1, gamma=0.1, kernel=linear; total time=   0.0s\n",
      "[CV] END ..........C=10, epsilon=1, gamma=0.1, kernel=linear; total time=   0.0s\n",
      "[CV] END ..........C=10, epsilon=1, gamma=0.1, kernel=linear; total time=   0.0s\n",
      "[CV] END ..........C=10, epsilon=1, gamma=0.1, kernel=linear; total time=   0.0s\n",
      "[CV] END .........C=10, epsilon=10, gamma=0.0001, kernel=rbf; total time=   0.0s\n",
      "[CV] END .........C=10, epsilon=10, gamma=0.0001, kernel=rbf; total time=   0.0s\n",
      "[CV] END .........C=10, epsilon=10, gamma=0.0001, kernel=rbf; total time=   0.0s\n",
      "[CV] END .........C=10, epsilon=10, gamma=0.0001, kernel=rbf; total time=   0.0s\n",
      "[CV] END .........C=10, epsilon=10, gamma=0.0001, kernel=rbf; total time=   0.0s\n",
      "[CV] END ......C=10, epsilon=10, gamma=0.0001, kernel=linear; total time=   0.0s\n",
      "[CV] END ......C=10, epsilon=10, gamma=0.0001, kernel=linear; total time=   0.0s\n",
      "[CV] END ......C=10, epsilon=10, gamma=0.0001, kernel=linear; total time=   0.0s\n",
      "[CV] END ......C=10, epsilon=10, gamma=0.0001, kernel=linear; total time=   0.0s\n",
      "[CV] END ......C=10, epsilon=10, gamma=0.0001, kernel=linear; total time=   0.0s\n",
      "[CV] END ..........C=10, epsilon=10, gamma=0.001, kernel=rbf; total time=   0.0s\n",
      "[CV] END ..........C=10, epsilon=10, gamma=0.001, kernel=rbf; total time=   0.0s\n",
      "[CV] END ..........C=10, epsilon=10, gamma=0.001, kernel=rbf; total time=   0.0s\n",
      "[CV] END ..........C=10, epsilon=10, gamma=0.001, kernel=rbf; total time=   0.0s\n",
      "[CV] END ..........C=10, epsilon=10, gamma=0.001, kernel=rbf; total time=   0.0s\n",
      "[CV] END .......C=10, epsilon=10, gamma=0.001, kernel=linear; total time=   0.0s\n",
      "[CV] END .......C=10, epsilon=10, gamma=0.001, kernel=linear; total time=   0.0s\n",
      "[CV] END .......C=10, epsilon=10, gamma=0.001, kernel=linear; total time=   0.0s\n",
      "[CV] END .......C=10, epsilon=10, gamma=0.001, kernel=linear; total time=   0.0s\n",
      "[CV] END .......C=10, epsilon=10, gamma=0.001, kernel=linear; total time=   0.0s\n",
      "[CV] END ...........C=10, epsilon=10, gamma=0.01, kernel=rbf; total time=   0.0s\n",
      "[CV] END ...........C=10, epsilon=10, gamma=0.01, kernel=rbf; total time=   0.0s\n",
      "[CV] END ...........C=10, epsilon=10, gamma=0.01, kernel=rbf; total time=   0.0s\n",
      "[CV] END ...........C=10, epsilon=10, gamma=0.01, kernel=rbf; total time=   0.0s\n",
      "[CV] END ...........C=10, epsilon=10, gamma=0.01, kernel=rbf; total time=   0.0s\n",
      "[CV] END ........C=10, epsilon=10, gamma=0.01, kernel=linear; total time=   0.0s\n",
      "[CV] END ........C=10, epsilon=10, gamma=0.01, kernel=linear; total time=   0.0s\n",
      "[CV] END ........C=10, epsilon=10, gamma=0.01, kernel=linear; total time=   0.0s\n",
      "[CV] END ........C=10, epsilon=10, gamma=0.01, kernel=linear; total time=   0.0s\n",
      "[CV] END ........C=10, epsilon=10, gamma=0.01, kernel=linear; total time=   0.0s\n",
      "[CV] END ............C=10, epsilon=10, gamma=0.1, kernel=rbf; total time=   0.0s\n",
      "[CV] END ............C=10, epsilon=10, gamma=0.1, kernel=rbf; total time=   0.0s\n",
      "[CV] END ............C=10, epsilon=10, gamma=0.1, kernel=rbf; total time=   0.0s\n",
      "[CV] END ............C=10, epsilon=10, gamma=0.1, kernel=rbf; total time=   0.0s\n",
      "[CV] END ............C=10, epsilon=10, gamma=0.1, kernel=rbf; total time=   0.0s\n",
      "[CV] END .........C=10, epsilon=10, gamma=0.1, kernel=linear; total time=   0.0s\n",
      "[CV] END .........C=10, epsilon=10, gamma=0.1, kernel=linear; total time=   0.0s\n",
      "[CV] END .........C=10, epsilon=10, gamma=0.1, kernel=linear; total time=   0.0s\n",
      "[CV] END .........C=10, epsilon=10, gamma=0.1, kernel=linear; total time=   0.0s\n",
      "[CV] END .........C=10, epsilon=10, gamma=0.1, kernel=linear; total time=   0.0s\n",
      "Best Parameters: {'C': 1, 'epsilon': 0.01, 'gamma': 0.0001, 'kernel': 'linear'}\n",
      "Training Loss (MSE): 3.1451084988196465\n",
      "Validation Loss (MSE): 5.070590016265209\n",
      "Bias in Training Set: 0.1677138876230624\n",
      "Bias in Validation Set: 0.21554381617561943\n",
      "Training MAE: 1.3430386960640766\n",
      "Validation MAE: 1.5623398700856603\n",
      "Training R²: 0.9966626457802586\n",
      "Validation R²: 0.9889404160154444\n",
      "Training RMSE: 1.7734453752003885\n",
      "Validation RMSE: 2.251797063739361\n"
     ]
    }
   ],
   "source": [
    "from sklearn.model_selection import GridSearchCV\n",
    "from sklearn.metrics import mean_absolute_error, r2_score, mean_squared_error\n",
    "import warnings\n",
    "from sklearn.exceptions import DataConversionWarning\n",
    "import numpy as np\n",
    "\n",
    "# Suppress the DataConversionWarning\n",
    "warnings.filterwarnings(action='ignore', category=DataConversionWarning)\n",
    "\n",
    "x_grid_search_sample = X_train_flat[:2000]\n",
    "y_grid_search_sample = y_train[:2000]\n",
    "\n",
    "# Define the parameter grid\n",
    "param_grid = {\n",
    "    'C': [0.1, 1, 10],\n",
    "    'gamma': [0.0001, 0.001, 0.01, 0.1],\n",
    "    'epsilon': [0.01, 0.1, 1, 10],\n",
    "    'kernel': ['rbf', 'linear']\n",
    "}\n",
    "\n",
    "svr = SVR()\n",
    "\n",
    "grid_search = GridSearchCV(estimator=svr, param_grid=param_grid, cv=5, scoring='neg_mean_squared_error', verbose=2)\n",
    "grid_search.fit(x_grid_search_sample, y_grid_search_sample)\n",
    "\n",
    "# Get the best parameters\n",
    "best_params = grid_search.best_params_\n",
    "print(\"Best Parameters:\", best_params)\n",
    "\n",
    "# Initialise the model\n",
    "svr = grid_search.best_estimator_\n",
    "\n",
    "# Train the model\n",
    "svr.fit(X_train_flat, y_train.ravel())\n",
    "\n",
    "# Make predictions on the training and test data\n",
    "train_predictions = svr.predict(X_train_flat)\n",
    "test_predictions = svr.predict(X_test_flat)\n",
    "\n",
    "# Inverse transform the predicted values for 'close' prices back to the original scale\n",
    "train_predictions_original = scaler_close.inverse_transform(train_predictions.reshape(-1, 1))\n",
    "test_predictions_original = scaler_close.inverse_transform(test_predictions.reshape(-1, 1))\n",
    "\n",
    "# Inverse transform the actual target values ('close') for comparison\n",
    "y_train_original = scaler_close.inverse_transform(y_train)\n",
    "y_test_original = scaler_close.inverse_transform(y_test)\n",
    "\n",
    "# Calculate the Training and Validation (Test) Loss (MSE)\n",
    "train_loss = mean_squared_error(y_train_original, train_predictions_original)\n",
    "test_loss = mean_squared_error(y_test_original, test_predictions_original)\n",
    "\n",
    "# Calculate MAE (Mean Absolute Error)\n",
    "mae_train = mean_absolute_error(y_train_original, train_predictions_original)\n",
    "mae_test = mean_absolute_error(y_test_original, test_predictions_original)\n",
    "\n",
    "# Calculate R² (Coefficient of Determination)\n",
    "r2_train = r2_score(y_train_original, train_predictions_original)\n",
    "r2_test = r2_score(y_test_original, test_predictions_original)\n",
    "\n",
    "# Calculate RMSE (Root Mean Squared Error)\n",
    "rmse_train = np.sqrt(train_loss)\n",
    "rmse_test = np.sqrt(test_loss)\n",
    "\n",
    "# Calculate bias (mean difference between real and predicted values)\n",
    "bias_train = np.mean(y_train_original - train_predictions_original)\n",
    "bias_test = np.mean(y_test_original - test_predictions_original)\n",
    "\n",
    "# Apply bias correction to the test predictions\n",
    "test_predictions_corrected = test_predictions_original + bias_test\n",
    "\n",
    "# Output the results\n",
    "print(f'Training Loss (MSE): {train_loss}')\n",
    "print(f'Validation Loss (MSE): {test_loss}')\n",
    "print(f'Bias in Training Set: {bias_train}')\n",
    "print(f'Bias in Validation Set: {bias_test}')\n",
    "print(f'Training MAE: {mae_train}')\n",
    "print(f'Validation MAE: {mae_test}')\n",
    "print(f'Training R²: {r2_train}')\n",
    "print(f'Validation R²: {r2_test}')\n",
    "print(f'Training RMSE: {rmse_train}')\n",
    "print(f'Validation RMSE: {rmse_test}')\n"
   ]
  },
  {
   "cell_type": "markdown",
   "metadata": {
    "id": "08iwhzT_WICM"
   },
   "source": [
    "plot the predictions vs the actual values"
   ]
  },
  {
   "cell_type": "code",
   "execution_count": 23,
   "metadata": {
    "colab": {
     "base_uri": "https://localhost:8080/",
     "height": 607
    },
    "id": "wb_ZYMoqPlRG",
    "outputId": "f776048b-2002-4815-95b3-e08783708e2d"
   },
   "outputs": [
    {
     "data": {
      "image/png": "[encoded data removed]",
      "text/plain": [
       "<Figure size 1200x600 with 1 Axes>"
      ]
     },
     "metadata": {},
     "output_type": "display_data"
    }
   ],
   "source": [
    "# Plot the actual vs corrected predicted stock prices (in original scale)\n",
    "plt.figure(figsize=(12, 6))  # Set the figure size\n",
    "\n",
    "# Use the last len(y_test_original) dates from the dataset for the test set\n",
    "test_set_dates = sp500_pivot.index[-len(y_test_original):]\n",
    "test_set_dates = pd.to_datetime(test_set_dates)  # Ensure it's in datetime format\n",
    "\n",
    "plt.plot(test_set_dates, y_test_original, color='red', label='Real Stock Price')  # Plot real stock prices\n",
    "plt.plot(test_set_dates, test_predictions_corrected, color='blue', label='Predicted Stock Price (Corrected)')  # Plot corrected predicted stock prices\n",
    "\n",
    "plt.title('Stock Price Prediction (Bias Corrected)')\n",
    "plt.xlabel('Date')\n",
    "plt.ylabel('Stock Price (in dollar $)')\n",
    "\n",
    "# Set x-axis limits and format\n",
    "plt.xlim([test_set_dates[0], test_set_dates[-1]])\n",
    "plt.gca().xaxis.set_major_locator(mdates.MonthLocator())\n",
    "plt.gca().xaxis.set_major_formatter(mdates.DateFormatter('%b %Y'))  # Format to show month and year\n",
    "plt.xticks(rotation=45)  # Rotate x-axis labels for better visibility\n",
    "\n",
    "plt.legend()\n",
    "plt.tight_layout()\n",
    "plt.show()\n"
   ]
  },
  {
   "cell_type": "markdown",
   "metadata": {
    "id": "fXooB2AQWYuH"
   },
   "source": [
    "SVR is an extension of SVM that is used for predicting numerical values"
   ]
  },
  {
   "cell_type": "markdown",
   "metadata": {
    "id": "OWY4Arq5ZksO"
   },
   "source": [
    "- kernel=’linear’ specifies the kernel function to be used. \n",
    "- gamma=0.0001 is the parameter for the linear kernel. It controls the influence of each training example. A low value means ‘far’ and a high value means ‘close’ relative to the hyperplane.\n",
    "- C=1 is the regularization parameter. It trades off correct classification of training examples against maximization of the decision function’s margin.\n",
    "- epsilon=0.01 is the epsilon parameter in the epsilon-SVR model. It specifies the epsilon-tube within which no penalty is associated in the training loss function.\n",
    "\n",
    "the best TIME_STEPS (days to look back at is around 60, 2 month)\n",
    "\n",
    "https://www.geeksforgeeks.org/time-series-forecasting-with-support-vector-regression/"
   ]
  },
  {
   "cell_type": "markdown",
   "metadata": {
    "id": "jEBK4RJEgUIQ"
   },
   "source": [
    "## Performance of the model\n",
    "\n",
    "- Training MSE: 3.20, this suggests the model is fitting the training data well, on average the squared difference between the predication price and actual price is 3.20.\n",
    "- Validation MSE: 5.14, higher than the training loss (expected) this means for unseen data, the prediction price differs 5.14 from the actual price.\n",
    "- Training MAE: 1.34\n",
    "- Validation MAE: 1.58\n",
    "- Training RMSE: 1.79\n",
    "- Validation RMSE: 2.27\n",
    "\n",
    "## Room for improvement\n",
    "- more data\n",
    "- grid search with a larger sample size (take really long to find the best parameter)"
   ]
  }
 ],
 "metadata": {
  "colab": {
   "include_colab_link": true,
   "provenance": [],
   "toc_visible": true
  },
  "kernelspec": {
   "display_name": "Python 3",
   "name": "python3"
  },
  "language_info": {
   "name": "python"
  }
 },
 "nbformat": 4,
 "nbformat_minor": 0
}
