{
  "nbformat": 4,
  "nbformat_minor": 0,
  "metadata": {
    "colab": {
      "provenance": [],
      "include_colab_link": true
    },
    "kernelspec": {
      "name": "python3",
      "display_name": "Python 3"
    },
    "language_info": {
      "name": "python"
    }
  },
  "cells": [
    {
      "cell_type": "markdown",
      "metadata": {
        "id": "view-in-github",
        "colab_type": "text"
      },
      "source": [
        "<a href=\"https://colab.research.google.com/github/danigallegdup/NUS-Stock-Data/blob/main/Stock_price_prediction.ipynb\" target=\"_parent\"><img src=\"https://colab.research.google.com/assets/colab-badge.svg\" alt=\"Open In Colab\"/></a>"
      ]
    },
    {
      "cell_type": "markdown",
      "source": [
        "# Stock Price Prediction using LSTM\n",
        "This project aims to predict stock prices using historical data and Long Short-Term Memory (LSTM) neural networks.\n",
        "\n",
        "## Data Loading and Preprocessing"
      ],
      "metadata": {
        "id": "XcQP_IIp6AW-"
      }
    },
    {
      "cell_type": "code",
      "source": [
        "!pip install optuna\n"
      ],
      "metadata": {
        "colab": {
          "base_uri": "https://localhost:8080/"
        },
        "id": "-ka1K7JfE2Zg",
        "outputId": "8f5c8d4f-0a0f-4bc0-a38c-a6439797c35f"
      },
      "execution_count": 1,
      "outputs": [
        {
          "output_type": "stream",
          "name": "stdout",
          "text": [
            "Collecting optuna\n",
            "  Downloading optuna-4.1.0-py3-none-any.whl.metadata (16 kB)\n",
            "Collecting alembic>=1.5.0 (from optuna)\n",
            "  Downloading alembic-1.14.0-py3-none-any.whl.metadata (7.4 kB)\n",
            "Collecting colorlog (from optuna)\n",
            "  Downloading colorlog-6.9.0-py3-none-any.whl.metadata (10 kB)\n",
            "Requirement already satisfied: numpy in /usr/local/lib/python3.10/dist-packages (from optuna) (1.26.4)\n",
            "Requirement already satisfied: packaging>=20.0 in /usr/local/lib/python3.10/dist-packages (from optuna) (24.1)\n",
            "Requirement already satisfied: sqlalchemy>=1.4.2 in /usr/local/lib/python3.10/dist-packages (from optuna) (2.0.36)\n",
            "Requirement already satisfied: tqdm in /usr/local/lib/python3.10/dist-packages (from optuna) (4.66.6)\n",
            "Requirement already satisfied: PyYAML in /usr/local/lib/python3.10/dist-packages (from optuna) (6.0.2)\n",
            "Collecting Mako (from alembic>=1.5.0->optuna)\n",
            "  Downloading Mako-1.3.6-py3-none-any.whl.metadata (2.9 kB)\n",
            "Requirement already satisfied: typing-extensions>=4 in /usr/local/lib/python3.10/dist-packages (from alembic>=1.5.0->optuna) (4.12.2)\n",
            "Requirement already satisfied: greenlet!=0.4.17 in /usr/local/lib/python3.10/dist-packages (from sqlalchemy>=1.4.2->optuna) (3.1.1)\n",
            "Requirement already satisfied: MarkupSafe>=0.9.2 in /usr/local/lib/python3.10/dist-packages (from Mako->alembic>=1.5.0->optuna) (3.0.2)\n",
            "Downloading optuna-4.1.0-py3-none-any.whl (364 kB)\n",
            "\u001b[2K   \u001b[90m━━━━━━━━━━━━━━━━━━━━━━━━━━━━━━━━━━━━━━━━\u001b[0m \u001b[32m364.4/364.4 kB\u001b[0m \u001b[31m9.5 MB/s\u001b[0m eta \u001b[36m0:00:00\u001b[0m\n",
            "\u001b[?25hDownloading alembic-1.14.0-py3-none-any.whl (233 kB)\n",
            "\u001b[2K   \u001b[90m━━━━━━━━━━━━━━━━━━━━━━━━━━━━━━━━━━━━━━━━\u001b[0m \u001b[32m233.5/233.5 kB\u001b[0m \u001b[31m10.3 MB/s\u001b[0m eta \u001b[36m0:00:00\u001b[0m\n",
            "\u001b[?25hDownloading colorlog-6.9.0-py3-none-any.whl (11 kB)\n",
            "Downloading Mako-1.3.6-py3-none-any.whl (78 kB)\n",
            "\u001b[2K   \u001b[90m━━━━━━━━━━━━━━━━━━━━━━━━━━━━━━━━━━━━━━━━\u001b[0m \u001b[32m78.6/78.6 kB\u001b[0m \u001b[31m4.1 MB/s\u001b[0m eta \u001b[36m0:00:00\u001b[0m\n",
            "\u001b[?25hInstalling collected packages: Mako, colorlog, alembic, optuna\n",
            "Successfully installed Mako-1.3.6 alembic-1.14.0 colorlog-6.9.0 optuna-4.1.0\n"
          ]
        }
      ]
    },
    {
      "cell_type": "code",
      "source": [
        "#######################################################\n",
        "# Import necessary libraries\n",
        "########################################################\n",
        "import torch\n",
        "from google.colab import drive\n",
        "import torch.nn as nn\n",
        "from torch.utils.data import DataLoader, random_split\n",
        "from sklearn.metrics import mean_absolute_error, r2_score\n",
        "from sklearn.metrics import mean_squared_error\n",
        "from sklearn.preprocessing import MinMaxScaler\n",
        "from torch.optim.lr_scheduler import ReduceLROnPlateau\n",
        "import matplotlib.pyplot as plt\n",
        "import optuna\n",
        "import pandas as pd\n",
        "import numpy as np\n",
        "\n"
      ],
      "metadata": {
        "id": "HHXUC3Mz9Hds"
      },
      "execution_count": 2,
      "outputs": []
    },
    {
      "cell_type": "code",
      "execution_count": 3,
      "metadata": {
        "id": "2YiZfa652vD8",
        "colab": {
          "base_uri": "https://localhost:8080/"
        },
        "outputId": "45637e21-c1bf-4e1a-b393-4985fac29a52"
      },
      "outputs": [
        {
          "output_type": "stream",
          "name": "stdout",
          "text": [
            "Mounted at /content/drive\n"
          ]
        }
      ],
      "source": [
        "# Mount Google Drive\n",
        "drive.mount('/content/drive')"
      ]
    },
    {
      "cell_type": "code",
      "source": [
        "# Load the dataset (had to make a shortcut from \"Shared with Me\" to MyDrive)\n",
        "sp500=pd.read_csv('/content/drive/MyDrive/cs3244_data/ETFs/spy.us.txt')\n",
        "sp500.drop(columns={'OpenInt','Volume'}, inplace=True)\n",
        "# Create empty lists to store the new data\n",
        "dates = []\n",
        "prices = []\n",
        "price_types = []\n",
        "\n",
        "# Iterate through the DataFrame\n",
        "for index, row in sp500.iterrows():\n",
        "  date = row['Date']\n",
        "  open_price = row['Open']\n",
        "  high_price = row['High']\n",
        "  low_price = row['Low']\n",
        "  close_price = row['Close']\n",
        "\n",
        "  # Append the data to the lists\n",
        "  dates.extend([date] * 4)  # Repeat the date 4 times\n",
        "  prices.extend([open_price, high_price, low_price, close_price])\n",
        "  price_types.extend(['open', 'high', 'low', 'close'])\n",
        "\n",
        "# Create a new DataFrame\n",
        "sp500 = pd.DataFrame({'Date': dates, 'Price': prices, 'Type of Price': price_types})"
      ],
      "metadata": {
        "id": "IT2u0Nza3WpE"
      },
      "execution_count": 4,
      "outputs": []
    },
    {
      "cell_type": "code",
      "source": [
        "# Group the DataFrame by Date and Type of Price\n",
        "grouped = sp500.groupby(['Date', 'Type of Price'])\n",
        "\n",
        "# Calculate the average price for each date and type\n",
        "avg_prices = grouped['Price'].mean().reset_index()\n",
        "\n",
        "# Create a dictionary to store the average high and low prices for each date\n",
        "avg_high_low = {}\n",
        "\n",
        "# Iterate through the average prices\n",
        "for index, row in avg_prices.iterrows():\n",
        "  date = row['Date']\n",
        "  price_type = row['Type of Price']\n",
        "  price = row['Price']\n",
        "\n",
        "  if date not in avg_high_low:\n",
        "    avg_high_low[date] = {}\n",
        "\n",
        "  if price_type == 'high' or price_type == 'low':\n",
        "    avg_high_low[date][price_type] = price\n",
        "\n",
        "# Iterate through the DataFrame and replace high and low prices with the average\n",
        "for index, row in sp500.iterrows():\n",
        "  date = row['Date']\n",
        "  price_type = row['Type of Price']\n",
        "\n",
        "  if price_type == 'high' or price_type == 'low' and date in avg_high_low:\n",
        "    sp500.loc[index, 'Price'] = avg_high_low[date][price_type]\n"
      ],
      "metadata": {
        "id": "ZcUkfHw04ntd"
      },
      "execution_count": 5,
      "outputs": []
    },
    {
      "cell_type": "code",
      "source": [
        "# Create a new DataFrame to store the modified data\n",
        "new_sp500 = pd.DataFrame(columns=['Date', 'Price', 'Type of Price'])\n",
        "\n",
        "# Iterate through the DataFrame\n",
        "i = 0\n",
        "while i < len(sp500):\n",
        "  row = sp500.iloc[i]\n",
        "  if row['Type of Price'] == 'high':\n",
        "    # Check if the next row exists and is 'low'\n",
        "    if i + 1 < len(sp500) and sp500.iloc[i + 1]['Type of Price'] == 'low':\n",
        "      # Calculate the average of the high and low prices\n",
        "      average_price = (row['Price'] + sp500.iloc[i + 1]['Price']) / 2\n",
        "      # Add a new row with the average price and label 'average'\n",
        "      new_sp500 = pd.concat([new_sp500, pd.DataFrame({'Date': [row['Date']], 'Price': [average_price], 'Type of Price': ['average']})], ignore_index=True)\n",
        "      i += 2  # Skip the next row (low)\n",
        "    else:\n",
        "      # If the next row is not 'low', keep the current row as it is\n",
        "      new_sp500 = pd.concat([new_sp500, pd.DataFrame({'Date': [row['Date']], 'Price': [row['Price']], 'Type of Price': [row['Type of Price']]})], ignore_index=True)\n",
        "      i += 1\n",
        "  else:\n",
        "    # If the current row is not 'high', keep it as it is\n",
        "    new_sp500 = pd.concat([new_sp500, pd.DataFrame({'Date': [row['Date']], 'Price': [row['Price']], 'Type of Price': [row['Type of Price']]})], ignore_index=True)\n",
        "    i += 1\n",
        "\n",
        "# Replace the original sp500 DataFrame with the modified one\n",
        "sp500 = new_sp500\n",
        "sp500"
      ],
      "metadata": {
        "id": "jZkS-cDmFqIM",
        "outputId": "a62740f7-837c-460a-88c2-978d54bab263",
        "colab": {
          "base_uri": "https://localhost:8080/",
          "height": 478
        }
      },
      "execution_count": 6,
      "outputs": [
        {
          "output_type": "stream",
          "name": "stderr",
          "text": [
            "<ipython-input-6-90077ebfbdb0>:22: FutureWarning: The behavior of DataFrame concatenation with empty or all-NA entries is deprecated. In a future version, this will no longer exclude empty or all-NA columns when determining the result dtypes. To retain the old behavior, exclude the relevant entries before the concat operation.\n",
            "  new_sp500 = pd.concat([new_sp500, pd.DataFrame({'Date': [row['Date']], 'Price': [row['Price']], 'Type of Price': [row['Type of Price']]})], ignore_index=True)\n"
          ]
        },
        {
          "output_type": "execute_result",
          "data": {
            "text/plain": [
              "            Date    Price Type of Price\n",
              "0     2005-02-25  104.770          open\n",
              "1     2005-02-25  105.340       average\n",
              "2     2005-02-25  105.790         close\n",
              "3     2005-02-28  105.550          open\n",
              "4     2005-02-28  105.120       average\n",
              "...          ...      ...           ...\n",
              "9598  2017-11-09  257.375       average\n",
              "9599  2017-11-09  258.170         close\n",
              "9600  2017-11-10  257.730          open\n",
              "9601  2017-11-10  257.790       average\n",
              "9602  2017-11-10  258.090         close\n",
              "\n",
              "[9603 rows x 3 columns]"
            ],
            "text/html": [
              "\n",
              "  <div id=\"df-c8e8bb12-9857-4f59-84aa-60ec8b1caaca\" class=\"colab-df-container\">\n",
              "    <div>\n",
              "<style scoped>\n",
              "    .dataframe tbody tr th:only-of-type {\n",
              "        vertical-align: middle;\n",
              "    }\n",
              "\n",
              "    .dataframe tbody tr th {\n",
              "        vertical-align: top;\n",
              "    }\n",
              "\n",
              "    .dataframe thead th {\n",
              "        text-align: right;\n",
              "    }\n",
              "</style>\n",
              "<table border=\"1\" class=\"dataframe\">\n",
              "  <thead>\n",
              "    <tr style=\"text-align: right;\">\n",
              "      <th></th>\n",
              "      <th>Date</th>\n",
              "      <th>Price</th>\n",
              "      <th>Type of Price</th>\n",
              "    </tr>\n",
              "  </thead>\n",
              "  <tbody>\n",
              "    <tr>\n",
              "      <th>0</th>\n",
              "      <td>2005-02-25</td>\n",
              "      <td>104.770</td>\n",
              "      <td>open</td>\n",
              "    </tr>\n",
              "    <tr>\n",
              "      <th>1</th>\n",
              "      <td>2005-02-25</td>\n",
              "      <td>105.340</td>\n",
              "      <td>average</td>\n",
              "    </tr>\n",
              "    <tr>\n",
              "      <th>2</th>\n",
              "      <td>2005-02-25</td>\n",
              "      <td>105.790</td>\n",
              "      <td>close</td>\n",
              "    </tr>\n",
              "    <tr>\n",
              "      <th>3</th>\n",
              "      <td>2005-02-28</td>\n",
              "      <td>105.550</td>\n",
              "      <td>open</td>\n",
              "    </tr>\n",
              "    <tr>\n",
              "      <th>4</th>\n",
              "      <td>2005-02-28</td>\n",
              "      <td>105.120</td>\n",
              "      <td>average</td>\n",
              "    </tr>\n",
              "    <tr>\n",
              "      <th>...</th>\n",
              "      <td>...</td>\n",
              "      <td>...</td>\n",
              "      <td>...</td>\n",
              "    </tr>\n",
              "    <tr>\n",
              "      <th>9598</th>\n",
              "      <td>2017-11-09</td>\n",
              "      <td>257.375</td>\n",
              "      <td>average</td>\n",
              "    </tr>\n",
              "    <tr>\n",
              "      <th>9599</th>\n",
              "      <td>2017-11-09</td>\n",
              "      <td>258.170</td>\n",
              "      <td>close</td>\n",
              "    </tr>\n",
              "    <tr>\n",
              "      <th>9600</th>\n",
              "      <td>2017-11-10</td>\n",
              "      <td>257.730</td>\n",
              "      <td>open</td>\n",
              "    </tr>\n",
              "    <tr>\n",
              "      <th>9601</th>\n",
              "      <td>2017-11-10</td>\n",
              "      <td>257.790</td>\n",
              "      <td>average</td>\n",
              "    </tr>\n",
              "    <tr>\n",
              "      <th>9602</th>\n",
              "      <td>2017-11-10</td>\n",
              "      <td>258.090</td>\n",
              "      <td>close</td>\n",
              "    </tr>\n",
              "  </tbody>\n",
              "</table>\n",
              "<p>9603 rows × 3 columns</p>\n",
              "</div>\n",
              "    <div class=\"colab-df-buttons\">\n",
              "\n",
              "  <div class=\"colab-df-container\">\n",
              "    <button class=\"colab-df-convert\" onclick=\"convertToInteractive('df-c8e8bb12-9857-4f59-84aa-60ec8b1caaca')\"\n",
              "            title=\"Convert this dataframe to an interactive table.\"\n",
              "            style=\"display:none;\">\n",
              "\n",
              "  <svg xmlns=\"http://www.w3.org/2000/svg\" height=\"24px\" viewBox=\"0 -960 960 960\">\n",
              "    <path d=\"M120-120v-720h720v720H120Zm60-500h600v-160H180v160Zm220 220h160v-160H400v160Zm0 220h160v-160H400v160ZM180-400h160v-160H180v160Zm440 0h160v-160H620v160ZM180-180h160v-160H180v160Zm440 0h160v-160H620v160Z\"/>\n",
              "  </svg>\n",
              "    </button>\n",
              "\n",
              "  <style>\n",
              "    .colab-df-container {\n",
              "      display:flex;\n",
              "      gap: 12px;\n",
              "    }\n",
              "\n",
              "    .colab-df-convert {\n",
              "      background-color: #E8F0FE;\n",
              "      border: none;\n",
              "      border-radius: 50%;\n",
              "      cursor: pointer;\n",
              "      display: none;\n",
              "      fill: #1967D2;\n",
              "      height: 32px;\n",
              "      padding: 0 0 0 0;\n",
              "      width: 32px;\n",
              "    }\n",
              "\n",
              "    .colab-df-convert:hover {\n",
              "      background-color: #E2EBFA;\n",
              "      box-shadow: 0px 1px 2px rgba(60, 64, 67, 0.3), 0px 1px 3px 1px rgba(60, 64, 67, 0.15);\n",
              "      fill: #174EA6;\n",
              "    }\n",
              "\n",
              "    .colab-df-buttons div {\n",
              "      margin-bottom: 4px;\n",
              "    }\n",
              "\n",
              "    [theme=dark] .colab-df-convert {\n",
              "      background-color: #3B4455;\n",
              "      fill: #D2E3FC;\n",
              "    }\n",
              "\n",
              "    [theme=dark] .colab-df-convert:hover {\n",
              "      background-color: #434B5C;\n",
              "      box-shadow: 0px 1px 3px 1px rgba(0, 0, 0, 0.15);\n",
              "      filter: drop-shadow(0px 1px 2px rgba(0, 0, 0, 0.3));\n",
              "      fill: #FFFFFF;\n",
              "    }\n",
              "  </style>\n",
              "\n",
              "    <script>\n",
              "      const buttonEl =\n",
              "        document.querySelector('#df-c8e8bb12-9857-4f59-84aa-60ec8b1caaca button.colab-df-convert');\n",
              "      buttonEl.style.display =\n",
              "        google.colab.kernel.accessAllowed ? 'block' : 'none';\n",
              "\n",
              "      async function convertToInteractive(key) {\n",
              "        const element = document.querySelector('#df-c8e8bb12-9857-4f59-84aa-60ec8b1caaca');\n",
              "        const dataTable =\n",
              "          await google.colab.kernel.invokeFunction('convertToInteractive',\n",
              "                                                    [key], {});\n",
              "        if (!dataTable) return;\n",
              "\n",
              "        const docLinkHtml = 'Like what you see? Visit the ' +\n",
              "          '<a target=\"_blank\" href=https://colab.research.google.com/notebooks/data_table.ipynb>data table notebook</a>'\n",
              "          + ' to learn more about interactive tables.';\n",
              "        element.innerHTML = '';\n",
              "        dataTable['output_type'] = 'display_data';\n",
              "        await google.colab.output.renderOutput(dataTable, element);\n",
              "        const docLink = document.createElement('div');\n",
              "        docLink.innerHTML = docLinkHtml;\n",
              "        element.appendChild(docLink);\n",
              "      }\n",
              "    </script>\n",
              "  </div>\n",
              "\n",
              "\n",
              "<div id=\"df-ef1fd230-add0-4996-99ea-876fb1f42729\">\n",
              "  <button class=\"colab-df-quickchart\" onclick=\"quickchart('df-ef1fd230-add0-4996-99ea-876fb1f42729')\"\n",
              "            title=\"Suggest charts\"\n",
              "            style=\"display:none;\">\n",
              "\n",
              "<svg xmlns=\"http://www.w3.org/2000/svg\" height=\"24px\"viewBox=\"0 0 24 24\"\n",
              "     width=\"24px\">\n",
              "    <g>\n",
              "        <path d=\"M19 3H5c-1.1 0-2 .9-2 2v14c0 1.1.9 2 2 2h14c1.1 0 2-.9 2-2V5c0-1.1-.9-2-2-2zM9 17H7v-7h2v7zm4 0h-2V7h2v10zm4 0h-2v-4h2v4z\"/>\n",
              "    </g>\n",
              "</svg>\n",
              "  </button>\n",
              "\n",
              "<style>\n",
              "  .colab-df-quickchart {\n",
              "      --bg-color: #E8F0FE;\n",
              "      --fill-color: #1967D2;\n",
              "      --hover-bg-color: #E2EBFA;\n",
              "      --hover-fill-color: #174EA6;\n",
              "      --disabled-fill-color: #AAA;\n",
              "      --disabled-bg-color: #DDD;\n",
              "  }\n",
              "\n",
              "  [theme=dark] .colab-df-quickchart {\n",
              "      --bg-color: #3B4455;\n",
              "      --fill-color: #D2E3FC;\n",
              "      --hover-bg-color: #434B5C;\n",
              "      --hover-fill-color: #FFFFFF;\n",
              "      --disabled-bg-color: #3B4455;\n",
              "      --disabled-fill-color: #666;\n",
              "  }\n",
              "\n",
              "  .colab-df-quickchart {\n",
              "    background-color: var(--bg-color);\n",
              "    border: none;\n",
              "    border-radius: 50%;\n",
              "    cursor: pointer;\n",
              "    display: none;\n",
              "    fill: var(--fill-color);\n",
              "    height: 32px;\n",
              "    padding: 0;\n",
              "    width: 32px;\n",
              "  }\n",
              "\n",
              "  .colab-df-quickchart:hover {\n",
              "    background-color: var(--hover-bg-color);\n",
              "    box-shadow: 0 1px 2px rgba(60, 64, 67, 0.3), 0 1px 3px 1px rgba(60, 64, 67, 0.15);\n",
              "    fill: var(--button-hover-fill-color);\n",
              "  }\n",
              "\n",
              "  .colab-df-quickchart-complete:disabled,\n",
              "  .colab-df-quickchart-complete:disabled:hover {\n",
              "    background-color: var(--disabled-bg-color);\n",
              "    fill: var(--disabled-fill-color);\n",
              "    box-shadow: none;\n",
              "  }\n",
              "\n",
              "  .colab-df-spinner {\n",
              "    border: 2px solid var(--fill-color);\n",
              "    border-color: transparent;\n",
              "    border-bottom-color: var(--fill-color);\n",
              "    animation:\n",
              "      spin 1s steps(1) infinite;\n",
              "  }\n",
              "\n",
              "  @keyframes spin {\n",
              "    0% {\n",
              "      border-color: transparent;\n",
              "      border-bottom-color: var(--fill-color);\n",
              "      border-left-color: var(--fill-color);\n",
              "    }\n",
              "    20% {\n",
              "      border-color: transparent;\n",
              "      border-left-color: var(--fill-color);\n",
              "      border-top-color: var(--fill-color);\n",
              "    }\n",
              "    30% {\n",
              "      border-color: transparent;\n",
              "      border-left-color: var(--fill-color);\n",
              "      border-top-color: var(--fill-color);\n",
              "      border-right-color: var(--fill-color);\n",
              "    }\n",
              "    40% {\n",
              "      border-color: transparent;\n",
              "      border-right-color: var(--fill-color);\n",
              "      border-top-color: var(--fill-color);\n",
              "    }\n",
              "    60% {\n",
              "      border-color: transparent;\n",
              "      border-right-color: var(--fill-color);\n",
              "    }\n",
              "    80% {\n",
              "      border-color: transparent;\n",
              "      border-right-color: var(--fill-color);\n",
              "      border-bottom-color: var(--fill-color);\n",
              "    }\n",
              "    90% {\n",
              "      border-color: transparent;\n",
              "      border-bottom-color: var(--fill-color);\n",
              "    }\n",
              "  }\n",
              "</style>\n",
              "\n",
              "  <script>\n",
              "    async function quickchart(key) {\n",
              "      const quickchartButtonEl =\n",
              "        document.querySelector('#' + key + ' button');\n",
              "      quickchartButtonEl.disabled = true;  // To prevent multiple clicks.\n",
              "      quickchartButtonEl.classList.add('colab-df-spinner');\n",
              "      try {\n",
              "        const charts = await google.colab.kernel.invokeFunction(\n",
              "            'suggestCharts', [key], {});\n",
              "      } catch (error) {\n",
              "        console.error('Error during call to suggestCharts:', error);\n",
              "      }\n",
              "      quickchartButtonEl.classList.remove('colab-df-spinner');\n",
              "      quickchartButtonEl.classList.add('colab-df-quickchart-complete');\n",
              "    }\n",
              "    (() => {\n",
              "      let quickchartButtonEl =\n",
              "        document.querySelector('#df-ef1fd230-add0-4996-99ea-876fb1f42729 button');\n",
              "      quickchartButtonEl.style.display =\n",
              "        google.colab.kernel.accessAllowed ? 'block' : 'none';\n",
              "    })();\n",
              "  </script>\n",
              "</div>\n",
              "\n",
              "  <div id=\"id_1212a29d-cd14-4a62-b2db-1fce6e20b817\">\n",
              "    <style>\n",
              "      .colab-df-generate {\n",
              "        background-color: #E8F0FE;\n",
              "        border: none;\n",
              "        border-radius: 50%;\n",
              "        cursor: pointer;\n",
              "        display: none;\n",
              "        fill: #1967D2;\n",
              "        height: 32px;\n",
              "        padding: 0 0 0 0;\n",
              "        width: 32px;\n",
              "      }\n",
              "\n",
              "      .colab-df-generate:hover {\n",
              "        background-color: #E2EBFA;\n",
              "        box-shadow: 0px 1px 2px rgba(60, 64, 67, 0.3), 0px 1px 3px 1px rgba(60, 64, 67, 0.15);\n",
              "        fill: #174EA6;\n",
              "      }\n",
              "\n",
              "      [theme=dark] .colab-df-generate {\n",
              "        background-color: #3B4455;\n",
              "        fill: #D2E3FC;\n",
              "      }\n",
              "\n",
              "      [theme=dark] .colab-df-generate:hover {\n",
              "        background-color: #434B5C;\n",
              "        box-shadow: 0px 1px 3px 1px rgba(0, 0, 0, 0.15);\n",
              "        filter: drop-shadow(0px 1px 2px rgba(0, 0, 0, 0.3));\n",
              "        fill: #FFFFFF;\n",
              "      }\n",
              "    </style>\n",
              "    <button class=\"colab-df-generate\" onclick=\"generateWithVariable('sp500')\"\n",
              "            title=\"Generate code using this dataframe.\"\n",
              "            style=\"display:none;\">\n",
              "\n",
              "  <svg xmlns=\"http://www.w3.org/2000/svg\" height=\"24px\"viewBox=\"0 0 24 24\"\n",
              "       width=\"24px\">\n",
              "    <path d=\"M7,19H8.4L18.45,9,17,7.55,7,17.6ZM5,21V16.75L18.45,3.32a2,2,0,0,1,2.83,0l1.4,1.43a1.91,1.91,0,0,1,.58,1.4,1.91,1.91,0,0,1-.58,1.4L9.25,21ZM18.45,9,17,7.55Zm-12,3A5.31,5.31,0,0,0,4.9,8.1,5.31,5.31,0,0,0,1,6.5,5.31,5.31,0,0,0,4.9,4.9,5.31,5.31,0,0,0,6.5,1,5.31,5.31,0,0,0,8.1,4.9,5.31,5.31,0,0,0,12,6.5,5.46,5.46,0,0,0,6.5,12Z\"/>\n",
              "  </svg>\n",
              "    </button>\n",
              "    <script>\n",
              "      (() => {\n",
              "      const buttonEl =\n",
              "        document.querySelector('#id_1212a29d-cd14-4a62-b2db-1fce6e20b817 button.colab-df-generate');\n",
              "      buttonEl.style.display =\n",
              "        google.colab.kernel.accessAllowed ? 'block' : 'none';\n",
              "\n",
              "      buttonEl.onclick = () => {\n",
              "        google.colab.notebook.generateWithVariable('sp500');\n",
              "      }\n",
              "      })();\n",
              "    </script>\n",
              "  </div>\n",
              "\n",
              "    </div>\n",
              "  </div>\n"
            ],
            "application/vnd.google.colaboratory.intrinsic+json": {
              "type": "dataframe",
              "variable_name": "sp500",
              "summary": "{\n  \"name\": \"sp500\",\n  \"rows\": 9603,\n  \"fields\": [\n    {\n      \"column\": \"Date\",\n      \"properties\": {\n        \"dtype\": \"object\",\n        \"num_unique_values\": 3201,\n        \"samples\": [\n          \"2010-08-11\",\n          \"2009-11-23\",\n          \"2016-10-26\"\n        ],\n        \"semantic_type\": \"\",\n        \"description\": \"\"\n      }\n    },\n    {\n      \"column\": \"Price\",\n      \"properties\": {\n        \"dtype\": \"number\",\n        \"std\": 46.51258321622472,\n        \"min\": 59.195,\n        \"max\": 259.11,\n        \"num_unique_values\": 7436,\n        \"samples\": [\n          112.02,\n          148.95,\n          99.75\n        ],\n        \"semantic_type\": \"\",\n        \"description\": \"\"\n      }\n    },\n    {\n      \"column\": \"Type of Price\",\n      \"properties\": {\n        \"dtype\": \"category\",\n        \"num_unique_values\": 3,\n        \"samples\": [\n          \"open\",\n          \"average\",\n          \"close\"\n        ],\n        \"semantic_type\": \"\",\n        \"description\": \"\"\n      }\n    }\n  ]\n}"
            }
          },
          "metadata": {},
          "execution_count": 6
        }
      ]
    },
    {
      "cell_type": "markdown",
      "source": [
        "## Neural Network Architecture"
      ],
      "metadata": {
        "id": "mG1yyfA95n-B"
      }
    },
    {
      "cell_type": "markdown",
      "source": [
        "References: To put in our presentation or somewhere later <br>\n",
        "https://www.analyticsvidhya.com/blog/2021/12/stock-price-prediction-using-lstm/ <br>\n",
        "https://www.coursera.org/in/articles/types-of-neural-networks"
      ],
      "metadata": {
        "id": "K2WxXIV9nBDe"
      }
    },
    {
      "cell_type": "markdown",
      "source": [
        "In our project, we decided to utilise Long short-term memory (LSTM) networks. LSTMs are a specialised type of recurrent neural network architecture, specifically designed to remember information over extended periods of time. This makes them the perfect model to use for our time-series data.\n"
      ],
      "metadata": {
        "id": "6eCigDRPmsTH"
      }
    },
    {
      "cell_type": "markdown",
      "source": [
        "Originally use 'Close' price as we deduced it as most relevant and stable data and introduce the least amount of noise. But now I that I think of it that could be the main reason it is overfitting lol"
      ],
      "metadata": {
        "id": "0QgKPaYyoAID"
      }
    },
    {
      "cell_type": "code",
      "source": [
        "print(sp500) # test case\n",
        "\n",
        "scaler = MinMaxScaler(feature_range=(-1, 1))\n",
        "sp500['Price'] = scaler.fit_transform(sp500['Price'].values.reshape(-1, 1))"
      ],
      "metadata": {
        "id": "3GNEiMvnDNxZ",
        "colab": {
          "base_uri": "https://localhost:8080/"
        },
        "outputId": "db0a25e6-4f7d-4e76-f6c9-02c8fd65b86e"
      },
      "execution_count": 7,
      "outputs": [
        {
          "output_type": "stream",
          "name": "stdout",
          "text": [
            "            Date    Price Type of Price\n",
            "0     2005-02-25  104.770          open\n",
            "1     2005-02-25  105.340       average\n",
            "2     2005-02-25  105.790         close\n",
            "3     2005-02-28  105.550          open\n",
            "4     2005-02-28  105.120       average\n",
            "...          ...      ...           ...\n",
            "9598  2017-11-09  257.375       average\n",
            "9599  2017-11-09  258.170         close\n",
            "9600  2017-11-10  257.730          open\n",
            "9601  2017-11-10  257.790       average\n",
            "9602  2017-11-10  258.090         close\n",
            "\n",
            "[9603 rows x 3 columns]\n"
          ]
        }
      ]
    },
    {
      "cell_type": "markdown",
      "source": [
        "## Normalizing the Data"
      ],
      "metadata": {
        "id": "z-Eq62pz8-fO"
      }
    },
    {
      "cell_type": "code",
      "source": [
        "\n",
        "# Initialize the MinMaxScaler with a range between 0 and 1\n",
        "scaler = MinMaxScaler(feature_range=(0, 1))\n",
        "\n",
        "# Fit the scaler on the 'Price' column and transform the data\n",
        "# Reshape to (-1, 1) because the scaler expects a 2D array\n",
        "sp500['Price'] = scaler.fit_transform(sp500['Price'].values.reshape(-1, 1))\n",
        "\n",
        "# Now, split the scaled data into training and testing sets\n",
        "data = sp500['Price'].values\n",
        "train_size = int(len(data) * 0.8)\n",
        "train_data = data[:train_size]\n",
        "test_data = data[train_size - 10:]  # Include overlap for sequence creation\n",
        "\n",
        "# After creating predictions, use the scaler to revert them back to the original scale:\n",
        "# predictions_rescaled = scaler.inverse_transform(predictions)\n",
        "# actuals_rescaled = scaler.inverse_transform(actuals)\n"
      ],
      "metadata": {
        "id": "MueTEaE38VKN"
      },
      "execution_count": 8,
      "outputs": []
    },
    {
      "cell_type": "code",
      "source": [
        "# Convert predictions and actual values back to their original scale\n",
        "# predictions_rescaled = scaler.inverse_transform(np.array(test_predictions).reshape(-1, 1))\n",
        "actuals_rescaled = scaler.inverse_transform(np.array(test_data[10:]).reshape(-1, 1))  # Adjust for the overlap\n"
      ],
      "metadata": {
        "id": "XG0JsbMe8wN2"
      },
      "execution_count": 9,
      "outputs": []
    },
    {
      "cell_type": "markdown",
      "source": [
        "## Prepare Dataset for PyTorch"
      ],
      "metadata": {
        "id": "Ct-7SnbS9FgQ"
      }
    },
    {
      "cell_type": "code",
      "source": [
        "from torch.utils.data import Dataset\n",
        "\n",
        "class StockDataset(Dataset):\n",
        "    def __init__(self, data, seq_length=10):\n",
        "        self.data = data\n",
        "        self.seq_length = seq_length\n",
        "\n",
        "    def __len__(self):\n",
        "        # The length is reduced by the sequence length to avoid out-of-bound errors\n",
        "        return len(self.data) - self.seq_length\n",
        "\n",
        "    def __getitem__(self, index):\n",
        "        # Get a sequence of prices and the next price as the label\n",
        "        x = self.data[index:index + self.seq_length]  # Sequence input\n",
        "        y = self.data[index + self.seq_length]  # Label (next value in sequence)\n",
        "\n",
        "        # Convert to PyTorch tensors and reshape x to (seq_length, 1)\n",
        "        x = torch.tensor(x, dtype=torch.float32).view(-1, 1)\n",
        "        y = torch.tensor(y, dtype=torch.float32)\n",
        "\n",
        "        return x, y\n"
      ],
      "metadata": {
        "id": "zN8xagoV9CVX"
      },
      "execution_count": 11,
      "outputs": []
    },
    {
      "cell_type": "code",
      "source": [
        "# Define the sequence length (e.g., 10 for predicting based on 10 days of past data)\n",
        "seq_length = 10\n",
        "\n",
        "# Create training and testing datasets\n",
        "train_dataset = StockDataset(train_data, seq_length=seq_length)\n",
        "test_dataset = StockDataset(test_data, seq_length=seq_length)\n",
        "\n",
        "# Create DataLoaders for training and testing datasets\n",
        "# Batch size is set to 64 for training, adjust based on memory capacity\n",
        "train_loader = DataLoader(train_dataset, batch_size=64, shuffle=True)\n",
        "test_loader = DataLoader(test_dataset, batch_size=64, shuffle=False)\n"
      ],
      "metadata": {
        "id": "SCPLQueK9fig"
      },
      "execution_count": 12,
      "outputs": []
    },
    {
      "cell_type": "markdown",
      "source": [
        "## Define LSTM Model"
      ],
      "metadata": {
        "id": "_083a_5R9qw6"
      }
    },
    {
      "cell_type": "code",
      "source": [
        "#######################################################\n",
        "#  Imports and Data Preparation\n",
        "########################################################\n",
        "# Define the proportion of training and validation data (e.g., 80% train, 20% validation)\n",
        "train_ratio = 0.8\n",
        "train_size = int(train_ratio * len(train_dataset))\n",
        "val_size = len(train_dataset) - train_size\n",
        "\n",
        "# Split the dataset into training and validation sets\n",
        "train_subset, val_subset = random_split(train_dataset, [train_size, val_size])\n"
      ],
      "metadata": {
        "id": "y1lyovrdFIpR"
      },
      "execution_count": 13,
      "outputs": []
    },
    {
      "cell_type": "code",
      "source": [
        "#######################################################\n",
        "#  Hyperparameter Tuning with optuna\n",
        "########################################################\n",
        "# Define the objective function for hyperparameter tuning\n",
        "def objective(trial):\n",
        "    # Suggest hyperparameters\n",
        "    learning_rate = trial.suggest_loguniform('learning_rate', 1e-5, 1e-1)\n",
        "    hidden_size = trial.suggest_int('hidden_size', 50, 200)\n",
        "    num_layers = trial.suggest_int('num_layers', 1, 3)\n",
        "    batch_size = trial.suggest_categorical('batch_size', [16, 32, 64, 128])\n",
        "\n",
        "    # Define the LSTM model with the suggested parameters\n",
        "    class LSTMStockPredictor(nn.Module):\n",
        "        def __init__(self, input_size=1, hidden_layer_size=hidden_size, output_size=1):\n",
        "            super(LSTMStockPredictor, self).__init__()\n",
        "            self.hidden_layer_size = hidden_layer_size\n",
        "            self.lstm = nn.LSTM(input_size, hidden_layer_size, num_layers=num_layers, batch_first=True)\n",
        "            self.linear = nn.Linear(hidden_layer_size, output_size)\n",
        "\n",
        "        def forward(self, input_seq):\n",
        "            lstm_out, _ = self.lstm(input_seq)\n",
        "            predictions = self.linear(lstm_out[:, -1, :])\n",
        "            return predictions\n",
        "\n",
        "    # Initialize the model, loss function, and optimizer with the suggested hyperparameters\n",
        "    model = LSTMStockPredictor()\n",
        "    loss_function = nn.MSELoss()\n",
        "    optimizer = torch.optim.Adam(model.parameters(), lr=learning_rate)\n",
        "\n",
        "    # Create DataLoaders with the suggested batch size\n",
        "    train_loader = DataLoader(train_subset, batch_size=batch_size, shuffle=True)\n",
        "    val_loader = DataLoader(val_subset, batch_size=batch_size, shuffle=False)\n",
        "\n",
        "    # Train the model for a few epochs to save time during tuning\n",
        "    model.train()\n",
        "    for epoch in range(5):  # Using a smaller number of epochs for quick tuning\n",
        "        for seq, labels in train_loader:\n",
        "            optimizer.zero_grad()\n",
        "            seq = seq.view(-1, seq_length, 1)\n",
        "            y_pred = model(seq)\n",
        "            loss = loss_function(y_pred, labels.view(-1, 1))\n",
        "            loss.backward()\n",
        "            optimizer.step()\n",
        "\n",
        "    # Evaluate the model on the validation set\n",
        "    model.eval()\n",
        "    val_loss = 0.0\n",
        "    with torch.no_grad():\n",
        "        for seq, labels in val_loader:\n",
        "            seq = seq.view(-1, seq_length, 1)\n",
        "            y_pred = model(seq)\n",
        "            loss = loss_function(y_pred, labels.view(-1, 1))\n",
        "            val_loss += loss.item()\n",
        "\n",
        "    avg_val_loss = val_loss / len(val_loader)\n",
        "    return avg_val_loss\n",
        "\n"
      ],
      "metadata": {
        "id": "QpTBxVav9tb5"
      },
      "execution_count": 14,
      "outputs": []
    },
    {
      "cell_type": "code",
      "source": [
        "# Create the study and run optimization\n",
        "study = optuna.create_study(direction='minimize')\n",
        "study.optimize(objective, n_trials=50)\n",
        "\n",
        "# Extract the best hyperparameters\n",
        "best_params = study.best_trial.params\n",
        "learning_rate = best_params['learning_rate']\n",
        "hidden_size = best_params['hidden_size']\n",
        "num_layers = best_params['num_layers']\n",
        "batch_size = best_params['batch_size']\n",
        "\n",
        "print(f\"Best parameters found: {best_params}\")\n"
      ],
      "metadata": {
        "colab": {
          "base_uri": "https://localhost:8080/"
        },
        "id": "xgeG9pvw92LU",
        "outputId": "77f6431a-fe79-4a72-b6ed-713d4bdc139a"
      },
      "execution_count": 15,
      "outputs": [
        {
          "output_type": "stream",
          "name": "stderr",
          "text": [
            "[I 2024-11-12 12:58:00,910] A new study created in memory with name: no-name-84976fa2-9302-4fa7-9641-227bb6a2a43b\n",
            "<ipython-input-14-87fc760dde0b>:7: FutureWarning: suggest_loguniform has been deprecated in v3.0.0. This feature will be removed in v6.0.0. See https://github.com/optuna/optuna/releases/tag/v3.0.0. Use suggest_float(..., log=True) instead.\n",
            "  learning_rate = trial.suggest_loguniform('learning_rate', 1e-5, 1e-1)\n",
            "[I 2024-11-12 12:58:42,848] Trial 0 finished with value: 0.00015412171417968543 and parameters: {'learning_rate': 0.023038787809510228, 'hidden_size': 178, 'num_layers': 2, 'batch_size': 32}. Best is trial 0 with value: 0.00015412171417968543.\n",
            "<ipython-input-14-87fc760dde0b>:7: FutureWarning: suggest_loguniform has been deprecated in v3.0.0. This feature will be removed in v6.0.0. See https://github.com/optuna/optuna/releases/tag/v3.0.0. Use suggest_float(..., log=True) instead.\n",
            "  learning_rate = trial.suggest_loguniform('learning_rate', 1e-5, 1e-1)\n",
            "[I 2024-11-12 12:59:46,352] Trial 1 finished with value: 0.00042440107063157484 and parameters: {'learning_rate': 0.05457412339107911, 'hidden_size': 129, 'num_layers': 3, 'batch_size': 64}. Best is trial 0 with value: 0.00015412171417968543.\n",
            "[I 2024-11-12 12:59:58,450] Trial 2 finished with value: 0.006929470837349072 and parameters: {'learning_rate': 1.8878245843854386e-05, 'hidden_size': 160, 'num_layers': 1, 'batch_size': 32}. Best is trial 0 with value: 0.00015412171417968543.\n",
            "[I 2024-11-12 13:00:45,395] Trial 3 finished with value: 0.021447779921193916 and parameters: {'learning_rate': 1.4993597286056455e-05, 'hidden_size': 188, 'num_layers': 3, 'batch_size': 128}. Best is trial 0 with value: 0.00015412171417968543.\n",
            "[I 2024-11-12 13:00:59,063] Trial 4 finished with value: 5.809103762051867e-05 and parameters: {'learning_rate': 0.000992055537178994, 'hidden_size': 110, 'num_layers': 2, 'batch_size': 128}. Best is trial 4 with value: 5.809103762051867e-05.\n",
            "[I 2024-11-12 13:01:09,113] Trial 5 finished with value: 7.227405596192209e-05 and parameters: {'learning_rate': 0.0009408756260303392, 'hidden_size': 54, 'num_layers': 2, 'batch_size': 32}. Best is trial 4 with value: 5.809103762051867e-05.\n",
            "[I 2024-11-12 13:01:17,826] Trial 6 finished with value: 8.008768691070145e-05 and parameters: {'learning_rate': 0.00016912537224412577, 'hidden_size': 64, 'num_layers': 2, 'batch_size': 32}. Best is trial 4 with value: 5.809103762051867e-05.\n",
            "[I 2024-11-12 13:01:33,177] Trial 7 finished with value: 0.00011623532554949634 and parameters: {'learning_rate': 0.00028283281661306206, 'hidden_size': 91, 'num_layers': 3, 'batch_size': 128}. Best is trial 4 with value: 5.809103762051867e-05.\n",
            "[I 2024-11-12 13:01:39,959] Trial 8 finished with value: 0.01603289581059168 and parameters: {'learning_rate': 3.7314835439854567e-05, 'hidden_size': 112, 'num_layers': 1, 'batch_size': 64}. Best is trial 4 with value: 5.809103762051867e-05.\n",
            "[I 2024-11-12 13:01:53,657] Trial 9 finished with value: 0.000276445884082932 and parameters: {'learning_rate': 0.00030071753720184934, 'hidden_size': 110, 'num_layers': 2, 'batch_size': 128}. Best is trial 4 with value: 5.809103762051867e-05.\n",
            "[I 2024-11-12 13:02:07,012] Trial 10 finished with value: 1.999724864987229e-05 and parameters: {'learning_rate': 0.0076155190102972815, 'hidden_size': 144, 'num_layers': 1, 'batch_size': 16}. Best is trial 10 with value: 1.999724864987229e-05.\n",
            "[I 2024-11-12 13:02:21,526] Trial 11 finished with value: 4.792860558685182e-05 and parameters: {'learning_rate': 0.0071006234589600006, 'hidden_size': 143, 'num_layers': 1, 'batch_size': 16}. Best is trial 10 with value: 1.999724864987229e-05.\n",
            "[I 2024-11-12 13:02:35,439] Trial 12 finished with value: 1.929155058159419e-05 and parameters: {'learning_rate': 0.008582406469755591, 'hidden_size': 145, 'num_layers': 1, 'batch_size': 16}. Best is trial 12 with value: 1.929155058159419e-05.\n",
            "[I 2024-11-12 13:02:50,833] Trial 13 finished with value: 3.346101384238409e-05 and parameters: {'learning_rate': 0.006725112292560274, 'hidden_size': 157, 'num_layers': 1, 'batch_size': 16}. Best is trial 12 with value: 1.929155058159419e-05.\n",
            "[I 2024-11-12 13:03:06,082] Trial 14 finished with value: 2.20893443033295e-05 and parameters: {'learning_rate': 0.006334566016506994, 'hidden_size': 164, 'num_layers': 1, 'batch_size': 16}. Best is trial 12 with value: 1.929155058159419e-05.\n",
            "[I 2024-11-12 13:04:16,306] Trial 15 finished with value: 0.07634682169494529 and parameters: {'learning_rate': 0.09560795578341803, 'hidden_size': 143, 'num_layers': 1, 'batch_size': 16}. Best is trial 12 with value: 1.929155058159419e-05.\n",
            "[I 2024-11-12 13:04:34,845] Trial 16 finished with value: 6.643641171422132e-05 and parameters: {'learning_rate': 0.016950373605531678, 'hidden_size': 195, 'num_layers': 1, 'batch_size': 16}. Best is trial 12 with value: 1.929155058159419e-05.\n",
            "[I 2024-11-12 13:04:44,244] Trial 17 finished with value: 0.0003797458369566205 and parameters: {'learning_rate': 0.002664263468316745, 'hidden_size': 84, 'num_layers': 1, 'batch_size': 16}. Best is trial 12 with value: 1.929155058159419e-05.\n",
            "[I 2024-11-12 13:04:55,828] Trial 18 finished with value: 4.6951097459668745e-05 and parameters: {'learning_rate': 0.0028497282708437786, 'hidden_size': 131, 'num_layers': 1, 'batch_size': 16}. Best is trial 12 with value: 1.929155058159419e-05.\n",
            "[I 2024-11-12 13:05:34,627] Trial 19 finished with value: 0.00046433357450344676 and parameters: {'learning_rate': 0.02706095566814327, 'hidden_size': 171, 'num_layers': 2, 'batch_size': 16}. Best is trial 12 with value: 1.929155058159419e-05.\n",
            "[I 2024-11-12 13:05:44,668] Trial 20 finished with value: 4.1609539797112426e-05 and parameters: {'learning_rate': 0.0031137841196504186, 'hidden_size': 146, 'num_layers': 1, 'batch_size': 64}. Best is trial 12 with value: 1.929155058159419e-05.\n",
            "[I 2024-11-12 13:06:00,284] Trial 21 finished with value: 8.896660528989742e-05 and parameters: {'learning_rate': 0.008085080089366774, 'hidden_size': 165, 'num_layers': 1, 'batch_size': 16}. Best is trial 12 with value: 1.929155058159419e-05.\n",
            "[I 2024-11-12 13:06:14,323] Trial 22 finished with value: 1.3292104383092843e-05 and parameters: {'learning_rate': 0.009454404372028269, 'hidden_size': 153, 'num_layers': 1, 'batch_size': 16}. Best is trial 22 with value: 1.3292104383092843e-05.\n",
            "[I 2024-11-12 13:06:28,055] Trial 23 finished with value: 2.0062754037060888e-05 and parameters: {'learning_rate': 0.014823457209419029, 'hidden_size': 149, 'num_layers': 1, 'batch_size': 16}. Best is trial 22 with value: 1.3292104383092843e-05.\n",
            "[I 2024-11-12 13:06:38,853] Trial 24 finished with value: 6.460060896529285e-05 and parameters: {'learning_rate': 0.001720765683098228, 'hidden_size': 125, 'num_layers': 1, 'batch_size': 16}. Best is trial 22 with value: 1.3292104383092843e-05.\n",
            "[I 2024-11-12 13:09:26,935] Trial 25 finished with value: 0.042274627776350826 and parameters: {'learning_rate': 0.04407274964225279, 'hidden_size': 179, 'num_layers': 2, 'batch_size': 16}. Best is trial 22 with value: 1.3292104383092843e-05.\n",
            "[I 2024-11-12 13:09:39,916] Trial 26 finished with value: 1.84485032879896e-05 and parameters: {'learning_rate': 0.01226241363034529, 'hidden_size': 139, 'num_layers': 1, 'batch_size': 16}. Best is trial 22 with value: 1.3292104383092843e-05.\n",
            "[I 2024-11-12 13:09:52,573] Trial 27 finished with value: 0.0002093179831111532 and parameters: {'learning_rate': 0.08573943877973582, 'hidden_size': 136, 'num_layers': 1, 'batch_size': 16}. Best is trial 22 with value: 1.3292104383092843e-05.\n",
            "[I 2024-11-12 13:10:09,885] Trial 28 finished with value: 5.022529073054708e-05 and parameters: {'learning_rate': 0.014705625453879292, 'hidden_size': 123, 'num_layers': 2, 'batch_size': 64}. Best is trial 22 with value: 1.3292104383092843e-05.\n",
            "[I 2024-11-12 13:10:41,552] Trial 29 finished with value: 6.0927978552172135e-05 and parameters: {'learning_rate': 0.034514667364872825, 'hidden_size': 184, 'num_layers': 2, 'batch_size': 32}. Best is trial 22 with value: 1.3292104383092843e-05.\n",
            "[I 2024-11-12 13:10:51,970] Trial 30 finished with value: 0.00016903000391721434 and parameters: {'learning_rate': 0.0005954214274334124, 'hidden_size': 95, 'num_layers': 1, 'batch_size': 16}. Best is trial 22 with value: 1.3292104383092843e-05.\n",
            "[I 2024-11-12 13:11:06,520] Trial 31 finished with value: 1.1913525421884211e-05 and parameters: {'learning_rate': 0.011048716723474572, 'hidden_size': 151, 'num_layers': 1, 'batch_size': 16}. Best is trial 31 with value: 1.1913525421884211e-05.\n",
            "[I 2024-11-12 13:11:20,535] Trial 32 finished with value: 3.8068772350167514e-05 and parameters: {'learning_rate': 0.004147579933516756, 'hidden_size': 154, 'num_layers': 1, 'batch_size': 16}. Best is trial 31 with value: 1.1913525421884211e-05.\n",
            "[I 2024-11-12 13:11:37,505] Trial 33 finished with value: 7.8091595355545e-05 and parameters: {'learning_rate': 0.012946560162838123, 'hidden_size': 174, 'num_layers': 1, 'batch_size': 16}. Best is trial 31 with value: 1.1913525421884211e-05.\n",
            "[I 2024-11-12 13:11:50,038] Trial 34 finished with value: 0.00010855149328866294 and parameters: {'learning_rate': 0.026199286747974955, 'hidden_size': 134, 'num_layers': 1, 'batch_size': 16}. Best is trial 31 with value: 1.1913525421884211e-05.\n",
            "[I 2024-11-12 13:12:12,643] Trial 35 finished with value: 8.893165219584868e-05 and parameters: {'learning_rate': 0.0016832680941836322, 'hidden_size': 117, 'num_layers': 3, 'batch_size': 64}. Best is trial 31 with value: 1.1913525421884211e-05.\n",
            "[I 2024-11-12 13:12:22,604] Trial 36 finished with value: 0.00417549378471449 and parameters: {'learning_rate': 0.05661339017789784, 'hidden_size': 155, 'num_layers': 1, 'batch_size': 128}. Best is trial 31 with value: 1.1913525421884211e-05.\n",
            "[I 2024-11-12 13:12:32,564] Trial 37 finished with value: 6.419810392799263e-05 and parameters: {'learning_rate': 0.011467217404907378, 'hidden_size': 138, 'num_layers': 1, 'batch_size': 32}. Best is trial 31 with value: 1.1913525421884211e-05.\n",
            "[I 2024-11-12 13:13:08,454] Trial 38 finished with value: 2.9149104250336677e-05 and parameters: {'learning_rate': 0.0044722307395783775, 'hidden_size': 169, 'num_layers': 2, 'batch_size': 16}. Best is trial 31 with value: 1.1913525421884211e-05.\n",
            "[I 2024-11-12 13:13:17,502] Trial 39 finished with value: 5.953481362060605e-05 and parameters: {'learning_rate': 0.0017367153970271137, 'hidden_size': 121, 'num_layers': 1, 'batch_size': 32}. Best is trial 31 with value: 1.1913525421884211e-05.\n",
            "[I 2024-11-12 13:13:52,573] Trial 40 finished with value: 0.0013469187688315287 and parameters: {'learning_rate': 5.689019875817958e-05, 'hidden_size': 150, 'num_layers': 3, 'batch_size': 128}. Best is trial 31 with value: 1.1913525421884211e-05.\n",
            "[I 2024-11-12 13:14:06,257] Trial 41 finished with value: 0.00010010897623639418 and parameters: {'learning_rate': 0.009774455027455413, 'hidden_size': 140, 'num_layers': 1, 'batch_size': 16}. Best is trial 31 with value: 1.1913525421884211e-05.\n",
            "[I 2024-11-12 13:14:21,802] Trial 42 finished with value: 0.00034870615763793467 and parameters: {'learning_rate': 0.021541350737436748, 'hidden_size': 161, 'num_layers': 1, 'batch_size': 16}. Best is trial 31 with value: 1.1913525421884211e-05.\n",
            "[I 2024-11-12 13:14:36,554] Trial 43 finished with value: 3.950980856378313e-05 and parameters: {'learning_rate': 0.004673442617363902, 'hidden_size': 149, 'num_layers': 1, 'batch_size': 16}. Best is trial 31 with value: 1.1913525421884211e-05.\n",
            "[I 2024-11-12 13:14:48,889] Trial 44 finished with value: 1.5170384836930376e-05 and parameters: {'learning_rate': 0.020970937249655177, 'hidden_size': 129, 'num_layers': 1, 'batch_size': 16}. Best is trial 31 with value: 1.1913525421884211e-05.\n",
            "[I 2024-11-12 13:14:58,286] Trial 45 finished with value: 0.00041829875984452275 and parameters: {'learning_rate': 0.041036329008628525, 'hidden_size': 102, 'num_layers': 1, 'batch_size': 16}. Best is trial 31 with value: 1.1913525421884211e-05.\n",
            "[I 2024-11-12 13:15:09,996] Trial 46 finished with value: 0.0005614883029920748 and parameters: {'learning_rate': 0.06874913751699531, 'hidden_size': 128, 'num_layers': 1, 'batch_size': 16}. Best is trial 31 with value: 1.1913525421884211e-05.\n",
            "[I 2024-11-12 13:15:23,456] Trial 47 finished with value: 4.660164237672385e-05 and parameters: {'learning_rate': 0.018040997177560313, 'hidden_size': 114, 'num_layers': 2, 'batch_size': 128}. Best is trial 31 with value: 1.1913525421884211e-05.\n",
            "[I 2024-11-12 13:15:29,708] Trial 48 finished with value: 5.947371300862869e-05 and parameters: {'learning_rate': 0.029163644966696788, 'hidden_size': 105, 'num_layers': 1, 'batch_size': 64}. Best is trial 31 with value: 1.1913525421884211e-05.\n",
            "[I 2024-11-12 13:15:41,863] Trial 49 finished with value: 6.433430108169584e-05 and parameters: {'learning_rate': 0.0007201639072033566, 'hidden_size': 132, 'num_layers': 1, 'batch_size': 16}. Best is trial 31 with value: 1.1913525421884211e-05.\n"
          ]
        },
        {
          "output_type": "stream",
          "name": "stdout",
          "text": [
            "Best parameters found: {'learning_rate': 0.011048716723474572, 'hidden_size': 151, 'num_layers': 1, 'batch_size': 16}\n"
          ]
        }
      ]
    },
    {
      "cell_type": "code",
      "source": [
        "\n",
        "# Define the final model with the best parameters\n",
        "class LSTMStockPredictor(nn.Module):\n",
        "    def __init__(self, input_size=1, hidden_layer_size=hidden_size, output_size=1):\n",
        "        super(LSTMStockPredictor, self).__init__()\n",
        "        self.hidden_layer_size = hidden_size\n",
        "        self.lstm = nn.LSTM(input_size, hidden_size, num_layers=num_layers, batch_first=True)\n",
        "        self.linear = nn.Linear(hidden_size, output_size)\n",
        "\n",
        "    def forward(self, input_seq):\n",
        "        lstm_out, _ = self.lstm(input_seq)\n",
        "        predictions = self.linear(lstm_out[:, -1, :])\n",
        "        return predictions\n"
      ],
      "metadata": {
        "id": "CndL00Rl-Gyd"
      },
      "execution_count": 16,
      "outputs": []
    },
    {
      "cell_type": "code",
      "source": [
        "# Initialize the final model, loss function, and optimizer with the best hyperparameters\n",
        "model = LSTMStockPredictor()\n",
        "loss_function = nn.MSELoss()\n",
        "optimizer = torch.optim.Adam(model.parameters(), lr=learning_rate)\n",
        "\n",
        "# Create DataLoaders with the best batch size\n",
        "train_loader = DataLoader(train_subset, batch_size=batch_size, shuffle=True)\n",
        "val_loader = DataLoader(val_subset, batch_size=batch_size, shuffle=False)\n",
        "\n",
        "# Lists to store the loss values for plotting\n",
        "train_losses = []\n",
        "val_losses = []\n"
      ],
      "metadata": {
        "id": "0d6b-8KzwQam"
      },
      "execution_count": 17,
      "outputs": []
    },
    {
      "cell_type": "code",
      "source": [
        "# Training with validation\n",
        "num_epochs = 20  # Number of epochs for final training\n",
        "for epoch in range(num_epochs):\n",
        "    train_loss = 0.0\n",
        "    val_loss = 0.0\n",
        "\n",
        "    # Training Loop\n",
        "    model.train()\n",
        "    for seq, labels in train_loader:\n",
        "        optimizer.zero_grad()\n",
        "        seq = seq.view(-1, seq_length, 1)\n",
        "        y_pred = model(seq)\n",
        "        loss = loss_function(y_pred, labels.view(-1, 1))\n",
        "        loss.backward()\n",
        "        optimizer.step()\n",
        "        train_loss += loss.item()\n",
        "\n",
        "    # Calculate average training loss for this epoch\n",
        "    avg_train_loss = train_loss / len(train_loader)\n",
        "    train_losses.append(avg_train_loss)\n",
        "\n",
        "    # Validation Loop\n",
        "    model.eval()\n",
        "    with torch.no_grad():\n",
        "        for seq, labels in val_loader:\n",
        "            seq = seq.view(-1, seq_length, 1)\n",
        "            y_pred = model(seq)\n",
        "            loss = loss_function(y_pred, labels.view(-1, 1))\n",
        "            val_loss += loss.item()\n",
        "\n",
        "    # Calculate average validation loss for this epoch\n",
        "    avg_val_loss = val_loss / len(val_loader)\n",
        "    val_losses.append(avg_val_loss)\n",
        "\n",
        "    # Print epoch summary\n",
        "    print(f'Epoch {epoch + 1}/{num_epochs}, Training Loss: {avg_train_loss:.4f}, Validation Loss: {avg_val_loss:.4f}')\n",
        "\n",
        "# Plot training & validation loss values\n",
        "plt.figure(figsize=(10, 6))\n",
        "plt.plot(train_losses, label='Training Loss', color='blue', linewidth=2)\n",
        "plt.plot(val_losses, label='Validation Loss', color='orange', linestyle='--', linewidth=2)\n",
        "plt.title('Model Loss over Epochs')\n",
        "plt.xlabel('Epoch')\n",
        "plt.ylabel('Loss')\n",
        "plt.legend(loc='upper right')\n",
        "plt.grid(True)\n",
        "plt.show()\n",
        "\n",
        "model.eval()  # Set the model to evaluation mode\n",
        "\n",
        "test_predictions = []\n",
        "test_data = []"
      ],
      "metadata": {
        "id": "5pK2aUmRwRsA",
        "outputId": "2a14db56-b92c-4064-9383-153735112512",
        "colab": {
          "base_uri": "https://localhost:8080/",
          "height": 911
        }
      },
      "execution_count": 18,
      "outputs": [
        {
          "output_type": "stream",
          "name": "stdout",
          "text": [
            "Epoch 1/20, Training Loss: 0.0009, Validation Loss: 0.0000\n",
            "Epoch 2/20, Training Loss: 0.0001, Validation Loss: 0.0002\n",
            "Epoch 3/20, Training Loss: 0.0001, Validation Loss: 0.0000\n",
            "Epoch 4/20, Training Loss: 0.0000, Validation Loss: 0.0000\n",
            "Epoch 5/20, Training Loss: 0.0000, Validation Loss: 0.0000\n",
            "Epoch 6/20, Training Loss: 0.0000, Validation Loss: 0.0000\n",
            "Epoch 7/20, Training Loss: 0.0000, Validation Loss: 0.0000\n",
            "Epoch 8/20, Training Loss: 0.0000, Validation Loss: 0.0000\n",
            "Epoch 9/20, Training Loss: 0.0000, Validation Loss: 0.0001\n",
            "Epoch 10/20, Training Loss: 0.0001, Validation Loss: 0.0000\n",
            "Epoch 11/20, Training Loss: 0.0000, Validation Loss: 0.0000\n",
            "Epoch 12/20, Training Loss: 0.0000, Validation Loss: 0.0001\n",
            "Epoch 13/20, Training Loss: 0.0000, Validation Loss: 0.0000\n",
            "Epoch 14/20, Training Loss: 0.0000, Validation Loss: 0.0000\n",
            "Epoch 15/20, Training Loss: 0.0000, Validation Loss: 0.0001\n",
            "Epoch 16/20, Training Loss: 0.0000, Validation Loss: 0.0000\n",
            "Epoch 17/20, Training Loss: 0.0000, Validation Loss: 0.0000\n",
            "Epoch 18/20, Training Loss: 0.0000, Validation Loss: 0.0000\n",
            "Epoch 19/20, Training Loss: 0.0000, Validation Loss: 0.0000\n",
            "Epoch 20/20, Training Loss: 0.0000, Validation Loss: 0.0000\n"
          ]
        },
        {
          "output_type": "display_data",
          "data": {
            "text/plain": [
              "<Figure size 1000x600 with 1 Axes>"
            ],
            "image/png": "[encoded data removed]"
          },
          "metadata": {}
        }
      ]
    },
    {
      "cell_type": "code",
      "source": [
        "# Define a DataLoader for the test dataset if not already defined\n",
        "test_loader = DataLoader(test_dataset, batch_size=best_params['batch_size'], shuffle=False)\n",
        "\n",
        "# Initialize lists to store predictions and actual values\n",
        "test_predictions = []\n",
        "test_data = []\n",
        "\n",
        "# Evaluation loop\n",
        "with torch.no_grad():\n",
        "    for seq, labels in test_loader:  # Use test_loader for evaluation\n",
        "        # Initialize the hidden state for the LSTM (if necessary)\n",
        "        model.hidden_cell = (torch.zeros(1, 1, model.hidden_layer_size),\n",
        "                             torch.zeros(1, 1, model.hidden_layer_size))\n",
        "\n",
        "        # Ensure the input sequence shape is (seq_length, batch_size, input_size)\n",
        "        seq = seq.view(seq_length, -1, 1)\n",
        "\n",
        "        # Get the model's predictions\n",
        "        y_pred = model(seq)\n",
        "\n",
        "        # Append each prediction and corresponding label\n",
        "        for prediction, actual in zip(y_pred, labels):\n",
        "            test_predictions.append(prediction.item())  # Convert each prediction to a Python scalar\n",
        "            test_data.append(actual.item())  # Convert each actual label to a scalar\n",
        "\n",
        "# Convert lists to NumPy arrays and reshape to (-1, 1) for inverse transformation\n",
        "test_predictions = np.array(test_predictions).reshape(-1, 1)\n",
        "test_data = np.array(test_data).reshape(-1, 1)\n",
        "\n",
        "# Use the scaler to inverse transform the scaled values back to their original range\n",
        "predictions_rescaled = scaler.inverse_transform(test_predictions)\n",
        "actuals_rescaled = scaler.inverse_transform(test_data)\n"
      ],
      "metadata": {
        "id": "K1OSoVQ3wfRo"
      },
      "execution_count": 19,
      "outputs": []
    },
    {
      "cell_type": "code",
      "source": [
        "# Calculate MAE\n",
        "mae = mean_absolute_error(actuals_rescaled, predictions_rescaled)\n",
        "print(f'MAE: {mae}')\n",
        "\n",
        "# Calculate R-Squared\n",
        "r2 = r2_score(actuals_rescaled, predictions_rescaled)\n",
        "print(f'R²: {r2}')\n",
        "\n",
        "# Calculate RMSE between rescaled predictions and actual values\n",
        "rmse = np.sqrt(mean_squared_error(actuals_rescaled, predictions_rescaled))\n",
        "print(f'RMSE: {rmse}')"
      ],
      "metadata": {
        "id": "kq6UXhejwoe2",
        "outputId": "c8537969-627e-423f-9367-14e2d23c7c41",
        "colab": {
          "base_uri": "https://localhost:8080/"
        }
      },
      "execution_count": 20,
      "outputs": [
        {
          "output_type": "stream",
          "name": "stdout",
          "text": [
            "MAE: 0.02174896433589659\n",
            "R²: 0.976584131541073\n",
            "RMSE: 0.03186594124797789\n"
          ]
        }
      ]
    },
    {
      "cell_type": "code",
      "source": [
        "\n",
        "# Plot the rescaled predictions and actual values\n",
        "plt.figure(figsize=(10, 6))\n",
        "plt.plot(actuals_rescaled, label='Actual Prices', color='red')\n",
        "plt.plot(predictions_rescaled, label='Predicted Prices', color='blue')\n",
        "plt.title('Stock Price Prediction vs Actual Prices')\n",
        "plt.xlabel('Time')\n",
        "plt.ylabel('Stock Price')\n",
        "plt.legend()\n",
        "plt.show()"
      ],
      "metadata": {
        "id": "zsh78zqtwrbm",
        "outputId": "bd4b684c-b8f6-4f14-ebbd-92463ce15bd6",
        "colab": {
          "base_uri": "https://localhost:8080/",
          "height": 564
        }
      },
      "execution_count": 21,
      "outputs": [
        {
          "output_type": "display_data",
          "data": {
            "text/plain": [
              "<Figure size 1000x600 with 1 Axes>"
            ],
            "image/png": "[encoded data removed]"
          },
          "metadata": {}
        }
      ]
    }
  ]
}