{
 "cells": [
  {
   "cell_type": "markdown",
   "metadata": {
    "colab_type": "text",
    "id": "view-in-github"
   },
   "source": [
    "<a href=\"https://colab.research.google.com/github/AdamChoong0095/NUS-Stock-Data/blob/Adam/Stock_price_prediction.ipynb\" target=\"_parent\"><img src=\"https://colab.research.google.com/assets/colab-badge.svg\" alt=\"Open In Colab\"/></a>"
   ]
  },
  {
   "cell_type": "markdown",
   "metadata": {
    "id": "KEYGYDAFWDdE"
   },
   "source": [
    "# Stock Price CS3244 project\n",
    "The goals of this project are:\n",
    "* To determine an effective model with justificaiton for predicting stock prices of the S&P500\n",
    "* To determine if the S&P500 is a good indicator of performance for other companies contained in the top 500 performing companies"
   ]
  },
  {
   "cell_type": "code",
   "execution_count": 452,
   "metadata": {
    "colab": {
     "base_uri": "https://localhost:8080/"
    },
    "id": "jkJPApluWCq0",
    "outputId": "afa6d553-ea88-46e9-8cac-bfa2f4e60950"
   },
   "outputs": [],
   "source": [
    "#from google.colab import drive\n",
    "#drive.mount('/content/drive')"
   ]
  },
  {
   "cell_type": "code",
   "execution_count": 453,
   "metadata": {
    "id": "IT2u0Nza3WpE"
   },
   "outputs": [],
   "source": [
    "import pandas as pd\n",
    "sp500=pd.read_csv('spy.us.txt')\n",
    "\n",
    "# Create empty lists to store the new data\n",
    "dates = []\n",
    "prices = []\n",
    "price_types = []\n",
    "\n",
    "# Iterate through the DataFrame\n",
    "for index, row in sp500.iterrows():\n",
    "  date = row['Date']\n",
    "  open_price = row['Open']\n",
    "  high_price = row['High']\n",
    "  low_price = row['Low']\n",
    "  close_price = row['Close']\n",
    "\n",
    "  # Append the data to the lists\n",
    "  dates.extend([date] * 4)  # Repeat the date 4 times\n",
    "  prices.extend([open_price, high_price, low_price, close_price])\n",
    "  price_types.extend(['open', 'high', 'low', 'close'])\n",
    "\n",
    "# Create a new DataFrame\n",
    "sp500 = pd.DataFrame({'Date': dates, 'Price': prices, 'Type of Price': price_types})"
   ]
  },
  {
   "cell_type": "code",
   "execution_count": 454,
   "metadata": {
    "id": "ZcUkfHw04ntd"
   },
   "outputs": [],
   "source": [
    "# Group the DataFrame by Date and Type of Price\n",
    "grouped = sp500.groupby(['Date', 'Type of Price'])\n",
    "\n",
    "# Calculate the average price for each date and type\n",
    "avg_prices = grouped['Price'].mean().reset_index()\n",
    "\n",
    "# Create a dictionary to store the average high and low prices for each date\n",
    "avg_high_low = {}\n",
    "\n",
    "# Iterate through the average prices\n",
    "for index, row in avg_prices.iterrows():\n",
    "  date = row['Date']\n",
    "  price_type = row['Type of Price']\n",
    "  price = row['Price']\n",
    "\n",
    "  if date not in avg_high_low:\n",
    "    avg_high_low[date] = {}\n",
    "\n",
    "  if price_type == 'high' or price_type == 'low':\n",
    "    avg_high_low[date][price_type] = price\n",
    "\n",
    "# Iterate through the DataFrame and replace high and low prices with the average\n",
    "for index, row in sp500.iterrows():\n",
    "  date = row['Date']\n",
    "  price_type = row['Type of Price']\n",
    "\n",
    "  if price_type == 'high' or price_type == 'low' and date in avg_high_low:\n",
    "    sp500.loc[index, 'Price'] = avg_high_low[date][price_type]\n"
   ]
  },
  {
   "cell_type": "code",
   "execution_count": 455,
   "metadata": {
    "colab": {
     "base_uri": "https://localhost:8080/",
     "height": 473
    },
    "id": "jZkS-cDmFqIM",
    "outputId": "3c8175a8-8be3-4e51-feec-30f68a885f3c"
   },
   "outputs": [
    {
     "data": {
      "text/html": [
       "<div>\n",
       "<style scoped>\n",
       "    .dataframe tbody tr th:only-of-type {\n",
       "        vertical-align: middle;\n",
       "    }\n",
       "\n",
       "    .dataframe tbody tr th {\n",
       "        vertical-align: top;\n",
       "    }\n",
       "\n",
       "    .dataframe thead th {\n",
       "        text-align: right;\n",
       "    }\n",
       "</style>\n",
       "<table border=\"1\" class=\"dataframe\">\n",
       "  <thead>\n",
       "    <tr style=\"text-align: right;\">\n",
       "      <th></th>\n",
       "      <th>Date</th>\n",
       "      <th>Price</th>\n",
       "      <th>Type of Price</th>\n",
       "    </tr>\n",
       "  </thead>\n",
       "  <tbody>\n",
       "    <tr>\n",
       "      <th>0</th>\n",
       "      <td>2005-02-25-09:30</td>\n",
       "      <td>104.770</td>\n",
       "      <td>open</td>\n",
       "    </tr>\n",
       "    <tr>\n",
       "      <th>1</th>\n",
       "      <td>2005-02-25-13:30</td>\n",
       "      <td>105.340</td>\n",
       "      <td>average</td>\n",
       "    </tr>\n",
       "    <tr>\n",
       "      <th>2</th>\n",
       "      <td>2005-02-25-16:30</td>\n",
       "      <td>105.790</td>\n",
       "      <td>close</td>\n",
       "    </tr>\n",
       "    <tr>\n",
       "      <th>3</th>\n",
       "      <td>2005-02-28-09:30</td>\n",
       "      <td>105.550</td>\n",
       "      <td>open</td>\n",
       "    </tr>\n",
       "    <tr>\n",
       "      <th>4</th>\n",
       "      <td>2005-02-28-13:30</td>\n",
       "      <td>105.120</td>\n",
       "      <td>average</td>\n",
       "    </tr>\n",
       "    <tr>\n",
       "      <th>...</th>\n",
       "      <td>...</td>\n",
       "      <td>...</td>\n",
       "      <td>...</td>\n",
       "    </tr>\n",
       "    <tr>\n",
       "      <th>9598</th>\n",
       "      <td>2017-11-09-13:30</td>\n",
       "      <td>257.375</td>\n",
       "      <td>average</td>\n",
       "    </tr>\n",
       "    <tr>\n",
       "      <th>9599</th>\n",
       "      <td>2017-11-09-16:30</td>\n",
       "      <td>258.170</td>\n",
       "      <td>close</td>\n",
       "    </tr>\n",
       "    <tr>\n",
       "      <th>9600</th>\n",
       "      <td>2017-11-10-09:30</td>\n",
       "      <td>257.730</td>\n",
       "      <td>open</td>\n",
       "    </tr>\n",
       "    <tr>\n",
       "      <th>9601</th>\n",
       "      <td>2017-11-10-13:30</td>\n",
       "      <td>257.790</td>\n",
       "      <td>average</td>\n",
       "    </tr>\n",
       "    <tr>\n",
       "      <th>9602</th>\n",
       "      <td>2017-11-10-16:30</td>\n",
       "      <td>258.090</td>\n",
       "      <td>close</td>\n",
       "    </tr>\n",
       "  </tbody>\n",
       "</table>\n",
       "<p>9603 rows × 3 columns</p>\n",
       "</div>"
      ],
      "text/plain": [
       "                  Date    Price Type of Price\n",
       "0     2005-02-25-09:30  104.770          open\n",
       "1     2005-02-25-13:30  105.340       average\n",
       "2     2005-02-25-16:30  105.790         close\n",
       "3     2005-02-28-09:30  105.550          open\n",
       "4     2005-02-28-13:30  105.120       average\n",
       "...                ...      ...           ...\n",
       "9598  2017-11-09-13:30  257.375       average\n",
       "9599  2017-11-09-16:30  258.170         close\n",
       "9600  2017-11-10-09:30  257.730          open\n",
       "9601  2017-11-10-13:30  257.790       average\n",
       "9602  2017-11-10-16:30  258.090         close\n",
       "\n",
       "[9603 rows x 3 columns]"
      ]
     },
     "execution_count": 455,
     "metadata": {},
     "output_type": "execute_result"
    }
   ],
   "source": [
    "# Create a new DataFrame to store the modified data\n",
    "new_sp500 = pd.DataFrame(columns=['Date', 'Price', 'Type of Price'])\n",
    "\n",
    "# Iterate through the DataFrame\n",
    "i = 0\n",
    "while i < len(sp500):\n",
    "  row = sp500.iloc[i]\n",
    "  if row['Type of Price'] == 'high':\n",
    "    # Check if the next row exists and is 'low'\n",
    "    if i + 1 < len(sp500) and sp500.iloc[i + 1]['Type of Price'] == 'low':\n",
    "      # Calculate the average of the high and low prices\n",
    "      average_price = (row['Price'] + sp500.iloc[i + 1]['Price']) / 2\n",
    "      # Add a new row with the average price and label 'average'\n",
    "      new_sp500 = pd.concat([new_sp500, pd.DataFrame({'Date': [row['Date']], 'Price': [average_price], 'Type of Price': ['average']})], ignore_index=True)\n",
    "      i += 2  # Skip the next row (low)\n",
    "    else:\n",
    "      # If the next row is not 'low', keep the current row as it is\n",
    "      new_sp500 = pd.concat([new_sp500, pd.DataFrame({'Date': [row['Date']], 'Price': [row['Price']], 'Type of Price': [row['Type of Price']]})], ignore_index=True)\n",
    "      i += 1\n",
    "  else:\n",
    "    # If the current row is not 'high', keep it as it is\n",
    "    new_sp500 = pd.concat([new_sp500, pd.DataFrame({'Date': [row['Date']], 'Price': [row['Price']], 'Type of Price': [row['Type of Price']]})], ignore_index=True)\n",
    "    i += 1\n",
    "\n",
    "new_dates = []\n",
    "for index, row in new_sp500.iterrows():\n",
    "  date = row['Date']\n",
    "  price_type = row['Type of Price']\n",
    "  if price_type == 'open':\n",
    "    new_dates.append(date + '-09:30')\n",
    "  elif price_type == 'average':\n",
    "    new_dates.append(date + '-13:30')\n",
    "  else:\n",
    "    new_dates.append(date + '-16:30')\n",
    "\n",
    "new_sp500['Date'] = new_dates\n",
    "sp500=new_sp500\n",
    "sp500"
   ]
  },
  {
   "cell_type": "code",
   "execution_count": 456,
   "metadata": {
    "colab": {
     "base_uri": "https://localhost:8080/",
     "height": 472
    },
    "id": "ac5QYhqLMSu4",
    "outputId": "a753775d-78e4-487c-b9d7-7bd82188ae5a"
   },
   "outputs": [
    {
     "data": {
      "image/png": "[encoded data removed]",
      "text/plain": [
       "<Figure size 640x480 with 1 Axes>"
      ]
     },
     "metadata": {},
     "output_type": "display_data"
    }
   ],
   "source": [
    "import seaborn as sns\n",
    "import matplotlib.pyplot as plt\n",
    "\n",
    "impute = True\n",
    "\n",
    "if not impute:\n",
    "    sp500.drop(sp500[sp500['Type of Price'] == 'average'].index, inplace=True)\n",
    "\n",
    "graph_sp500_prices=sp500.drop(columns='Type of Price')\n",
    "#sns.lineplot(data=graph_sp500_prices,x='Date',y='Price')\n",
    "plt.title('Stock Price History of S&P 500')\n",
    "plt.show()"
   ]
  },
  {
   "cell_type": "markdown",
   "metadata": {
    "id": "NGoF_IuRVyUT"
   },
   "source": [
    "## Method\n",
    "To achieve the first goal, we will tune hyperparameters of different models to achieve the best performance possible for each type of model (based on multiple metrics)\n",
    "* Split data into 80/20 proportion (4 years of training to predict 1 year of prices) to mitigate the effect of overfitting or underfitting. For training/validation, we try cross validation on time series (recommended but more computationally expensive, see code below)\n",
    "* Select models appropriate for the time series context.\n",
    "* Compare between model types and ascertain the best model for predicting prices based on a standardised set of metrics.\n",
    "* Apply the selected model to an assortment of companies contained in the S&P500.\n",
    "* The purpose of doing this will be to demonstrate whether or not this approach of model selection generalises well on stock price prediction.\n",
    "\n",
    "The reasoning behind this approach is that the S&P500 is a traditional indicator (by definition) of the performance of the 500 most dominant stocks in Wall Street."
   ]
  },
  {
   "cell_type": "code",
   "execution_count": 457,
   "metadata": {
    "id": "lKz9Mn3HMyCl"
   },
   "outputs": [],
   "source": [
    "#perform unique time series cross validation (instead of stochastic selection of subsets, we select ordered subsets to train and validate models)\n",
    "import numpy as np\n",
    "from sklearn.model_selection import TimeSeriesSplit\n",
    "train_size = int(len(sp500) * 0.8)\n",
    "sp500.drop(columns=['Type of Price'],inplace=True)\n",
    "sp500_train = sp500[:train_size]\n",
    "sp500_test = sp500[train_size:]\n",
    "tscv=TimeSeriesSplit(n_splits=5)\n",
    "cv_data=[]\n",
    "for train_idx,validate_idx in tscv.split(sp500_train):\n",
    "  train=sp500_train.iloc[train_idx]\n",
    "  validate=sp500_train.iloc[validate_idx]\n",
    "  cv_data.append((train,validate))"
   ]
  },
  {
   "cell_type": "markdown",
   "metadata": {
    "id": "PAciUBSDQIPP"
   },
   "source": [
    "We will only focus on time series specific modelling techniques that can capture the sequential nature of our data because of our project's method which is to use historical prices to predict future prices. This means models like SVR or random forests which generally perform poorly when trying to capture trends in time series data will be excluded. Further reasoning for excluding these models is also because of the lack of other features than price, volume (which we exclude because of our lack of justificaiton or understanding for including this feature) and date"
   ]
  },
  {
   "cell_type": "markdown",
   "metadata": {},
   "source": []
  },
  {
   "cell_type": "code",
   "execution_count": 458,
   "metadata": {},
   "outputs": [
    {
     "name": "stdout",
     "output_type": "stream",
     "text": [
      "                  Date    Price    Timestamp  Quarter_1  Quarter_2  Quarter_3   \n",
      "3     2005-02-28-09:30  105.550     259200.0          1          0          0  \\\n",
      "4     2005-02-28-13:30  105.120     273600.0          1          0          0   \n",
      "5     2005-02-28-16:30  105.080     284400.0          1          0          0   \n",
      "6     2005-03-01-09:30  105.220     345600.0          1          0          0   \n",
      "7     2005-03-01-13:30  105.545     360000.0          1          0          0   \n",
      "...                ...      ...          ...        ...        ...        ...   \n",
      "9598  2017-11-09-13:30  257.375  400910400.0          0          0          0   \n",
      "9599  2017-11-09-16:30  258.170  400921200.0          0          0          0   \n",
      "9600  2017-11-10-09:30  257.730  400982400.0          0          0          0   \n",
      "9601  2017-11-10-13:30  257.790  400996800.0          0          0          0   \n",
      "9602  2017-11-10-16:30  258.090  401007600.0          0          0          0   \n",
      "\n",
      "      Quarter_4  Constant  logPrice  prevPrice  prev2Price  prev3Price   \n",
      "3             0       1.0  4.659185    105.790     105.340     104.770  \\\n",
      "4             0       1.0  4.655103    105.550     105.790     105.340   \n",
      "5             0       1.0  4.654722    105.120     105.550     105.790   \n",
      "6             0       1.0  4.656053    105.080     105.120     105.550   \n",
      "7             0       1.0  4.659137    105.220     105.080     105.120   \n",
      "...         ...       ...       ...        ...         ...         ...   \n",
      "9598          1       1.0  5.550534    257.730     259.110     258.685   \n",
      "9599          1       1.0  5.553618    257.375     257.730     259.110   \n",
      "9600          1       1.0  5.551913    258.170     257.375     257.730   \n",
      "9601          1       1.0  5.552145    257.730     258.170     257.375   \n",
      "9602          1       1.0  5.553308    257.790     257.730     258.170   \n",
      "\n",
      "      prevlogPrice  prev2logPrice  prev3logPrice  prevTimestamp         t   \n",
      "3         4.661456       4.657193       4.651767        25200.0  234000.0  \\\n",
      "4         4.659185       4.661456       4.657193       259200.0   14400.0   \n",
      "5         4.655103       4.659185       4.661456       273600.0   10800.0   \n",
      "6         4.654722       4.655103       4.659185       284400.0   61200.0   \n",
      "7         4.656053       4.654722       4.655103       345600.0   14400.0   \n",
      "...            ...            ...            ...            ...       ...   \n",
      "9598      5.551913       5.557253       5.555611    400896000.0   14400.0   \n",
      "9599      5.550534       5.551913       5.557253    400910400.0   10800.0   \n",
      "9600      5.553618       5.550534       5.551913    400921200.0   61200.0   \n",
      "9601      5.551913       5.553618       5.550534    400982400.0   14400.0   \n",
      "9602      5.552145       5.551913       5.553618    400996800.0   10800.0   \n",
      "\n",
      "      pctChange  prevpctChange  \n",
      "3     -0.226865       0.427188  \n",
      "4     -0.407390      -0.226865  \n",
      "5     -0.038052      -0.407390  \n",
      "6      0.133232      -0.038052  \n",
      "7      0.308877       0.133232  \n",
      "...         ...            ...  \n",
      "9598  -0.137741      -0.532592  \n",
      "9599   0.308888      -0.137741  \n",
      "9600  -0.170430       0.308888  \n",
      "9601   0.023280      -0.170430  \n",
      "9602   0.116374       0.023280  \n",
      "\n",
      "[9600 rows x 19 columns]\n"
     ]
    }
   ],
   "source": [
    "from datetime import datetime\n",
    "import math\n",
    "\n",
    "train_train_size = int(train_size * 0.8)\n",
    "\n",
    "Timestamp = []\n",
    "quarter = []\n",
    "first = datetime.strptime(sp500['Date'][0], '%Y-%m-%d-%H:%M').timestamp()\n",
    "for index, row in sp500.iterrows():\n",
    "  date = row['Date']\n",
    "  t = datetime.strptime(date, '%Y-%m-%d-%H:%M').timestamp()\n",
    "\n",
    "  Timestamp.append(t-first)\n",
    "  quarter.append(math.ceil(datetime.strptime(date, '%Y-%m-%d-%H:%M').month/3.))\n",
    "\n",
    "\n",
    "sp500['Timestamp'] = Timestamp\n",
    "sp500['Quarter'] = quarter\n",
    "sp500 = pd.get_dummies(sp500,columns=['Quarter'], dtype=int)\n",
    "sp500['Constant'] = np.ones(len(sp500))\n",
    "sp500['logPrice'] = np.log(sp500['Price'])\n",
    "sp500['prevPrice'] = sp500['Price'].shift(1)\n",
    "sp500['prev2Price'] = sp500['Price'].shift(2)\n",
    "sp500['prev3Price'] = sp500['Price'].shift(3)\n",
    "sp500['prevlogPrice'] = sp500['logPrice'].shift(1)\n",
    "sp500['prev2logPrice'] = sp500['logPrice'].shift(2)\n",
    "sp500['prev3logPrice'] = sp500['logPrice'].shift(3)\n",
    "sp500['prevTimestamp'] = sp500['Timestamp'].shift(1)\n",
    "sp500['t'] = sp500['Timestamp'] - sp500['prevTimestamp']\n",
    "sp500['pctChange'] = (sp500['Price'] / sp500['prevPrice'] -1) * 100\n",
    "sp500['prevpctChange'] = sp500['pctChange'].shift(1)\n",
    "sp500 = sp500.dropna()\n",
    "\n",
    "print(sp500)"
   ]
  },
  {
   "cell_type": "code",
   "execution_count": 459,
   "metadata": {},
   "outputs": [
    {
     "name": "stdout",
     "output_type": "stream",
     "text": [
      "['Constant', 'prevPrice', 'prev2Price', 'Timestamp', 't', 'Quarter_1', 'Quarter_2', 'Quarter_3', 'Quarter_4']\n",
      "['Constant', 'prevPrice', 'prev2Price', 'Timestamp', 't', 'Quarter_1', 'Quarter_2', 'Quarter_3']\n",
      "['Constant', 'prevPrice', 'prev2Price', 'Timestamp', 't', 'Quarter_2', 'Quarter_3']\n",
      "['Constant', 'prevPrice', 'prev2Price', 'Timestamp', 't', 'Quarter_3']\n",
      "['prevPrice', 'prev2Price', 'Timestamp', 't', 'Quarter_3']\n",
      "['prevPrice', 'prev2Price', 'Timestamp', 't']\n",
      "['prevPrice', 'prev2Price', 'Timestamp']\n",
      "['prevPrice', 'prev2Price']\n",
      "['prevPrice']\n",
      "[0.4646615142417899, 0.463965630723109, 0.46396563070547603, 0.4637658530297276, 0.46369279199651053, 0.4636927910408538, 0.4636954282066775, 0.46375256973221995, 0.46596426421785525, 0.46806675934218506]\n"
     ]
    },
    {
     "data": {
      "image/png": "[encoded data removed]",
      "text/plain": [
       "<Figure size 640x480 with 1 Axes>"
      ]
     },
     "metadata": {},
     "output_type": "display_data"
    }
   ],
   "source": [
    "from sklearn import linear_model\n",
    "log = False\n",
    "if log:\n",
    "    X_labels = ['Constant', 'prevlogPrice', 'prev2logPrice', 'prev3logPrice', 'Timestamp', 't', 'Quarter_1', 'Quarter_2', 'Quarter_3', 'Quarter_4' ]\n",
    "    y = sp500[:train_train_size]['logPrice']\n",
    "else:\n",
    "    X_labels = ['Constant', 'prevPrice', 'prev2Price', 'prev3Price', 'Timestamp', 't', 'Quarter_1', 'Quarter_2', 'Quarter_3', 'Quarter_4' ]\n",
    "    y = sp500[:train_train_size]['Price']\n",
    "\n",
    "loss = []\n",
    "\n",
    "def lossfunc(labels):\n",
    "    regr = linear_model.LinearRegression()\n",
    "    X = sp500[:train_train_size][labels]\n",
    "    regr.fit(X, y)\n",
    "\n",
    "\n",
    "    predicted = regr.predict(sp500[labels])\n",
    "    if log:\n",
    "        abserror = abs(np.exp(predicted)-sp500['Price'])\n",
    "    else:\n",
    "        abserror = abs(predicted-sp500['Price'])\n",
    "    return abserror[train_train_size:train_size].mean()\n",
    "    \n",
    "goals = []\n",
    "\n",
    "for i in range(len(X_labels)-1):\n",
    "    \n",
    "    goal = lossfunc(X_labels)\n",
    "    goals.append(goal)\n",
    "    tests = []\n",
    "    for j in range(len(X_labels)):\n",
    "        newlabels = [x for x in X_labels if x != X_labels[j]]\n",
    "        loss = lossfunc(newlabels)\n",
    "        tests.append(loss)\n",
    "\n",
    "    argmax = min(enumerate(tests), key=lambda x: x[1])[0]\n",
    "    del X_labels[argmax]\n",
    "    print(X_labels)\n",
    "\n",
    "goals.append(lossfunc(X_labels))\n",
    "print(goals)\n",
    "\n",
    "plt.plot(list(range(len(goals),0,-1)), goals)  # Plot the chart\n",
    "plt.show()  # display"
   ]
  },
  {
   "cell_type": "code",
   "execution_count": 460,
   "metadata": {},
   "outputs": [
    {
     "name": "stdout",
     "output_type": "stream",
     "text": [
      "constant: 0.013404329270258586\n",
      "coefficients: [ 1.09200896e+00 -9.22713273e-02  1.86499788e-10]\n",
      "MAE: 0.5433000047733751\n",
      "MSE: 0.6661548935978064\n"
     ]
    },
    {
     "data": {
      "image/png": "[encoded data removed]",
      "text/plain": [
       "<Figure size 640x480 with 1 Axes>"
      ]
     },
     "metadata": {},
     "output_type": "display_data"
    },
    {
     "data": {
      "image/png": "[encoded data removed]",
      "text/plain": [
       "<Figure size 640x480 with 1 Axes>"
      ]
     },
     "metadata": {},
     "output_type": "display_data"
    }
   ],
   "source": [
    "log = False\n",
    "if log:\n",
    "    X_labels = ['prevlogPrice', 'prev2logPrice', 'Timestamp']\n",
    "    y = sp500[:train_size]['logPrice']\n",
    "else:\n",
    "    X_labels = ['prevPrice', 'prev2Price', 'Timestamp']\n",
    "    y = sp500[:train_size]['Price']\n",
    "\n",
    "regr = linear_model.LinearRegression()\n",
    "X = sp500[:train_size][X_labels]\n",
    "regr.fit(X, y)\n",
    "print(f\"constant: {regr.intercept_}\")\n",
    "print(f\"coefficients: {regr.coef_}\")\n",
    "if log: \n",
    "    sp500['predicted'] = np.exp(regr.predict(sp500[X_labels]))\n",
    "else:\n",
    "    sp500['predicted'] = regr.predict(sp500[X_labels])\n",
    "\n",
    "\n",
    "sp500['error'] = sp500['predicted']-sp500['Price']\n",
    "plt.plot(sp500[train_size:]['predicted'], alpha=0.5, color='blue', label='Predicted Stock Price')\n",
    "\n",
    "sp500['abserror'] = abs(sp500['error'])\n",
    "sp500['squarederror'] = sp500['abserror'] **2\n",
    "\n",
    "print(f\"MAE: {sp500['abserror'][train_size:].mean()}\")\n",
    "print(f\"MSE: {sp500['squarederror'][train_size:].mean()}\")\n",
    "\n",
    "\n",
    "plt.plot(sp500[train_size:]['Price'], alpha=0.5, color='red', label='Real Stock Price')\n",
    "plt.title('Stock Price Prediction')\n",
    "plt.xlabel('Timestamp')\n",
    "plt.ylabel('Stock Price')\n",
    "plt.legend()\n",
    "plt.show()\n",
    "plt.plot(sp500[train_size:]['abserror'])\n",
    "\n",
    "plt.show()"
   ]
  },
  {
   "cell_type": "code",
   "execution_count": 461,
   "metadata": {},
   "outputs": [
    {
     "name": "stdout",
     "output_type": "stream",
     "text": [
      "            Date    Open    High     Low   Close    Volume  Constant   \n",
      "0     2005-02-25  104.77  106.00  104.68  105.79  70221808       1.0  \\\n",
      "1     2005-02-28  105.55  105.68  104.56  105.08  79695344       1.0   \n",
      "2     2005-03-01  105.22  105.87  105.22  105.62  54607412       1.0   \n",
      "3     2005-03-02  105.21  106.22  105.10  105.57  73733090       1.0   \n",
      "4     2005-03-03  105.99  106.20  105.15  105.61  71286823       1.0   \n",
      "...          ...     ...     ...     ...     ...       ...       ...   \n",
      "3195  2017-11-03  257.77  258.50  257.30  258.45  59578151       1.0   \n",
      "3196  2017-11-06  258.30  259.00  258.22  258.85  49529148       1.0   \n",
      "3197  2017-11-07  258.97  259.35  258.11  258.67  57218448       1.0   \n",
      "3198  2017-11-08  258.47  259.22  258.15  259.11  50277699       1.0   \n",
      "3199  2017-11-09  257.73  258.39  256.36  258.17  94537282       1.0   \n",
      "\n",
      "      Timestamp  Quarter_1  Quarter_2  Quarter_3  Quarter_4  nextOpen   \n",
      "0             0          1          0          0          0    105.55  \\\n",
      "1             3          1          0          0          0    105.22   \n",
      "2             4          1          0          0          0    105.21   \n",
      "3             5          1          0          0          0    105.99   \n",
      "4             6          1          0          0          0    106.31   \n",
      "...         ...        ...        ...        ...        ...       ...   \n",
      "3195       4634          0          0          0          1    258.30   \n",
      "3196       4637          0          0          0          1    258.97   \n",
      "3197       4638          0          0          0          1    258.47   \n",
      "3198       4639          0          0          0          1    257.73   \n",
      "3199       4640          0          0          0          1    257.73   \n",
      "\n",
      "       logOpen   logHigh    logLow  logClose  nextlogOpen  \n",
      "0     4.651767  4.663439  4.650908  4.661456     4.659185  \n",
      "1     4.659185  4.660416  4.649761  4.654722     4.656053  \n",
      "2     4.656053  4.662212  4.656053  4.659848     4.655958  \n",
      "3     4.655958  4.665512  4.654912  4.659374     4.663345  \n",
      "4     4.663345  4.665324  4.655388  4.659753     4.666359  \n",
      "...        ...       ...       ...       ...          ...  \n",
      "3195  5.552068  5.554896  5.550243  5.554702     5.554122  \n",
      "3196  5.554122  5.556828  5.553812  5.556249     5.556712  \n",
      "3197  5.556712  5.558179  5.553386  5.555553     5.554780  \n",
      "3198  5.554780  5.557677  5.553541  5.557253     5.551913  \n",
      "3199  5.551913  5.554470  5.546583  5.553618     5.551913  \n",
      "\n",
      "[3200 rows x 18 columns]\n"
     ]
    }
   ],
   "source": [
    "import math\n",
    "\n",
    "sp500=pd.read_csv('spy.us.txt')\n",
    "Timestamp = []\n",
    "quarter = []\n",
    "first = datetime.strptime(sp500['Date'][0], '%Y-%m-%d').date()\n",
    "for index, row in sp500.iterrows():\n",
    "  date = row['Date']\n",
    "  t = datetime.strptime(date, '%Y-%m-%d').date()\n",
    "\n",
    "  Timestamp.append((t-first).days)\n",
    "  quarter.append(math.ceil(datetime.strptime(date, '%Y-%m-%d').month/3.))\n",
    "\n",
    "sp500['Constant'] = np.ones(len(sp500))\n",
    "sp500['Timestamp'] = Timestamp\n",
    "sp500['Quarter'] = quarter\n",
    "\n",
    "sp500 = pd.get_dummies(sp500,columns=['Quarter'], dtype=int)\n",
    "\n",
    "sp500['nextOpen'] = sp500['Open'].shift(-1)\n",
    "\n",
    "sp500['logOpen'] = np.log(sp500['Open'])\n",
    "sp500['logHigh'] = np.log(sp500['High'])\n",
    "sp500['logLow'] = np.log(sp500['Low'])\n",
    "sp500['logClose'] = np.log(sp500['Close'])\n",
    "sp500['nextlogOpen'] = np.log(sp500['nextOpen'])\n",
    "\n",
    "\n",
    "sp500 = sp500.dropna()\n",
    "sp500 = sp500.drop(columns=['OpenInt'])\n",
    "train_size = int(len(sp500) * 0.8)\n",
    "train_train_size = int(train_size * 0.8)\n",
    "\n",
    "print(sp500)"
   ]
  },
  {
   "cell_type": "code",
   "execution_count": 469,
   "metadata": {},
   "outputs": [
    {
     "name": "stdout",
     "output_type": "stream",
     "text": [
      "['Constant', 'Open', 'High', 'Low', 'Close', 'Timestamp', 'Quarter_1', 'Quarter_2', 'Quarter_3', 'Quarter_4']\n",
      "['Constant', 'Open', 'High', 'Low', 'Close', 'Quarter_1', 'Quarter_2', 'Quarter_3', 'Quarter_4']\n",
      "['Constant', 'High', 'Low', 'Close', 'Quarter_1', 'Quarter_2', 'Quarter_3', 'Quarter_4']\n",
      "['Constant', 'High', 'Low', 'Close', 'Quarter_1', 'Quarter_2', 'Quarter_3']\n",
      "['High', 'Low', 'Close', 'Quarter_1', 'Quarter_2', 'Quarter_3']\n",
      "['High', 'Close', 'Quarter_1', 'Quarter_2', 'Quarter_3']\n",
      "['High', 'Close', 'Quarter_1', 'Quarter_2']\n",
      "['High', 'Close', 'Quarter_2']\n",
      "['High', 'Close']\n",
      "['Close']\n",
      "[0.511604880516922, 0.5112371715553821, 0.5112023085380211, 0.5111763993906406, 0.5111763993906371, 0.5111763993906429, 0.5112402475867359, 0.5113546185352914, 0.5115501125409965, 0.5116239174208024, 0.5141805997537325]\n"
     ]
    },
    {
     "data": {
      "image/png": "[encoded data removed]",
      "text/plain": [
       "<Figure size 640x480 with 1 Axes>"
      ]
     },
     "metadata": {},
     "output_type": "display_data"
    }
   ],
   "source": [
    "log = False\n",
    "if log:\n",
    "    X_labels = ['Constant', 'logOpen', 'logHigh', 'logLow', 'logClose', 'Volume', 'Timestamp', 'Quarter_1', 'Quarter_2', 'Quarter_3', 'Quarter_4']\n",
    "    y = sp500[:train_train_size]['nextlogOpen']\n",
    "else:\n",
    "    X_labels = ['Constant', 'Open', 'High', 'Low', 'Close', 'Volume', 'Timestamp', 'Quarter_1', 'Quarter_2', 'Quarter_3', 'Quarter_4']\n",
    "    y = sp500[:train_train_size]['nextOpen']\n",
    "\n",
    "loss = []\n",
    "\n",
    "def lossfunc(labels):\n",
    "    regr = linear_model.LinearRegression()\n",
    "    X = sp500[:train_train_size][labels]\n",
    "    regr.fit(X, y)\n",
    "\n",
    "\n",
    "    predicted = regr.predict(sp500[labels])\n",
    "    if log:\n",
    "        abserror = abs(np.exp(predicted)-sp500['nextOpen'])\n",
    "    else:    \n",
    "        abserror = abs(predicted-sp500['nextOpen']) \n",
    "    return abserror[train_train_size:train_size].mean()\n",
    "    \n",
    "goals = []\n",
    "\n",
    "for i in range(len(X_labels)-1):\n",
    "    \n",
    "    goal = lossfunc(X_labels)\n",
    "    goals.append(goal)\n",
    "    tests = []\n",
    "    for j in range(len(X_labels)):\n",
    "        newlabels = [x for x in X_labels if x != X_labels[j]]\n",
    "        loss = lossfunc(newlabels)\n",
    "        tests.append(loss)\n",
    "\n",
    "    argmin = min(enumerate(tests), key=lambda x: x[1])[0]\n",
    "    del X_labels[argmin]\n",
    "    print(X_labels)\n",
    "\n",
    "goals.append(lossfunc(X_labels))\n",
    "print(goals)\n",
    "\n",
    "plt.plot(list(range(len(goals),0,-1)), goals)  # Plot the chart\n",
    "plt.show()  # display"
   ]
  },
  {
   "cell_type": "code",
   "execution_count": 468,
   "metadata": {},
   "outputs": [
    {
     "name": "stdout",
     "output_type": "stream",
     "text": [
      "constant: -0.0032797204145023073\n",
      "coefficients: [0.03980833 0.96086888]\n",
      "MAE: 0.6787412883389929\n",
      "MSE: 1.1166104851302578\n"
     ]
    },
    {
     "data": {
      "image/png": "[encoded data removed]",
      "text/plain": [
       "<Figure size 640x480 with 1 Axes>"
      ]
     },
     "metadata": {},
     "output_type": "display_data"
    },
    {
     "data": {
      "image/png": "[encoded data removed]",
      "text/plain": [
       "<Figure size 640x480 with 1 Axes>"
      ]
     },
     "metadata": {},
     "output_type": "display_data"
    }
   ],
   "source": [
    "log = True\n",
    "if log:\n",
    "    X_labels = ['logHigh', 'logClose']\n",
    "    y = sp500[:train_train_size]['nextlogOpen']\n",
    "else:\n",
    "    X_labels = ['High', 'Close']\n",
    "    y = sp500[:train_train_size]['nextOpen']\n",
    "\n",
    "regr = linear_model.LinearRegression()\n",
    "X = sp500[:train_train_size][X_labels]\n",
    "regr.fit(X, y)\n",
    "print(f\"constant: {regr.intercept_}\")\n",
    "print(f\"coefficients: {regr.coef_}\")\n",
    "\n",
    "if log: \n",
    "    sp500['predicted'] = np.exp(regr.predict(sp500[X_labels]))\n",
    "else:\n",
    "    sp500['predicted'] = regr.predict(sp500[X_labels])\n",
    "\n",
    "\n",
    "\n",
    "sp500['error'] = sp500['predicted']-sp500['nextOpen']\n",
    "sp500['abserror'] = abs(sp500['error'])\n",
    "sp500['squarederror'] = sp500['abserror'] **2\n",
    "\n",
    "print(f\"MAE: {sp500['abserror'][train_size:].mean()}\")\n",
    "print(f\"MSE: {sp500['squarederror'][train_size:].mean()}\")\n",
    "\n",
    "plt.plot(sp500[train_size:]['predicted'], alpha=0.5, color='blue', label='Predicted Stock Price')\n",
    "plt.plot(sp500[train_size:]['nextOpen'], alpha=0.5, color='red', label='Real Stock Price')\n",
    "plt.title('Stock Price Prediction')\n",
    "plt.xlabel('Days from first observation')\n",
    "plt.ylabel('Stock Price')\n",
    "plt.legend()\n",
    "plt.show()\n",
    "plt.plot(sp500[train_size:]['abserror'])\n",
    "plt.show()"
   ]
  },
  {
   "cell_type": "markdown",
   "metadata": {
    "id": "wMv--qcwsa6v"
   },
   "source": [
    "### (Seasonal) ARIMA approach\n",
    "\n",
    "ARIMA models are typically the first type of model we consider when trying to model time series data. ARIMA is modelled after the following equation:\n",
    "\n",
    "$$\n",
    "Y_t = c + \\phi_1 Y_{t-1} + \\phi_2 Y_{t-2} + \\cdots + \\phi_p Y_{t-p} + \\theta_1 \\epsilon_{t-1} + \\theta_2 \\epsilon_{t-2} + \\cdots + \\theta_q \\epsilon_{t-q} + \\epsilon_t\n",
    "$$\n",
    "\n",
    "where:\n",
    "\n",
    "$$\n",
    "\\Delta^d Y_t = (1 - B)^d Y_t\n",
    "$$\n",
    "\n",
    "and\n",
    "\n",
    "$$\n",
    "\\epsilon_t \\sim \\text{white noise}\n",
    "$$\n",
    "\n",
    "Firstly, we apply normal ARIMA methods. In theory, this model should perform poorly because the data is not stationary meaning the stock price is directly or strongly affected by the date. This makes sense since our only factor so far in the modelling is time. The evidence for our theoretically poor performance of traditional ARIMA on our data set is shown through a p test of whether our data is stationary. We use an Augmented Dickey Fuller hypothesis test to find if there is sufficient evidence against the null hypothesis that our data is stationary."
   ]
  },
  {
   "cell_type": "code",
   "execution_count": null,
   "metadata": {
    "colab": {
     "base_uri": "https://localhost:8080/"
    },
    "id": "JIioJ8_HinRP",
    "outputId": "32c2d286-3644-41d3-c58a-55d404afb9e4"
   },
   "outputs": [
    {
     "ename": "KeyError",
     "evalue": "'Price'",
     "output_type": "error",
     "traceback": [
      "\u001b[1;31m---------------------------------------------------------------------------\u001b[0m",
      "\u001b[1;31mKeyError\u001b[0m                                  Traceback (most recent call last)",
      "File \u001b[1;32mc:\\Users\\anton\\AppData\\Local\\Programs\\Python\\Python310\\lib\\site-packages\\pandas\\core\\indexes\\base.py:3652\u001b[0m, in \u001b[0;36mIndex.get_loc\u001b[1;34m(self, key)\u001b[0m\n\u001b[0;32m   3651\u001b[0m \u001b[38;5;28;01mtry\u001b[39;00m:\n\u001b[1;32m-> 3652\u001b[0m     \u001b[38;5;28;01mreturn\u001b[39;00m \u001b[38;5;28;43mself\u001b[39;49m\u001b[38;5;241;43m.\u001b[39;49m\u001b[43m_engine\u001b[49m\u001b[38;5;241;43m.\u001b[39;49m\u001b[43mget_loc\u001b[49m\u001b[43m(\u001b[49m\u001b[43mcasted_key\u001b[49m\u001b[43m)\u001b[49m\n\u001b[0;32m   3653\u001b[0m \u001b[38;5;28;01mexcept\u001b[39;00m \u001b[38;5;167;01mKeyError\u001b[39;00m \u001b[38;5;28;01mas\u001b[39;00m err:\n",
      "File \u001b[1;32mc:\\Users\\anton\\AppData\\Local\\Programs\\Python\\Python310\\lib\\site-packages\\pandas\\_libs\\index.pyx:147\u001b[0m, in \u001b[0;36mpandas._libs.index.IndexEngine.get_loc\u001b[1;34m()\u001b[0m\n",
      "File \u001b[1;32mc:\\Users\\anton\\AppData\\Local\\Programs\\Python\\Python310\\lib\\site-packages\\pandas\\_libs\\index.pyx:176\u001b[0m, in \u001b[0;36mpandas._libs.index.IndexEngine.get_loc\u001b[1;34m()\u001b[0m\n",
      "File \u001b[1;32mpandas\\_libs\\hashtable_class_helper.pxi:7080\u001b[0m, in \u001b[0;36mpandas._libs.hashtable.PyObjectHashTable.get_item\u001b[1;34m()\u001b[0m\n",
      "File \u001b[1;32mpandas\\_libs\\hashtable_class_helper.pxi:7088\u001b[0m, in \u001b[0;36mpandas._libs.hashtable.PyObjectHashTable.get_item\u001b[1;34m()\u001b[0m\n",
      "\u001b[1;31mKeyError\u001b[0m: 'Price'",
      "\nThe above exception was the direct cause of the following exception:\n",
      "\u001b[1;31mKeyError\u001b[0m                                  Traceback (most recent call last)",
      "Cell \u001b[1;32mIn[376], line 4\u001b[0m\n\u001b[0;32m      1\u001b[0m \u001b[38;5;28;01mfrom\u001b[39;00m \u001b[38;5;21;01mstatsmodels\u001b[39;00m\u001b[38;5;21;01m.\u001b[39;00m\u001b[38;5;21;01mtsa\u001b[39;00m\u001b[38;5;21;01m.\u001b[39;00m\u001b[38;5;21;01mstattools\u001b[39;00m \u001b[38;5;28;01mimport\u001b[39;00m adfuller\n\u001b[0;32m      3\u001b[0m \u001b[38;5;66;03m# Check for stationarity using ADF test\u001b[39;00m\n\u001b[1;32m----> 4\u001b[0m result \u001b[38;5;241m=\u001b[39m adfuller(\u001b[43msp500\u001b[49m\u001b[43m[\u001b[49m\u001b[38;5;124;43m'\u001b[39;49m\u001b[38;5;124;43mPrice\u001b[39;49m\u001b[38;5;124;43m'\u001b[39;49m\u001b[43m]\u001b[49m)\n\u001b[0;32m      5\u001b[0m \u001b[38;5;28mprint\u001b[39m(\u001b[38;5;124mf\u001b[39m\u001b[38;5;124m'\u001b[39m\u001b[38;5;124mADF Statistic: \u001b[39m\u001b[38;5;132;01m{\u001b[39;00mresult[\u001b[38;5;241m0\u001b[39m]\u001b[38;5;132;01m}\u001b[39;00m\u001b[38;5;124m'\u001b[39m)\n\u001b[0;32m      6\u001b[0m \u001b[38;5;28mprint\u001b[39m(\u001b[38;5;124mf\u001b[39m\u001b[38;5;124m'\u001b[39m\u001b[38;5;124mp-value: \u001b[39m\u001b[38;5;132;01m{\u001b[39;00mresult[\u001b[38;5;241m1\u001b[39m]\u001b[38;5;132;01m}\u001b[39;00m\u001b[38;5;124m'\u001b[39m)\n",
      "File \u001b[1;32mc:\\Users\\anton\\AppData\\Local\\Programs\\Python\\Python310\\lib\\site-packages\\pandas\\core\\frame.py:3761\u001b[0m, in \u001b[0;36mDataFrame.__getitem__\u001b[1;34m(self, key)\u001b[0m\n\u001b[0;32m   3759\u001b[0m \u001b[38;5;28;01mif\u001b[39;00m \u001b[38;5;28mself\u001b[39m\u001b[38;5;241m.\u001b[39mcolumns\u001b[38;5;241m.\u001b[39mnlevels \u001b[38;5;241m>\u001b[39m \u001b[38;5;241m1\u001b[39m:\n\u001b[0;32m   3760\u001b[0m     \u001b[38;5;28;01mreturn\u001b[39;00m \u001b[38;5;28mself\u001b[39m\u001b[38;5;241m.\u001b[39m_getitem_multilevel(key)\n\u001b[1;32m-> 3761\u001b[0m indexer \u001b[38;5;241m=\u001b[39m \u001b[38;5;28;43mself\u001b[39;49m\u001b[38;5;241;43m.\u001b[39;49m\u001b[43mcolumns\u001b[49m\u001b[38;5;241;43m.\u001b[39;49m\u001b[43mget_loc\u001b[49m\u001b[43m(\u001b[49m\u001b[43mkey\u001b[49m\u001b[43m)\u001b[49m\n\u001b[0;32m   3762\u001b[0m \u001b[38;5;28;01mif\u001b[39;00m is_integer(indexer):\n\u001b[0;32m   3763\u001b[0m     indexer \u001b[38;5;241m=\u001b[39m [indexer]\n",
      "File \u001b[1;32mc:\\Users\\anton\\AppData\\Local\\Programs\\Python\\Python310\\lib\\site-packages\\pandas\\core\\indexes\\base.py:3654\u001b[0m, in \u001b[0;36mIndex.get_loc\u001b[1;34m(self, key)\u001b[0m\n\u001b[0;32m   3652\u001b[0m     \u001b[38;5;28;01mreturn\u001b[39;00m \u001b[38;5;28mself\u001b[39m\u001b[38;5;241m.\u001b[39m_engine\u001b[38;5;241m.\u001b[39mget_loc(casted_key)\n\u001b[0;32m   3653\u001b[0m \u001b[38;5;28;01mexcept\u001b[39;00m \u001b[38;5;167;01mKeyError\u001b[39;00m \u001b[38;5;28;01mas\u001b[39;00m err:\n\u001b[1;32m-> 3654\u001b[0m     \u001b[38;5;28;01mraise\u001b[39;00m \u001b[38;5;167;01mKeyError\u001b[39;00m(key) \u001b[38;5;28;01mfrom\u001b[39;00m \u001b[38;5;21;01merr\u001b[39;00m\n\u001b[0;32m   3655\u001b[0m \u001b[38;5;28;01mexcept\u001b[39;00m \u001b[38;5;167;01mTypeError\u001b[39;00m:\n\u001b[0;32m   3656\u001b[0m     \u001b[38;5;66;03m# If we have a listlike key, _check_indexing_error will raise\u001b[39;00m\n\u001b[0;32m   3657\u001b[0m     \u001b[38;5;66;03m#  InvalidIndexError. Otherwise we fall through and re-raise\u001b[39;00m\n\u001b[0;32m   3658\u001b[0m     \u001b[38;5;66;03m#  the TypeError.\u001b[39;00m\n\u001b[0;32m   3659\u001b[0m     \u001b[38;5;28mself\u001b[39m\u001b[38;5;241m.\u001b[39m_check_indexing_error(key)\n",
      "\u001b[1;31mKeyError\u001b[0m: 'Price'"
     ]
    }
   ],
   "source": [
    "from statsmodels.tsa.stattools import adfuller\n",
    "\n",
    "# Check for stationarity using ADF test\n",
    "result = adfuller(sp500['Price'])\n",
    "print(f'ADF Statistic: {result[0]}')\n",
    "print(f'p-value: {result[1]}')\n",
    "\n",
    "# Interpretation:\n",
    "# If p-value < 0.05, the series is stationary."
   ]
  },
  {
   "cell_type": "markdown",
   "metadata": {
    "id": "Izkk25all9E9"
   },
   "source": [
    "It seems that there may be overwhelming evidence based on the p-value, that the data is not stationary. However, to confirm that this is likely true and not an unusual occurence, we test traditional ARIMA on the data. The metrics we will use to highlight that non-seasonal ARIMA may not be suitable for our context are AIC and BIC values."
   ]
  },
  {
   "cell_type": "markdown",
   "metadata": {
    "id": "-PHz3_lht5eJ"
   },
   "source": [
    "Here is a very basic demonstration of a combination of underfitting and inappropriate model choice leading to evidence supporting the alternative hypothesis that non-seasonal ARIMA may not work"
   ]
  },
  {
   "cell_type": "code",
   "execution_count": null,
   "metadata": {
    "colab": {
     "base_uri": "https://localhost:8080/"
    },
    "id": "y6rF-1H4l8ck",
    "outputId": "2abebdd2-83d9-4a1c-ae8d-67dcce69c6e7"
   },
   "outputs": [
    {
     "name": "stdout",
     "output_type": "stream",
     "text": [
      "                               SARIMAX Results                                \n",
      "==============================================================================\n",
      "Dep. Variable:                  Price   No. Observations:                 7682\n",
      "Model:                 ARIMA(5, 1, 0)   Log Likelihood               -7562.600\n",
      "Date:                Thu, 07 Nov 2024   AIC                          15137.200\n",
      "Time:                        21:14:35   BIC                          15178.879\n",
      "Sample:                             0   HQIC                         15151.495\n",
      "                               - 7682                                         \n",
      "Covariance Type:                  opg                                         \n",
      "==============================================================================\n",
      "                 coef    std err          z      P>|z|      [0.025      0.975]\n",
      "------------------------------------------------------------------------------\n",
      "ar.L1          0.0929      0.006     16.588      0.000       0.082       0.104\n",
      "ar.L2          0.0654      0.007      9.639      0.000       0.052       0.079\n",
      "ar.L3         -0.0841      0.007    -12.476      0.000      -0.097      -0.071\n",
      "ar.L4          0.0088      0.006      1.368      0.171      -0.004       0.021\n",
      "ar.L5         -0.0142      0.006     -2.245      0.025      -0.027      -0.002\n",
      "sigma2         0.4195      0.003    130.450      0.000       0.413       0.426\n",
      "===================================================================================\n",
      "Ljung-Box (L1) (Q):                   0.00   Jarque-Bera (JB):             16959.17\n",
      "Prob(Q):                              0.95   Prob(JB):                         0.00\n",
      "Heteroskedasticity (H):               1.24   Skew:                            -0.37\n",
      "Prob(H) (two-sided):                  0.00   Kurtosis:                        10.24\n",
      "===================================================================================\n",
      "\n",
      "Warnings:\n",
      "[1] Covariance matrix calculated using the outer product of gradients (complex-step).\n"
     ]
    }
   ],
   "source": [
    "from statsmodels.tsa.arima.model import ARIMA #download using pip\n",
    "# Assuming your training data is stored in a DataFrame called 'train' with a column named 'Price'\n",
    "# Fit the ARIMA model\n",
    "model = ARIMA(sp500_train['Price'], order=(5, 1, 0)) # (p, d, q)\n",
    "model_fit = model.fit()\n",
    "\n",
    "# Print model summary\n",
    "print(model_fit.summary())\n"
   ]
  },
  {
   "cell_type": "code",
   "execution_count": null,
   "metadata": {
    "colab": {
     "base_uri": "https://localhost:8080/"
    },
    "id": "IXbeXHjaro6x",
    "outputId": "cdd7dfe0-201d-4610-c362-95731a53afbb"
   },
   "outputs": [
    {
     "name": "stderr",
     "output_type": "stream",
     "text": [
      "c:\\Users\\anton\\AppData\\Local\\Programs\\Python\\Python310\\lib\\site-packages\\sklearn\\metrics\\_regression.py:492: FutureWarning: 'squared' is deprecated in version 1.4 and will be removed in 1.6. To calculate the root mean squared error, use the function'root_mean_squared_error'.\n",
      "  warnings.warn(\n"
     ]
    },
    {
     "ename": "ValueError",
     "evalue": "Found input variables with inconsistent numbers of samples: [1921, 1918]",
     "output_type": "error",
     "traceback": [
      "\u001b[1;31m---------------------------------------------------------------------------\u001b[0m",
      "\u001b[1;31mValueError\u001b[0m                                Traceback (most recent call last)",
      "Cell \u001b[1;32mIn[121], line 7\u001b[0m\n\u001b[0;32m      4\u001b[0m predictions \u001b[38;5;241m=\u001b[39m model_fit\u001b[38;5;241m.\u001b[39mpredict(start\u001b[38;5;241m=\u001b[39m\u001b[38;5;28mlen\u001b[39m(sp500_train), end\u001b[38;5;241m=\u001b[39m\u001b[38;5;28mlen\u001b[39m(sp500) \u001b[38;5;241m-\u001b[39m \u001b[38;5;241m1\u001b[39m)\n\u001b[0;32m      6\u001b[0m \u001b[38;5;66;03m# Calculate evaluation metrics\u001b[39;00m\n\u001b[1;32m----> 7\u001b[0m rmse \u001b[38;5;241m=\u001b[39m \u001b[43mmean_squared_error\u001b[49m\u001b[43m(\u001b[49m\u001b[43msp500_test\u001b[49m\u001b[43m[\u001b[49m\u001b[38;5;124;43m'\u001b[39;49m\u001b[38;5;124;43mPrice\u001b[39;49m\u001b[38;5;124;43m'\u001b[39;49m\u001b[43m]\u001b[49m\u001b[43m,\u001b[49m\u001b[43m \u001b[49m\u001b[43mpredictions\u001b[49m\u001b[43m,\u001b[49m\u001b[43m \u001b[49m\u001b[43msquared\u001b[49m\u001b[38;5;241;43m=\u001b[39;49m\u001b[38;5;28;43;01mFalse\u001b[39;49;00m\u001b[43m)\u001b[49m\n\u001b[0;32m      8\u001b[0m mae \u001b[38;5;241m=\u001b[39m mean_absolute_error(sp500_test[\u001b[38;5;124m'\u001b[39m\u001b[38;5;124mPrice\u001b[39m\u001b[38;5;124m'\u001b[39m], predictions)\n\u001b[0;32m      9\u001b[0m mse \u001b[38;5;241m=\u001b[39m mean_squared_error(sp500_test[\u001b[38;5;124m'\u001b[39m\u001b[38;5;124mPrice\u001b[39m\u001b[38;5;124m'\u001b[39m], predictions)\n",
      "File \u001b[1;32mc:\\Users\\anton\\AppData\\Local\\Programs\\Python\\Python310\\lib\\site-packages\\sklearn\\utils\\_param_validation.py:213\u001b[0m, in \u001b[0;36mvalidate_params.<locals>.decorator.<locals>.wrapper\u001b[1;34m(*args, **kwargs)\u001b[0m\n\u001b[0;32m    207\u001b[0m \u001b[38;5;28;01mtry\u001b[39;00m:\n\u001b[0;32m    208\u001b[0m     \u001b[38;5;28;01mwith\u001b[39;00m config_context(\n\u001b[0;32m    209\u001b[0m         skip_parameter_validation\u001b[38;5;241m=\u001b[39m(\n\u001b[0;32m    210\u001b[0m             prefer_skip_nested_validation \u001b[38;5;129;01mor\u001b[39;00m global_skip_validation\n\u001b[0;32m    211\u001b[0m         )\n\u001b[0;32m    212\u001b[0m     ):\n\u001b[1;32m--> 213\u001b[0m         \u001b[38;5;28;01mreturn\u001b[39;00m func(\u001b[38;5;241m*\u001b[39margs, \u001b[38;5;241m*\u001b[39m\u001b[38;5;241m*\u001b[39mkwargs)\n\u001b[0;32m    214\u001b[0m \u001b[38;5;28;01mexcept\u001b[39;00m InvalidParameterError \u001b[38;5;28;01mas\u001b[39;00m e:\n\u001b[0;32m    215\u001b[0m     \u001b[38;5;66;03m# When the function is just a wrapper around an estimator, we allow\u001b[39;00m\n\u001b[0;32m    216\u001b[0m     \u001b[38;5;66;03m# the function to delegate validation to the estimator, but we replace\u001b[39;00m\n\u001b[0;32m    217\u001b[0m     \u001b[38;5;66;03m# the name of the estimator by the name of the function in the error\u001b[39;00m\n\u001b[0;32m    218\u001b[0m     \u001b[38;5;66;03m# message to avoid confusion.\u001b[39;00m\n\u001b[0;32m    219\u001b[0m     msg \u001b[38;5;241m=\u001b[39m re\u001b[38;5;241m.\u001b[39msub(\n\u001b[0;32m    220\u001b[0m         \u001b[38;5;124mr\u001b[39m\u001b[38;5;124m\"\u001b[39m\u001b[38;5;124mparameter of \u001b[39m\u001b[38;5;124m\\\u001b[39m\u001b[38;5;124mw+ must be\u001b[39m\u001b[38;5;124m\"\u001b[39m,\n\u001b[0;32m    221\u001b[0m         \u001b[38;5;124mf\u001b[39m\u001b[38;5;124m\"\u001b[39m\u001b[38;5;124mparameter of \u001b[39m\u001b[38;5;132;01m{\u001b[39;00mfunc\u001b[38;5;241m.\u001b[39m\u001b[38;5;18m__qualname__\u001b[39m\u001b[38;5;132;01m}\u001b[39;00m\u001b[38;5;124m must be\u001b[39m\u001b[38;5;124m\"\u001b[39m,\n\u001b[0;32m    222\u001b[0m         \u001b[38;5;28mstr\u001b[39m(e),\n\u001b[0;32m    223\u001b[0m     )\n",
      "File \u001b[1;32mc:\\Users\\anton\\AppData\\Local\\Programs\\Python\\Python310\\lib\\site-packages\\sklearn\\metrics\\_regression.py:502\u001b[0m, in \u001b[0;36mmean_squared_error\u001b[1;34m(y_true, y_pred, sample_weight, multioutput, squared)\u001b[0m\n\u001b[0;32m    492\u001b[0m     warnings\u001b[38;5;241m.\u001b[39mwarn(\n\u001b[0;32m    493\u001b[0m         (\n\u001b[0;32m    494\u001b[0m             \u001b[38;5;124m\"\u001b[39m\u001b[38;5;124m'\u001b[39m\u001b[38;5;124msquared\u001b[39m\u001b[38;5;124m'\u001b[39m\u001b[38;5;124m is deprecated in version 1.4 and \u001b[39m\u001b[38;5;124m\"\u001b[39m\n\u001b[1;32m   (...)\u001b[0m\n\u001b[0;32m    499\u001b[0m         \u001b[38;5;167;01mFutureWarning\u001b[39;00m,\n\u001b[0;32m    500\u001b[0m     )\n\u001b[0;32m    501\u001b[0m     \u001b[38;5;28;01mif\u001b[39;00m \u001b[38;5;129;01mnot\u001b[39;00m squared:\n\u001b[1;32m--> 502\u001b[0m         \u001b[38;5;28;01mreturn\u001b[39;00m \u001b[43mroot_mean_squared_error\u001b[49m\u001b[43m(\u001b[49m\n\u001b[0;32m    503\u001b[0m \u001b[43m            \u001b[49m\u001b[43my_true\u001b[49m\u001b[43m,\u001b[49m\u001b[43m \u001b[49m\u001b[43my_pred\u001b[49m\u001b[43m,\u001b[49m\u001b[43m \u001b[49m\u001b[43msample_weight\u001b[49m\u001b[38;5;241;43m=\u001b[39;49m\u001b[43msample_weight\u001b[49m\u001b[43m,\u001b[49m\u001b[43m \u001b[49m\u001b[43mmultioutput\u001b[49m\u001b[38;5;241;43m=\u001b[39;49m\u001b[43mmultioutput\u001b[49m\n\u001b[0;32m    504\u001b[0m \u001b[43m        \u001b[49m\u001b[43m)\u001b[49m\n\u001b[0;32m    506\u001b[0m y_type, y_true, y_pred, multioutput \u001b[38;5;241m=\u001b[39m _check_reg_targets(\n\u001b[0;32m    507\u001b[0m     y_true, y_pred, multioutput\n\u001b[0;32m    508\u001b[0m )\n\u001b[0;32m    509\u001b[0m check_consistent_length(y_true, y_pred, sample_weight)\n",
      "File \u001b[1;32mc:\\Users\\anton\\AppData\\Local\\Programs\\Python\\Python310\\lib\\site-packages\\sklearn\\utils\\_param_validation.py:186\u001b[0m, in \u001b[0;36mvalidate_params.<locals>.decorator.<locals>.wrapper\u001b[1;34m(*args, **kwargs)\u001b[0m\n\u001b[0;32m    184\u001b[0m global_skip_validation \u001b[38;5;241m=\u001b[39m get_config()[\u001b[38;5;124m\"\u001b[39m\u001b[38;5;124mskip_parameter_validation\u001b[39m\u001b[38;5;124m\"\u001b[39m]\n\u001b[0;32m    185\u001b[0m \u001b[38;5;28;01mif\u001b[39;00m global_skip_validation:\n\u001b[1;32m--> 186\u001b[0m     \u001b[38;5;28;01mreturn\u001b[39;00m func(\u001b[38;5;241m*\u001b[39margs, \u001b[38;5;241m*\u001b[39m\u001b[38;5;241m*\u001b[39mkwargs)\n\u001b[0;32m    188\u001b[0m func_sig \u001b[38;5;241m=\u001b[39m signature(func)\n\u001b[0;32m    190\u001b[0m \u001b[38;5;66;03m# Map *args/**kwargs to the function signature\u001b[39;00m\n",
      "File \u001b[1;32mc:\\Users\\anton\\AppData\\Local\\Programs\\Python\\Python310\\lib\\site-packages\\sklearn\\metrics\\_regression.py:581\u001b[0m, in \u001b[0;36mroot_mean_squared_error\u001b[1;34m(y_true, y_pred, sample_weight, multioutput)\u001b[0m\n\u001b[0;32m    522\u001b[0m \u001b[38;5;129m@validate_params\u001b[39m(\n\u001b[0;32m    523\u001b[0m     {\n\u001b[0;32m    524\u001b[0m         \u001b[38;5;124m\"\u001b[39m\u001b[38;5;124my_true\u001b[39m\u001b[38;5;124m\"\u001b[39m: [\u001b[38;5;124m\"\u001b[39m\u001b[38;5;124marray-like\u001b[39m\u001b[38;5;124m\"\u001b[39m],\n\u001b[1;32m   (...)\u001b[0m\n\u001b[0;32m    532\u001b[0m     y_true, y_pred, \u001b[38;5;241m*\u001b[39m, sample_weight\u001b[38;5;241m=\u001b[39m\u001b[38;5;28;01mNone\u001b[39;00m, multioutput\u001b[38;5;241m=\u001b[39m\u001b[38;5;124m\"\u001b[39m\u001b[38;5;124muniform_average\u001b[39m\u001b[38;5;124m\"\u001b[39m\n\u001b[0;32m    533\u001b[0m ):\n\u001b[0;32m    534\u001b[0m \u001b[38;5;250m    \u001b[39m\u001b[38;5;124;03m\"\"\"Root mean squared error regression loss.\u001b[39;00m\n\u001b[0;32m    535\u001b[0m \n\u001b[0;32m    536\u001b[0m \u001b[38;5;124;03m    Read more in the :ref:`User Guide <mean_squared_error>`.\u001b[39;00m\n\u001b[1;32m   (...)\u001b[0m\n\u001b[0;32m    578\u001b[0m \u001b[38;5;124;03m    0.822...\u001b[39;00m\n\u001b[0;32m    579\u001b[0m \u001b[38;5;124;03m    \"\"\"\u001b[39;00m\n\u001b[0;32m    580\u001b[0m     output_errors \u001b[38;5;241m=\u001b[39m np\u001b[38;5;241m.\u001b[39msqrt(\n\u001b[1;32m--> 581\u001b[0m         \u001b[43mmean_squared_error\u001b[49m\u001b[43m(\u001b[49m\n\u001b[0;32m    582\u001b[0m \u001b[43m            \u001b[49m\u001b[43my_true\u001b[49m\u001b[43m,\u001b[49m\u001b[43m \u001b[49m\u001b[43my_pred\u001b[49m\u001b[43m,\u001b[49m\u001b[43m \u001b[49m\u001b[43msample_weight\u001b[49m\u001b[38;5;241;43m=\u001b[39;49m\u001b[43msample_weight\u001b[49m\u001b[43m,\u001b[49m\u001b[43m \u001b[49m\u001b[43mmultioutput\u001b[49m\u001b[38;5;241;43m=\u001b[39;49m\u001b[38;5;124;43m\"\u001b[39;49m\u001b[38;5;124;43mraw_values\u001b[39;49m\u001b[38;5;124;43m\"\u001b[39;49m\n\u001b[0;32m    583\u001b[0m \u001b[43m        \u001b[49m\u001b[43m)\u001b[49m\n\u001b[0;32m    584\u001b[0m     )\n\u001b[0;32m    586\u001b[0m     \u001b[38;5;28;01mif\u001b[39;00m \u001b[38;5;28misinstance\u001b[39m(multioutput, \u001b[38;5;28mstr\u001b[39m):\n\u001b[0;32m    587\u001b[0m         \u001b[38;5;28;01mif\u001b[39;00m multioutput \u001b[38;5;241m==\u001b[39m \u001b[38;5;124m\"\u001b[39m\u001b[38;5;124mraw_values\u001b[39m\u001b[38;5;124m\"\u001b[39m:\n",
      "File \u001b[1;32mc:\\Users\\anton\\AppData\\Local\\Programs\\Python\\Python310\\lib\\site-packages\\sklearn\\utils\\_param_validation.py:186\u001b[0m, in \u001b[0;36mvalidate_params.<locals>.decorator.<locals>.wrapper\u001b[1;34m(*args, **kwargs)\u001b[0m\n\u001b[0;32m    184\u001b[0m global_skip_validation \u001b[38;5;241m=\u001b[39m get_config()[\u001b[38;5;124m\"\u001b[39m\u001b[38;5;124mskip_parameter_validation\u001b[39m\u001b[38;5;124m\"\u001b[39m]\n\u001b[0;32m    185\u001b[0m \u001b[38;5;28;01mif\u001b[39;00m global_skip_validation:\n\u001b[1;32m--> 186\u001b[0m     \u001b[38;5;28;01mreturn\u001b[39;00m func(\u001b[38;5;241m*\u001b[39margs, \u001b[38;5;241m*\u001b[39m\u001b[38;5;241m*\u001b[39mkwargs)\n\u001b[0;32m    188\u001b[0m func_sig \u001b[38;5;241m=\u001b[39m signature(func)\n\u001b[0;32m    190\u001b[0m \u001b[38;5;66;03m# Map *args/**kwargs to the function signature\u001b[39;00m\n",
      "File \u001b[1;32mc:\\Users\\anton\\AppData\\Local\\Programs\\Python\\Python310\\lib\\site-packages\\sklearn\\metrics\\_regression.py:506\u001b[0m, in \u001b[0;36mmean_squared_error\u001b[1;34m(y_true, y_pred, sample_weight, multioutput, squared)\u001b[0m\n\u001b[0;32m    501\u001b[0m     \u001b[38;5;28;01mif\u001b[39;00m \u001b[38;5;129;01mnot\u001b[39;00m squared:\n\u001b[0;32m    502\u001b[0m         \u001b[38;5;28;01mreturn\u001b[39;00m root_mean_squared_error(\n\u001b[0;32m    503\u001b[0m             y_true, y_pred, sample_weight\u001b[38;5;241m=\u001b[39msample_weight, multioutput\u001b[38;5;241m=\u001b[39mmultioutput\n\u001b[0;32m    504\u001b[0m         )\n\u001b[1;32m--> 506\u001b[0m y_type, y_true, y_pred, multioutput \u001b[38;5;241m=\u001b[39m \u001b[43m_check_reg_targets\u001b[49m\u001b[43m(\u001b[49m\n\u001b[0;32m    507\u001b[0m \u001b[43m    \u001b[49m\u001b[43my_true\u001b[49m\u001b[43m,\u001b[49m\u001b[43m \u001b[49m\u001b[43my_pred\u001b[49m\u001b[43m,\u001b[49m\u001b[43m \u001b[49m\u001b[43mmultioutput\u001b[49m\n\u001b[0;32m    508\u001b[0m \u001b[43m\u001b[49m\u001b[43m)\u001b[49m\n\u001b[0;32m    509\u001b[0m check_consistent_length(y_true, y_pred, sample_weight)\n\u001b[0;32m    510\u001b[0m output_errors \u001b[38;5;241m=\u001b[39m np\u001b[38;5;241m.\u001b[39maverage((y_true \u001b[38;5;241m-\u001b[39m y_pred) \u001b[38;5;241m*\u001b[39m\u001b[38;5;241m*\u001b[39m \u001b[38;5;241m2\u001b[39m, axis\u001b[38;5;241m=\u001b[39m\u001b[38;5;241m0\u001b[39m, weights\u001b[38;5;241m=\u001b[39msample_weight)\n",
      "File \u001b[1;32mc:\\Users\\anton\\AppData\\Local\\Programs\\Python\\Python310\\lib\\site-packages\\sklearn\\metrics\\_regression.py:111\u001b[0m, in \u001b[0;36m_check_reg_targets\u001b[1;34m(y_true, y_pred, multioutput, dtype, xp)\u001b[0m\n\u001b[0;32m     76\u001b[0m \u001b[38;5;250m\u001b[39m\u001b[38;5;124;03m\"\"\"Check that y_true and y_pred belong to the same regression task.\u001b[39;00m\n\u001b[0;32m     77\u001b[0m \n\u001b[0;32m     78\u001b[0m \u001b[38;5;124;03mParameters\u001b[39;00m\n\u001b[1;32m   (...)\u001b[0m\n\u001b[0;32m    107\u001b[0m \u001b[38;5;124;03m    correct keyword.\u001b[39;00m\n\u001b[0;32m    108\u001b[0m \u001b[38;5;124;03m\"\"\"\u001b[39;00m\n\u001b[0;32m    109\u001b[0m xp, _ \u001b[38;5;241m=\u001b[39m get_namespace(y_true, y_pred, multioutput, xp\u001b[38;5;241m=\u001b[39mxp)\n\u001b[1;32m--> 111\u001b[0m \u001b[43mcheck_consistent_length\u001b[49m\u001b[43m(\u001b[49m\u001b[43my_true\u001b[49m\u001b[43m,\u001b[49m\u001b[43m \u001b[49m\u001b[43my_pred\u001b[49m\u001b[43m)\u001b[49m\n\u001b[0;32m    112\u001b[0m y_true \u001b[38;5;241m=\u001b[39m check_array(y_true, ensure_2d\u001b[38;5;241m=\u001b[39m\u001b[38;5;28;01mFalse\u001b[39;00m, dtype\u001b[38;5;241m=\u001b[39mdtype)\n\u001b[0;32m    113\u001b[0m y_pred \u001b[38;5;241m=\u001b[39m check_array(y_pred, ensure_2d\u001b[38;5;241m=\u001b[39m\u001b[38;5;28;01mFalse\u001b[39;00m, dtype\u001b[38;5;241m=\u001b[39mdtype)\n",
      "File \u001b[1;32mc:\\Users\\anton\\AppData\\Local\\Programs\\Python\\Python310\\lib\\site-packages\\sklearn\\utils\\validation.py:457\u001b[0m, in \u001b[0;36mcheck_consistent_length\u001b[1;34m(*arrays)\u001b[0m\n\u001b[0;32m    455\u001b[0m uniques \u001b[38;5;241m=\u001b[39m np\u001b[38;5;241m.\u001b[39munique(lengths)\n\u001b[0;32m    456\u001b[0m \u001b[38;5;28;01mif\u001b[39;00m \u001b[38;5;28mlen\u001b[39m(uniques) \u001b[38;5;241m>\u001b[39m \u001b[38;5;241m1\u001b[39m:\n\u001b[1;32m--> 457\u001b[0m     \u001b[38;5;28;01mraise\u001b[39;00m \u001b[38;5;167;01mValueError\u001b[39;00m(\n\u001b[0;32m    458\u001b[0m         \u001b[38;5;124m\"\u001b[39m\u001b[38;5;124mFound input variables with inconsistent numbers of samples: \u001b[39m\u001b[38;5;132;01m%r\u001b[39;00m\u001b[38;5;124m\"\u001b[39m\n\u001b[0;32m    459\u001b[0m         \u001b[38;5;241m%\u001b[39m [\u001b[38;5;28mint\u001b[39m(l) \u001b[38;5;28;01mfor\u001b[39;00m l \u001b[38;5;129;01min\u001b[39;00m lengths]\n\u001b[0;32m    460\u001b[0m     )\n",
      "\u001b[1;31mValueError\u001b[0m: Found input variables with inconsistent numbers of samples: [1921, 1918]"
     ]
    }
   ],
   "source": [
    "from sklearn.metrics import mean_squared_error, mean_absolute_error,mean_absolute_percentage_error\n",
    "\n",
    "# Make predictions on the test data\n",
    "predictions = model_fit.predict(start=len(sp500_train), end=len(sp500) - 1)\n",
    "\n",
    "# Calculate evaluation metrics\n",
    "rmse = mean_squared_error(sp500_test['Price'], predictions, squared=False)\n",
    "mae = mean_absolute_error(sp500_test['Price'], predictions)\n",
    "mse = mean_squared_error(sp500_test['Price'], predictions)\n",
    "mape=mean_absolute_percentage_error(sp500_test['Price'], predictions)\n",
    "\n",
    "# Print the evaluation metrics\n",
    "print(f'RMSE: {rmse}')\n",
    "print(f'MAE: {mae}')\n",
    "print(f'MSE: {mse}')\n",
    "print(f'MAPE: {mape}')\n",
    "print(f'AIC: {model_fit.aic}')\n",
    "print(f'BIC: {model_fit.bic}')\n",
    "#note that normalisation is unnecesary beecause the scale is consistent and multiple variables are not involved\n"
   ]
  },
  {
   "cell_type": "markdown",
   "metadata": {
    "id": "3C-8qcd4s4l4"
   },
   "source": [
    "We notice that the model performs very poorly from the RMSE, MAE and MSE results even if the MAPE seems to indicate the model's generally good performance. We hypothesise that this is because, as expected from earlier citations, we have high AIC and BIC values attributed to the model's expected failure to capture patterns in our non-stationary data. Another reason for the model's failure is due to its lack of complexity. To intuitively provide stronger evidence against the null hypothesis that traditional ARIMA can capture the trend of stock prices, we use auto arima search on hyperparameter space with our training and validation sets. Note that gridsearch may not be feasible because every hyperparameter is continuous in the model. That being said, the auto arima search we will apply does not definitely provide the 'best' performing ARIMA model over a hyperparameter space either. We use this tool to determine which configuration generates the lowest AIC and BIC for evidence."
   ]
  },
  {
   "cell_type": "code",
   "execution_count": null,
   "metadata": {
    "colab": {
     "base_uri": "https://localhost:8080/",
     "height": 661
    },
    "id": "LxogzMRmuoDj",
    "outputId": "8e34456d-1281-45f9-bbf2-6c70177bc5da"
   },
   "outputs": [
    {
     "name": "stdout",
     "output_type": "stream",
     "text": [
      "Performing stepwise search to minimize aic\n",
      " ARIMA(1,1,1)(0,0,0)[0] intercept   : AIC=15205.632, Time=2.26 sec\n",
      " ARIMA(0,1,0)(0,0,0)[0] intercept   : AIC=15277.092, Time=1.28 sec\n",
      " ARIMA(1,1,0)(0,0,0)[0] intercept   : AIC=15213.226, Time=0.81 sec\n",
      " ARIMA(0,1,1)(0,0,0)[0] intercept   : AIC=15221.299, Time=1.38 sec\n",
      " ARIMA(0,1,0)(0,0,0)[0]             : AIC=15277.767, Time=0.45 sec\n",
      " ARIMA(2,1,1)(0,0,0)[0] intercept   : AIC=15153.085, Time=5.07 sec\n",
      " ARIMA(2,1,0)(0,0,0)[0] intercept   : AIC=15188.060, Time=1.10 sec\n",
      " ARIMA(3,1,1)(0,0,0)[0] intercept   : AIC=15136.302, Time=3.59 sec\n",
      " ARIMA(3,1,0)(0,0,0)[0] intercept   : AIC=15134.841, Time=1.57 sec\n",
      " ARIMA(4,1,0)(0,0,0)[0] intercept   : AIC=15136.442, Time=1.52 sec\n",
      " ARIMA(4,1,1)(0,0,0)[0] intercept   : AIC=15138.373, Time=2.52 sec\n",
      " ARIMA(3,1,0)(0,0,0)[0]             : AIC=15135.177, Time=0.67 sec\n",
      "\n",
      "Best model:  ARIMA(3,1,0)(0,0,0)[0] intercept\n",
      "Total fit time: 22.255 seconds\n"
     ]
    },
    {
     "data": {
      "text/html": [
       "<style>#sk-container-id-1 {\n",
       "  /* Definition of color scheme common for light and dark mode */\n",
       "  --sklearn-color-text: black;\n",
       "  --sklearn-color-line: gray;\n",
       "  /* Definition of color scheme for unfitted estimators */\n",
       "  --sklearn-color-unfitted-level-0: #fff5e6;\n",
       "  --sklearn-color-unfitted-level-1: #f6e4d2;\n",
       "  --sklearn-color-unfitted-level-2: #ffe0b3;\n",
       "  --sklearn-color-unfitted-level-3: chocolate;\n",
       "  /* Definition of color scheme for fitted estimators */\n",
       "  --sklearn-color-fitted-level-0: #f0f8ff;\n",
       "  --sklearn-color-fitted-level-1: #d4ebff;\n",
       "  --sklearn-color-fitted-level-2: #b3dbfd;\n",
       "  --sklearn-color-fitted-level-3: cornflowerblue;\n",
       "\n",
       "  /* Specific color for light theme */\n",
       "  --sklearn-color-text-on-default-background: var(--sg-text-color, var(--theme-code-foreground, var(--jp-content-font-color1, black)));\n",
       "  --sklearn-color-background: var(--sg-background-color, var(--theme-background, var(--jp-layout-color0, white)));\n",
       "  --sklearn-color-border-box: var(--sg-text-color, var(--theme-code-foreground, var(--jp-content-font-color1, black)));\n",
       "  --sklearn-color-icon: #696969;\n",
       "\n",
       "  @media (prefers-color-scheme: dark) {\n",
       "    /* Redefinition of color scheme for dark theme */\n",
       "    --sklearn-color-text-on-default-background: var(--sg-text-color, var(--theme-code-foreground, var(--jp-content-font-color1, white)));\n",
       "    --sklearn-color-background: var(--sg-background-color, var(--theme-background, var(--jp-layout-color0, #111)));\n",
       "    --sklearn-color-border-box: var(--sg-text-color, var(--theme-code-foreground, var(--jp-content-font-color1, white)));\n",
       "    --sklearn-color-icon: #878787;\n",
       "  }\n",
       "}\n",
       "\n",
       "#sk-container-id-1 {\n",
       "  color: var(--sklearn-color-text);\n",
       "}\n",
       "\n",
       "#sk-container-id-1 pre {\n",
       "  padding: 0;\n",
       "}\n",
       "\n",
       "#sk-container-id-1 input.sk-hidden--visually {\n",
       "  border: 0;\n",
       "  clip: rect(1px 1px 1px 1px);\n",
       "  clip: rect(1px, 1px, 1px, 1px);\n",
       "  height: 1px;\n",
       "  margin: -1px;\n",
       "  overflow: hidden;\n",
       "  padding: 0;\n",
       "  position: absolute;\n",
       "  width: 1px;\n",
       "}\n",
       "\n",
       "#sk-container-id-1 div.sk-dashed-wrapped {\n",
       "  border: 1px dashed var(--sklearn-color-line);\n",
       "  margin: 0 0.4em 0.5em 0.4em;\n",
       "  box-sizing: border-box;\n",
       "  padding-bottom: 0.4em;\n",
       "  background-color: var(--sklearn-color-background);\n",
       "}\n",
       "\n",
       "#sk-container-id-1 div.sk-container {\n",
       "  /* jupyter's `normalize.less` sets `[hidden] { display: none; }`\n",
       "     but bootstrap.min.css set `[hidden] { display: none !important; }`\n",
       "     so we also need the `!important` here to be able to override the\n",
       "     default hidden behavior on the sphinx rendered scikit-learn.org.\n",
       "     See: https://github.com/scikit-learn/scikit-learn/issues/21755 */\n",
       "  display: inline-block !important;\n",
       "  position: relative;\n",
       "}\n",
       "\n",
       "#sk-container-id-1 div.sk-text-repr-fallback {\n",
       "  display: none;\n",
       "}\n",
       "\n",
       "div.sk-parallel-item,\n",
       "div.sk-serial,\n",
       "div.sk-item {\n",
       "  /* draw centered vertical line to link estimators */\n",
       "  background-image: linear-gradient(var(--sklearn-color-text-on-default-background), var(--sklearn-color-text-on-default-background));\n",
       "  background-size: 2px 100%;\n",
       "  background-repeat: no-repeat;\n",
       "  background-position: center center;\n",
       "}\n",
       "\n",
       "/* Parallel-specific style estimator block */\n",
       "\n",
       "#sk-container-id-1 div.sk-parallel-item::after {\n",
       "  content: \"\";\n",
       "  width: 100%;\n",
       "  border-bottom: 2px solid var(--sklearn-color-text-on-default-background);\n",
       "  flex-grow: 1;\n",
       "}\n",
       "\n",
       "#sk-container-id-1 div.sk-parallel {\n",
       "  display: flex;\n",
       "  align-items: stretch;\n",
       "  justify-content: center;\n",
       "  background-color: var(--sklearn-color-background);\n",
       "  position: relative;\n",
       "}\n",
       "\n",
       "#sk-container-id-1 div.sk-parallel-item {\n",
       "  display: flex;\n",
       "  flex-direction: column;\n",
       "}\n",
       "\n",
       "#sk-container-id-1 div.sk-parallel-item:first-child::after {\n",
       "  align-self: flex-end;\n",
       "  width: 50%;\n",
       "}\n",
       "\n",
       "#sk-container-id-1 div.sk-parallel-item:last-child::after {\n",
       "  align-self: flex-start;\n",
       "  width: 50%;\n",
       "}\n",
       "\n",
       "#sk-container-id-1 div.sk-parallel-item:only-child::after {\n",
       "  width: 0;\n",
       "}\n",
       "\n",
       "/* Serial-specific style estimator block */\n",
       "\n",
       "#sk-container-id-1 div.sk-serial {\n",
       "  display: flex;\n",
       "  flex-direction: column;\n",
       "  align-items: center;\n",
       "  background-color: var(--sklearn-color-background);\n",
       "  padding-right: 1em;\n",
       "  padding-left: 1em;\n",
       "}\n",
       "\n",
       "\n",
       "/* Toggleable style: style used for estimator/Pipeline/ColumnTransformer box that is\n",
       "clickable and can be expanded/collapsed.\n",
       "- Pipeline and ColumnTransformer use this feature and define the default style\n",
       "- Estimators will overwrite some part of the style using the `sk-estimator` class\n",
       "*/\n",
       "\n",
       "/* Pipeline and ColumnTransformer style (default) */\n",
       "\n",
       "#sk-container-id-1 div.sk-toggleable {\n",
       "  /* Default theme specific background. It is overwritten whether we have a\n",
       "  specific estimator or a Pipeline/ColumnTransformer */\n",
       "  background-color: var(--sklearn-color-background);\n",
       "}\n",
       "\n",
       "/* Toggleable label */\n",
       "#sk-container-id-1 label.sk-toggleable__label {\n",
       "  cursor: pointer;\n",
       "  display: block;\n",
       "  width: 100%;\n",
       "  margin-bottom: 0;\n",
       "  padding: 0.5em;\n",
       "  box-sizing: border-box;\n",
       "  text-align: center;\n",
       "}\n",
       "\n",
       "#sk-container-id-1 label.sk-toggleable__label-arrow:before {\n",
       "  /* Arrow on the left of the label */\n",
       "  content: \"▸\";\n",
       "  float: left;\n",
       "  margin-right: 0.25em;\n",
       "  color: var(--sklearn-color-icon);\n",
       "}\n",
       "\n",
       "#sk-container-id-1 label.sk-toggleable__label-arrow:hover:before {\n",
       "  color: var(--sklearn-color-text);\n",
       "}\n",
       "\n",
       "/* Toggleable content - dropdown */\n",
       "\n",
       "#sk-container-id-1 div.sk-toggleable__content {\n",
       "  max-height: 0;\n",
       "  max-width: 0;\n",
       "  overflow: hidden;\n",
       "  text-align: left;\n",
       "  /* unfitted */\n",
       "  background-color: var(--sklearn-color-unfitted-level-0);\n",
       "}\n",
       "\n",
       "#sk-container-id-1 div.sk-toggleable__content.fitted {\n",
       "  /* fitted */\n",
       "  background-color: var(--sklearn-color-fitted-level-0);\n",
       "}\n",
       "\n",
       "#sk-container-id-1 div.sk-toggleable__content pre {\n",
       "  margin: 0.2em;\n",
       "  border-radius: 0.25em;\n",
       "  color: var(--sklearn-color-text);\n",
       "  /* unfitted */\n",
       "  background-color: var(--sklearn-color-unfitted-level-0);\n",
       "}\n",
       "\n",
       "#sk-container-id-1 div.sk-toggleable__content.fitted pre {\n",
       "  /* unfitted */\n",
       "  background-color: var(--sklearn-color-fitted-level-0);\n",
       "}\n",
       "\n",
       "#sk-container-id-1 input.sk-toggleable__control:checked~div.sk-toggleable__content {\n",
       "  /* Expand drop-down */\n",
       "  max-height: 200px;\n",
       "  max-width: 100%;\n",
       "  overflow: auto;\n",
       "}\n",
       "\n",
       "#sk-container-id-1 input.sk-toggleable__control:checked~label.sk-toggleable__label-arrow:before {\n",
       "  content: \"▾\";\n",
       "}\n",
       "\n",
       "/* Pipeline/ColumnTransformer-specific style */\n",
       "\n",
       "#sk-container-id-1 div.sk-label input.sk-toggleable__control:checked~label.sk-toggleable__label {\n",
       "  color: var(--sklearn-color-text);\n",
       "  background-color: var(--sklearn-color-unfitted-level-2);\n",
       "}\n",
       "\n",
       "#sk-container-id-1 div.sk-label.fitted input.sk-toggleable__control:checked~label.sk-toggleable__label {\n",
       "  background-color: var(--sklearn-color-fitted-level-2);\n",
       "}\n",
       "\n",
       "/* Estimator-specific style */\n",
       "\n",
       "/* Colorize estimator box */\n",
       "#sk-container-id-1 div.sk-estimator input.sk-toggleable__control:checked~label.sk-toggleable__label {\n",
       "  /* unfitted */\n",
       "  background-color: var(--sklearn-color-unfitted-level-2);\n",
       "}\n",
       "\n",
       "#sk-container-id-1 div.sk-estimator.fitted input.sk-toggleable__control:checked~label.sk-toggleable__label {\n",
       "  /* fitted */\n",
       "  background-color: var(--sklearn-color-fitted-level-2);\n",
       "}\n",
       "\n",
       "#sk-container-id-1 div.sk-label label.sk-toggleable__label,\n",
       "#sk-container-id-1 div.sk-label label {\n",
       "  /* The background is the default theme color */\n",
       "  color: var(--sklearn-color-text-on-default-background);\n",
       "}\n",
       "\n",
       "/* On hover, darken the color of the background */\n",
       "#sk-container-id-1 div.sk-label:hover label.sk-toggleable__label {\n",
       "  color: var(--sklearn-color-text);\n",
       "  background-color: var(--sklearn-color-unfitted-level-2);\n",
       "}\n",
       "\n",
       "/* Label box, darken color on hover, fitted */\n",
       "#sk-container-id-1 div.sk-label.fitted:hover label.sk-toggleable__label.fitted {\n",
       "  color: var(--sklearn-color-text);\n",
       "  background-color: var(--sklearn-color-fitted-level-2);\n",
       "}\n",
       "\n",
       "/* Estimator label */\n",
       "\n",
       "#sk-container-id-1 div.sk-label label {\n",
       "  font-family: monospace;\n",
       "  font-weight: bold;\n",
       "  display: inline-block;\n",
       "  line-height: 1.2em;\n",
       "}\n",
       "\n",
       "#sk-container-id-1 div.sk-label-container {\n",
       "  text-align: center;\n",
       "}\n",
       "\n",
       "/* Estimator-specific */\n",
       "#sk-container-id-1 div.sk-estimator {\n",
       "  font-family: monospace;\n",
       "  border: 1px dotted var(--sklearn-color-border-box);\n",
       "  border-radius: 0.25em;\n",
       "  box-sizing: border-box;\n",
       "  margin-bottom: 0.5em;\n",
       "  /* unfitted */\n",
       "  background-color: var(--sklearn-color-unfitted-level-0);\n",
       "}\n",
       "\n",
       "#sk-container-id-1 div.sk-estimator.fitted {\n",
       "  /* fitted */\n",
       "  background-color: var(--sklearn-color-fitted-level-0);\n",
       "}\n",
       "\n",
       "/* on hover */\n",
       "#sk-container-id-1 div.sk-estimator:hover {\n",
       "  /* unfitted */\n",
       "  background-color: var(--sklearn-color-unfitted-level-2);\n",
       "}\n",
       "\n",
       "#sk-container-id-1 div.sk-estimator.fitted:hover {\n",
       "  /* fitted */\n",
       "  background-color: var(--sklearn-color-fitted-level-2);\n",
       "}\n",
       "\n",
       "/* Specification for estimator info (e.g. \"i\" and \"?\") */\n",
       "\n",
       "/* Common style for \"i\" and \"?\" */\n",
       "\n",
       ".sk-estimator-doc-link,\n",
       "a:link.sk-estimator-doc-link,\n",
       "a:visited.sk-estimator-doc-link {\n",
       "  float: right;\n",
       "  font-size: smaller;\n",
       "  line-height: 1em;\n",
       "  font-family: monospace;\n",
       "  background-color: var(--sklearn-color-background);\n",
       "  border-radius: 1em;\n",
       "  height: 1em;\n",
       "  width: 1em;\n",
       "  text-decoration: none !important;\n",
       "  margin-left: 1ex;\n",
       "  /* unfitted */\n",
       "  border: var(--sklearn-color-unfitted-level-1) 1pt solid;\n",
       "  color: var(--sklearn-color-unfitted-level-1);\n",
       "}\n",
       "\n",
       ".sk-estimator-doc-link.fitted,\n",
       "a:link.sk-estimator-doc-link.fitted,\n",
       "a:visited.sk-estimator-doc-link.fitted {\n",
       "  /* fitted */\n",
       "  border: var(--sklearn-color-fitted-level-1) 1pt solid;\n",
       "  color: var(--sklearn-color-fitted-level-1);\n",
       "}\n",
       "\n",
       "/* On hover */\n",
       "div.sk-estimator:hover .sk-estimator-doc-link:hover,\n",
       ".sk-estimator-doc-link:hover,\n",
       "div.sk-label-container:hover .sk-estimator-doc-link:hover,\n",
       ".sk-estimator-doc-link:hover {\n",
       "  /* unfitted */\n",
       "  background-color: var(--sklearn-color-unfitted-level-3);\n",
       "  color: var(--sklearn-color-background);\n",
       "  text-decoration: none;\n",
       "}\n",
       "\n",
       "div.sk-estimator.fitted:hover .sk-estimator-doc-link.fitted:hover,\n",
       ".sk-estimator-doc-link.fitted:hover,\n",
       "div.sk-label-container:hover .sk-estimator-doc-link.fitted:hover,\n",
       ".sk-estimator-doc-link.fitted:hover {\n",
       "  /* fitted */\n",
       "  background-color: var(--sklearn-color-fitted-level-3);\n",
       "  color: var(--sklearn-color-background);\n",
       "  text-decoration: none;\n",
       "}\n",
       "\n",
       "/* Span, style for the box shown on hovering the info icon */\n",
       ".sk-estimator-doc-link span {\n",
       "  display: none;\n",
       "  z-index: 9999;\n",
       "  position: relative;\n",
       "  font-weight: normal;\n",
       "  right: .2ex;\n",
       "  padding: .5ex;\n",
       "  margin: .5ex;\n",
       "  width: min-content;\n",
       "  min-width: 20ex;\n",
       "  max-width: 50ex;\n",
       "  color: var(--sklearn-color-text);\n",
       "  box-shadow: 2pt 2pt 4pt #999;\n",
       "  /* unfitted */\n",
       "  background: var(--sklearn-color-unfitted-level-0);\n",
       "  border: .5pt solid var(--sklearn-color-unfitted-level-3);\n",
       "}\n",
       "\n",
       ".sk-estimator-doc-link.fitted span {\n",
       "  /* fitted */\n",
       "  background: var(--sklearn-color-fitted-level-0);\n",
       "  border: var(--sklearn-color-fitted-level-3);\n",
       "}\n",
       "\n",
       ".sk-estimator-doc-link:hover span {\n",
       "  display: block;\n",
       "}\n",
       "\n",
       "/* \"?\"-specific style due to the `<a>` HTML tag */\n",
       "\n",
       "#sk-container-id-1 a.estimator_doc_link {\n",
       "  float: right;\n",
       "  font-size: 1rem;\n",
       "  line-height: 1em;\n",
       "  font-family: monospace;\n",
       "  background-color: var(--sklearn-color-background);\n",
       "  border-radius: 1rem;\n",
       "  height: 1rem;\n",
       "  width: 1rem;\n",
       "  text-decoration: none;\n",
       "  /* unfitted */\n",
       "  color: var(--sklearn-color-unfitted-level-1);\n",
       "  border: var(--sklearn-color-unfitted-level-1) 1pt solid;\n",
       "}\n",
       "\n",
       "#sk-container-id-1 a.estimator_doc_link.fitted {\n",
       "  /* fitted */\n",
       "  border: var(--sklearn-color-fitted-level-1) 1pt solid;\n",
       "  color: var(--sklearn-color-fitted-level-1);\n",
       "}\n",
       "\n",
       "/* On hover */\n",
       "#sk-container-id-1 a.estimator_doc_link:hover {\n",
       "  /* unfitted */\n",
       "  background-color: var(--sklearn-color-unfitted-level-3);\n",
       "  color: var(--sklearn-color-background);\n",
       "  text-decoration: none;\n",
       "}\n",
       "\n",
       "#sk-container-id-1 a.estimator_doc_link.fitted:hover {\n",
       "  /* fitted */\n",
       "  background-color: var(--sklearn-color-fitted-level-3);\n",
       "}\n",
       "</style><div id=\"sk-container-id-1\" class=\"sk-top-container\"><div class=\"sk-text-repr-fallback\"><pre> ARIMA(3,1,0)(0,0,0)[0] intercept</pre><b>In a Jupyter environment, please rerun this cell to show the HTML representation or trust the notebook. <br />On GitHub, the HTML representation is unable to render, please try loading this page with nbviewer.org.</b></div><div class=\"sk-container\" hidden><div class=\"sk-item\"><div class=\"sk-estimator fitted sk-toggleable\"><input class=\"sk-toggleable__control sk-hidden--visually\" id=\"sk-estimator-id-1\" type=\"checkbox\" checked><label for=\"sk-estimator-id-1\" class=\"sk-toggleable__label fitted sk-toggleable__label-arrow fitted\">&nbsp;ARIMA<span class=\"sk-estimator-doc-link fitted\">i<span>Fitted</span></span></label><div class=\"sk-toggleable__content fitted\"><pre> ARIMA(3,1,0)(0,0,0)[0] intercept</pre></div> </div></div></div></div>"
      ],
      "text/plain": [
       "ARIMA(order=(3, 1, 0), scoring_args={}, suppress_warnings=True)"
      ]
     },
     "execution_count": 13,
     "metadata": {},
     "output_type": "execute_result"
    }
   ],
   "source": [
    "from pmdarima.arima import auto_arima #download using pip\n",
    "\n",
    "auto_arima(y=sp500_train['Price'],\n",
    "           start_p=1, start_q=1,\n",
    "           seasonal=False,\n",
    "           trace=True #so that you can see what is happening.\n",
    ")"
   ]
  },
  {
   "cell_type": "markdown",
   "metadata": {
    "id": "EmAdOJKBR5Wb"
   },
   "source": [
    "We note that the AIC is extremely high over the entire hyperparamter space providing consistent evidence against the null hypothesis that the data is stationary. Next we test our other null hypothesis that the data is seasonal using a p-test. We nominated Ljung-Box test because it is purported for assessing goodness of fit to ARIMA models. Here is the process of applying the test:\n",
    "\n",
    "* Fit the SARIMA model to the data\n",
    "* Calculate the residuals\n",
    "* Perform the Ljung-Box test on the residuals\n",
    "* Interpret results"
   ]
  },
  {
   "cell_type": "code",
   "execution_count": null,
   "metadata": {
    "colab": {
     "base_uri": "https://localhost:8080/"
    },
    "id": "v5vKFsa8VhNe",
    "outputId": "5c719b4a-2574-4ff4-f2fb-cd204b62eff9"
   },
   "outputs": [
    {
     "name": "stdout",
     "output_type": "stream",
     "text": [
      "       lb_stat      lb_pvalue\n",
      "10    1.272756   9.994861e-01\n",
      "20  790.852625  1.236900e-154\n"
     ]
    }
   ],
   "source": [
    "from statsmodels.tsa.statespace.sarimax import SARIMAX\n",
    "from statsmodels.stats.diagnostic import acorr_ljungbox\n",
    "\n",
    "# Fit the SARIMA model\n",
    "model = SARIMAX(sp500_train['Price'], order=(5, 1, 0), seasonal_order=(1, 1, 1, 12))  # (p, d, q), (P, D, Q, s)\n",
    "model_fit = model.fit()\n",
    "\n",
    "# Generate residuals\n",
    "residuals = model_fit.resid\n",
    "\n",
    "# Conduct Ljung-Box test on the residuals\n",
    "lb_test = acorr_ljungbox(residuals, lags=[10, 20])  # You can adjust the lags\n",
    "\n",
    "print(lb_test)"
   ]
  },
  {
   "cell_type": "markdown",
   "metadata": {
    "id": "dUV-9MvxX37I"
   },
   "source": [
    "We note that the p value is extremely high indicating sufficient evidence against the null. Next, we provide some evidence that ascertains whether the SARIMA model is indeed not a good fit to the data."
   ]
  },
  {
   "cell_type": "code",
   "execution_count": null,
   "metadata": {
    "id": "SnBKokL8OSis"
   },
   "outputs": [],
   "source": [
    "# #takes a long time and will crash however all we need from this is an indicator that AIC scores are consistently high\n",
    "# auto_arima(y=sp500_train['Price'],\n",
    "#            start_p=1, start_q=1,\n",
    "#            seasonal = True,\n",
    "#            m=15,#cycle size one month\n",
    "#            trace=True #so that you can see what is happening.\n",
    "# )"
   ]
  },
  {
   "cell_type": "markdown",
   "metadata": {
    "id": "6MgJZsjZYEpV"
   },
   "source": [
    "We see consistently high AIC values, suggesting that the data is not seasonal so this model is an inappropriate choice to select on its own. Let us explore the next model choice."
   ]
  },
  {
   "cell_type": "markdown",
   "metadata": {
    "id": "djHPHiOUR0Xp"
   },
   "source": [
    "### GARCH approach"
   ]
  },
  {
   "cell_type": "code",
   "execution_count": null,
   "metadata": {
    "id": "B6KqXWq1TIDf"
   },
   "outputs": [],
   "source": []
  },
  {
   "cell_type": "markdown",
   "metadata": {
    "id": "70sk9yvaS66T"
   },
   "source": [
    "### Neural Network (CNN, RNN and LSTM) approach\n"
   ]
  },
  {
   "cell_type": "code",
   "execution_count": null,
   "metadata": {
    "id": "0DCTpAgJR89A"
   },
   "outputs": [],
   "source": []
  },
  {
   "cell_type": "markdown",
   "metadata": {
    "id": "ShEN6tf2TCVi"
   },
   "source": [
    "### Hybrid approach"
   ]
  },
  {
   "cell_type": "code",
   "execution_count": null,
   "metadata": {
    "id": "i1cxWOQ_TG6n"
   },
   "outputs": [],
   "source": []
  },
  {
   "cell_type": "markdown",
   "metadata": {
    "id": "QDpuAVbMsjhs"
   },
   "source": [
    "## Evaluation and Discussion"
   ]
  },
  {
   "cell_type": "markdown",
   "metadata": {
    "id": "lI8nVsDNsuFF"
   },
   "source": [
    "## Conclusion"
   ]
  },
  {
   "cell_type": "code",
   "execution_count": null,
   "metadata": {
    "id": "CVdFlFn5sx-k"
   },
   "outputs": [],
   "source": []
  }
 ],
 "metadata": {
  "colab": {
   "authorship_tag": "ABX9TyN4FdDQjH/OopK+rKorr1m6",
   "include_colab_link": true,
   "mount_file_id": "1ysKi05g2fpl5SSK0s2reE-_STB7Lhs5A",
   "provenance": [],
   "toc_visible": true
  },
  "kernelspec": {
   "display_name": "Python 3",
   "name": "python3"
  },
  "language_info": {
   "codemirror_mode": {
    "name": "ipython",
    "version": 3
   },
   "file_extension": ".py",
   "mimetype": "text/x-python",
   "name": "python",
   "nbconvert_exporter": "python",
   "pygments_lexer": "ipython3",
   "version": "3.10.9"
  }
 },
 "nbformat": 4,
 "nbformat_minor": 0
}
